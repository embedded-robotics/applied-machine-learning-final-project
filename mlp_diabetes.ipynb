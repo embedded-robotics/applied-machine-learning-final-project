{
  "cells": [
    {
      "cell_type": "code",
      "execution_count": 1,
      "metadata": {
        "id": "s6ZJiVAtEgsy"
      },
      "outputs": [],
      "source": [
        "import pandas as pd\n",
        "import numpy as np\n",
        "import pickle\n",
        "from sklearn.neural_network import MLPClassifier\n",
        "from sklearn.metrics import classification_report, confusion_matrix\n",
        "from sklearn.model_selection import GridSearchCV\n",
        "from sklearn.decomposition import PCA\n",
        "import matplotlib.pyplot as plt\n",
        "%matplotlib inline"
      ]
    },
    {
      "cell_type": "markdown",
      "metadata": {
        "id": "KLdHG6zSEgs0"
      },
      "source": [
        "# Training the model for 3-Class Diabetes Data"
      ]
    },
    {
      "cell_type": "code",
      "execution_count": 2,
      "metadata": {
        "colab": {
          "base_uri": "https://localhost:8080/"
        },
        "id": "JigRuSA-FRzZ",
        "outputId": "87255373-3566-4b31-ac8d-488382fb1296"
      },
      "outputs": [
        {
          "name": "stdout",
          "output_type": "stream",
          "text": [
            "Drive already mounted at /content/drive; to attempt to forcibly remount, call drive.mount(\"/content/drive\", force_remount=True).\n"
          ]
        }
      ],
      "source": [
        "from google.colab import drive\n",
        "drive.mount('/content/drive')"
      ]
    },
    {
      "cell_type": "markdown",
      "metadata": {
        "id": "einuhanxEgs2"
      },
      "source": [
        "### Reading the processed data from training and testing files"
      ]
    },
    {
      "cell_type": "code",
      "execution_count": 3,
      "metadata": {
        "id": "PB0jbiQGEgs2"
      },
      "outputs": [],
      "source": [
        "train_data = pd.read_csv(\"/content/drive/MyDrive/AML_Final_Project/Dataset/train_012.csv\")\n",
        "test_data = pd.read_csv('/content/drive/MyDrive/AML_Final_Project/Dataset/test_012.csv')"
      ]
    },
    {
      "cell_type": "code",
      "execution_count": 4,
      "metadata": {
        "colab": {
          "base_uri": "https://localhost:8080/",
          "height": 256
        },
        "id": "puUnapbqEgs2",
        "outputId": "d87d0046-8588-4bdc-a793-a0f408c7db0b"
      },
      "outputs": [
        {
          "data": {
            "text/html": [
              "\n",
              "  <div id=\"df-7dbefd48-75e3-418c-99d2-4f917ea8efbd\" class=\"colab-df-container\">\n",
              "    <div>\n",
              "<style scoped>\n",
              "    .dataframe tbody tr th:only-of-type {\n",
              "        vertical-align: middle;\n",
              "    }\n",
              "\n",
              "    .dataframe tbody tr th {\n",
              "        vertical-align: top;\n",
              "    }\n",
              "\n",
              "    .dataframe thead th {\n",
              "        text-align: right;\n",
              "    }\n",
              "</style>\n",
              "<table border=\"1\" class=\"dataframe\">\n",
              "  <thead>\n",
              "    <tr style=\"text-align: right;\">\n",
              "      <th></th>\n",
              "      <th>BMI</th>\n",
              "      <th>GenHlth</th>\n",
              "      <th>MentHlth</th>\n",
              "      <th>PhysHlth</th>\n",
              "      <th>DiffWalk</th>\n",
              "      <th>Age</th>\n",
              "      <th>Education</th>\n",
              "      <th>Income</th>\n",
              "      <th>HighBP_0</th>\n",
              "      <th>HighBP_1</th>\n",
              "      <th>...</th>\n",
              "      <th>Veggies_1</th>\n",
              "      <th>HvyAlcoholConsump_0</th>\n",
              "      <th>HvyAlcoholConsump_1</th>\n",
              "      <th>AnyHealthcare_0</th>\n",
              "      <th>AnyHealthcare_1</th>\n",
              "      <th>NoDocbcCost_0</th>\n",
              "      <th>NoDocbcCost_1</th>\n",
              "      <th>Sex_0</th>\n",
              "      <th>Sex_1</th>\n",
              "      <th>Diabetes_012</th>\n",
              "    </tr>\n",
              "  </thead>\n",
              "  <tbody>\n",
              "    <tr>\n",
              "      <th>0</th>\n",
              "      <td>-0.512552</td>\n",
              "      <td>0.25</td>\n",
              "      <td>0.0</td>\n",
              "      <td>0.000000</td>\n",
              "      <td>0.0</td>\n",
              "      <td>0.750000</td>\n",
              "      <td>0.6</td>\n",
              "      <td>0.428571</td>\n",
              "      <td>0.0</td>\n",
              "      <td>1.0</td>\n",
              "      <td>...</td>\n",
              "      <td>1.0</td>\n",
              "      <td>1.0</td>\n",
              "      <td>0.0</td>\n",
              "      <td>0.0</td>\n",
              "      <td>1.0</td>\n",
              "      <td>1.0</td>\n",
              "      <td>0.0</td>\n",
              "      <td>0.0</td>\n",
              "      <td>1.0</td>\n",
              "      <td>0.0</td>\n",
              "    </tr>\n",
              "    <tr>\n",
              "      <th>1</th>\n",
              "      <td>1.301115</td>\n",
              "      <td>0.00</td>\n",
              "      <td>0.0</td>\n",
              "      <td>0.000000</td>\n",
              "      <td>0.0</td>\n",
              "      <td>0.000000</td>\n",
              "      <td>0.8</td>\n",
              "      <td>0.571429</td>\n",
              "      <td>1.0</td>\n",
              "      <td>0.0</td>\n",
              "      <td>...</td>\n",
              "      <td>1.0</td>\n",
              "      <td>1.0</td>\n",
              "      <td>0.0</td>\n",
              "      <td>0.0</td>\n",
              "      <td>1.0</td>\n",
              "      <td>1.0</td>\n",
              "      <td>0.0</td>\n",
              "      <td>1.0</td>\n",
              "      <td>0.0</td>\n",
              "      <td>0.0</td>\n",
              "    </tr>\n",
              "    <tr>\n",
              "      <th>2</th>\n",
              "      <td>0.998837</td>\n",
              "      <td>0.25</td>\n",
              "      <td>0.0</td>\n",
              "      <td>0.000000</td>\n",
              "      <td>0.0</td>\n",
              "      <td>0.833333</td>\n",
              "      <td>0.8</td>\n",
              "      <td>0.285714</td>\n",
              "      <td>0.0</td>\n",
              "      <td>1.0</td>\n",
              "      <td>...</td>\n",
              "      <td>0.0</td>\n",
              "      <td>1.0</td>\n",
              "      <td>0.0</td>\n",
              "      <td>0.0</td>\n",
              "      <td>1.0</td>\n",
              "      <td>1.0</td>\n",
              "      <td>0.0</td>\n",
              "      <td>1.0</td>\n",
              "      <td>0.0</td>\n",
              "      <td>0.0</td>\n",
              "    </tr>\n",
              "    <tr>\n",
              "      <th>3</th>\n",
              "      <td>-0.210274</td>\n",
              "      <td>0.25</td>\n",
              "      <td>0.0</td>\n",
              "      <td>0.166667</td>\n",
              "      <td>0.0</td>\n",
              "      <td>0.166667</td>\n",
              "      <td>0.6</td>\n",
              "      <td>0.714286</td>\n",
              "      <td>1.0</td>\n",
              "      <td>0.0</td>\n",
              "      <td>...</td>\n",
              "      <td>0.0</td>\n",
              "      <td>1.0</td>\n",
              "      <td>0.0</td>\n",
              "      <td>0.0</td>\n",
              "      <td>1.0</td>\n",
              "      <td>1.0</td>\n",
              "      <td>0.0</td>\n",
              "      <td>0.0</td>\n",
              "      <td>1.0</td>\n",
              "      <td>0.0</td>\n",
              "    </tr>\n",
              "    <tr>\n",
              "      <th>4</th>\n",
              "      <td>-0.059135</td>\n",
              "      <td>0.50</td>\n",
              "      <td>0.1</td>\n",
              "      <td>0.000000</td>\n",
              "      <td>0.0</td>\n",
              "      <td>0.666667</td>\n",
              "      <td>0.6</td>\n",
              "      <td>0.428571</td>\n",
              "      <td>1.0</td>\n",
              "      <td>0.0</td>\n",
              "      <td>...</td>\n",
              "      <td>0.0</td>\n",
              "      <td>1.0</td>\n",
              "      <td>0.0</td>\n",
              "      <td>0.0</td>\n",
              "      <td>1.0</td>\n",
              "      <td>0.0</td>\n",
              "      <td>1.0</td>\n",
              "      <td>1.0</td>\n",
              "      <td>0.0</td>\n",
              "      <td>0.0</td>\n",
              "    </tr>\n",
              "  </tbody>\n",
              "</table>\n",
              "<p>5 rows × 35 columns</p>\n",
              "</div>\n",
              "    <div class=\"colab-df-buttons\">\n",
              "\n",
              "  <div class=\"colab-df-container\">\n",
              "    <button class=\"colab-df-convert\" onclick=\"convertToInteractive('df-7dbefd48-75e3-418c-99d2-4f917ea8efbd')\"\n",
              "            title=\"Convert this dataframe to an interactive table.\"\n",
              "            style=\"display:none;\">\n",
              "\n",
              "  <svg xmlns=\"http://www.w3.org/2000/svg\" height=\"24px\" viewBox=\"0 -960 960 960\">\n",
              "    <path d=\"M120-120v-720h720v720H120Zm60-500h600v-160H180v160Zm220 220h160v-160H400v160Zm0 220h160v-160H400v160ZM180-400h160v-160H180v160Zm440 0h160v-160H620v160ZM180-180h160v-160H180v160Zm440 0h160v-160H620v160Z\"/>\n",
              "  </svg>\n",
              "    </button>\n",
              "\n",
              "  <style>\n",
              "    .colab-df-container {\n",
              "      display:flex;\n",
              "      gap: 12px;\n",
              "    }\n",
              "\n",
              "    .colab-df-convert {\n",
              "      background-color: #E8F0FE;\n",
              "      border: none;\n",
              "      border-radius: 50%;\n",
              "      cursor: pointer;\n",
              "      display: none;\n",
              "      fill: #1967D2;\n",
              "      height: 32px;\n",
              "      padding: 0 0 0 0;\n",
              "      width: 32px;\n",
              "    }\n",
              "\n",
              "    .colab-df-convert:hover {\n",
              "      background-color: #E2EBFA;\n",
              "      box-shadow: 0px 1px 2px rgba(60, 64, 67, 0.3), 0px 1px 3px 1px rgba(60, 64, 67, 0.15);\n",
              "      fill: #174EA6;\n",
              "    }\n",
              "\n",
              "    .colab-df-buttons div {\n",
              "      margin-bottom: 4px;\n",
              "    }\n",
              "\n",
              "    [theme=dark] .colab-df-convert {\n",
              "      background-color: #3B4455;\n",
              "      fill: #D2E3FC;\n",
              "    }\n",
              "\n",
              "    [theme=dark] .colab-df-convert:hover {\n",
              "      background-color: #434B5C;\n",
              "      box-shadow: 0px 1px 3px 1px rgba(0, 0, 0, 0.15);\n",
              "      filter: drop-shadow(0px 1px 2px rgba(0, 0, 0, 0.3));\n",
              "      fill: #FFFFFF;\n",
              "    }\n",
              "  </style>\n",
              "\n",
              "    <script>\n",
              "      const buttonEl =\n",
              "        document.querySelector('#df-7dbefd48-75e3-418c-99d2-4f917ea8efbd button.colab-df-convert');\n",
              "      buttonEl.style.display =\n",
              "        google.colab.kernel.accessAllowed ? 'block' : 'none';\n",
              "\n",
              "      async function convertToInteractive(key) {\n",
              "        const element = document.querySelector('#df-7dbefd48-75e3-418c-99d2-4f917ea8efbd');\n",
              "        const dataTable =\n",
              "          await google.colab.kernel.invokeFunction('convertToInteractive',\n",
              "                                                    [key], {});\n",
              "        if (!dataTable) return;\n",
              "\n",
              "        const docLinkHtml = 'Like what you see? Visit the ' +\n",
              "          '<a target=\"_blank\" href=https://colab.research.google.com/notebooks/data_table.ipynb>data table notebook</a>'\n",
              "          + ' to learn more about interactive tables.';\n",
              "        element.innerHTML = '';\n",
              "        dataTable['output_type'] = 'display_data';\n",
              "        await google.colab.output.renderOutput(dataTable, element);\n",
              "        const docLink = document.createElement('div');\n",
              "        docLink.innerHTML = docLinkHtml;\n",
              "        element.appendChild(docLink);\n",
              "      }\n",
              "    </script>\n",
              "  </div>\n",
              "\n",
              "\n",
              "<div id=\"df-b7be713f-a11d-4f26-b09b-553b9d0e3512\">\n",
              "  <button class=\"colab-df-quickchart\" onclick=\"quickchart('df-b7be713f-a11d-4f26-b09b-553b9d0e3512')\"\n",
              "            title=\"Suggest charts\"\n",
              "            style=\"display:none;\">\n",
              "\n",
              "<svg xmlns=\"http://www.w3.org/2000/svg\" height=\"24px\"viewBox=\"0 0 24 24\"\n",
              "     width=\"24px\">\n",
              "    <g>\n",
              "        <path d=\"M19 3H5c-1.1 0-2 .9-2 2v14c0 1.1.9 2 2 2h14c1.1 0 2-.9 2-2V5c0-1.1-.9-2-2-2zM9 17H7v-7h2v7zm4 0h-2V7h2v10zm4 0h-2v-4h2v4z\"/>\n",
              "    </g>\n",
              "</svg>\n",
              "  </button>\n",
              "\n",
              "<style>\n",
              "  .colab-df-quickchart {\n",
              "      --bg-color: #E8F0FE;\n",
              "      --fill-color: #1967D2;\n",
              "      --hover-bg-color: #E2EBFA;\n",
              "      --hover-fill-color: #174EA6;\n",
              "      --disabled-fill-color: #AAA;\n",
              "      --disabled-bg-color: #DDD;\n",
              "  }\n",
              "\n",
              "  [theme=dark] .colab-df-quickchart {\n",
              "      --bg-color: #3B4455;\n",
              "      --fill-color: #D2E3FC;\n",
              "      --hover-bg-color: #434B5C;\n",
              "      --hover-fill-color: #FFFFFF;\n",
              "      --disabled-bg-color: #3B4455;\n",
              "      --disabled-fill-color: #666;\n",
              "  }\n",
              "\n",
              "  .colab-df-quickchart {\n",
              "    background-color: var(--bg-color);\n",
              "    border: none;\n",
              "    border-radius: 50%;\n",
              "    cursor: pointer;\n",
              "    display: none;\n",
              "    fill: var(--fill-color);\n",
              "    height: 32px;\n",
              "    padding: 0;\n",
              "    width: 32px;\n",
              "  }\n",
              "\n",
              "  .colab-df-quickchart:hover {\n",
              "    background-color: var(--hover-bg-color);\n",
              "    box-shadow: 0 1px 2px rgba(60, 64, 67, 0.3), 0 1px 3px 1px rgba(60, 64, 67, 0.15);\n",
              "    fill: var(--button-hover-fill-color);\n",
              "  }\n",
              "\n",
              "  .colab-df-quickchart-complete:disabled,\n",
              "  .colab-df-quickchart-complete:disabled:hover {\n",
              "    background-color: var(--disabled-bg-color);\n",
              "    fill: var(--disabled-fill-color);\n",
              "    box-shadow: none;\n",
              "  }\n",
              "\n",
              "  .colab-df-spinner {\n",
              "    border: 2px solid var(--fill-color);\n",
              "    border-color: transparent;\n",
              "    border-bottom-color: var(--fill-color);\n",
              "    animation:\n",
              "      spin 1s steps(1) infinite;\n",
              "  }\n",
              "\n",
              "  @keyframes spin {\n",
              "    0% {\n",
              "      border-color: transparent;\n",
              "      border-bottom-color: var(--fill-color);\n",
              "      border-left-color: var(--fill-color);\n",
              "    }\n",
              "    20% {\n",
              "      border-color: transparent;\n",
              "      border-left-color: var(--fill-color);\n",
              "      border-top-color: var(--fill-color);\n",
              "    }\n",
              "    30% {\n",
              "      border-color: transparent;\n",
              "      border-left-color: var(--fill-color);\n",
              "      border-top-color: var(--fill-color);\n",
              "      border-right-color: var(--fill-color);\n",
              "    }\n",
              "    40% {\n",
              "      border-color: transparent;\n",
              "      border-right-color: var(--fill-color);\n",
              "      border-top-color: var(--fill-color);\n",
              "    }\n",
              "    60% {\n",
              "      border-color: transparent;\n",
              "      border-right-color: var(--fill-color);\n",
              "    }\n",
              "    80% {\n",
              "      border-color: transparent;\n",
              "      border-right-color: var(--fill-color);\n",
              "      border-bottom-color: var(--fill-color);\n",
              "    }\n",
              "    90% {\n",
              "      border-color: transparent;\n",
              "      border-bottom-color: var(--fill-color);\n",
              "    }\n",
              "  }\n",
              "</style>\n",
              "\n",
              "  <script>\n",
              "    async function quickchart(key) {\n",
              "      const quickchartButtonEl =\n",
              "        document.querySelector('#' + key + ' button');\n",
              "      quickchartButtonEl.disabled = true;  // To prevent multiple clicks.\n",
              "      quickchartButtonEl.classList.add('colab-df-spinner');\n",
              "      try {\n",
              "        const charts = await google.colab.kernel.invokeFunction(\n",
              "            'suggestCharts', [key], {});\n",
              "      } catch (error) {\n",
              "        console.error('Error during call to suggestCharts:', error);\n",
              "      }\n",
              "      quickchartButtonEl.classList.remove('colab-df-spinner');\n",
              "      quickchartButtonEl.classList.add('colab-df-quickchart-complete');\n",
              "    }\n",
              "    (() => {\n",
              "      let quickchartButtonEl =\n",
              "        document.querySelector('#df-b7be713f-a11d-4f26-b09b-553b9d0e3512 button');\n",
              "      quickchartButtonEl.style.display =\n",
              "        google.colab.kernel.accessAllowed ? 'block' : 'none';\n",
              "    })();\n",
              "  </script>\n",
              "</div>\n",
              "    </div>\n",
              "  </div>\n"
            ],
            "text/plain": [
              "        BMI  GenHlth  MentHlth  PhysHlth  DiffWalk       Age  Education  \\\n",
              "0 -0.512552     0.25       0.0  0.000000       0.0  0.750000        0.6   \n",
              "1  1.301115     0.00       0.0  0.000000       0.0  0.000000        0.8   \n",
              "2  0.998837     0.25       0.0  0.000000       0.0  0.833333        0.8   \n",
              "3 -0.210274     0.25       0.0  0.166667       0.0  0.166667        0.6   \n",
              "4 -0.059135     0.50       0.1  0.000000       0.0  0.666667        0.6   \n",
              "\n",
              "     Income  HighBP_0  HighBP_1  ...  Veggies_1  HvyAlcoholConsump_0  \\\n",
              "0  0.428571       0.0       1.0  ...        1.0                  1.0   \n",
              "1  0.571429       1.0       0.0  ...        1.0                  1.0   \n",
              "2  0.285714       0.0       1.0  ...        0.0                  1.0   \n",
              "3  0.714286       1.0       0.0  ...        0.0                  1.0   \n",
              "4  0.428571       1.0       0.0  ...        0.0                  1.0   \n",
              "\n",
              "   HvyAlcoholConsump_1  AnyHealthcare_0  AnyHealthcare_1  NoDocbcCost_0  \\\n",
              "0                  0.0              0.0              1.0            1.0   \n",
              "1                  0.0              0.0              1.0            1.0   \n",
              "2                  0.0              0.0              1.0            1.0   \n",
              "3                  0.0              0.0              1.0            1.0   \n",
              "4                  0.0              0.0              1.0            0.0   \n",
              "\n",
              "   NoDocbcCost_1  Sex_0  Sex_1  Diabetes_012  \n",
              "0            0.0    0.0    1.0           0.0  \n",
              "1            0.0    1.0    0.0           0.0  \n",
              "2            0.0    1.0    0.0           0.0  \n",
              "3            0.0    0.0    1.0           0.0  \n",
              "4            1.0    1.0    0.0           0.0  \n",
              "\n",
              "[5 rows x 35 columns]"
            ]
          },
          "execution_count": 4,
          "metadata": {},
          "output_type": "execute_result"
        }
      ],
      "source": [
        "train_data.head()"
      ]
    },
    {
      "cell_type": "markdown",
      "metadata": {
        "id": "ADgjq4QlEgs3"
      },
      "source": [
        "### Extracting the input and output features from the train and test data"
      ]
    },
    {
      "cell_type": "code",
      "execution_count": 5,
      "metadata": {
        "id": "HapCibGMEgs4"
      },
      "outputs": [],
      "source": [
        "X_train = train_data.drop(['Diabetes_012'], axis=1)\n",
        "y_train = train_data['Diabetes_012']"
      ]
    },
    {
      "cell_type": "code",
      "execution_count": 6,
      "metadata": {
        "id": "uo2ZZ3bgEgs4"
      },
      "outputs": [],
      "source": [
        "X_test = test_data.drop(['Diabetes_012'], axis=1)\n",
        "y_test = test_data['Diabetes_012']"
      ]
    },
    {
      "cell_type": "markdown",
      "metadata": {
        "id": "z0Xvyy9oEgs5"
      },
      "source": [
        "### Specifying the GridSearch implementation of MLP using 5-fold cross validation"
      ]
    },
    {
      "cell_type": "code",
      "execution_count": null,
      "metadata": {
        "id": "R5dIRjibEgs5"
      },
      "outputs": [],
      "source": [
        "mlp_classifer = MLPClassifier()\n",
        "mlp_param_grid ={\"hidden_layer_sizes\": [(64, 64), (32, 32)],\n",
        "                \"activation\": ['relu', 'tanh'],\n",
        "                \"alpha\" : [0.01, 0.001],\n",
        "                 \"solver\": ['adam'],\n",
        "                \"random_state\": [42],\n",
        "                \"verbose\" : [True],\n",
        "                 \"max_iter\" : [30]}"
      ]
    },
    {
      "cell_type": "code",
      "execution_count": null,
      "metadata": {
        "colab": {
          "base_uri": "https://localhost:8080/",
          "height": 1000
        },
        "id": "HiAHVjlNEgs5",
        "outputId": "e101ddda-01fb-4976-bc35-541657a2bb75"
      },
      "outputs": [
        {
          "name": "stdout",
          "output_type": "stream",
          "text": [
            "Fitting 5 folds for each of 8 candidates, totalling 40 fits\n",
            "Iteration 1, loss = 0.41215235\n",
            "Iteration 2, loss = 0.39778774\n",
            "Iteration 3, loss = 0.39618769\n",
            "Iteration 4, loss = 0.39535697\n",
            "Iteration 5, loss = 0.39487084\n",
            "Iteration 6, loss = 0.39458187\n",
            "Iteration 7, loss = 0.39417605\n",
            "Iteration 8, loss = 0.39393893\n",
            "Iteration 9, loss = 0.39345163\n",
            "Iteration 10, loss = 0.39349011\n",
            "Iteration 11, loss = 0.39322113\n",
            "Iteration 12, loss = 0.39319440\n",
            "Iteration 13, loss = 0.39295578\n",
            "Iteration 14, loss = 0.39285003\n",
            "Iteration 15, loss = 0.39281676\n",
            "Iteration 16, loss = 0.39271431\n",
            "Iteration 17, loss = 0.39250340\n",
            "Iteration 18, loss = 0.39260475\n",
            "Iteration 19, loss = 0.39210460\n",
            "Iteration 20, loss = 0.39197799\n",
            "Iteration 21, loss = 0.39203662\n",
            "Iteration 22, loss = 0.39194058\n",
            "Iteration 23, loss = 0.39170519\n",
            "Iteration 24, loss = 0.39181925\n",
            "Iteration 25, loss = 0.39155634\n",
            "Iteration 26, loss = 0.39148500\n",
            "Iteration 27, loss = 0.39123007\n",
            "Iteration 28, loss = 0.39114526\n",
            "Iteration 29, loss = 0.39106276\n",
            "Iteration 30, loss = 0.39108608\n"
          ]
        },
        {
          "name": "stderr",
          "output_type": "stream",
          "text": [
            "/usr/local/lib/python3.10/dist-packages/sklearn/neural_network/_multilayer_perceptron.py:686: ConvergenceWarning: Stochastic Optimizer: Maximum iterations (30) reached and the optimization hasn't converged yet.\n",
            "  warnings.warn(\n"
          ]
        },
        {
          "name": "stdout",
          "output_type": "stream",
          "text": [
            "[CV 1/5] END activation=relu, alpha=0.01, hidden_layer_sizes=(64, 64), max_iter=30, random_state=42, solver=adam, verbose=True;, score=0.812 total time= 1.5min\n",
            "Iteration 1, loss = 0.41205717\n",
            "Iteration 2, loss = 0.39823471\n",
            "Iteration 3, loss = 0.39660844\n",
            "Iteration 4, loss = 0.39604176\n",
            "Iteration 5, loss = 0.39534089\n",
            "Iteration 6, loss = 0.39527680\n",
            "Iteration 7, loss = 0.39470138\n",
            "Iteration 8, loss = 0.39441273\n",
            "Iteration 9, loss = 0.39419875\n",
            "Iteration 10, loss = 0.39426784\n",
            "Iteration 11, loss = 0.39379994\n",
            "Iteration 12, loss = 0.39391016\n",
            "Iteration 13, loss = 0.39351592\n",
            "Iteration 14, loss = 0.39327839\n",
            "Iteration 15, loss = 0.39336567\n",
            "Iteration 16, loss = 0.39328792\n",
            "Iteration 17, loss = 0.39294381\n",
            "Iteration 18, loss = 0.39310923\n",
            "Iteration 19, loss = 0.39272656\n",
            "Iteration 20, loss = 0.39265270\n",
            "Iteration 21, loss = 0.39260766\n",
            "Iteration 22, loss = 0.39252217\n",
            "Iteration 23, loss = 0.39236982\n",
            "Iteration 24, loss = 0.39227241\n",
            "Iteration 25, loss = 0.39220599\n",
            "Iteration 26, loss = 0.39201036\n",
            "Iteration 27, loss = 0.39199441\n",
            "Iteration 28, loss = 0.39181791\n",
            "Iteration 29, loss = 0.39181218\n",
            "Iteration 30, loss = 0.39191889\n"
          ]
        },
        {
          "name": "stderr",
          "output_type": "stream",
          "text": [
            "/usr/local/lib/python3.10/dist-packages/sklearn/neural_network/_multilayer_perceptron.py:686: ConvergenceWarning: Stochastic Optimizer: Maximum iterations (30) reached and the optimization hasn't converged yet.\n",
            "  warnings.warn(\n"
          ]
        },
        {
          "name": "stdout",
          "output_type": "stream",
          "text": [
            "[CV 2/5] END activation=relu, alpha=0.01, hidden_layer_sizes=(64, 64), max_iter=30, random_state=42, solver=adam, verbose=True;, score=0.817 total time= 1.4min\n",
            "Iteration 1, loss = 0.41252851\n",
            "Iteration 2, loss = 0.39817426\n",
            "Iteration 3, loss = 0.39670241\n",
            "Iteration 4, loss = 0.39597669\n",
            "Iteration 5, loss = 0.39547193\n",
            "Iteration 6, loss = 0.39522500\n",
            "Iteration 7, loss = 0.39458329\n",
            "Iteration 8, loss = 0.39433887\n",
            "Iteration 9, loss = 0.39410630\n",
            "Iteration 10, loss = 0.39388652\n",
            "Iteration 11, loss = 0.39358317\n",
            "Iteration 12, loss = 0.39364331\n",
            "Iteration 13, loss = 0.39325861\n",
            "Iteration 14, loss = 0.39322042\n",
            "Iteration 15, loss = 0.39306447\n",
            "Iteration 16, loss = 0.39307784\n",
            "Iteration 17, loss = 0.39278114\n",
            "Iteration 18, loss = 0.39288127\n",
            "Iteration 19, loss = 0.39244086\n",
            "Iteration 20, loss = 0.39224091\n",
            "Iteration 21, loss = 0.39237155\n",
            "Iteration 22, loss = 0.39216209\n",
            "Iteration 23, loss = 0.39190210\n",
            "Iteration 24, loss = 0.39197293\n",
            "Iteration 25, loss = 0.39197364\n",
            "Iteration 26, loss = 0.39181115\n",
            "Iteration 27, loss = 0.39184703\n",
            "Iteration 28, loss = 0.39145998\n",
            "Iteration 29, loss = 0.39160717\n",
            "Iteration 30, loss = 0.39157529\n"
          ]
        },
        {
          "name": "stderr",
          "output_type": "stream",
          "text": [
            "/usr/local/lib/python3.10/dist-packages/sklearn/neural_network/_multilayer_perceptron.py:686: ConvergenceWarning: Stochastic Optimizer: Maximum iterations (30) reached and the optimization hasn't converged yet.\n",
            "  warnings.warn(\n"
          ]
        },
        {
          "name": "stdout",
          "output_type": "stream",
          "text": [
            "[CV 3/5] END activation=relu, alpha=0.01, hidden_layer_sizes=(64, 64), max_iter=30, random_state=42, solver=adam, verbose=True;, score=0.816 total time= 1.5min\n",
            "Iteration 1, loss = 0.41267216\n",
            "Iteration 2, loss = 0.39839539\n",
            "Iteration 3, loss = 0.39741309\n",
            "Iteration 4, loss = 0.39642334\n",
            "Iteration 5, loss = 0.39586462\n",
            "Iteration 6, loss = 0.39551491\n",
            "Iteration 7, loss = 0.39501951\n",
            "Iteration 8, loss = 0.39478195\n",
            "Iteration 9, loss = 0.39463781\n",
            "Iteration 10, loss = 0.39411372\n",
            "Iteration 11, loss = 0.39389630\n",
            "Iteration 12, loss = 0.39373905\n",
            "Iteration 13, loss = 0.39346872\n",
            "Iteration 14, loss = 0.39372553\n",
            "Iteration 15, loss = 0.39347499\n",
            "Iteration 16, loss = 0.39339824\n",
            "Iteration 17, loss = 0.39301104\n",
            "Iteration 18, loss = 0.39326266\n",
            "Iteration 19, loss = 0.39288328\n",
            "Iteration 20, loss = 0.39287852\n",
            "Iteration 21, loss = 0.39273590\n",
            "Iteration 22, loss = 0.39270717\n",
            "Iteration 23, loss = 0.39251249\n",
            "Iteration 24, loss = 0.39254478\n",
            "Iteration 25, loss = 0.39249917\n",
            "Iteration 26, loss = 0.39248662\n",
            "Iteration 27, loss = 0.39248981\n",
            "Iteration 28, loss = 0.39238231\n",
            "Iteration 29, loss = 0.39208646\n",
            "Iteration 30, loss = 0.39213983\n"
          ]
        },
        {
          "name": "stderr",
          "output_type": "stream",
          "text": [
            "/usr/local/lib/python3.10/dist-packages/sklearn/neural_network/_multilayer_perceptron.py:686: ConvergenceWarning: Stochastic Optimizer: Maximum iterations (30) reached and the optimization hasn't converged yet.\n",
            "  warnings.warn(\n"
          ]
        },
        {
          "name": "stdout",
          "output_type": "stream",
          "text": [
            "[CV 4/5] END activation=relu, alpha=0.01, hidden_layer_sizes=(64, 64), max_iter=30, random_state=42, solver=adam, verbose=True;, score=0.812 total time= 1.5min\n",
            "Iteration 1, loss = 0.41240806\n",
            "Iteration 2, loss = 0.39805465\n",
            "Iteration 3, loss = 0.39693051\n",
            "Iteration 4, loss = 0.39624233\n",
            "Iteration 5, loss = 0.39557903\n",
            "Iteration 6, loss = 0.39478741\n",
            "Iteration 7, loss = 0.39498353\n",
            "Iteration 8, loss = 0.39421234\n",
            "Iteration 9, loss = 0.39443073\n",
            "Iteration 10, loss = 0.39370157\n",
            "Iteration 11, loss = 0.39351185\n",
            "Iteration 12, loss = 0.39344205\n",
            "Iteration 13, loss = 0.39325192\n",
            "Iteration 14, loss = 0.39294189\n",
            "Iteration 15, loss = 0.39304267\n",
            "Iteration 16, loss = 0.39293459\n",
            "Iteration 17, loss = 0.39261496\n",
            "Iteration 18, loss = 0.39265504\n",
            "Iteration 19, loss = 0.39258993\n",
            "Iteration 20, loss = 0.39233244\n",
            "Iteration 21, loss = 0.39216180\n",
            "Iteration 22, loss = 0.39215198\n",
            "Iteration 23, loss = 0.39212569\n",
            "Iteration 24, loss = 0.39176085\n",
            "Iteration 25, loss = 0.39184032\n",
            "Iteration 26, loss = 0.39193700\n",
            "Iteration 27, loss = 0.39183737\n",
            "Iteration 28, loss = 0.39154953\n",
            "Iteration 29, loss = 0.39153878\n",
            "Iteration 30, loss = 0.39117524\n"
          ]
        },
        {
          "name": "stderr",
          "output_type": "stream",
          "text": [
            "/usr/local/lib/python3.10/dist-packages/sklearn/neural_network/_multilayer_perceptron.py:686: ConvergenceWarning: Stochastic Optimizer: Maximum iterations (30) reached and the optimization hasn't converged yet.\n",
            "  warnings.warn(\n"
          ]
        },
        {
          "name": "stdout",
          "output_type": "stream",
          "text": [
            "[CV 5/5] END activation=relu, alpha=0.01, hidden_layer_sizes=(64, 64), max_iter=30, random_state=42, solver=adam, verbose=True;, score=0.810 total time= 1.5min\n",
            "Iteration 1, loss = 0.42157668\n",
            "Iteration 2, loss = 0.39816506\n",
            "Iteration 3, loss = 0.39649305\n",
            "Iteration 4, loss = 0.39538959\n",
            "Iteration 5, loss = 0.39520459\n",
            "Iteration 6, loss = 0.39453142\n",
            "Iteration 7, loss = 0.39429347\n",
            "Iteration 8, loss = 0.39407722\n",
            "Iteration 9, loss = 0.39379961\n",
            "Iteration 10, loss = 0.39382632\n",
            "Iteration 11, loss = 0.39342140\n",
            "Iteration 12, loss = 0.39335638\n",
            "Iteration 13, loss = 0.39316322\n",
            "Iteration 14, loss = 0.39310465\n",
            "Iteration 15, loss = 0.39319850\n",
            "Iteration 16, loss = 0.39283035\n",
            "Iteration 17, loss = 0.39278184\n",
            "Iteration 18, loss = 0.39270822\n",
            "Iteration 19, loss = 0.39246352\n",
            "Iteration 20, loss = 0.39227624\n",
            "Iteration 21, loss = 0.39259179\n",
            "Iteration 22, loss = 0.39253332\n",
            "Iteration 23, loss = 0.39228110\n",
            "Iteration 24, loss = 0.39222552\n",
            "Iteration 25, loss = 0.39226525\n",
            "Iteration 26, loss = 0.39219665\n",
            "Iteration 27, loss = 0.39220031\n",
            "Iteration 28, loss = 0.39224293\n",
            "Iteration 29, loss = 0.39175396\n",
            "Iteration 30, loss = 0.39207469\n",
            "[CV 1/5] END activation=relu, alpha=0.01, hidden_layer_sizes=(32, 32), max_iter=30, random_state=42, solver=adam, verbose=True;, score=0.815 total time=  33.1s\n"
          ]
        },
        {
          "name": "stderr",
          "output_type": "stream",
          "text": [
            "/usr/local/lib/python3.10/dist-packages/sklearn/neural_network/_multilayer_perceptron.py:686: ConvergenceWarning: Stochastic Optimizer: Maximum iterations (30) reached and the optimization hasn't converged yet.\n",
            "  warnings.warn(\n"
          ]
        },
        {
          "name": "stdout",
          "output_type": "stream",
          "text": [
            "Iteration 1, loss = 0.42133342\n",
            "Iteration 2, loss = 0.39831229\n",
            "Iteration 3, loss = 0.39660248\n",
            "Iteration 4, loss = 0.39567796\n",
            "Iteration 5, loss = 0.39555980\n",
            "Iteration 6, loss = 0.39482532\n",
            "Iteration 7, loss = 0.39473366\n",
            "Iteration 8, loss = 0.39432047\n",
            "Iteration 9, loss = 0.39421608\n",
            "Iteration 10, loss = 0.39436478\n",
            "Iteration 11, loss = 0.39394294\n",
            "Iteration 12, loss = 0.39380078\n",
            "Iteration 13, loss = 0.39355556\n",
            "Iteration 14, loss = 0.39361885\n",
            "Iteration 15, loss = 0.39363949\n",
            "Iteration 16, loss = 0.39342767\n",
            "Iteration 17, loss = 0.39322646\n",
            "Iteration 18, loss = 0.39323831\n",
            "Iteration 19, loss = 0.39300161\n",
            "Iteration 20, loss = 0.39296120\n",
            "Iteration 21, loss = 0.39327766\n",
            "Iteration 22, loss = 0.39307174\n",
            "Iteration 23, loss = 0.39288692\n",
            "Iteration 24, loss = 0.39288451\n",
            "Iteration 25, loss = 0.39290515\n",
            "Iteration 26, loss = 0.39277494\n",
            "Iteration 27, loss = 0.39271277\n",
            "Iteration 28, loss = 0.39263076\n",
            "Iteration 29, loss = 0.39247931\n",
            "Iteration 30, loss = 0.39258242\n",
            "[CV 2/5] END activation=relu, alpha=0.01, hidden_layer_sizes=(32, 32), max_iter=30, random_state=42, solver=adam, verbose=True;, score=0.813 total time=  36.0s\n"
          ]
        },
        {
          "name": "stderr",
          "output_type": "stream",
          "text": [
            "/usr/local/lib/python3.10/dist-packages/sklearn/neural_network/_multilayer_perceptron.py:686: ConvergenceWarning: Stochastic Optimizer: Maximum iterations (30) reached and the optimization hasn't converged yet.\n",
            "  warnings.warn(\n"
          ]
        },
        {
          "name": "stdout",
          "output_type": "stream",
          "text": [
            "Iteration 1, loss = 0.42157173\n",
            "Iteration 2, loss = 0.39827025\n",
            "Iteration 3, loss = 0.39647900\n",
            "Iteration 4, loss = 0.39575095\n",
            "Iteration 5, loss = 0.39530361\n",
            "Iteration 6, loss = 0.39490621\n",
            "Iteration 7, loss = 0.39455685\n",
            "Iteration 8, loss = 0.39423634\n",
            "Iteration 9, loss = 0.39420943\n",
            "Iteration 10, loss = 0.39402253\n",
            "Iteration 11, loss = 0.39388901\n",
            "Iteration 12, loss = 0.39382459\n",
            "Iteration 13, loss = 0.39352579\n",
            "Iteration 14, loss = 0.39364868\n",
            "Iteration 15, loss = 0.39334444\n",
            "Iteration 16, loss = 0.39340879\n",
            "Iteration 17, loss = 0.39301094\n",
            "Iteration 18, loss = 0.39311841\n",
            "Iteration 19, loss = 0.39314282\n",
            "Iteration 20, loss = 0.39291979\n",
            "Iteration 21, loss = 0.39318863\n",
            "Iteration 22, loss = 0.39290586\n",
            "Iteration 23, loss = 0.39266116\n",
            "Iteration 24, loss = 0.39275905\n",
            "Iteration 25, loss = 0.39256231\n",
            "Iteration 26, loss = 0.39282681\n",
            "Iteration 27, loss = 0.39275346\n",
            "Iteration 28, loss = 0.39253851\n",
            "Iteration 29, loss = 0.39245163\n",
            "Iteration 30, loss = 0.39238601\n",
            "[CV 3/5] END activation=relu, alpha=0.01, hidden_layer_sizes=(32, 32), max_iter=30, random_state=42, solver=adam, verbose=True;, score=0.814 total time=  33.4s\n"
          ]
        },
        {
          "name": "stderr",
          "output_type": "stream",
          "text": [
            "/usr/local/lib/python3.10/dist-packages/sklearn/neural_network/_multilayer_perceptron.py:686: ConvergenceWarning: Stochastic Optimizer: Maximum iterations (30) reached and the optimization hasn't converged yet.\n",
            "  warnings.warn(\n"
          ]
        },
        {
          "name": "stdout",
          "output_type": "stream",
          "text": [
            "Iteration 1, loss = 0.42193471\n",
            "Iteration 2, loss = 0.39847610\n",
            "Iteration 3, loss = 0.39702168\n",
            "Iteration 4, loss = 0.39623367\n",
            "Iteration 5, loss = 0.39576998\n",
            "Iteration 6, loss = 0.39535862\n",
            "Iteration 7, loss = 0.39486739\n",
            "Iteration 8, loss = 0.39452884\n",
            "Iteration 9, loss = 0.39447191\n",
            "Iteration 10, loss = 0.39436139\n",
            "Iteration 11, loss = 0.39419995\n",
            "Iteration 12, loss = 0.39414556\n",
            "Iteration 13, loss = 0.39377131\n",
            "Iteration 14, loss = 0.39390115\n",
            "Iteration 15, loss = 0.39365560\n",
            "Iteration 16, loss = 0.39349808\n",
            "Iteration 17, loss = 0.39344028\n",
            "Iteration 18, loss = 0.39355864\n",
            "Iteration 19, loss = 0.39342924\n",
            "Iteration 20, loss = 0.39340945\n",
            "Iteration 21, loss = 0.39342799\n",
            "Iteration 22, loss = 0.39316157\n",
            "Iteration 23, loss = 0.39291005\n",
            "Iteration 24, loss = 0.39305147\n",
            "Iteration 25, loss = 0.39307076\n",
            "Iteration 26, loss = 0.39314852\n",
            "Iteration 27, loss = 0.39297165\n",
            "Iteration 28, loss = 0.39278399\n",
            "Iteration 29, loss = 0.39282062\n",
            "Iteration 30, loss = 0.39256988\n",
            "[CV 4/5] END activation=relu, alpha=0.01, hidden_layer_sizes=(32, 32), max_iter=30, random_state=42, solver=adam, verbose=True;, score=0.812 total time=  34.7s\n"
          ]
        },
        {
          "name": "stderr",
          "output_type": "stream",
          "text": [
            "/usr/local/lib/python3.10/dist-packages/sklearn/neural_network/_multilayer_perceptron.py:686: ConvergenceWarning: Stochastic Optimizer: Maximum iterations (30) reached and the optimization hasn't converged yet.\n",
            "  warnings.warn(\n"
          ]
        },
        {
          "name": "stdout",
          "output_type": "stream",
          "text": [
            "Iteration 1, loss = 0.42101610\n",
            "Iteration 2, loss = 0.39873191\n",
            "Iteration 3, loss = 0.39703132\n",
            "Iteration 4, loss = 0.39627828\n",
            "Iteration 5, loss = 0.39550149\n",
            "Iteration 6, loss = 0.39526972\n",
            "Iteration 7, loss = 0.39483898\n",
            "Iteration 8, loss = 0.39449751\n",
            "Iteration 9, loss = 0.39433320\n",
            "Iteration 10, loss = 0.39419144\n",
            "Iteration 11, loss = 0.39402516\n",
            "Iteration 12, loss = 0.39386545\n",
            "Iteration 13, loss = 0.39389949\n",
            "Iteration 14, loss = 0.39364384\n",
            "Iteration 15, loss = 0.39342469\n",
            "Iteration 16, loss = 0.39337087\n",
            "Iteration 17, loss = 0.39335658\n",
            "Iteration 18, loss = 0.39321120\n",
            "Iteration 19, loss = 0.39304794\n",
            "Iteration 20, loss = 0.39315771\n",
            "Iteration 21, loss = 0.39296076\n",
            "Iteration 22, loss = 0.39276718\n",
            "Iteration 23, loss = 0.39271984\n",
            "Iteration 24, loss = 0.39279065\n",
            "Iteration 25, loss = 0.39286350\n",
            "Iteration 26, loss = 0.39245929\n",
            "Iteration 27, loss = 0.39245031\n",
            "Iteration 28, loss = 0.39248441\n",
            "Iteration 29, loss = 0.39233855\n",
            "Iteration 30, loss = 0.39233816\n"
          ]
        },
        {
          "name": "stderr",
          "output_type": "stream",
          "text": [
            "/usr/local/lib/python3.10/dist-packages/sklearn/neural_network/_multilayer_perceptron.py:686: ConvergenceWarning: Stochastic Optimizer: Maximum iterations (30) reached and the optimization hasn't converged yet.\n",
            "  warnings.warn(\n"
          ]
        },
        {
          "name": "stdout",
          "output_type": "stream",
          "text": [
            "[CV 5/5] END activation=relu, alpha=0.01, hidden_layer_sizes=(32, 32), max_iter=30, random_state=42, solver=adam, verbose=True;, score=0.807 total time=  36.1s\n",
            "Iteration 1, loss = 0.40975776\n",
            "Iteration 2, loss = 0.39563555\n",
            "Iteration 3, loss = 0.39417381\n",
            "Iteration 4, loss = 0.39347747\n",
            "Iteration 5, loss = 0.39308374\n",
            "Iteration 6, loss = 0.39278484\n",
            "Iteration 7, loss = 0.39241613\n",
            "Iteration 8, loss = 0.39221013\n",
            "Iteration 9, loss = 0.39169883\n",
            "Iteration 10, loss = 0.39164282\n",
            "Iteration 11, loss = 0.39127062\n",
            "Iteration 12, loss = 0.39108424\n",
            "Iteration 13, loss = 0.39086657\n",
            "Iteration 14, loss = 0.39057868\n",
            "Iteration 15, loss = 0.39043715\n",
            "Iteration 16, loss = 0.39027227\n",
            "Iteration 17, loss = 0.38992760\n",
            "Iteration 18, loss = 0.38990974\n",
            "Iteration 19, loss = 0.38927702\n",
            "Iteration 20, loss = 0.38907609\n",
            "Iteration 21, loss = 0.38897041\n",
            "Iteration 22, loss = 0.38875669\n",
            "Iteration 23, loss = 0.38845182\n",
            "Iteration 24, loss = 0.38827287\n",
            "Iteration 25, loss = 0.38793466\n",
            "Iteration 26, loss = 0.38764473\n",
            "Iteration 27, loss = 0.38733781\n",
            "Iteration 28, loss = 0.38698058\n",
            "Iteration 29, loss = 0.38692444\n",
            "Iteration 30, loss = 0.38679838\n"
          ]
        },
        {
          "name": "stderr",
          "output_type": "stream",
          "text": [
            "/usr/local/lib/python3.10/dist-packages/sklearn/neural_network/_multilayer_perceptron.py:686: ConvergenceWarning: Stochastic Optimizer: Maximum iterations (30) reached and the optimization hasn't converged yet.\n",
            "  warnings.warn(\n"
          ]
        },
        {
          "name": "stdout",
          "output_type": "stream",
          "text": [
            "[CV 1/5] END activation=relu, alpha=0.001, hidden_layer_sizes=(64, 64), max_iter=30, random_state=42, solver=adam, verbose=True;, score=0.812 total time= 1.4min\n",
            "Iteration 1, loss = 0.40967098\n",
            "Iteration 2, loss = 0.39618311\n",
            "Iteration 3, loss = 0.39466196\n",
            "Iteration 4, loss = 0.39419834\n",
            "Iteration 5, loss = 0.39354292\n",
            "Iteration 6, loss = 0.39349984\n",
            "Iteration 7, loss = 0.39294238\n",
            "Iteration 8, loss = 0.39262408\n",
            "Iteration 9, loss = 0.39242656\n",
            "Iteration 10, loss = 0.39238220\n",
            "Iteration 11, loss = 0.39181076\n",
            "Iteration 12, loss = 0.39186784\n",
            "Iteration 13, loss = 0.39147341\n",
            "Iteration 14, loss = 0.39102675\n",
            "Iteration 15, loss = 0.39105767\n",
            "Iteration 16, loss = 0.39085580\n",
            "Iteration 17, loss = 0.39042199\n",
            "Iteration 18, loss = 0.39047546\n",
            "Iteration 19, loss = 0.39003591\n",
            "Iteration 20, loss = 0.38986398\n",
            "Iteration 21, loss = 0.38965066\n",
            "Iteration 22, loss = 0.38928802\n",
            "Iteration 23, loss = 0.38903210\n",
            "Iteration 24, loss = 0.38884413\n",
            "Iteration 25, loss = 0.38866638\n",
            "Iteration 26, loss = 0.38838459\n",
            "Iteration 27, loss = 0.38798499\n",
            "Iteration 28, loss = 0.38780099\n",
            "Iteration 29, loss = 0.38768230\n",
            "Iteration 30, loss = 0.38747502\n",
            "[CV 2/5] END activation=relu, alpha=0.001, hidden_layer_sizes=(64, 64), max_iter=30, random_state=42, solver=adam, verbose=True;, score=0.816 total time= 1.4min\n"
          ]
        },
        {
          "name": "stderr",
          "output_type": "stream",
          "text": [
            "/usr/local/lib/python3.10/dist-packages/sklearn/neural_network/_multilayer_perceptron.py:686: ConvergenceWarning: Stochastic Optimizer: Maximum iterations (30) reached and the optimization hasn't converged yet.\n",
            "  warnings.warn(\n"
          ]
        },
        {
          "name": "stdout",
          "output_type": "stream",
          "text": [
            "Iteration 1, loss = 0.41020761\n",
            "Iteration 2, loss = 0.39616465\n",
            "Iteration 3, loss = 0.39473347\n",
            "Iteration 4, loss = 0.39413401\n",
            "Iteration 5, loss = 0.39357110\n",
            "Iteration 6, loss = 0.39344033\n",
            "Iteration 7, loss = 0.39273106\n",
            "Iteration 8, loss = 0.39246572\n",
            "Iteration 9, loss = 0.39226881\n",
            "Iteration 10, loss = 0.39200183\n",
            "Iteration 11, loss = 0.39164338\n",
            "Iteration 12, loss = 0.39163952\n",
            "Iteration 13, loss = 0.39113731\n",
            "Iteration 14, loss = 0.39096623\n",
            "Iteration 15, loss = 0.39074208\n",
            "Iteration 16, loss = 0.39059461\n",
            "Iteration 17, loss = 0.39028231\n",
            "Iteration 18, loss = 0.39021304\n",
            "Iteration 19, loss = 0.38957728\n",
            "Iteration 20, loss = 0.38937526\n",
            "Iteration 21, loss = 0.38933097\n",
            "Iteration 22, loss = 0.38896426\n",
            "Iteration 23, loss = 0.38849224\n",
            "Iteration 24, loss = 0.38846031\n",
            "Iteration 25, loss = 0.38822688\n",
            "Iteration 26, loss = 0.38795526\n",
            "Iteration 27, loss = 0.38785221\n",
            "Iteration 28, loss = 0.38729664\n",
            "Iteration 29, loss = 0.38725502\n",
            "Iteration 30, loss = 0.38701225\n"
          ]
        },
        {
          "name": "stderr",
          "output_type": "stream",
          "text": [
            "/usr/local/lib/python3.10/dist-packages/sklearn/neural_network/_multilayer_perceptron.py:686: ConvergenceWarning: Stochastic Optimizer: Maximum iterations (30) reached and the optimization hasn't converged yet.\n",
            "  warnings.warn(\n"
          ]
        },
        {
          "name": "stdout",
          "output_type": "stream",
          "text": [
            "[CV 3/5] END activation=relu, alpha=0.001, hidden_layer_sizes=(64, 64), max_iter=30, random_state=42, solver=adam, verbose=True;, score=0.815 total time= 1.3min\n",
            "Iteration 1, loss = 0.41026949\n",
            "Iteration 2, loss = 0.39627789\n",
            "Iteration 3, loss = 0.39550755\n",
            "Iteration 4, loss = 0.39454500\n",
            "Iteration 5, loss = 0.39403564\n",
            "Iteration 6, loss = 0.39370189\n",
            "Iteration 7, loss = 0.39316632\n",
            "Iteration 8, loss = 0.39288865\n",
            "Iteration 9, loss = 0.39273659\n",
            "Iteration 10, loss = 0.39209759\n",
            "Iteration 11, loss = 0.39186153\n",
            "Iteration 12, loss = 0.39166638\n",
            "Iteration 13, loss = 0.39122814\n",
            "Iteration 14, loss = 0.39142058\n",
            "Iteration 15, loss = 0.39103722\n",
            "Iteration 16, loss = 0.39087118\n",
            "Iteration 17, loss = 0.39036342\n",
            "Iteration 18, loss = 0.39043035\n",
            "Iteration 19, loss = 0.38983547\n",
            "Iteration 20, loss = 0.38971484\n",
            "Iteration 21, loss = 0.38940489\n",
            "Iteration 22, loss = 0.38919625\n",
            "Iteration 23, loss = 0.38871622\n",
            "Iteration 24, loss = 0.38867485\n",
            "Iteration 25, loss = 0.38835435\n",
            "Iteration 26, loss = 0.38815241\n",
            "Iteration 27, loss = 0.38794268\n",
            "Iteration 28, loss = 0.38779732\n",
            "Iteration 29, loss = 0.38732625\n",
            "Iteration 30, loss = 0.38704380\n",
            "[CV 4/5] END activation=relu, alpha=0.001, hidden_layer_sizes=(64, 64), max_iter=30, random_state=42, solver=adam, verbose=True;, score=0.814 total time= 1.4min\n"
          ]
        },
        {
          "name": "stderr",
          "output_type": "stream",
          "text": [
            "/usr/local/lib/python3.10/dist-packages/sklearn/neural_network/_multilayer_perceptron.py:686: ConvergenceWarning: Stochastic Optimizer: Maximum iterations (30) reached and the optimization hasn't converged yet.\n",
            "  warnings.warn(\n"
          ]
        },
        {
          "name": "stdout",
          "output_type": "stream",
          "text": [
            "Iteration 1, loss = 0.41003082\n",
            "Iteration 2, loss = 0.39604110\n",
            "Iteration 3, loss = 0.39508625\n",
            "Iteration 4, loss = 0.39450091\n",
            "Iteration 5, loss = 0.39386695\n",
            "Iteration 6, loss = 0.39312558\n",
            "Iteration 7, loss = 0.39320008\n",
            "Iteration 8, loss = 0.39244856\n",
            "Iteration 9, loss = 0.39252904\n",
            "Iteration 10, loss = 0.39167328\n",
            "Iteration 11, loss = 0.39153066\n",
            "Iteration 12, loss = 0.39127030\n",
            "Iteration 13, loss = 0.39095161\n",
            "Iteration 14, loss = 0.39046390\n",
            "Iteration 15, loss = 0.39055691\n",
            "Iteration 16, loss = 0.39013215\n",
            "Iteration 17, loss = 0.38987905\n",
            "Iteration 18, loss = 0.38974163\n",
            "Iteration 19, loss = 0.38959241\n",
            "Iteration 20, loss = 0.38900715\n",
            "Iteration 21, loss = 0.38880980\n",
            "Iteration 22, loss = 0.38857057\n",
            "Iteration 23, loss = 0.38846818\n",
            "Iteration 24, loss = 0.38797013\n",
            "Iteration 25, loss = 0.38793414\n",
            "Iteration 26, loss = 0.38774713\n",
            "Iteration 27, loss = 0.38761534\n",
            "Iteration 28, loss = 0.38718633\n",
            "Iteration 29, loss = 0.38703233\n",
            "Iteration 30, loss = 0.38656375\n"
          ]
        },
        {
          "name": "stderr",
          "output_type": "stream",
          "text": [
            "/usr/local/lib/python3.10/dist-packages/sklearn/neural_network/_multilayer_perceptron.py:686: ConvergenceWarning: Stochastic Optimizer: Maximum iterations (30) reached and the optimization hasn't converged yet.\n",
            "  warnings.warn(\n"
          ]
        },
        {
          "name": "stdout",
          "output_type": "stream",
          "text": [
            "[CV 5/5] END activation=relu, alpha=0.001, hidden_layer_sizes=(64, 64), max_iter=30, random_state=42, solver=adam, verbose=True;, score=0.810 total time= 1.4min\n",
            "Iteration 1, loss = 0.42007843\n",
            "Iteration 2, loss = 0.39673511\n",
            "Iteration 3, loss = 0.39512400\n",
            "Iteration 4, loss = 0.39408945\n",
            "Iteration 5, loss = 0.39391409\n",
            "Iteration 6, loss = 0.39317668\n",
            "Iteration 7, loss = 0.39291447\n",
            "Iteration 8, loss = 0.39272992\n",
            "Iteration 9, loss = 0.39242027\n",
            "Iteration 10, loss = 0.39238886\n",
            "Iteration 11, loss = 0.39196287\n",
            "Iteration 12, loss = 0.39187497\n",
            "Iteration 13, loss = 0.39169805\n",
            "Iteration 14, loss = 0.39158519\n",
            "Iteration 15, loss = 0.39162077\n",
            "Iteration 16, loss = 0.39118666\n",
            "Iteration 17, loss = 0.39127269\n",
            "Iteration 18, loss = 0.39108734\n",
            "Iteration 19, loss = 0.39088743\n",
            "Iteration 20, loss = 0.39059839\n",
            "Iteration 21, loss = 0.39094968\n",
            "Iteration 22, loss = 0.39084915\n",
            "Iteration 23, loss = 0.39049596\n",
            "Iteration 24, loss = 0.39047819\n",
            "Iteration 25, loss = 0.39043252\n",
            "Iteration 26, loss = 0.39035140\n",
            "Iteration 27, loss = 0.39025519\n",
            "Iteration 28, loss = 0.39036160\n",
            "Iteration 29, loss = 0.38986276\n",
            "Iteration 30, loss = 0.39004622\n",
            "[CV 1/5] END activation=relu, alpha=0.001, hidden_layer_sizes=(32, 32), max_iter=30, random_state=42, solver=adam, verbose=True;, score=0.815 total time=  32.5s\n"
          ]
        },
        {
          "name": "stderr",
          "output_type": "stream",
          "text": [
            "/usr/local/lib/python3.10/dist-packages/sklearn/neural_network/_multilayer_perceptron.py:686: ConvergenceWarning: Stochastic Optimizer: Maximum iterations (30) reached and the optimization hasn't converged yet.\n",
            "  warnings.warn(\n"
          ]
        },
        {
          "name": "stdout",
          "output_type": "stream",
          "text": [
            "Iteration 1, loss = 0.41982139\n",
            "Iteration 2, loss = 0.39692294\n",
            "Iteration 3, loss = 0.39526648\n",
            "Iteration 4, loss = 0.39430716\n",
            "Iteration 5, loss = 0.39427634\n",
            "Iteration 6, loss = 0.39352757\n",
            "Iteration 7, loss = 0.39334352\n",
            "Iteration 8, loss = 0.39296876\n",
            "Iteration 9, loss = 0.39280016\n",
            "Iteration 10, loss = 0.39288073\n",
            "Iteration 11, loss = 0.39241078\n",
            "Iteration 12, loss = 0.39225236\n",
            "Iteration 13, loss = 0.39200554\n",
            "Iteration 14, loss = 0.39207903\n",
            "Iteration 15, loss = 0.39201254\n",
            "Iteration 16, loss = 0.39172122\n",
            "Iteration 17, loss = 0.39161788\n",
            "Iteration 18, loss = 0.39151952\n",
            "Iteration 19, loss = 0.39127833\n",
            "Iteration 20, loss = 0.39114516\n",
            "Iteration 21, loss = 0.39140140\n",
            "Iteration 22, loss = 0.39114046\n",
            "Iteration 23, loss = 0.39093967\n",
            "Iteration 24, loss = 0.39094168\n",
            "Iteration 25, loss = 0.39096006\n",
            "Iteration 26, loss = 0.39079779\n",
            "Iteration 27, loss = 0.39071343\n",
            "Iteration 28, loss = 0.39059935\n",
            "Iteration 29, loss = 0.39037859\n",
            "Iteration 30, loss = 0.39050065\n",
            "[CV 2/5] END activation=relu, alpha=0.001, hidden_layer_sizes=(32, 32), max_iter=30, random_state=42, solver=adam, verbose=True;, score=0.813 total time=  32.7s\n"
          ]
        },
        {
          "name": "stderr",
          "output_type": "stream",
          "text": [
            "/usr/local/lib/python3.10/dist-packages/sklearn/neural_network/_multilayer_perceptron.py:686: ConvergenceWarning: Stochastic Optimizer: Maximum iterations (30) reached and the optimization hasn't converged yet.\n",
            "  warnings.warn(\n"
          ]
        },
        {
          "name": "stdout",
          "output_type": "stream",
          "text": [
            "Iteration 1, loss = 0.42010214\n",
            "Iteration 2, loss = 0.39689836\n",
            "Iteration 3, loss = 0.39520142\n",
            "Iteration 4, loss = 0.39443200\n",
            "Iteration 5, loss = 0.39407604\n",
            "Iteration 6, loss = 0.39364211\n",
            "Iteration 7, loss = 0.39331952\n",
            "Iteration 8, loss = 0.39305761\n",
            "Iteration 9, loss = 0.39295979\n",
            "Iteration 10, loss = 0.39277935\n",
            "Iteration 11, loss = 0.39253788\n",
            "Iteration 12, loss = 0.39244266\n",
            "Iteration 13, loss = 0.39209669\n",
            "Iteration 14, loss = 0.39214955\n",
            "Iteration 15, loss = 0.39186542\n",
            "Iteration 16, loss = 0.39185003\n",
            "Iteration 17, loss = 0.39145607\n",
            "Iteration 18, loss = 0.39141746\n",
            "Iteration 19, loss = 0.39142379\n",
            "Iteration 20, loss = 0.39118194\n",
            "Iteration 21, loss = 0.39141409\n",
            "Iteration 22, loss = 0.39113638\n",
            "Iteration 23, loss = 0.39085976\n",
            "Iteration 24, loss = 0.39098818\n",
            "Iteration 25, loss = 0.39073568\n",
            "Iteration 26, loss = 0.39090048\n",
            "Iteration 27, loss = 0.39078179\n",
            "Iteration 28, loss = 0.39049771\n",
            "Iteration 29, loss = 0.39040962\n",
            "Iteration 30, loss = 0.39022158\n",
            "[CV 3/5] END activation=relu, alpha=0.001, hidden_layer_sizes=(32, 32), max_iter=30, random_state=42, solver=adam, verbose=True;, score=0.813 total time=  32.7s\n"
          ]
        },
        {
          "name": "stderr",
          "output_type": "stream",
          "text": [
            "/usr/local/lib/python3.10/dist-packages/sklearn/neural_network/_multilayer_perceptron.py:686: ConvergenceWarning: Stochastic Optimizer: Maximum iterations (30) reached and the optimization hasn't converged yet.\n",
            "  warnings.warn(\n"
          ]
        },
        {
          "name": "stdout",
          "output_type": "stream",
          "text": [
            "Iteration 1, loss = 0.42048741\n",
            "Iteration 2, loss = 0.39711614\n",
            "Iteration 3, loss = 0.39559824\n",
            "Iteration 4, loss = 0.39481560\n",
            "Iteration 5, loss = 0.39436528\n",
            "Iteration 6, loss = 0.39398030\n",
            "Iteration 7, loss = 0.39349259\n",
            "Iteration 8, loss = 0.39311814\n",
            "Iteration 9, loss = 0.39301365\n",
            "Iteration 10, loss = 0.39289506\n",
            "Iteration 11, loss = 0.39264808\n",
            "Iteration 12, loss = 0.39259838\n",
            "Iteration 13, loss = 0.39223945\n",
            "Iteration 14, loss = 0.39225031\n",
            "Iteration 15, loss = 0.39198230\n",
            "Iteration 16, loss = 0.39184985\n",
            "Iteration 17, loss = 0.39173316\n",
            "Iteration 18, loss = 0.39175557\n",
            "Iteration 19, loss = 0.39158839\n",
            "Iteration 20, loss = 0.39153195\n",
            "Iteration 21, loss = 0.39155794\n",
            "Iteration 22, loss = 0.39125220\n",
            "Iteration 23, loss = 0.39098292\n",
            "Iteration 24, loss = 0.39108401\n",
            "Iteration 25, loss = 0.39095352\n",
            "Iteration 26, loss = 0.39107391\n",
            "Iteration 27, loss = 0.39078849\n",
            "Iteration 28, loss = 0.39065078\n",
            "Iteration 29, loss = 0.39064536\n",
            "Iteration 30, loss = 0.39035935\n",
            "[CV 4/5] END activation=relu, alpha=0.001, hidden_layer_sizes=(32, 32), max_iter=30, random_state=42, solver=adam, verbose=True;, score=0.811 total time=  32.2s\n"
          ]
        },
        {
          "name": "stderr",
          "output_type": "stream",
          "text": [
            "/usr/local/lib/python3.10/dist-packages/sklearn/neural_network/_multilayer_perceptron.py:686: ConvergenceWarning: Stochastic Optimizer: Maximum iterations (30) reached and the optimization hasn't converged yet.\n",
            "  warnings.warn(\n"
          ]
        },
        {
          "name": "stdout",
          "output_type": "stream",
          "text": [
            "Iteration 1, loss = 0.41955201\n",
            "Iteration 2, loss = 0.39739242\n",
            "Iteration 3, loss = 0.39565266\n",
            "Iteration 4, loss = 0.39494313\n",
            "Iteration 5, loss = 0.39419321\n",
            "Iteration 6, loss = 0.39394483\n",
            "Iteration 7, loss = 0.39358534\n",
            "Iteration 8, loss = 0.39330970\n",
            "Iteration 9, loss = 0.39305603\n",
            "Iteration 10, loss = 0.39294784\n",
            "Iteration 11, loss = 0.39271222\n",
            "Iteration 12, loss = 0.39257281\n",
            "Iteration 13, loss = 0.39254224\n",
            "Iteration 14, loss = 0.39231247\n",
            "Iteration 15, loss = 0.39204717\n",
            "Iteration 16, loss = 0.39197775\n",
            "Iteration 17, loss = 0.39182562\n",
            "Iteration 18, loss = 0.39170463\n",
            "Iteration 19, loss = 0.39153587\n",
            "Iteration 20, loss = 0.39163899\n",
            "Iteration 21, loss = 0.39138820\n",
            "Iteration 22, loss = 0.39123671\n",
            "Iteration 23, loss = 0.39122037\n",
            "Iteration 24, loss = 0.39125647\n",
            "Iteration 25, loss = 0.39123896\n",
            "Iteration 26, loss = 0.39082597\n",
            "Iteration 27, loss = 0.39076613\n",
            "Iteration 28, loss = 0.39072567\n",
            "Iteration 29, loss = 0.39054837\n",
            "Iteration 30, loss = 0.39052966\n",
            "[CV 5/5] END activation=relu, alpha=0.001, hidden_layer_sizes=(32, 32), max_iter=30, random_state=42, solver=adam, verbose=True;, score=0.806 total time=  32.7s\n"
          ]
        },
        {
          "name": "stderr",
          "output_type": "stream",
          "text": [
            "/usr/local/lib/python3.10/dist-packages/sklearn/neural_network/_multilayer_perceptron.py:686: ConvergenceWarning: Stochastic Optimizer: Maximum iterations (30) reached and the optimization hasn't converged yet.\n",
            "  warnings.warn(\n"
          ]
        },
        {
          "name": "stdout",
          "output_type": "stream",
          "text": [
            "Iteration 1, loss = 0.41235564\n",
            "Iteration 2, loss = 0.40029054\n",
            "Iteration 3, loss = 0.39825124\n",
            "Iteration 4, loss = 0.39740347\n",
            "Iteration 5, loss = 0.39682445\n",
            "Iteration 6, loss = 0.39656099\n",
            "Iteration 7, loss = 0.39611495\n",
            "Iteration 8, loss = 0.39587042\n",
            "Iteration 9, loss = 0.39545403\n",
            "Iteration 10, loss = 0.39540949\n",
            "Iteration 11, loss = 0.39516971\n",
            "Iteration 12, loss = 0.39509047\n",
            "Iteration 13, loss = 0.39496723\n",
            "Iteration 14, loss = 0.39481755\n",
            "Iteration 15, loss = 0.39474822\n",
            "Iteration 16, loss = 0.39470281\n",
            "Iteration 17, loss = 0.39448929\n",
            "Iteration 18, loss = 0.39471836\n",
            "Iteration 19, loss = 0.39405725\n",
            "Iteration 20, loss = 0.39408203\n",
            "Iteration 21, loss = 0.39410285\n",
            "Iteration 22, loss = 0.39410265\n",
            "Iteration 23, loss = 0.39408204\n",
            "Iteration 24, loss = 0.39407417\n",
            "Iteration 25, loss = 0.39395348\n",
            "Iteration 26, loss = 0.39377408\n",
            "Iteration 27, loss = 0.39370041\n",
            "Iteration 28, loss = 0.39350468\n",
            "Iteration 29, loss = 0.39354548\n",
            "Iteration 30, loss = 0.39373943\n"
          ]
        },
        {
          "name": "stderr",
          "output_type": "stream",
          "text": [
            "/usr/local/lib/python3.10/dist-packages/sklearn/neural_network/_multilayer_perceptron.py:686: ConvergenceWarning: Stochastic Optimizer: Maximum iterations (30) reached and the optimization hasn't converged yet.\n",
            "  warnings.warn(\n"
          ]
        },
        {
          "name": "stdout",
          "output_type": "stream",
          "text": [
            "[CV 1/5] END activation=tanh, alpha=0.01, hidden_layer_sizes=(64, 64), max_iter=30, random_state=42, solver=adam, verbose=True;, score=0.809 total time= 2.2min\n",
            "Iteration 1, loss = 0.41259078\n",
            "Iteration 2, loss = 0.40086320\n",
            "Iteration 3, loss = 0.39866104\n",
            "Iteration 4, loss = 0.39784904\n",
            "Iteration 5, loss = 0.39720327\n",
            "Iteration 6, loss = 0.39715832\n",
            "Iteration 7, loss = 0.39648999\n",
            "Iteration 8, loss = 0.39622804\n",
            "Iteration 9, loss = 0.39602549\n",
            "Iteration 10, loss = 0.39612957\n",
            "Iteration 11, loss = 0.39566428\n",
            "Iteration 12, loss = 0.39578220\n",
            "Iteration 13, loss = 0.39552075\n",
            "Iteration 14, loss = 0.39510302\n",
            "Iteration 15, loss = 0.39537456\n",
            "Iteration 16, loss = 0.39514788\n",
            "Iteration 17, loss = 0.39491759\n",
            "Iteration 18, loss = 0.39506306\n",
            "Iteration 19, loss = 0.39472170\n",
            "Iteration 20, loss = 0.39461162\n",
            "Iteration 21, loss = 0.39473232\n",
            "Iteration 22, loss = 0.39466706\n",
            "Iteration 23, loss = 0.39444506\n",
            "Iteration 24, loss = 0.39444649\n",
            "Iteration 25, loss = 0.39463114\n",
            "Iteration 26, loss = 0.39420670\n",
            "Iteration 27, loss = 0.39433652\n",
            "Iteration 28, loss = 0.39408930\n",
            "Iteration 29, loss = 0.39416379\n",
            "Iteration 30, loss = 0.39435545\n"
          ]
        },
        {
          "name": "stderr",
          "output_type": "stream",
          "text": [
            "/usr/local/lib/python3.10/dist-packages/sklearn/neural_network/_multilayer_perceptron.py:686: ConvergenceWarning: Stochastic Optimizer: Maximum iterations (30) reached and the optimization hasn't converged yet.\n",
            "  warnings.warn(\n"
          ]
        },
        {
          "name": "stdout",
          "output_type": "stream",
          "text": [
            "[CV 2/5] END activation=tanh, alpha=0.01, hidden_layer_sizes=(64, 64), max_iter=30, random_state=42, solver=adam, verbose=True;, score=0.813 total time= 2.1min\n",
            "Iteration 1, loss = 0.41311561\n",
            "Iteration 2, loss = 0.40079994\n",
            "Iteration 3, loss = 0.39882742\n",
            "Iteration 4, loss = 0.39783642\n",
            "Iteration 5, loss = 0.39719492\n",
            "Iteration 6, loss = 0.39716361\n",
            "Iteration 7, loss = 0.39637509\n",
            "Iteration 8, loss = 0.39612156\n",
            "Iteration 9, loss = 0.39599085\n",
            "Iteration 10, loss = 0.39571399\n",
            "Iteration 11, loss = 0.39557348\n",
            "Iteration 12, loss = 0.39551859\n",
            "Iteration 13, loss = 0.39522498\n",
            "Iteration 14, loss = 0.39516811\n",
            "Iteration 15, loss = 0.39516522\n",
            "Iteration 16, loss = 0.39508496\n",
            "Iteration 17, loss = 0.39485301\n",
            "Iteration 18, loss = 0.39498861\n",
            "Iteration 19, loss = 0.39453133\n",
            "Iteration 20, loss = 0.39446645\n",
            "Iteration 21, loss = 0.39453392\n",
            "Iteration 22, loss = 0.39451510\n",
            "Iteration 23, loss = 0.39412821\n",
            "Iteration 24, loss = 0.39434118\n",
            "Iteration 25, loss = 0.39443224\n",
            "Iteration 26, loss = 0.39426347\n",
            "Iteration 27, loss = 0.39432884\n",
            "Iteration 28, loss = 0.39398183\n",
            "Iteration 29, loss = 0.39414073\n",
            "Iteration 30, loss = 0.39430831\n"
          ]
        },
        {
          "name": "stderr",
          "output_type": "stream",
          "text": [
            "/usr/local/lib/python3.10/dist-packages/sklearn/neural_network/_multilayer_perceptron.py:686: ConvergenceWarning: Stochastic Optimizer: Maximum iterations (30) reached and the optimization hasn't converged yet.\n",
            "  warnings.warn(\n"
          ]
        },
        {
          "name": "stdout",
          "output_type": "stream",
          "text": [
            "[CV 3/5] END activation=tanh, alpha=0.01, hidden_layer_sizes=(64, 64), max_iter=30, random_state=42, solver=adam, verbose=True;, score=0.814 total time= 2.2min\n",
            "Iteration 1, loss = 0.41340309\n",
            "Iteration 2, loss = 0.40078950\n",
            "Iteration 3, loss = 0.39943883\n",
            "Iteration 4, loss = 0.39830466\n",
            "Iteration 5, loss = 0.39760588\n",
            "Iteration 6, loss = 0.39736651\n",
            "Iteration 7, loss = 0.39694046\n",
            "Iteration 8, loss = 0.39669637\n",
            "Iteration 9, loss = 0.39656677\n",
            "Iteration 10, loss = 0.39613542\n",
            "Iteration 11, loss = 0.39588595\n",
            "Iteration 12, loss = 0.39578006\n",
            "Iteration 13, loss = 0.39558428\n",
            "Iteration 14, loss = 0.39580524\n",
            "Iteration 15, loss = 0.39552717\n",
            "Iteration 16, loss = 0.39546453\n",
            "Iteration 17, loss = 0.39515366\n",
            "Iteration 18, loss = 0.39534401\n",
            "Iteration 19, loss = 0.39497866\n",
            "Iteration 20, loss = 0.39483575\n",
            "Iteration 21, loss = 0.39482612\n",
            "Iteration 22, loss = 0.39478176\n",
            "Iteration 23, loss = 0.39455422\n",
            "Iteration 24, loss = 0.39466038\n",
            "Iteration 25, loss = 0.39469568\n",
            "Iteration 26, loss = 0.39454433\n",
            "Iteration 27, loss = 0.39456756\n",
            "Iteration 28, loss = 0.39470806\n",
            "Iteration 29, loss = 0.39420797\n",
            "Iteration 30, loss = 0.39443992\n"
          ]
        },
        {
          "name": "stderr",
          "output_type": "stream",
          "text": [
            "/usr/local/lib/python3.10/dist-packages/sklearn/neural_network/_multilayer_perceptron.py:686: ConvergenceWarning: Stochastic Optimizer: Maximum iterations (30) reached and the optimization hasn't converged yet.\n",
            "  warnings.warn(\n"
          ]
        },
        {
          "name": "stdout",
          "output_type": "stream",
          "text": [
            "[CV 4/5] END activation=tanh, alpha=0.01, hidden_layer_sizes=(64, 64), max_iter=30, random_state=42, solver=adam, verbose=True;, score=0.809 total time= 2.1min\n",
            "Iteration 1, loss = 0.41341949\n",
            "Iteration 2, loss = 0.40058042\n",
            "Iteration 3, loss = 0.39929787\n",
            "Iteration 4, loss = 0.39816382\n",
            "Iteration 5, loss = 0.39755942\n",
            "Iteration 6, loss = 0.39687137\n",
            "Iteration 7, loss = 0.39702784\n",
            "Iteration 8, loss = 0.39634180\n",
            "Iteration 9, loss = 0.39648844\n",
            "Iteration 10, loss = 0.39572208\n",
            "Iteration 11, loss = 0.39562350\n",
            "Iteration 12, loss = 0.39551418\n",
            "Iteration 13, loss = 0.39539319\n",
            "Iteration 14, loss = 0.39501127\n",
            "Iteration 15, loss = 0.39528302\n",
            "Iteration 16, loss = 0.39524273\n",
            "Iteration 17, loss = 0.39497307\n",
            "Iteration 18, loss = 0.39482678\n",
            "Iteration 19, loss = 0.39479637\n",
            "Iteration 20, loss = 0.39456133\n",
            "Iteration 21, loss = 0.39438076\n",
            "Iteration 22, loss = 0.39447748\n",
            "Iteration 23, loss = 0.39444688\n",
            "Iteration 24, loss = 0.39419573\n",
            "Iteration 25, loss = 0.39422327\n",
            "Iteration 26, loss = 0.39429517\n",
            "Iteration 27, loss = 0.39444569\n",
            "Iteration 28, loss = 0.39417765\n",
            "Iteration 29, loss = 0.39402192\n",
            "Iteration 30, loss = 0.39374509\n"
          ]
        },
        {
          "name": "stderr",
          "output_type": "stream",
          "text": [
            "/usr/local/lib/python3.10/dist-packages/sklearn/neural_network/_multilayer_perceptron.py:686: ConvergenceWarning: Stochastic Optimizer: Maximum iterations (30) reached and the optimization hasn't converged yet.\n",
            "  warnings.warn(\n"
          ]
        },
        {
          "name": "stdout",
          "output_type": "stream",
          "text": [
            "[CV 5/5] END activation=tanh, alpha=0.01, hidden_layer_sizes=(64, 64), max_iter=30, random_state=42, solver=adam, verbose=True;, score=0.805 total time= 2.1min\n",
            "Iteration 1, loss = 0.42076553\n",
            "Iteration 2, loss = 0.39882559\n",
            "Iteration 3, loss = 0.39739276\n",
            "Iteration 4, loss = 0.39652953\n",
            "Iteration 5, loss = 0.39626891\n",
            "Iteration 6, loss = 0.39549947\n",
            "Iteration 7, loss = 0.39523366\n",
            "Iteration 8, loss = 0.39509871\n",
            "Iteration 9, loss = 0.39490614\n",
            "Iteration 10, loss = 0.39471314\n",
            "Iteration 11, loss = 0.39442160\n",
            "Iteration 12, loss = 0.39432755\n",
            "Iteration 13, loss = 0.39428606\n",
            "Iteration 14, loss = 0.39409733\n",
            "Iteration 15, loss = 0.39437505\n",
            "Iteration 16, loss = 0.39382949\n",
            "Iteration 17, loss = 0.39391828\n",
            "Iteration 18, loss = 0.39386319\n",
            "Iteration 19, loss = 0.39356512\n",
            "Iteration 20, loss = 0.39337169\n",
            "Iteration 21, loss = 0.39369837\n",
            "Iteration 22, loss = 0.39364255\n",
            "Iteration 23, loss = 0.39327896\n",
            "Iteration 24, loss = 0.39326749\n",
            "Iteration 25, loss = 0.39324445\n",
            "Iteration 26, loss = 0.39324768\n",
            "Iteration 27, loss = 0.39324360\n",
            "Iteration 28, loss = 0.39325852\n",
            "Iteration 29, loss = 0.39275852\n",
            "Iteration 30, loss = 0.39310886\n"
          ]
        },
        {
          "name": "stderr",
          "output_type": "stream",
          "text": [
            "/usr/local/lib/python3.10/dist-packages/sklearn/neural_network/_multilayer_perceptron.py:686: ConvergenceWarning: Stochastic Optimizer: Maximum iterations (30) reached and the optimization hasn't converged yet.\n",
            "  warnings.warn(\n"
          ]
        },
        {
          "name": "stdout",
          "output_type": "stream",
          "text": [
            "[CV 1/5] END activation=tanh, alpha=0.01, hidden_layer_sizes=(32, 32), max_iter=30, random_state=42, solver=adam, verbose=True;, score=0.817 total time=  49.2s\n",
            "Iteration 1, loss = 0.42066431\n",
            "Iteration 2, loss = 0.39904348\n",
            "Iteration 3, loss = 0.39765828\n",
            "Iteration 4, loss = 0.39689968\n",
            "Iteration 5, loss = 0.39673926\n",
            "Iteration 6, loss = 0.39594373\n",
            "Iteration 7, loss = 0.39584019\n",
            "Iteration 8, loss = 0.39548967\n",
            "Iteration 9, loss = 0.39527100\n",
            "Iteration 10, loss = 0.39538708\n",
            "Iteration 11, loss = 0.39506814\n",
            "Iteration 12, loss = 0.39487719\n",
            "Iteration 13, loss = 0.39464904\n",
            "Iteration 14, loss = 0.39471928\n",
            "Iteration 15, loss = 0.39475111\n",
            "Iteration 16, loss = 0.39441333\n",
            "Iteration 17, loss = 0.39440223\n",
            "Iteration 18, loss = 0.39434808\n",
            "Iteration 19, loss = 0.39406421\n",
            "Iteration 20, loss = 0.39398709\n",
            "Iteration 21, loss = 0.39430029\n",
            "Iteration 22, loss = 0.39404571\n",
            "Iteration 23, loss = 0.39389168\n",
            "Iteration 24, loss = 0.39392808\n",
            "Iteration 25, loss = 0.39408571\n",
            "Iteration 26, loss = 0.39383837\n",
            "Iteration 27, loss = 0.39378042\n",
            "Iteration 28, loss = 0.39371364\n",
            "Iteration 29, loss = 0.39352648\n",
            "Iteration 30, loss = 0.39364586\n"
          ]
        },
        {
          "name": "stderr",
          "output_type": "stream",
          "text": [
            "/usr/local/lib/python3.10/dist-packages/sklearn/neural_network/_multilayer_perceptron.py:686: ConvergenceWarning: Stochastic Optimizer: Maximum iterations (30) reached and the optimization hasn't converged yet.\n",
            "  warnings.warn(\n"
          ]
        },
        {
          "name": "stdout",
          "output_type": "stream",
          "text": [
            "[CV 2/5] END activation=tanh, alpha=0.01, hidden_layer_sizes=(32, 32), max_iter=30, random_state=42, solver=adam, verbose=True;, score=0.812 total time=  50.6s\n",
            "Iteration 1, loss = 0.42108586\n",
            "Iteration 2, loss = 0.39904774\n",
            "Iteration 3, loss = 0.39764127\n",
            "Iteration 4, loss = 0.39701488\n",
            "Iteration 5, loss = 0.39655655\n",
            "Iteration 6, loss = 0.39614147\n",
            "Iteration 7, loss = 0.39582343\n",
            "Iteration 8, loss = 0.39542667\n",
            "Iteration 9, loss = 0.39535007\n",
            "Iteration 10, loss = 0.39509531\n",
            "Iteration 11, loss = 0.39509337\n",
            "Iteration 12, loss = 0.39497190\n",
            "Iteration 13, loss = 0.39469131\n",
            "Iteration 14, loss = 0.39481702\n",
            "Iteration 15, loss = 0.39449839\n",
            "Iteration 16, loss = 0.39448850\n",
            "Iteration 17, loss = 0.39417380\n",
            "Iteration 18, loss = 0.39426563\n",
            "Iteration 19, loss = 0.39426835\n",
            "Iteration 20, loss = 0.39396957\n",
            "Iteration 21, loss = 0.39425480\n",
            "Iteration 22, loss = 0.39399650\n",
            "Iteration 23, loss = 0.39377262\n",
            "Iteration 24, loss = 0.39390408\n",
            "Iteration 25, loss = 0.39370702\n",
            "Iteration 26, loss = 0.39394248\n",
            "Iteration 27, loss = 0.39371859\n",
            "Iteration 28, loss = 0.39360260\n",
            "Iteration 29, loss = 0.39356521\n",
            "Iteration 30, loss = 0.39341650\n"
          ]
        },
        {
          "name": "stderr",
          "output_type": "stream",
          "text": [
            "/usr/local/lib/python3.10/dist-packages/sklearn/neural_network/_multilayer_perceptron.py:686: ConvergenceWarning: Stochastic Optimizer: Maximum iterations (30) reached and the optimization hasn't converged yet.\n",
            "  warnings.warn(\n"
          ]
        },
        {
          "name": "stdout",
          "output_type": "stream",
          "text": [
            "[CV 3/5] END activation=tanh, alpha=0.01, hidden_layer_sizes=(32, 32), max_iter=30, random_state=42, solver=adam, verbose=True;, score=0.813 total time=  50.1s\n",
            "Iteration 1, loss = 0.42110535\n",
            "Iteration 2, loss = 0.39925955\n",
            "Iteration 3, loss = 0.39811789\n",
            "Iteration 4, loss = 0.39731834\n",
            "Iteration 5, loss = 0.39673417\n",
            "Iteration 6, loss = 0.39651047\n",
            "Iteration 7, loss = 0.39611879\n",
            "Iteration 8, loss = 0.39570064\n",
            "Iteration 9, loss = 0.39558980\n",
            "Iteration 10, loss = 0.39551039\n",
            "Iteration 11, loss = 0.39535747\n",
            "Iteration 12, loss = 0.39529264\n",
            "Iteration 13, loss = 0.39489582\n",
            "Iteration 14, loss = 0.39505367\n",
            "Iteration 15, loss = 0.39469800\n",
            "Iteration 16, loss = 0.39455613\n",
            "Iteration 17, loss = 0.39460634\n",
            "Iteration 18, loss = 0.39467062\n",
            "Iteration 19, loss = 0.39458976\n",
            "Iteration 20, loss = 0.39449673\n",
            "Iteration 21, loss = 0.39461546\n",
            "Iteration 22, loss = 0.39436526\n",
            "Iteration 23, loss = 0.39415428\n",
            "Iteration 24, loss = 0.39420784\n",
            "Iteration 25, loss = 0.39431528\n",
            "Iteration 26, loss = 0.39439316\n",
            "Iteration 27, loss = 0.39414086\n",
            "Iteration 28, loss = 0.39401797\n",
            "Iteration 29, loss = 0.39402795\n",
            "Iteration 30, loss = 0.39379627\n"
          ]
        },
        {
          "name": "stderr",
          "output_type": "stream",
          "text": [
            "/usr/local/lib/python3.10/dist-packages/sklearn/neural_network/_multilayer_perceptron.py:686: ConvergenceWarning: Stochastic Optimizer: Maximum iterations (30) reached and the optimization hasn't converged yet.\n",
            "  warnings.warn(\n"
          ]
        },
        {
          "name": "stdout",
          "output_type": "stream",
          "text": [
            "[CV 4/5] END activation=tanh, alpha=0.01, hidden_layer_sizes=(32, 32), max_iter=30, random_state=42, solver=adam, verbose=True;, score=0.811 total time=  49.2s\n",
            "Iteration 1, loss = 0.42050526\n",
            "Iteration 2, loss = 0.39939326\n",
            "Iteration 3, loss = 0.39802742\n",
            "Iteration 4, loss = 0.39736818\n",
            "Iteration 5, loss = 0.39653807\n",
            "Iteration 6, loss = 0.39637649\n",
            "Iteration 7, loss = 0.39596630\n",
            "Iteration 8, loss = 0.39575188\n",
            "Iteration 9, loss = 0.39546831\n",
            "Iteration 10, loss = 0.39542730\n",
            "Iteration 11, loss = 0.39509964\n",
            "Iteration 12, loss = 0.39495418\n",
            "Iteration 13, loss = 0.39499975\n",
            "Iteration 14, loss = 0.39479095\n",
            "Iteration 15, loss = 0.39459232\n",
            "Iteration 16, loss = 0.39452034\n",
            "Iteration 17, loss = 0.39439714\n",
            "Iteration 18, loss = 0.39434277\n",
            "Iteration 19, loss = 0.39414484\n",
            "Iteration 20, loss = 0.39422149\n",
            "Iteration 21, loss = 0.39410086\n",
            "Iteration 22, loss = 0.39400425\n",
            "Iteration 23, loss = 0.39383895\n",
            "Iteration 24, loss = 0.39395078\n",
            "Iteration 25, loss = 0.39398198\n",
            "Iteration 26, loss = 0.39363323\n",
            "Iteration 27, loss = 0.39373797\n",
            "Iteration 28, loss = 0.39372096\n",
            "Iteration 29, loss = 0.39347056\n",
            "Iteration 30, loss = 0.39352752\n"
          ]
        },
        {
          "name": "stderr",
          "output_type": "stream",
          "text": [
            "/usr/local/lib/python3.10/dist-packages/sklearn/neural_network/_multilayer_perceptron.py:686: ConvergenceWarning: Stochastic Optimizer: Maximum iterations (30) reached and the optimization hasn't converged yet.\n",
            "  warnings.warn(\n"
          ]
        },
        {
          "name": "stdout",
          "output_type": "stream",
          "text": [
            "[CV 5/5] END activation=tanh, alpha=0.01, hidden_layer_sizes=(32, 32), max_iter=30, random_state=42, solver=adam, verbose=True;, score=0.802 total time=  50.5s\n",
            "Iteration 1, loss = 0.40971248\n",
            "Iteration 2, loss = 0.39764788\n",
            "Iteration 3, loss = 0.39562803\n",
            "Iteration 4, loss = 0.39481252\n",
            "Iteration 5, loss = 0.39427624\n",
            "Iteration 6, loss = 0.39405653\n",
            "Iteration 7, loss = 0.39365822\n",
            "Iteration 8, loss = 0.39343019\n",
            "Iteration 9, loss = 0.39304657\n",
            "Iteration 10, loss = 0.39300039\n",
            "Iteration 11, loss = 0.39275366\n",
            "Iteration 12, loss = 0.39267717\n",
            "Iteration 13, loss = 0.39252670\n",
            "Iteration 14, loss = 0.39237565\n",
            "Iteration 15, loss = 0.39231186\n",
            "Iteration 16, loss = 0.39222582\n",
            "Iteration 17, loss = 0.39196351\n",
            "Iteration 18, loss = 0.39216155\n",
            "Iteration 19, loss = 0.39145333\n",
            "Iteration 20, loss = 0.39145877\n",
            "Iteration 21, loss = 0.39138761\n",
            "Iteration 22, loss = 0.39134204\n",
            "Iteration 23, loss = 0.39125366\n",
            "Iteration 24, loss = 0.39114934\n",
            "Iteration 25, loss = 0.39101361\n",
            "Iteration 26, loss = 0.39077829\n",
            "Iteration 27, loss = 0.39063285\n",
            "Iteration 28, loss = 0.39041585\n",
            "Iteration 29, loss = 0.39037315\n",
            "Iteration 30, loss = 0.39044794\n"
          ]
        },
        {
          "name": "stderr",
          "output_type": "stream",
          "text": [
            "/usr/local/lib/python3.10/dist-packages/sklearn/neural_network/_multilayer_perceptron.py:686: ConvergenceWarning: Stochastic Optimizer: Maximum iterations (30) reached and the optimization hasn't converged yet.\n",
            "  warnings.warn(\n"
          ]
        },
        {
          "name": "stdout",
          "output_type": "stream",
          "text": [
            "[CV 1/5] END activation=tanh, alpha=0.001, hidden_layer_sizes=(64, 64), max_iter=30, random_state=42, solver=adam, verbose=True;, score=0.810 total time= 2.1min\n",
            "Iteration 1, loss = 0.40995011\n",
            "Iteration 2, loss = 0.39823217\n",
            "Iteration 3, loss = 0.39605489\n",
            "Iteration 4, loss = 0.39527749\n",
            "Iteration 5, loss = 0.39467683\n",
            "Iteration 6, loss = 0.39466816\n",
            "Iteration 7, loss = 0.39405917\n",
            "Iteration 8, loss = 0.39380914\n",
            "Iteration 9, loss = 0.39364477\n",
            "Iteration 10, loss = 0.39374935\n",
            "Iteration 11, loss = 0.39327941\n",
            "Iteration 12, loss = 0.39338702\n",
            "Iteration 13, loss = 0.39309355\n",
            "Iteration 14, loss = 0.39271105\n",
            "Iteration 15, loss = 0.39289763\n",
            "Iteration 16, loss = 0.39270710\n",
            "Iteration 17, loss = 0.39241278\n",
            "Iteration 18, loss = 0.39253338\n",
            "Iteration 19, loss = 0.39208329\n",
            "Iteration 20, loss = 0.39199029\n",
            "Iteration 21, loss = 0.39197974\n",
            "Iteration 22, loss = 0.39184112\n",
            "Iteration 23, loss = 0.39160720\n",
            "Iteration 24, loss = 0.39150804\n",
            "Iteration 25, loss = 0.39160436\n",
            "Iteration 26, loss = 0.39123185\n",
            "Iteration 27, loss = 0.39121362\n",
            "Iteration 28, loss = 0.39091746\n",
            "Iteration 29, loss = 0.39096319\n",
            "Iteration 30, loss = 0.39106500\n"
          ]
        },
        {
          "name": "stderr",
          "output_type": "stream",
          "text": [
            "/usr/local/lib/python3.10/dist-packages/sklearn/neural_network/_multilayer_perceptron.py:686: ConvergenceWarning: Stochastic Optimizer: Maximum iterations (30) reached and the optimization hasn't converged yet.\n",
            "  warnings.warn(\n"
          ]
        },
        {
          "name": "stdout",
          "output_type": "stream",
          "text": [
            "[CV 2/5] END activation=tanh, alpha=0.001, hidden_layer_sizes=(64, 64), max_iter=30, random_state=42, solver=adam, verbose=True;, score=0.814 total time= 2.2min\n",
            "Iteration 1, loss = 0.41047387\n",
            "Iteration 2, loss = 0.39816812\n",
            "Iteration 3, loss = 0.39622135\n",
            "Iteration 4, loss = 0.39526254\n",
            "Iteration 5, loss = 0.39466746\n",
            "Iteration 6, loss = 0.39468536\n",
            "Iteration 7, loss = 0.39394678\n",
            "Iteration 8, loss = 0.39372774\n",
            "Iteration 9, loss = 0.39363105\n",
            "Iteration 10, loss = 0.39336754\n",
            "Iteration 11, loss = 0.39319946\n",
            "Iteration 12, loss = 0.39316351\n",
            "Iteration 13, loss = 0.39282258\n",
            "Iteration 14, loss = 0.39276003\n",
            "Iteration 15, loss = 0.39267401\n",
            "Iteration 16, loss = 0.39258322\n",
            "Iteration 17, loss = 0.39232837\n",
            "Iteration 18, loss = 0.39238839\n",
            "Iteration 19, loss = 0.39183150\n",
            "Iteration 20, loss = 0.39178735\n",
            "Iteration 21, loss = 0.39177497\n",
            "Iteration 22, loss = 0.39167816\n",
            "Iteration 23, loss = 0.39123998\n",
            "Iteration 24, loss = 0.39136867\n",
            "Iteration 25, loss = 0.39138448\n",
            "Iteration 26, loss = 0.39118705\n",
            "Iteration 27, loss = 0.39116876\n",
            "Iteration 28, loss = 0.39070615\n",
            "Iteration 29, loss = 0.39078870\n",
            "Iteration 30, loss = 0.39086841\n"
          ]
        },
        {
          "name": "stderr",
          "output_type": "stream",
          "text": [
            "/usr/local/lib/python3.10/dist-packages/sklearn/neural_network/_multilayer_perceptron.py:686: ConvergenceWarning: Stochastic Optimizer: Maximum iterations (30) reached and the optimization hasn't converged yet.\n",
            "  warnings.warn(\n"
          ]
        },
        {
          "name": "stdout",
          "output_type": "stream",
          "text": [
            "[CV 3/5] END activation=tanh, alpha=0.001, hidden_layer_sizes=(64, 64), max_iter=30, random_state=42, solver=adam, verbose=True;, score=0.815 total time= 2.1min\n",
            "Iteration 1, loss = 0.41075941\n",
            "Iteration 2, loss = 0.39815148\n",
            "Iteration 3, loss = 0.39683181\n",
            "Iteration 4, loss = 0.39572620\n",
            "Iteration 5, loss = 0.39507475\n",
            "Iteration 6, loss = 0.39488082\n",
            "Iteration 7, loss = 0.39448692\n",
            "Iteration 8, loss = 0.39428305\n",
            "Iteration 9, loss = 0.39416385\n",
            "Iteration 10, loss = 0.39375651\n",
            "Iteration 11, loss = 0.39349232\n",
            "Iteration 12, loss = 0.39339041\n",
            "Iteration 13, loss = 0.39318480\n",
            "Iteration 14, loss = 0.39336828\n",
            "Iteration 15, loss = 0.39306749\n",
            "Iteration 16, loss = 0.39301834\n",
            "Iteration 17, loss = 0.39263863\n",
            "Iteration 18, loss = 0.39283327\n",
            "Iteration 19, loss = 0.39237915\n",
            "Iteration 20, loss = 0.39224830\n",
            "Iteration 21, loss = 0.39214510\n",
            "Iteration 22, loss = 0.39204396\n",
            "Iteration 23, loss = 0.39182359\n",
            "Iteration 24, loss = 0.39185326\n",
            "Iteration 25, loss = 0.39173179\n",
            "Iteration 26, loss = 0.39159701\n",
            "Iteration 27, loss = 0.39157350\n",
            "Iteration 28, loss = 0.39153952\n",
            "Iteration 29, loss = 0.39105205\n",
            "Iteration 30, loss = 0.39113430\n"
          ]
        },
        {
          "name": "stderr",
          "output_type": "stream",
          "text": [
            "/usr/local/lib/python3.10/dist-packages/sklearn/neural_network/_multilayer_perceptron.py:686: ConvergenceWarning: Stochastic Optimizer: Maximum iterations (30) reached and the optimization hasn't converged yet.\n",
            "  warnings.warn(\n"
          ]
        },
        {
          "name": "stdout",
          "output_type": "stream",
          "text": [
            "[CV 4/5] END activation=tanh, alpha=0.001, hidden_layer_sizes=(64, 64), max_iter=30, random_state=42, solver=adam, verbose=True;, score=0.809 total time= 2.2min\n",
            "Iteration 1, loss = 0.41077888\n",
            "Iteration 2, loss = 0.39794725\n",
            "Iteration 3, loss = 0.39669103\n",
            "Iteration 4, loss = 0.39559464\n",
            "Iteration 5, loss = 0.39504334\n",
            "Iteration 6, loss = 0.39438748\n",
            "Iteration 7, loss = 0.39458250\n",
            "Iteration 8, loss = 0.39391838\n",
            "Iteration 9, loss = 0.39409377\n",
            "Iteration 10, loss = 0.39331263\n",
            "Iteration 11, loss = 0.39322510\n",
            "Iteration 12, loss = 0.39309441\n",
            "Iteration 13, loss = 0.39298356\n",
            "Iteration 14, loss = 0.39260138\n",
            "Iteration 15, loss = 0.39282046\n",
            "Iteration 16, loss = 0.39272941\n",
            "Iteration 17, loss = 0.39242265\n",
            "Iteration 18, loss = 0.39230195\n",
            "Iteration 19, loss = 0.39221946\n",
            "Iteration 20, loss = 0.39187206\n",
            "Iteration 21, loss = 0.39170665\n",
            "Iteration 22, loss = 0.39168790\n",
            "Iteration 23, loss = 0.39164492\n",
            "Iteration 24, loss = 0.39129737\n",
            "Iteration 25, loss = 0.39129936\n",
            "Iteration 26, loss = 0.39128194\n",
            "Iteration 27, loss = 0.39137187\n",
            "Iteration 28, loss = 0.39103404\n",
            "Iteration 29, loss = 0.39086385\n",
            "Iteration 30, loss = 0.39047668\n"
          ]
        },
        {
          "name": "stderr",
          "output_type": "stream",
          "text": [
            "/usr/local/lib/python3.10/dist-packages/sklearn/neural_network/_multilayer_perceptron.py:686: ConvergenceWarning: Stochastic Optimizer: Maximum iterations (30) reached and the optimization hasn't converged yet.\n",
            "  warnings.warn(\n"
          ]
        },
        {
          "name": "stdout",
          "output_type": "stream",
          "text": [
            "[CV 5/5] END activation=tanh, alpha=0.001, hidden_layer_sizes=(64, 64), max_iter=30, random_state=42, solver=adam, verbose=True;, score=0.808 total time= 2.2min\n",
            "Iteration 1, loss = 0.41909471\n",
            "Iteration 2, loss = 0.39714298\n",
            "Iteration 3, loss = 0.39570008\n",
            "Iteration 4, loss = 0.39481425\n",
            "Iteration 5, loss = 0.39453846\n",
            "Iteration 6, loss = 0.39376482\n",
            "Iteration 7, loss = 0.39348346\n",
            "Iteration 8, loss = 0.39335191\n",
            "Iteration 9, loss = 0.39314082\n",
            "Iteration 10, loss = 0.39295069\n",
            "Iteration 11, loss = 0.39266321\n",
            "Iteration 12, loss = 0.39255804\n",
            "Iteration 13, loss = 0.39248835\n",
            "Iteration 14, loss = 0.39229391\n",
            "Iteration 15, loss = 0.39252777\n",
            "Iteration 16, loss = 0.39197198\n",
            "Iteration 17, loss = 0.39204237\n",
            "Iteration 18, loss = 0.39194128\n",
            "Iteration 19, loss = 0.39164518\n",
            "Iteration 20, loss = 0.39142108\n",
            "Iteration 21, loss = 0.39173472\n",
            "Iteration 22, loss = 0.39164365\n",
            "Iteration 23, loss = 0.39127640\n",
            "Iteration 24, loss = 0.39122287\n",
            "Iteration 25, loss = 0.39118081\n",
            "Iteration 26, loss = 0.39116526\n",
            "Iteration 27, loss = 0.39110662\n",
            "Iteration 28, loss = 0.39113729\n",
            "Iteration 29, loss = 0.39060415\n",
            "Iteration 30, loss = 0.39090763\n"
          ]
        },
        {
          "name": "stderr",
          "output_type": "stream",
          "text": [
            "/usr/local/lib/python3.10/dist-packages/sklearn/neural_network/_multilayer_perceptron.py:686: ConvergenceWarning: Stochastic Optimizer: Maximum iterations (30) reached and the optimization hasn't converged yet.\n",
            "  warnings.warn(\n"
          ]
        },
        {
          "name": "stdout",
          "output_type": "stream",
          "text": [
            "[CV 1/5] END activation=tanh, alpha=0.001, hidden_layer_sizes=(32, 32), max_iter=30, random_state=42, solver=adam, verbose=True;, score=0.816 total time=  49.9s\n",
            "Iteration 1, loss = 0.41899688\n",
            "Iteration 2, loss = 0.39736555\n",
            "Iteration 3, loss = 0.39598002\n",
            "Iteration 4, loss = 0.39520887\n",
            "Iteration 5, loss = 0.39503199\n",
            "Iteration 6, loss = 0.39423477\n",
            "Iteration 7, loss = 0.39410932\n",
            "Iteration 8, loss = 0.39376285\n",
            "Iteration 9, loss = 0.39353826\n",
            "Iteration 10, loss = 0.39363877\n",
            "Iteration 11, loss = 0.39331831\n",
            "Iteration 12, loss = 0.39311576\n",
            "Iteration 13, loss = 0.39287954\n",
            "Iteration 14, loss = 0.39293543\n",
            "Iteration 15, loss = 0.39292531\n",
            "Iteration 16, loss = 0.39259295\n",
            "Iteration 17, loss = 0.39256102\n",
            "Iteration 18, loss = 0.39246698\n",
            "Iteration 19, loss = 0.39217044\n",
            "Iteration 20, loss = 0.39210442\n",
            "Iteration 21, loss = 0.39237330\n",
            "Iteration 22, loss = 0.39211671\n",
            "Iteration 23, loss = 0.39194618\n",
            "Iteration 24, loss = 0.39197653\n",
            "Iteration 25, loss = 0.39208569\n",
            "Iteration 26, loss = 0.39181150\n",
            "Iteration 27, loss = 0.39171940\n",
            "Iteration 28, loss = 0.39164715\n",
            "Iteration 29, loss = 0.39144772\n",
            "Iteration 30, loss = 0.39153058\n"
          ]
        },
        {
          "name": "stderr",
          "output_type": "stream",
          "text": [
            "/usr/local/lib/python3.10/dist-packages/sklearn/neural_network/_multilayer_perceptron.py:686: ConvergenceWarning: Stochastic Optimizer: Maximum iterations (30) reached and the optimization hasn't converged yet.\n",
            "  warnings.warn(\n"
          ]
        },
        {
          "name": "stdout",
          "output_type": "stream",
          "text": [
            "[CV 2/5] END activation=tanh, alpha=0.001, hidden_layer_sizes=(32, 32), max_iter=30, random_state=42, solver=adam, verbose=True;, score=0.812 total time=  49.1s\n",
            "Iteration 1, loss = 0.41941473\n",
            "Iteration 2, loss = 0.39735733\n",
            "Iteration 3, loss = 0.39594510\n",
            "Iteration 4, loss = 0.39530630\n",
            "Iteration 5, loss = 0.39482814\n",
            "Iteration 6, loss = 0.39441006\n",
            "Iteration 7, loss = 0.39408544\n",
            "Iteration 8, loss = 0.39368812\n",
            "Iteration 9, loss = 0.39361455\n",
            "Iteration 10, loss = 0.39335545\n",
            "Iteration 11, loss = 0.39334599\n",
            "Iteration 12, loss = 0.39322173\n",
            "Iteration 13, loss = 0.39293026\n",
            "Iteration 14, loss = 0.39305142\n",
            "Iteration 15, loss = 0.39273012\n",
            "Iteration 16, loss = 0.39271515\n",
            "Iteration 17, loss = 0.39238743\n",
            "Iteration 18, loss = 0.39245880\n",
            "Iteration 19, loss = 0.39243548\n",
            "Iteration 20, loss = 0.39214862\n",
            "Iteration 21, loss = 0.39239245\n",
            "Iteration 22, loss = 0.39214165\n",
            "Iteration 23, loss = 0.39189984\n",
            "Iteration 24, loss = 0.39202323\n",
            "Iteration 25, loss = 0.39179110\n",
            "Iteration 26, loss = 0.39199453\n",
            "Iteration 27, loss = 0.39177252\n",
            "Iteration 28, loss = 0.39161799\n",
            "Iteration 29, loss = 0.39156171\n",
            "Iteration 30, loss = 0.39141366\n"
          ]
        },
        {
          "name": "stderr",
          "output_type": "stream",
          "text": [
            "/usr/local/lib/python3.10/dist-packages/sklearn/neural_network/_multilayer_perceptron.py:686: ConvergenceWarning: Stochastic Optimizer: Maximum iterations (30) reached and the optimization hasn't converged yet.\n",
            "  warnings.warn(\n"
          ]
        },
        {
          "name": "stdout",
          "output_type": "stream",
          "text": [
            "[CV 3/5] END activation=tanh, alpha=0.001, hidden_layer_sizes=(32, 32), max_iter=30, random_state=42, solver=adam, verbose=True;, score=0.813 total time=  50.6s\n",
            "Iteration 1, loss = 0.41943048\n",
            "Iteration 2, loss = 0.39757007\n",
            "Iteration 3, loss = 0.39641977\n",
            "Iteration 4, loss = 0.39561045\n",
            "Iteration 5, loss = 0.39500847\n",
            "Iteration 6, loss = 0.39477238\n",
            "Iteration 7, loss = 0.39437774\n",
            "Iteration 8, loss = 0.39395743\n",
            "Iteration 9, loss = 0.39384745\n",
            "Iteration 10, loss = 0.39375271\n",
            "Iteration 11, loss = 0.39360351\n",
            "Iteration 12, loss = 0.39352568\n",
            "Iteration 13, loss = 0.39313370\n",
            "Iteration 14, loss = 0.39325980\n",
            "Iteration 15, loss = 0.39289890\n",
            "Iteration 16, loss = 0.39275741\n",
            "Iteration 17, loss = 0.39277517\n",
            "Iteration 18, loss = 0.39282186\n",
            "Iteration 19, loss = 0.39271608\n",
            "Iteration 20, loss = 0.39260953\n",
            "Iteration 21, loss = 0.39270443\n",
            "Iteration 22, loss = 0.39243835\n",
            "Iteration 23, loss = 0.39219553\n",
            "Iteration 24, loss = 0.39223518\n",
            "Iteration 25, loss = 0.39229028\n",
            "Iteration 26, loss = 0.39231278\n",
            "Iteration 27, loss = 0.39204562\n",
            "Iteration 28, loss = 0.39189919\n",
            "Iteration 29, loss = 0.39188258\n",
            "Iteration 30, loss = 0.39163874\n"
          ]
        },
        {
          "name": "stderr",
          "output_type": "stream",
          "text": [
            "/usr/local/lib/python3.10/dist-packages/sklearn/neural_network/_multilayer_perceptron.py:686: ConvergenceWarning: Stochastic Optimizer: Maximum iterations (30) reached and the optimization hasn't converged yet.\n",
            "  warnings.warn(\n"
          ]
        },
        {
          "name": "stdout",
          "output_type": "stream",
          "text": [
            "[CV 4/5] END activation=tanh, alpha=0.001, hidden_layer_sizes=(32, 32), max_iter=30, random_state=42, solver=adam, verbose=True;, score=0.811 total time=  50.3s\n",
            "Iteration 1, loss = 0.41883322\n",
            "Iteration 2, loss = 0.39770773\n",
            "Iteration 3, loss = 0.39632638\n",
            "Iteration 4, loss = 0.39565313\n",
            "Iteration 5, loss = 0.39480639\n",
            "Iteration 6, loss = 0.39462844\n",
            "Iteration 7, loss = 0.39421744\n",
            "Iteration 8, loss = 0.39399318\n",
            "Iteration 9, loss = 0.39370939\n",
            "Iteration 10, loss = 0.39366179\n",
            "Iteration 11, loss = 0.39332488\n",
            "Iteration 12, loss = 0.39318371\n",
            "Iteration 13, loss = 0.39323242\n",
            "Iteration 14, loss = 0.39299202\n",
            "Iteration 15, loss = 0.39279175\n",
            "Iteration 16, loss = 0.39270285\n",
            "Iteration 17, loss = 0.39256828\n",
            "Iteration 18, loss = 0.39251353\n",
            "Iteration 19, loss = 0.39229212\n",
            "Iteration 20, loss = 0.39236517\n",
            "Iteration 21, loss = 0.39223820\n",
            "Iteration 22, loss = 0.39211498\n",
            "Iteration 23, loss = 0.39194027\n",
            "Iteration 24, loss = 0.39202515\n",
            "Iteration 25, loss = 0.39201708\n",
            "Iteration 26, loss = 0.39165280\n",
            "Iteration 27, loss = 0.39172224\n",
            "Iteration 28, loss = 0.39168528\n",
            "Iteration 29, loss = 0.39140578\n",
            "Iteration 30, loss = 0.39144141\n"
          ]
        },
        {
          "name": "stderr",
          "output_type": "stream",
          "text": [
            "/usr/local/lib/python3.10/dist-packages/sklearn/neural_network/_multilayer_perceptron.py:686: ConvergenceWarning: Stochastic Optimizer: Maximum iterations (30) reached and the optimization hasn't converged yet.\n",
            "  warnings.warn(\n"
          ]
        },
        {
          "name": "stdout",
          "output_type": "stream",
          "text": [
            "[CV 5/5] END activation=tanh, alpha=0.001, hidden_layer_sizes=(32, 32), max_iter=30, random_state=42, solver=adam, verbose=True;, score=0.803 total time=  48.9s\n",
            "Iteration 1, loss = 0.40975240\n",
            "Iteration 2, loss = 0.39746717\n",
            "Iteration 3, loss = 0.39613682\n",
            "Iteration 4, loss = 0.39577038\n",
            "Iteration 5, loss = 0.39530465\n",
            "Iteration 6, loss = 0.39501039\n",
            "Iteration 7, loss = 0.39489009\n",
            "Iteration 8, loss = 0.39410117\n",
            "Iteration 9, loss = 0.39411540\n",
            "Iteration 10, loss = 0.39388924\n",
            "Iteration 11, loss = 0.39391775\n",
            "Iteration 12, loss = 0.39365555\n",
            "Iteration 13, loss = 0.39352463\n",
            "Iteration 14, loss = 0.39323341\n",
            "Iteration 15, loss = 0.39303804\n",
            "Iteration 16, loss = 0.39322831\n",
            "Iteration 17, loss = 0.39290947\n",
            "Iteration 18, loss = 0.39251124\n",
            "Iteration 19, loss = 0.39278834\n",
            "Iteration 20, loss = 0.39257028\n",
            "Iteration 21, loss = 0.39259390\n",
            "Iteration 22, loss = 0.39252566\n",
            "Iteration 23, loss = 0.39244964\n",
            "Iteration 24, loss = 0.39245079\n",
            "Iteration 25, loss = 0.39217050\n",
            "Iteration 26, loss = 0.39240630\n",
            "Iteration 27, loss = 0.39202525\n",
            "Iteration 28, loss = 0.39221027\n",
            "Iteration 29, loss = 0.39215160\n",
            "Iteration 30, loss = 0.39207319\n"
          ]
        },
        {
          "name": "stderr",
          "output_type": "stream",
          "text": [
            "/usr/local/lib/python3.10/dist-packages/sklearn/neural_network/_multilayer_perceptron.py:686: ConvergenceWarning: Stochastic Optimizer: Maximum iterations (30) reached and the optimization hasn't converged yet.\n",
            "  warnings.warn(\n"
          ]
        },
        {
          "data": {
            "text/html": [
              "<style>#sk-container-id-3 {color: black;background-color: white;}#sk-container-id-3 pre{padding: 0;}#sk-container-id-3 div.sk-toggleable {background-color: white;}#sk-container-id-3 label.sk-toggleable__label {cursor: pointer;display: block;width: 100%;margin-bottom: 0;padding: 0.3em;box-sizing: border-box;text-align: center;}#sk-container-id-3 label.sk-toggleable__label-arrow:before {content: \"▸\";float: left;margin-right: 0.25em;color: #696969;}#sk-container-id-3 label.sk-toggleable__label-arrow:hover:before {color: black;}#sk-container-id-3 div.sk-estimator:hover label.sk-toggleable__label-arrow:before {color: black;}#sk-container-id-3 div.sk-toggleable__content {max-height: 0;max-width: 0;overflow: hidden;text-align: left;background-color: #f0f8ff;}#sk-container-id-3 div.sk-toggleable__content pre {margin: 0.2em;color: black;border-radius: 0.25em;background-color: #f0f8ff;}#sk-container-id-3 input.sk-toggleable__control:checked~div.sk-toggleable__content {max-height: 200px;max-width: 100%;overflow: auto;}#sk-container-id-3 input.sk-toggleable__control:checked~label.sk-toggleable__label-arrow:before {content: \"▾\";}#sk-container-id-3 div.sk-estimator input.sk-toggleable__control:checked~label.sk-toggleable__label {background-color: #d4ebff;}#sk-container-id-3 div.sk-label input.sk-toggleable__control:checked~label.sk-toggleable__label {background-color: #d4ebff;}#sk-container-id-3 input.sk-hidden--visually {border: 0;clip: rect(1px 1px 1px 1px);clip: rect(1px, 1px, 1px, 1px);height: 1px;margin: -1px;overflow: hidden;padding: 0;position: absolute;width: 1px;}#sk-container-id-3 div.sk-estimator {font-family: monospace;background-color: #f0f8ff;border: 1px dotted black;border-radius: 0.25em;box-sizing: border-box;margin-bottom: 0.5em;}#sk-container-id-3 div.sk-estimator:hover {background-color: #d4ebff;}#sk-container-id-3 div.sk-parallel-item::after {content: \"\";width: 100%;border-bottom: 1px solid gray;flex-grow: 1;}#sk-container-id-3 div.sk-label:hover label.sk-toggleable__label {background-color: #d4ebff;}#sk-container-id-3 div.sk-serial::before {content: \"\";position: absolute;border-left: 1px solid gray;box-sizing: border-box;top: 0;bottom: 0;left: 50%;z-index: 0;}#sk-container-id-3 div.sk-serial {display: flex;flex-direction: column;align-items: center;background-color: white;padding-right: 0.2em;padding-left: 0.2em;position: relative;}#sk-container-id-3 div.sk-item {position: relative;z-index: 1;}#sk-container-id-3 div.sk-parallel {display: flex;align-items: stretch;justify-content: center;background-color: white;position: relative;}#sk-container-id-3 div.sk-item::before, #sk-container-id-3 div.sk-parallel-item::before {content: \"\";position: absolute;border-left: 1px solid gray;box-sizing: border-box;top: 0;bottom: 0;left: 50%;z-index: -1;}#sk-container-id-3 div.sk-parallel-item {display: flex;flex-direction: column;z-index: 1;position: relative;background-color: white;}#sk-container-id-3 div.sk-parallel-item:first-child::after {align-self: flex-end;width: 50%;}#sk-container-id-3 div.sk-parallel-item:last-child::after {align-self: flex-start;width: 50%;}#sk-container-id-3 div.sk-parallel-item:only-child::after {width: 0;}#sk-container-id-3 div.sk-dashed-wrapped {border: 1px dashed gray;margin: 0 0.4em 0.5em 0.4em;box-sizing: border-box;padding-bottom: 0.4em;background-color: white;}#sk-container-id-3 div.sk-label label {font-family: monospace;font-weight: bold;display: inline-block;line-height: 1.2em;}#sk-container-id-3 div.sk-label-container {text-align: center;}#sk-container-id-3 div.sk-container {/* jupyter's `normalize.less` sets `[hidden] { display: none; }` but bootstrap.min.css set `[hidden] { display: none !important; }` so we also need the `!important` here to be able to override the default hidden behavior on the sphinx rendered scikit-learn.org. See: https://github.com/scikit-learn/scikit-learn/issues/21755 */display: inline-block !important;position: relative;}#sk-container-id-3 div.sk-text-repr-fallback {display: none;}</style><div id=\"sk-container-id-3\" class=\"sk-top-container\"><div class=\"sk-text-repr-fallback\"><pre>GridSearchCV(cv=5, estimator=MLPClassifier(),\n",
              "             param_grid={&#x27;activation&#x27;: [&#x27;relu&#x27;, &#x27;tanh&#x27;], &#x27;alpha&#x27;: [0.01, 0.001],\n",
              "                         &#x27;hidden_layer_sizes&#x27;: [(64, 64), (32, 32)],\n",
              "                         &#x27;max_iter&#x27;: [30], &#x27;random_state&#x27;: [42],\n",
              "                         &#x27;solver&#x27;: [&#x27;adam&#x27;], &#x27;verbose&#x27;: [True]},\n",
              "             scoring=&#x27;f1_weighted&#x27;, verbose=3)</pre><b>In a Jupyter environment, please rerun this cell to show the HTML representation or trust the notebook. <br />On GitHub, the HTML representation is unable to render, please try loading this page with nbviewer.org.</b></div><div class=\"sk-container\" hidden><div class=\"sk-item sk-dashed-wrapped\"><div class=\"sk-label-container\"><div class=\"sk-label sk-toggleable\"><input class=\"sk-toggleable__control sk-hidden--visually\" id=\"sk-estimator-id-5\" type=\"checkbox\" ><label for=\"sk-estimator-id-5\" class=\"sk-toggleable__label sk-toggleable__label-arrow\">GridSearchCV</label><div class=\"sk-toggleable__content\"><pre>GridSearchCV(cv=5, estimator=MLPClassifier(),\n",
              "             param_grid={&#x27;activation&#x27;: [&#x27;relu&#x27;, &#x27;tanh&#x27;], &#x27;alpha&#x27;: [0.01, 0.001],\n",
              "                         &#x27;hidden_layer_sizes&#x27;: [(64, 64), (32, 32)],\n",
              "                         &#x27;max_iter&#x27;: [30], &#x27;random_state&#x27;: [42],\n",
              "                         &#x27;solver&#x27;: [&#x27;adam&#x27;], &#x27;verbose&#x27;: [True]},\n",
              "             scoring=&#x27;f1_weighted&#x27;, verbose=3)</pre></div></div></div><div class=\"sk-parallel\"><div class=\"sk-parallel-item\"><div class=\"sk-item\"><div class=\"sk-label-container\"><div class=\"sk-label sk-toggleable\"><input class=\"sk-toggleable__control sk-hidden--visually\" id=\"sk-estimator-id-6\" type=\"checkbox\" ><label for=\"sk-estimator-id-6\" class=\"sk-toggleable__label sk-toggleable__label-arrow\">estimator: MLPClassifier</label><div class=\"sk-toggleable__content\"><pre>MLPClassifier()</pre></div></div></div><div class=\"sk-serial\"><div class=\"sk-item\"><div class=\"sk-estimator sk-toggleable\"><input class=\"sk-toggleable__control sk-hidden--visually\" id=\"sk-estimator-id-7\" type=\"checkbox\" ><label for=\"sk-estimator-id-7\" class=\"sk-toggleable__label sk-toggleable__label-arrow\">MLPClassifier</label><div class=\"sk-toggleable__content\"><pre>MLPClassifier()</pre></div></div></div></div></div></div></div></div></div></div>"
            ],
            "text/plain": [
              "GridSearchCV(cv=5, estimator=MLPClassifier(),\n",
              "             param_grid={'activation': ['relu', 'tanh'], 'alpha': [0.01, 0.001],\n",
              "                         'hidden_layer_sizes': [(64, 64), (32, 32)],\n",
              "                         'max_iter': [30], 'random_state': [42],\n",
              "                         'solver': ['adam'], 'verbose': [True]},\n",
              "             scoring='f1_weighted', verbose=3)"
            ]
          },
          "execution_count": 36,
          "metadata": {},
          "output_type": "execute_result"
        }
      ],
      "source": [
        "mlp_grid_search_clf = GridSearchCV(estimator=mlp_classifer, param_grid=mlp_param_grid, scoring='f1_weighted', cv=5, verbose=3)\n",
        "mlp_grid_search_clf.fit(X_train, y_train)"
      ]
    },
    {
      "cell_type": "code",
      "execution_count": null,
      "metadata": {
        "colab": {
          "base_uri": "https://localhost:8080/"
        },
        "id": "u4WlgfT3Egs5",
        "outputId": "ca22a434-9d6f-4978-9193-c98837f3390d"
      },
      "outputs": [
        {
          "name": "stdout",
          "output_type": "stream",
          "text": [
            "{'activation': 'relu', 'alpha': 0.01, 'hidden_layer_sizes': (64, 64), 'max_iter': 30, 'random_state': 42, 'solver': 'adam', 'verbose': True}\n"
          ]
        }
      ],
      "source": [
        "print(mlp_grid_search_clf.best_params_)"
      ]
    },
    {
      "cell_type": "code",
      "execution_count": null,
      "metadata": {
        "colab": {
          "base_uri": "https://localhost:8080/",
          "height": 668
        },
        "id": "pWd-PmISVMSp",
        "outputId": "fa8807cf-ea6e-458a-dfea-ef19e0f1d348"
      },
      "outputs": [
        {
          "name": "stdout",
          "output_type": "stream",
          "text": [
            "Iteration 1, loss = 0.40975240\n",
            "Iteration 2, loss = 0.39746717\n",
            "Iteration 3, loss = 0.39613682\n",
            "Iteration 4, loss = 0.39577038\n",
            "Iteration 5, loss = 0.39530465\n",
            "Iteration 6, loss = 0.39501039\n",
            "Iteration 7, loss = 0.39489009\n",
            "Iteration 8, loss = 0.39410117\n",
            "Iteration 9, loss = 0.39411540\n",
            "Iteration 10, loss = 0.39388924\n",
            "Iteration 11, loss = 0.39391775\n",
            "Iteration 12, loss = 0.39365555\n",
            "Iteration 13, loss = 0.39352463\n",
            "Iteration 14, loss = 0.39323341\n",
            "Iteration 15, loss = 0.39303804\n",
            "Iteration 16, loss = 0.39322831\n",
            "Iteration 17, loss = 0.39290947\n",
            "Iteration 18, loss = 0.39251124\n",
            "Iteration 19, loss = 0.39278834\n",
            "Iteration 20, loss = 0.39257028\n",
            "Iteration 21, loss = 0.39259390\n",
            "Iteration 22, loss = 0.39252566\n",
            "Iteration 23, loss = 0.39244964\n",
            "Iteration 24, loss = 0.39245079\n",
            "Iteration 25, loss = 0.39217050\n",
            "Iteration 26, loss = 0.39240630\n",
            "Iteration 27, loss = 0.39202525\n",
            "Iteration 28, loss = 0.39221027\n",
            "Iteration 29, loss = 0.39215160\n",
            "Iteration 30, loss = 0.39207319\n"
          ]
        },
        {
          "name": "stderr",
          "output_type": "stream",
          "text": [
            "/usr/local/lib/python3.10/dist-packages/sklearn/neural_network/_multilayer_perceptron.py:686: ConvergenceWarning: Stochastic Optimizer: Maximum iterations (30) reached and the optimization hasn't converged yet.\n",
            "  warnings.warn(\n"
          ]
        },
        {
          "data": {
            "text/html": [
              "<style>#sk-container-id-4 {color: black;background-color: white;}#sk-container-id-4 pre{padding: 0;}#sk-container-id-4 div.sk-toggleable {background-color: white;}#sk-container-id-4 label.sk-toggleable__label {cursor: pointer;display: block;width: 100%;margin-bottom: 0;padding: 0.3em;box-sizing: border-box;text-align: center;}#sk-container-id-4 label.sk-toggleable__label-arrow:before {content: \"▸\";float: left;margin-right: 0.25em;color: #696969;}#sk-container-id-4 label.sk-toggleable__label-arrow:hover:before {color: black;}#sk-container-id-4 div.sk-estimator:hover label.sk-toggleable__label-arrow:before {color: black;}#sk-container-id-4 div.sk-toggleable__content {max-height: 0;max-width: 0;overflow: hidden;text-align: left;background-color: #f0f8ff;}#sk-container-id-4 div.sk-toggleable__content pre {margin: 0.2em;color: black;border-radius: 0.25em;background-color: #f0f8ff;}#sk-container-id-4 input.sk-toggleable__control:checked~div.sk-toggleable__content {max-height: 200px;max-width: 100%;overflow: auto;}#sk-container-id-4 input.sk-toggleable__control:checked~label.sk-toggleable__label-arrow:before {content: \"▾\";}#sk-container-id-4 div.sk-estimator input.sk-toggleable__control:checked~label.sk-toggleable__label {background-color: #d4ebff;}#sk-container-id-4 div.sk-label input.sk-toggleable__control:checked~label.sk-toggleable__label {background-color: #d4ebff;}#sk-container-id-4 input.sk-hidden--visually {border: 0;clip: rect(1px 1px 1px 1px);clip: rect(1px, 1px, 1px, 1px);height: 1px;margin: -1px;overflow: hidden;padding: 0;position: absolute;width: 1px;}#sk-container-id-4 div.sk-estimator {font-family: monospace;background-color: #f0f8ff;border: 1px dotted black;border-radius: 0.25em;box-sizing: border-box;margin-bottom: 0.5em;}#sk-container-id-4 div.sk-estimator:hover {background-color: #d4ebff;}#sk-container-id-4 div.sk-parallel-item::after {content: \"\";width: 100%;border-bottom: 1px solid gray;flex-grow: 1;}#sk-container-id-4 div.sk-label:hover label.sk-toggleable__label {background-color: #d4ebff;}#sk-container-id-4 div.sk-serial::before {content: \"\";position: absolute;border-left: 1px solid gray;box-sizing: border-box;top: 0;bottom: 0;left: 50%;z-index: 0;}#sk-container-id-4 div.sk-serial {display: flex;flex-direction: column;align-items: center;background-color: white;padding-right: 0.2em;padding-left: 0.2em;position: relative;}#sk-container-id-4 div.sk-item {position: relative;z-index: 1;}#sk-container-id-4 div.sk-parallel {display: flex;align-items: stretch;justify-content: center;background-color: white;position: relative;}#sk-container-id-4 div.sk-item::before, #sk-container-id-4 div.sk-parallel-item::before {content: \"\";position: absolute;border-left: 1px solid gray;box-sizing: border-box;top: 0;bottom: 0;left: 50%;z-index: -1;}#sk-container-id-4 div.sk-parallel-item {display: flex;flex-direction: column;z-index: 1;position: relative;background-color: white;}#sk-container-id-4 div.sk-parallel-item:first-child::after {align-self: flex-end;width: 50%;}#sk-container-id-4 div.sk-parallel-item:last-child::after {align-self: flex-start;width: 50%;}#sk-container-id-4 div.sk-parallel-item:only-child::after {width: 0;}#sk-container-id-4 div.sk-dashed-wrapped {border: 1px dashed gray;margin: 0 0.4em 0.5em 0.4em;box-sizing: border-box;padding-bottom: 0.4em;background-color: white;}#sk-container-id-4 div.sk-label label {font-family: monospace;font-weight: bold;display: inline-block;line-height: 1.2em;}#sk-container-id-4 div.sk-label-container {text-align: center;}#sk-container-id-4 div.sk-container {/* jupyter's `normalize.less` sets `[hidden] { display: none; }` but bootstrap.min.css set `[hidden] { display: none !important; }` so we also need the `!important` here to be able to override the default hidden behavior on the sphinx rendered scikit-learn.org. See: https://github.com/scikit-learn/scikit-learn/issues/21755 */display: inline-block !important;position: relative;}#sk-container-id-4 div.sk-text-repr-fallback {display: none;}</style><div id=\"sk-container-id-4\" class=\"sk-top-container\"><div class=\"sk-text-repr-fallback\"><pre>MLPClassifier(alpha=0.01, hidden_layer_sizes=(64, 64), max_iter=30,\n",
              "              random_state=42, verbose=True)</pre><b>In a Jupyter environment, please rerun this cell to show the HTML representation or trust the notebook. <br />On GitHub, the HTML representation is unable to render, please try loading this page with nbviewer.org.</b></div><div class=\"sk-container\" hidden><div class=\"sk-item\"><div class=\"sk-estimator sk-toggleable\"><input class=\"sk-toggleable__control sk-hidden--visually\" id=\"sk-estimator-id-8\" type=\"checkbox\" checked><label for=\"sk-estimator-id-8\" class=\"sk-toggleable__label sk-toggleable__label-arrow\">MLPClassifier</label><div class=\"sk-toggleable__content\"><pre>MLPClassifier(alpha=0.01, hidden_layer_sizes=(64, 64), max_iter=30,\n",
              "              random_state=42, verbose=True)</pre></div></div></div></div></div>"
            ],
            "text/plain": [
              "MLPClassifier(alpha=0.01, hidden_layer_sizes=(64, 64), max_iter=30,\n",
              "              random_state=42, verbose=True)"
            ]
          },
          "execution_count": 38,
          "metadata": {},
          "output_type": "execute_result"
        }
      ],
      "source": [
        "mlp_classifer_012 = MLPClassifier()\n",
        "mlp_classifer_012.set_params(**mlp_grid_search_clf.best_params_)\n",
        "mlp_classifer_012.fit(X_train, y_train)"
      ]
    },
    {
      "cell_type": "code",
      "execution_count": 14,
      "metadata": {
        "id": "G98SlEUIEgs6"
      },
      "outputs": [],
      "source": [
        "mlp_pickle_file_012 = '/content/drive/MyDrive/AML_Final_Project/mlp_classifer_012.pkl'\n",
        "# with open(mlp_pickle_file_012, 'wb') as file:\n",
        "#     pickle.dump(mlp_classifer_012, file)"
      ]
    },
    {
      "cell_type": "code",
      "execution_count": 15,
      "metadata": {
        "id": "WaFP-smzEgs6"
      },
      "outputs": [],
      "source": [
        "with open(mlp_pickle_file_012, 'rb') as file:\n",
        "    mlp_classifer_012 = pickle.load(file)"
      ]
    },
    {
      "cell_type": "code",
      "execution_count": 16,
      "metadata": {
        "colab": {
          "base_uri": "https://localhost:8080/"
        },
        "id": "7TtjxaTCEgs6",
        "outputId": "cad0df0c-17f5-4775-f8bc-983d8d7954f5"
      },
      "outputs": [
        {
          "name": "stdout",
          "output_type": "stream",
          "text": [
            "              precision    recall  f1-score   support\n",
            "\n",
            "         0.0       0.98      0.86      0.92     48566\n",
            "         1.0       0.00      0.00      0.00         0\n",
            "         2.0       0.17      0.56      0.26      2170\n",
            "\n",
            "    accuracy                           0.85     50736\n",
            "   macro avg       0.38      0.47      0.39     50736\n",
            "weighted avg       0.94      0.85      0.89     50736\n",
            "\n",
            "[[41862   849  5855]\n",
            " [    0     0     0]\n",
            " [  879    77  1214]]\n"
          ]
        },
        {
          "name": "stderr",
          "output_type": "stream",
          "text": [
            "/usr/local/lib/python3.10/dist-packages/sklearn/metrics/_classification.py:1344: UndefinedMetricWarning: Recall and F-score are ill-defined and being set to 0.0 in labels with no true samples. Use `zero_division` parameter to control this behavior.\n",
            "  _warn_prf(average, modifier, msg_start, len(result))\n",
            "/usr/local/lib/python3.10/dist-packages/sklearn/metrics/_classification.py:1344: UndefinedMetricWarning: Recall and F-score are ill-defined and being set to 0.0 in labels with no true samples. Use `zero_division` parameter to control this behavior.\n",
            "  _warn_prf(average, modifier, msg_start, len(result))\n",
            "/usr/local/lib/python3.10/dist-packages/sklearn/metrics/_classification.py:1344: UndefinedMetricWarning: Recall and F-score are ill-defined and being set to 0.0 in labels with no true samples. Use `zero_division` parameter to control this behavior.\n",
            "  _warn_prf(average, modifier, msg_start, len(result))\n"
          ]
        }
      ],
      "source": [
        "y_pred = mlp_classifer_012.predict(X_test)\n",
        "print(classification_report(y_pred, y_test))\n",
        "print(confusion_matrix(y_pred, y_test))"
      ]
    },
    {
      "cell_type": "markdown",
      "metadata": {
        "id": "XEvw6clcL8uq"
      },
      "source": [
        "### Training the MLP classifier using the best parameters obtained after grid search and cross validation using the PCA on training data to get the cumulative variance explained by different no. of components"
      ]
    },
    {
      "cell_type": "code",
      "execution_count": 17,
      "metadata": {
        "colab": {
          "base_uri": "https://localhost:8080/"
        },
        "id": "qmbGKxJbKDCX",
        "outputId": "6703e77c-32a1-48af-b2c1-b139d49fd824"
      },
      "outputs": [
        {
          "name": "stdout",
          "output_type": "stream",
          "text": [
            "Cumulative variance explained by 3 components is 0.44254713922655414\n",
            "Classification Report for total components: 3\n"
          ]
        },
        {
          "name": "stderr",
          "output_type": "stream",
          "text": [
            "/usr/local/lib/python3.10/dist-packages/sklearn/metrics/_classification.py:1344: UndefinedMetricWarning: Recall and F-score are ill-defined and being set to 0.0 in labels with no true samples. Use `zero_division` parameter to control this behavior.\n",
            "  _warn_prf(average, modifier, msg_start, len(result))\n",
            "/usr/local/lib/python3.10/dist-packages/sklearn/metrics/_classification.py:1344: UndefinedMetricWarning: Recall and F-score are ill-defined and being set to 0.0 in labels with no true samples. Use `zero_division` parameter to control this behavior.\n",
            "  _warn_prf(average, modifier, msg_start, len(result))\n",
            "/usr/local/lib/python3.10/dist-packages/sklearn/metrics/_classification.py:1344: UndefinedMetricWarning: Recall and F-score are ill-defined and being set to 0.0 in labels with no true samples. Use `zero_division` parameter to control this behavior.\n",
            "  _warn_prf(average, modifier, msg_start, len(result))\n"
          ]
        },
        {
          "name": "stdout",
          "output_type": "stream",
          "text": [
            "              precision    recall  f1-score   support\n",
            "\n",
            "         0.0       0.98      0.86      0.92     48928\n",
            "         1.0       0.00      0.00      0.00         0\n",
            "         2.0       0.14      0.53      0.22      1808\n",
            "\n",
            "    accuracy                           0.85     50736\n",
            "   macro avg       0.37      0.46      0.38     50736\n",
            "weighted avg       0.95      0.85      0.89     50736\n",
            "\n",
            "\n",
            "Cumulative variance explained by 5 components is 0.6191998687853013\n"
          ]
        },
        {
          "name": "stderr",
          "output_type": "stream",
          "text": [
            "/usr/local/lib/python3.10/dist-packages/sklearn/neural_network/_multilayer_perceptron.py:686: ConvergenceWarning: Stochastic Optimizer: Maximum iterations (30) reached and the optimization hasn't converged yet.\n",
            "  warnings.warn(\n"
          ]
        },
        {
          "name": "stdout",
          "output_type": "stream",
          "text": [
            "Classification Report for total components: 5\n",
            "              precision    recall  f1-score   support\n",
            "\n",
            "         0.0       0.99      0.85      0.92     49652\n",
            "         1.0       0.00      0.00      0.00         0\n",
            "         2.0       0.09      0.58      0.15      1084\n",
            "\n",
            "    accuracy                           0.85     50736\n",
            "   macro avg       0.36      0.48      0.36     50736\n",
            "weighted avg       0.97      0.85      0.90     50736\n",
            "\n",
            "\n"
          ]
        },
        {
          "name": "stderr",
          "output_type": "stream",
          "text": [
            "/usr/local/lib/python3.10/dist-packages/sklearn/metrics/_classification.py:1344: UndefinedMetricWarning: Recall and F-score are ill-defined and being set to 0.0 in labels with no true samples. Use `zero_division` parameter to control this behavior.\n",
            "  _warn_prf(average, modifier, msg_start, len(result))\n",
            "/usr/local/lib/python3.10/dist-packages/sklearn/metrics/_classification.py:1344: UndefinedMetricWarning: Recall and F-score are ill-defined and being set to 0.0 in labels with no true samples. Use `zero_division` parameter to control this behavior.\n",
            "  _warn_prf(average, modifier, msg_start, len(result))\n",
            "/usr/local/lib/python3.10/dist-packages/sklearn/metrics/_classification.py:1344: UndefinedMetricWarning: Recall and F-score are ill-defined and being set to 0.0 in labels with no true samples. Use `zero_division` parameter to control this behavior.\n",
            "  _warn_prf(average, modifier, msg_start, len(result))\n"
          ]
        },
        {
          "name": "stdout",
          "output_type": "stream",
          "text": [
            "Cumulative variance explained by 10 components is 0.8618245551141718\n"
          ]
        },
        {
          "name": "stderr",
          "output_type": "stream",
          "text": [
            "/usr/local/lib/python3.10/dist-packages/sklearn/neural_network/_multilayer_perceptron.py:686: ConvergenceWarning: Stochastic Optimizer: Maximum iterations (30) reached and the optimization hasn't converged yet.\n",
            "  warnings.warn(\n"
          ]
        },
        {
          "name": "stdout",
          "output_type": "stream",
          "text": [
            "Classification Report for total components: 10\n",
            "              precision    recall  f1-score   support\n",
            "\n",
            "         0.0       0.99      0.86      0.92     49326\n",
            "         1.0       0.00      0.00      0.00         0\n",
            "         2.0       0.12      0.59      0.20      1410\n",
            "\n",
            "    accuracy                           0.85     50736\n",
            "   macro avg       0.37      0.48      0.37     50736\n",
            "weighted avg       0.96      0.85      0.90     50736\n"
          ]
        },
        {
          "name": "stderr",
          "output_type": "stream",
          "text": [
            "/usr/local/lib/python3.10/dist-packages/sklearn/metrics/_classification.py:1344: UndefinedMetricWarning: Recall and F-score are ill-defined and being set to 0.0 in labels with no true samples. Use `zero_division` parameter to control this behavior.\n",
            "  _warn_prf(average, modifier, msg_start, len(result))\n",
            "/usr/local/lib/python3.10/dist-packages/sklearn/metrics/_classification.py:1344: UndefinedMetricWarning: Recall and F-score are ill-defined and being set to 0.0 in labels with no true samples. Use `zero_division` parameter to control this behavior.\n",
            "  _warn_prf(average, modifier, msg_start, len(result))\n",
            "/usr/local/lib/python3.10/dist-packages/sklearn/metrics/_classification.py:1344: UndefinedMetricWarning: Recall and F-score are ill-defined and being set to 0.0 in labels with no true samples. Use `zero_division` parameter to control this behavior.\n",
            "  _warn_prf(average, modifier, msg_start, len(result))\n"
          ]
        },
        {
          "name": "stdout",
          "output_type": "stream",
          "text": [
            "\n",
            "\n",
            "Cumulative variance explained by 15 components is 0.9475985779258699\n"
          ]
        },
        {
          "name": "stderr",
          "output_type": "stream",
          "text": [
            "/usr/local/lib/python3.10/dist-packages/sklearn/neural_network/_multilayer_perceptron.py:686: ConvergenceWarning: Stochastic Optimizer: Maximum iterations (30) reached and the optimization hasn't converged yet.\n",
            "  warnings.warn(\n"
          ]
        },
        {
          "name": "stdout",
          "output_type": "stream",
          "text": [
            "Classification Report for total components: 15\n",
            "              precision    recall  f1-score   support\n",
            "\n",
            "         0.0       0.98      0.86      0.92     48246\n",
            "         1.0       0.00      0.00      0.00         0\n",
            "         2.0       0.19      0.54      0.28      2490\n",
            "\n",
            "    accuracy                           0.85     50736\n",
            "   macro avg       0.39      0.47      0.40     50736\n",
            "weighted avg       0.94      0.85      0.89     50736\n",
            "\n",
            "\n"
          ]
        },
        {
          "name": "stderr",
          "output_type": "stream",
          "text": [
            "/usr/local/lib/python3.10/dist-packages/sklearn/metrics/_classification.py:1344: UndefinedMetricWarning: Recall and F-score are ill-defined and being set to 0.0 in labels with no true samples. Use `zero_division` parameter to control this behavior.\n",
            "  _warn_prf(average, modifier, msg_start, len(result))\n",
            "/usr/local/lib/python3.10/dist-packages/sklearn/metrics/_classification.py:1344: UndefinedMetricWarning: Recall and F-score are ill-defined and being set to 0.0 in labels with no true samples. Use `zero_division` parameter to control this behavior.\n",
            "  _warn_prf(average, modifier, msg_start, len(result))\n",
            "/usr/local/lib/python3.10/dist-packages/sklearn/metrics/_classification.py:1344: UndefinedMetricWarning: Recall and F-score are ill-defined and being set to 0.0 in labels with no true samples. Use `zero_division` parameter to control this behavior.\n",
            "  _warn_prf(average, modifier, msg_start, len(result))\n"
          ]
        },
        {
          "name": "stdout",
          "output_type": "stream",
          "text": [
            "Cumulative variance explained by 20 components is 0.995073594383692\n"
          ]
        },
        {
          "name": "stderr",
          "output_type": "stream",
          "text": [
            "/usr/local/lib/python3.10/dist-packages/sklearn/neural_network/_multilayer_perceptron.py:686: ConvergenceWarning: Stochastic Optimizer: Maximum iterations (30) reached and the optimization hasn't converged yet.\n",
            "  warnings.warn(\n"
          ]
        },
        {
          "name": "stdout",
          "output_type": "stream",
          "text": [
            "Classification Report for total components: 20\n"
          ]
        },
        {
          "name": "stderr",
          "output_type": "stream",
          "text": [
            "/usr/local/lib/python3.10/dist-packages/sklearn/metrics/_classification.py:1344: UndefinedMetricWarning: Recall and F-score are ill-defined and being set to 0.0 in labels with no true samples. Use `zero_division` parameter to control this behavior.\n",
            "  _warn_prf(average, modifier, msg_start, len(result))\n",
            "/usr/local/lib/python3.10/dist-packages/sklearn/metrics/_classification.py:1344: UndefinedMetricWarning: Recall and F-score are ill-defined and being set to 0.0 in labels with no true samples. Use `zero_division` parameter to control this behavior.\n",
            "  _warn_prf(average, modifier, msg_start, len(result))\n",
            "/usr/local/lib/python3.10/dist-packages/sklearn/metrics/_classification.py:1344: UndefinedMetricWarning: Recall and F-score are ill-defined and being set to 0.0 in labels with no true samples. Use `zero_division` parameter to control this behavior.\n",
            "  _warn_prf(average, modifier, msg_start, len(result))\n"
          ]
        },
        {
          "name": "stdout",
          "output_type": "stream",
          "text": [
            "              precision    recall  f1-score   support\n",
            "\n",
            "         0.0       0.97      0.87      0.92     47714\n",
            "         1.0       0.00      0.00      0.00         0\n",
            "         2.0       0.23      0.53      0.32      3022\n",
            "\n",
            "    accuracy                           0.85     50736\n",
            "   macro avg       0.40      0.47      0.41     50736\n",
            "weighted avg       0.93      0.85      0.88     50736\n",
            "\n",
            "\n",
            "Cumulative variance explained by 25 components is 0.9999999999999996\n"
          ]
        },
        {
          "name": "stderr",
          "output_type": "stream",
          "text": [
            "/usr/local/lib/python3.10/dist-packages/sklearn/neural_network/_multilayer_perceptron.py:686: ConvergenceWarning: Stochastic Optimizer: Maximum iterations (30) reached and the optimization hasn't converged yet.\n",
            "  warnings.warn(\n"
          ]
        },
        {
          "name": "stdout",
          "output_type": "stream",
          "text": [
            "Classification Report for total components: 25\n",
            "              precision    recall  f1-score   support\n",
            "\n",
            "         0.0       0.98      0.86      0.92     48479\n",
            "         1.0       0.00      0.00      0.00         0\n",
            "         2.0       0.18      0.55      0.27      2257\n",
            "\n",
            "    accuracy                           0.85     50736\n",
            "   macro avg       0.38      0.47      0.39     50736\n",
            "weighted avg       0.94      0.85      0.89     50736\n",
            "\n",
            "\n"
          ]
        },
        {
          "name": "stderr",
          "output_type": "stream",
          "text": [
            "/usr/local/lib/python3.10/dist-packages/sklearn/metrics/_classification.py:1344: UndefinedMetricWarning: Recall and F-score are ill-defined and being set to 0.0 in labels with no true samples. Use `zero_division` parameter to control this behavior.\n",
            "  _warn_prf(average, modifier, msg_start, len(result))\n",
            "/usr/local/lib/python3.10/dist-packages/sklearn/metrics/_classification.py:1344: UndefinedMetricWarning: Recall and F-score are ill-defined and being set to 0.0 in labels with no true samples. Use `zero_division` parameter to control this behavior.\n",
            "  _warn_prf(average, modifier, msg_start, len(result))\n",
            "/usr/local/lib/python3.10/dist-packages/sklearn/metrics/_classification.py:1344: UndefinedMetricWarning: Recall and F-score are ill-defined and being set to 0.0 in labels with no true samples. Use `zero_division` parameter to control this behavior.\n",
            "  _warn_prf(average, modifier, msg_start, len(result))\n"
          ]
        }
      ],
      "source": [
        "num_components = [3, 5, 10, 15, 20, 25]\n",
        "variance = []\n",
        "\n",
        "for num in num_components:\n",
        "  # Initializing the PCA with defitive components\n",
        "  pca = PCA(n_components=num)\n",
        "\n",
        "  # Fit the PCA on the training data\n",
        "  pca.fit(X_train)\n",
        "\n",
        "  # Transform the train and test data as per the components of the PCA\n",
        "  X_train_pca = pca.transform(X_train)\n",
        "  X_test_pca = pca.transform(X_test)\n",
        "\n",
        "  # Recording the explained variance for each number of components\n",
        "  variance.append(np.sum(pca.explained_variance_ratio_))\n",
        "\n",
        "  print(\"Cumulative variance explained by {} components is {}\".format(num,variance[-1]))\n",
        "\n",
        "  mlp_classifer = MLPClassifier(activation = 'relu', alpha=0.01, hidden_layer_sizes=(64, 64), max_iter = 30, solver='adam', random_state= 42)\n",
        "  mlp_classifer.fit(X_train_pca, y_train)\n",
        "  y_pred = mlp_classifer.predict(X_test_pca)\n",
        "  print(f\"Classification Report for total components: {num}\")\n",
        "  print(classification_report(y_pred, y_test))\n",
        "  print()"
      ]
    },
    {
      "cell_type": "code",
      "execution_count": 19,
      "metadata": {
        "colab": {
          "base_uri": "https://localhost:8080/",
          "height": 487
        },
        "id": "5ycXE_jgKC_n",
        "outputId": "7b54c504-2d01-4608-aa3a-17225c7b6084"
      },
      "outputs": [
        {
          "data": {
            "image/png": "[encoded data removed]",
            "text/plain": [
              "<Figure size 1200x500 with 1 Axes>"
            ]
          },
          "metadata": {},
          "output_type": "display_data"
        }
      ],
      "source": [
        "### START CODE ###\n",
        "plt.figure(figsize=(12,5))\n",
        "plt.plot(num_components, variance)\n",
        "plt.title(\"PCA Explained Variance for Imbalanced 012\")\n",
        "plt.xlabel('Number of Components')\n",
        "plt.ylabel('Cumulative Explained Variance')\n",
        "plt.grid(True)\n",
        "### END CODE ###\n",
        "\n",
        "plt.show()"
      ]
    },
    {
      "cell_type": "markdown",
      "metadata": {
        "id": "uFJY7g36Egs6"
      },
      "source": [
        "# Training the model for 2-Class Balanced Split Diabetes Data"
      ]
    },
    {
      "cell_type": "code",
      "execution_count": 20,
      "metadata": {
        "id": "cDohSZktEgs6"
      },
      "outputs": [],
      "source": [
        "train_data = pd.read_csv('/content/drive/MyDrive/AML_Final_Project/Dataset/train_binary_split.csv')\n",
        "test_data = pd.read_csv('/content/drive/MyDrive/AML_Final_Project/Dataset/test_binary_split.csv')"
      ]
    },
    {
      "cell_type": "code",
      "execution_count": 21,
      "metadata": {
        "colab": {
          "base_uri": "https://localhost:8080/",
          "height": 256
        },
        "id": "NYeR9JnqEgs6",
        "outputId": "fd48006b-0c16-406d-b101-4e9a2f079601"
      },
      "outputs": [
        {
          "data": {
            "text/html": [
              "\n",
              "  <div id=\"df-b77ccce9-2ebd-49c1-9566-7e8492f75646\" class=\"colab-df-container\">\n",
              "    <div>\n",
              "<style scoped>\n",
              "    .dataframe tbody tr th:only-of-type {\n",
              "        vertical-align: middle;\n",
              "    }\n",
              "\n",
              "    .dataframe tbody tr th {\n",
              "        vertical-align: top;\n",
              "    }\n",
              "\n",
              "    .dataframe thead th {\n",
              "        text-align: right;\n",
              "    }\n",
              "</style>\n",
              "<table border=\"1\" class=\"dataframe\">\n",
              "  <thead>\n",
              "    <tr style=\"text-align: right;\">\n",
              "      <th></th>\n",
              "      <th>BMI</th>\n",
              "      <th>GenHlth</th>\n",
              "      <th>MentHlth</th>\n",
              "      <th>PhysHlth</th>\n",
              "      <th>DiffWalk</th>\n",
              "      <th>Age</th>\n",
              "      <th>Education</th>\n",
              "      <th>Income</th>\n",
              "      <th>HighBP_0</th>\n",
              "      <th>HighBP_1</th>\n",
              "      <th>...</th>\n",
              "      <th>Veggies_1</th>\n",
              "      <th>HvyAlcoholConsump_0</th>\n",
              "      <th>HvyAlcoholConsump_1</th>\n",
              "      <th>AnyHealthcare_0</th>\n",
              "      <th>AnyHealthcare_1</th>\n",
              "      <th>NoDocbcCost_0</th>\n",
              "      <th>NoDocbcCost_1</th>\n",
              "      <th>Sex_0</th>\n",
              "      <th>Sex_1</th>\n",
              "      <th>Diabetes_binary</th>\n",
              "    </tr>\n",
              "  </thead>\n",
              "  <tbody>\n",
              "    <tr>\n",
              "      <th>0</th>\n",
              "      <td>-0.119897</td>\n",
              "      <td>0.25</td>\n",
              "      <td>0.0</td>\n",
              "      <td>0.000000</td>\n",
              "      <td>0.0</td>\n",
              "      <td>0.750000</td>\n",
              "      <td>1.0</td>\n",
              "      <td>1.000000</td>\n",
              "      <td>0.0</td>\n",
              "      <td>1.0</td>\n",
              "      <td>...</td>\n",
              "      <td>1.0</td>\n",
              "      <td>1.0</td>\n",
              "      <td>0.0</td>\n",
              "      <td>0.0</td>\n",
              "      <td>1.0</td>\n",
              "      <td>1.0</td>\n",
              "      <td>0.0</td>\n",
              "      <td>0.0</td>\n",
              "      <td>1.0</td>\n",
              "      <td>1.0</td>\n",
              "    </tr>\n",
              "    <tr>\n",
              "      <th>1</th>\n",
              "      <td>-0.822423</td>\n",
              "      <td>0.50</td>\n",
              "      <td>0.5</td>\n",
              "      <td>0.200000</td>\n",
              "      <td>0.0</td>\n",
              "      <td>0.500000</td>\n",
              "      <td>0.8</td>\n",
              "      <td>0.000000</td>\n",
              "      <td>1.0</td>\n",
              "      <td>0.0</td>\n",
              "      <td>...</td>\n",
              "      <td>1.0</td>\n",
              "      <td>1.0</td>\n",
              "      <td>0.0</td>\n",
              "      <td>0.0</td>\n",
              "      <td>1.0</td>\n",
              "      <td>1.0</td>\n",
              "      <td>0.0</td>\n",
              "      <td>1.0</td>\n",
              "      <td>0.0</td>\n",
              "      <td>0.0</td>\n",
              "    </tr>\n",
              "    <tr>\n",
              "      <th>2</th>\n",
              "      <td>1.706673</td>\n",
              "      <td>0.50</td>\n",
              "      <td>0.0</td>\n",
              "      <td>0.333333</td>\n",
              "      <td>1.0</td>\n",
              "      <td>0.833333</td>\n",
              "      <td>0.8</td>\n",
              "      <td>0.428571</td>\n",
              "      <td>0.0</td>\n",
              "      <td>1.0</td>\n",
              "      <td>...</td>\n",
              "      <td>1.0</td>\n",
              "      <td>1.0</td>\n",
              "      <td>0.0</td>\n",
              "      <td>0.0</td>\n",
              "      <td>1.0</td>\n",
              "      <td>1.0</td>\n",
              "      <td>0.0</td>\n",
              "      <td>1.0</td>\n",
              "      <td>0.0</td>\n",
              "      <td>1.0</td>\n",
              "    </tr>\n",
              "    <tr>\n",
              "      <th>3</th>\n",
              "      <td>0.020609</td>\n",
              "      <td>0.50</td>\n",
              "      <td>0.0</td>\n",
              "      <td>0.033333</td>\n",
              "      <td>0.0</td>\n",
              "      <td>0.750000</td>\n",
              "      <td>0.8</td>\n",
              "      <td>0.571429</td>\n",
              "      <td>0.0</td>\n",
              "      <td>1.0</td>\n",
              "      <td>...</td>\n",
              "      <td>1.0</td>\n",
              "      <td>1.0</td>\n",
              "      <td>0.0</td>\n",
              "      <td>0.0</td>\n",
              "      <td>1.0</td>\n",
              "      <td>1.0</td>\n",
              "      <td>0.0</td>\n",
              "      <td>1.0</td>\n",
              "      <td>0.0</td>\n",
              "      <td>1.0</td>\n",
              "    </tr>\n",
              "    <tr>\n",
              "      <th>4</th>\n",
              "      <td>0.723136</td>\n",
              "      <td>0.50</td>\n",
              "      <td>0.0</td>\n",
              "      <td>0.000000</td>\n",
              "      <td>0.0</td>\n",
              "      <td>0.416667</td>\n",
              "      <td>0.6</td>\n",
              "      <td>0.571429</td>\n",
              "      <td>0.0</td>\n",
              "      <td>1.0</td>\n",
              "      <td>...</td>\n",
              "      <td>1.0</td>\n",
              "      <td>1.0</td>\n",
              "      <td>0.0</td>\n",
              "      <td>0.0</td>\n",
              "      <td>1.0</td>\n",
              "      <td>1.0</td>\n",
              "      <td>0.0</td>\n",
              "      <td>0.0</td>\n",
              "      <td>1.0</td>\n",
              "      <td>0.0</td>\n",
              "    </tr>\n",
              "  </tbody>\n",
              "</table>\n",
              "<p>5 rows × 35 columns</p>\n",
              "</div>\n",
              "    <div class=\"colab-df-buttons\">\n",
              "\n",
              "  <div class=\"colab-df-container\">\n",
              "    <button class=\"colab-df-convert\" onclick=\"convertToInteractive('df-b77ccce9-2ebd-49c1-9566-7e8492f75646')\"\n",
              "            title=\"Convert this dataframe to an interactive table.\"\n",
              "            style=\"display:none;\">\n",
              "\n",
              "  <svg xmlns=\"http://www.w3.org/2000/svg\" height=\"24px\" viewBox=\"0 -960 960 960\">\n",
              "    <path d=\"M120-120v-720h720v720H120Zm60-500h600v-160H180v160Zm220 220h160v-160H400v160Zm0 220h160v-160H400v160ZM180-400h160v-160H180v160Zm440 0h160v-160H620v160ZM180-180h160v-160H180v160Zm440 0h160v-160H620v160Z\"/>\n",
              "  </svg>\n",
              "    </button>\n",
              "\n",
              "  <style>\n",
              "    .colab-df-container {\n",
              "      display:flex;\n",
              "      gap: 12px;\n",
              "    }\n",
              "\n",
              "    .colab-df-convert {\n",
              "      background-color: #E8F0FE;\n",
              "      border: none;\n",
              "      border-radius: 50%;\n",
              "      cursor: pointer;\n",
              "      display: none;\n",
              "      fill: #1967D2;\n",
              "      height: 32px;\n",
              "      padding: 0 0 0 0;\n",
              "      width: 32px;\n",
              "    }\n",
              "\n",
              "    .colab-df-convert:hover {\n",
              "      background-color: #E2EBFA;\n",
              "      box-shadow: 0px 1px 2px rgba(60, 64, 67, 0.3), 0px 1px 3px 1px rgba(60, 64, 67, 0.15);\n",
              "      fill: #174EA6;\n",
              "    }\n",
              "\n",
              "    .colab-df-buttons div {\n",
              "      margin-bottom: 4px;\n",
              "    }\n",
              "\n",
              "    [theme=dark] .colab-df-convert {\n",
              "      background-color: #3B4455;\n",
              "      fill: #D2E3FC;\n",
              "    }\n",
              "\n",
              "    [theme=dark] .colab-df-convert:hover {\n",
              "      background-color: #434B5C;\n",
              "      box-shadow: 0px 1px 3px 1px rgba(0, 0, 0, 0.15);\n",
              "      filter: drop-shadow(0px 1px 2px rgba(0, 0, 0, 0.3));\n",
              "      fill: #FFFFFF;\n",
              "    }\n",
              "  </style>\n",
              "\n",
              "    <script>\n",
              "      const buttonEl =\n",
              "        document.querySelector('#df-b77ccce9-2ebd-49c1-9566-7e8492f75646 button.colab-df-convert');\n",
              "      buttonEl.style.display =\n",
              "        google.colab.kernel.accessAllowed ? 'block' : 'none';\n",
              "\n",
              "      async function convertToInteractive(key) {\n",
              "        const element = document.querySelector('#df-b77ccce9-2ebd-49c1-9566-7e8492f75646');\n",
              "        const dataTable =\n",
              "          await google.colab.kernel.invokeFunction('convertToInteractive',\n",
              "                                                    [key], {});\n",
              "        if (!dataTable) return;\n",
              "\n",
              "        const docLinkHtml = 'Like what you see? Visit the ' +\n",
              "          '<a target=\"_blank\" href=https://colab.research.google.com/notebooks/data_table.ipynb>data table notebook</a>'\n",
              "          + ' to learn more about interactive tables.';\n",
              "        element.innerHTML = '';\n",
              "        dataTable['output_type'] = 'display_data';\n",
              "        await google.colab.output.renderOutput(dataTable, element);\n",
              "        const docLink = document.createElement('div');\n",
              "        docLink.innerHTML = docLinkHtml;\n",
              "        element.appendChild(docLink);\n",
              "      }\n",
              "    </script>\n",
              "  </div>\n",
              "\n",
              "\n",
              "<div id=\"df-5e53db26-f43e-4967-af11-0f599fb7b3c2\">\n",
              "  <button class=\"colab-df-quickchart\" onclick=\"quickchart('df-5e53db26-f43e-4967-af11-0f599fb7b3c2')\"\n",
              "            title=\"Suggest charts\"\n",
              "            style=\"display:none;\">\n",
              "\n",
              "<svg xmlns=\"http://www.w3.org/2000/svg\" height=\"24px\"viewBox=\"0 0 24 24\"\n",
              "     width=\"24px\">\n",
              "    <g>\n",
              "        <path d=\"M19 3H5c-1.1 0-2 .9-2 2v14c0 1.1.9 2 2 2h14c1.1 0 2-.9 2-2V5c0-1.1-.9-2-2-2zM9 17H7v-7h2v7zm4 0h-2V7h2v10zm4 0h-2v-4h2v4z\"/>\n",
              "    </g>\n",
              "</svg>\n",
              "  </button>\n",
              "\n",
              "<style>\n",
              "  .colab-df-quickchart {\n",
              "      --bg-color: #E8F0FE;\n",
              "      --fill-color: #1967D2;\n",
              "      --hover-bg-color: #E2EBFA;\n",
              "      --hover-fill-color: #174EA6;\n",
              "      --disabled-fill-color: #AAA;\n",
              "      --disabled-bg-color: #DDD;\n",
              "  }\n",
              "\n",
              "  [theme=dark] .colab-df-quickchart {\n",
              "      --bg-color: #3B4455;\n",
              "      --fill-color: #D2E3FC;\n",
              "      --hover-bg-color: #434B5C;\n",
              "      --hover-fill-color: #FFFFFF;\n",
              "      --disabled-bg-color: #3B4455;\n",
              "      --disabled-fill-color: #666;\n",
              "  }\n",
              "\n",
              "  .colab-df-quickchart {\n",
              "    background-color: var(--bg-color);\n",
              "    border: none;\n",
              "    border-radius: 50%;\n",
              "    cursor: pointer;\n",
              "    display: none;\n",
              "    fill: var(--fill-color);\n",
              "    height: 32px;\n",
              "    padding: 0;\n",
              "    width: 32px;\n",
              "  }\n",
              "\n",
              "  .colab-df-quickchart:hover {\n",
              "    background-color: var(--hover-bg-color);\n",
              "    box-shadow: 0 1px 2px rgba(60, 64, 67, 0.3), 0 1px 3px 1px rgba(60, 64, 67, 0.15);\n",
              "    fill: var(--button-hover-fill-color);\n",
              "  }\n",
              "\n",
              "  .colab-df-quickchart-complete:disabled,\n",
              "  .colab-df-quickchart-complete:disabled:hover {\n",
              "    background-color: var(--disabled-bg-color);\n",
              "    fill: var(--disabled-fill-color);\n",
              "    box-shadow: none;\n",
              "  }\n",
              "\n",
              "  .colab-df-spinner {\n",
              "    border: 2px solid var(--fill-color);\n",
              "    border-color: transparent;\n",
              "    border-bottom-color: var(--fill-color);\n",
              "    animation:\n",
              "      spin 1s steps(1) infinite;\n",
              "  }\n",
              "\n",
              "  @keyframes spin {\n",
              "    0% {\n",
              "      border-color: transparent;\n",
              "      border-bottom-color: var(--fill-color);\n",
              "      border-left-color: var(--fill-color);\n",
              "    }\n",
              "    20% {\n",
              "      border-color: transparent;\n",
              "      border-left-color: var(--fill-color);\n",
              "      border-top-color: var(--fill-color);\n",
              "    }\n",
              "    30% {\n",
              "      border-color: transparent;\n",
              "      border-left-color: var(--fill-color);\n",
              "      border-top-color: var(--fill-color);\n",
              "      border-right-color: var(--fill-color);\n",
              "    }\n",
              "    40% {\n",
              "      border-color: transparent;\n",
              "      border-right-color: var(--fill-color);\n",
              "      border-top-color: var(--fill-color);\n",
              "    }\n",
              "    60% {\n",
              "      border-color: transparent;\n",
              "      border-right-color: var(--fill-color);\n",
              "    }\n",
              "    80% {\n",
              "      border-color: transparent;\n",
              "      border-right-color: var(--fill-color);\n",
              "      border-bottom-color: var(--fill-color);\n",
              "    }\n",
              "    90% {\n",
              "      border-color: transparent;\n",
              "      border-bottom-color: var(--fill-color);\n",
              "    }\n",
              "  }\n",
              "</style>\n",
              "\n",
              "  <script>\n",
              "    async function quickchart(key) {\n",
              "      const quickchartButtonEl =\n",
              "        document.querySelector('#' + key + ' button');\n",
              "      quickchartButtonEl.disabled = true;  // To prevent multiple clicks.\n",
              "      quickchartButtonEl.classList.add('colab-df-spinner');\n",
              "      try {\n",
              "        const charts = await google.colab.kernel.invokeFunction(\n",
              "            'suggestCharts', [key], {});\n",
              "      } catch (error) {\n",
              "        console.error('Error during call to suggestCharts:', error);\n",
              "      }\n",
              "      quickchartButtonEl.classList.remove('colab-df-spinner');\n",
              "      quickchartButtonEl.classList.add('colab-df-quickchart-complete');\n",
              "    }\n",
              "    (() => {\n",
              "      let quickchartButtonEl =\n",
              "        document.querySelector('#df-5e53db26-f43e-4967-af11-0f599fb7b3c2 button');\n",
              "      quickchartButtonEl.style.display =\n",
              "        google.colab.kernel.accessAllowed ? 'block' : 'none';\n",
              "    })();\n",
              "  </script>\n",
              "</div>\n",
              "    </div>\n",
              "  </div>\n"
            ],
            "text/plain": [
              "        BMI  GenHlth  MentHlth  PhysHlth  DiffWalk       Age  Education  \\\n",
              "0 -0.119897     0.25       0.0  0.000000       0.0  0.750000        1.0   \n",
              "1 -0.822423     0.50       0.5  0.200000       0.0  0.500000        0.8   \n",
              "2  1.706673     0.50       0.0  0.333333       1.0  0.833333        0.8   \n",
              "3  0.020609     0.50       0.0  0.033333       0.0  0.750000        0.8   \n",
              "4  0.723136     0.50       0.0  0.000000       0.0  0.416667        0.6   \n",
              "\n",
              "     Income  HighBP_0  HighBP_1  ...  Veggies_1  HvyAlcoholConsump_0  \\\n",
              "0  1.000000       0.0       1.0  ...        1.0                  1.0   \n",
              "1  0.000000       1.0       0.0  ...        1.0                  1.0   \n",
              "2  0.428571       0.0       1.0  ...        1.0                  1.0   \n",
              "3  0.571429       0.0       1.0  ...        1.0                  1.0   \n",
              "4  0.571429       0.0       1.0  ...        1.0                  1.0   \n",
              "\n",
              "   HvyAlcoholConsump_1  AnyHealthcare_0  AnyHealthcare_1  NoDocbcCost_0  \\\n",
              "0                  0.0              0.0              1.0            1.0   \n",
              "1                  0.0              0.0              1.0            1.0   \n",
              "2                  0.0              0.0              1.0            1.0   \n",
              "3                  0.0              0.0              1.0            1.0   \n",
              "4                  0.0              0.0              1.0            1.0   \n",
              "\n",
              "   NoDocbcCost_1  Sex_0  Sex_1  Diabetes_binary  \n",
              "0            0.0    0.0    1.0              1.0  \n",
              "1            0.0    1.0    0.0              0.0  \n",
              "2            0.0    1.0    0.0              1.0  \n",
              "3            0.0    1.0    0.0              1.0  \n",
              "4            0.0    0.0    1.0              0.0  \n",
              "\n",
              "[5 rows x 35 columns]"
            ]
          },
          "execution_count": 21,
          "metadata": {},
          "output_type": "execute_result"
        }
      ],
      "source": [
        "train_data.head()"
      ]
    },
    {
      "cell_type": "code",
      "execution_count": 22,
      "metadata": {
        "id": "1Q7arfmoEgs6"
      },
      "outputs": [],
      "source": [
        "X_train = train_data.drop(['Diabetes_binary'], axis=1)\n",
        "y_train = train_data['Diabetes_binary']"
      ]
    },
    {
      "cell_type": "code",
      "execution_count": 23,
      "metadata": {
        "id": "XEp0sFI0Egs7"
      },
      "outputs": [],
      "source": [
        "X_test = test_data.drop(['Diabetes_binary'], axis=1)\n",
        "y_test = test_data['Diabetes_binary']"
      ]
    },
    {
      "cell_type": "code",
      "execution_count": null,
      "metadata": {
        "id": "_n2QU_eCEgs7"
      },
      "outputs": [],
      "source": [
        "mlp_classifer = MLPClassifier()\n",
        "mlp_param_grid ={\"hidden_layer_sizes\": [(64, 64), (32, 32)],\n",
        "                \"activation\": ['relu', 'tanh'],\n",
        "                \"alpha\" : [0.01, 0.001],\n",
        "                 \"solver\": ['adam'],\n",
        "                \"random_state\": [42],\n",
        "                \"verbose\" : [True],\n",
        "                 \"max_iter\" : [30]}"
      ]
    },
    {
      "cell_type": "code",
      "execution_count": null,
      "metadata": {
        "colab": {
          "base_uri": "https://localhost:8080/",
          "height": 1000
        },
        "id": "5_fyhqJgEgs7",
        "outputId": "bee1f28d-ae73-49fc-aacb-8a055b2d5b6d"
      },
      "outputs": [
        {
          "name": "stdout",
          "output_type": "stream",
          "text": [
            "Fitting 5 folds for each of 8 candidates, totalling 40 fits\n",
            "Iteration 1, loss = 0.53720015\n",
            "Iteration 2, loss = 0.51019126\n",
            "Iteration 3, loss = 0.50714668\n",
            "Iteration 4, loss = 0.50632728\n",
            "Iteration 5, loss = 0.50441353\n",
            "Iteration 6, loss = 0.50385104\n",
            "Iteration 7, loss = 0.50374988\n",
            "Iteration 8, loss = 0.50249743\n",
            "Iteration 9, loss = 0.50206004\n",
            "Iteration 10, loss = 0.50154064\n",
            "Iteration 11, loss = 0.50173803\n",
            "Iteration 12, loss = 0.50061141\n",
            "Iteration 13, loss = 0.50126242\n",
            "Iteration 14, loss = 0.49976115\n",
            "Iteration 15, loss = 0.49993845\n",
            "Iteration 16, loss = 0.50031951\n",
            "Iteration 17, loss = 0.49929016\n",
            "Iteration 18, loss = 0.49876924\n",
            "Iteration 19, loss = 0.49847352\n",
            "Iteration 20, loss = 0.49842410\n",
            "Iteration 21, loss = 0.49793989\n",
            "Iteration 22, loss = 0.49818343\n",
            "Iteration 23, loss = 0.49815228\n",
            "Iteration 24, loss = 0.49731108\n",
            "Iteration 25, loss = 0.49726024\n",
            "Iteration 26, loss = 0.49661310\n",
            "Iteration 27, loss = 0.49633539\n",
            "Iteration 28, loss = 0.49599943\n",
            "Iteration 29, loss = 0.49582048\n",
            "Iteration 30, loss = 0.49539355\n",
            "[CV 1/5] END activation=relu, alpha=0.01, hidden_layer_sizes=(64, 64), max_iter=30, random_state=42, solver=adam, verbose=True;, score=0.750 total time=  20.6s\n"
          ]
        },
        {
          "name": "stderr",
          "output_type": "stream",
          "text": [
            "/usr/local/lib/python3.10/dist-packages/sklearn/neural_network/_multilayer_perceptron.py:686: ConvergenceWarning: Stochastic Optimizer: Maximum iterations (30) reached and the optimization hasn't converged yet.\n",
            "  warnings.warn(\n"
          ]
        },
        {
          "name": "stdout",
          "output_type": "stream",
          "text": [
            "Iteration 1, loss = 0.53905145\n",
            "Iteration 2, loss = 0.51214796\n",
            "Iteration 3, loss = 0.50891989\n",
            "Iteration 4, loss = 0.50748961\n",
            "Iteration 5, loss = 0.50665241\n",
            "Iteration 6, loss = 0.50539776\n",
            "Iteration 7, loss = 0.50595781\n",
            "Iteration 8, loss = 0.50464163\n",
            "Iteration 9, loss = 0.50330295\n",
            "Iteration 10, loss = 0.50289870\n",
            "Iteration 11, loss = 0.50254731\n",
            "Iteration 12, loss = 0.50205177\n",
            "Iteration 13, loss = 0.50233061\n",
            "Iteration 14, loss = 0.50151071\n",
            "Iteration 15, loss = 0.50107613\n",
            "Iteration 16, loss = 0.50130842\n",
            "Iteration 17, loss = 0.50049698\n",
            "Iteration 18, loss = 0.50027149\n",
            "Iteration 19, loss = 0.49987240\n",
            "Iteration 20, loss = 0.49932224\n",
            "Iteration 21, loss = 0.49969853\n",
            "Iteration 22, loss = 0.49964363\n",
            "Iteration 23, loss = 0.49937522\n",
            "Iteration 24, loss = 0.49919737\n",
            "Iteration 25, loss = 0.49806173\n",
            "Iteration 26, loss = 0.49785529\n",
            "Iteration 27, loss = 0.49796294\n",
            "Iteration 28, loss = 0.49727900\n",
            "Iteration 29, loss = 0.49693966\n",
            "Iteration 30, loss = 0.49704910\n",
            "[CV 2/5] END activation=relu, alpha=0.01, hidden_layer_sizes=(64, 64), max_iter=30, random_state=42, solver=adam, verbose=True;, score=0.756 total time=  21.0s\n"
          ]
        },
        {
          "name": "stderr",
          "output_type": "stream",
          "text": [
            "/usr/local/lib/python3.10/dist-packages/sklearn/neural_network/_multilayer_perceptron.py:686: ConvergenceWarning: Stochastic Optimizer: Maximum iterations (30) reached and the optimization hasn't converged yet.\n",
            "  warnings.warn(\n"
          ]
        },
        {
          "name": "stdout",
          "output_type": "stream",
          "text": [
            "Iteration 1, loss = 0.53828418\n",
            "Iteration 2, loss = 0.51048805\n",
            "Iteration 3, loss = 0.50689985\n",
            "Iteration 4, loss = 0.50541216\n",
            "Iteration 5, loss = 0.50443664\n",
            "Iteration 6, loss = 0.50291612\n",
            "Iteration 7, loss = 0.50301090\n",
            "Iteration 8, loss = 0.50227399\n",
            "Iteration 9, loss = 0.50184700\n",
            "Iteration 10, loss = 0.50082235\n",
            "Iteration 11, loss = 0.50104604\n",
            "Iteration 12, loss = 0.50021059\n",
            "Iteration 13, loss = 0.49978119\n",
            "Iteration 14, loss = 0.49925864\n",
            "Iteration 15, loss = 0.49881032\n",
            "Iteration 16, loss = 0.49868718\n",
            "Iteration 17, loss = 0.49800505\n",
            "Iteration 18, loss = 0.49880915\n",
            "Iteration 19, loss = 0.49778084\n",
            "Iteration 20, loss = 0.49711572\n",
            "Iteration 21, loss = 0.49757839\n",
            "Iteration 22, loss = 0.49667042\n",
            "Iteration 23, loss = 0.49689059\n",
            "Iteration 24, loss = 0.49690132\n",
            "Iteration 25, loss = 0.49536518\n",
            "Iteration 26, loss = 0.49606763\n",
            "Iteration 27, loss = 0.49543082\n",
            "Iteration 28, loss = 0.49545110\n",
            "Iteration 29, loss = 0.49480456\n",
            "Iteration 30, loss = 0.49467861\n",
            "[CV 3/5] END activation=relu, alpha=0.01, hidden_layer_sizes=(64, 64), max_iter=30, random_state=42, solver=adam, verbose=True;, score=0.748 total time=  21.0s\n"
          ]
        },
        {
          "name": "stderr",
          "output_type": "stream",
          "text": [
            "/usr/local/lib/python3.10/dist-packages/sklearn/neural_network/_multilayer_perceptron.py:686: ConvergenceWarning: Stochastic Optimizer: Maximum iterations (30) reached and the optimization hasn't converged yet.\n",
            "  warnings.warn(\n"
          ]
        },
        {
          "name": "stdout",
          "output_type": "stream",
          "text": [
            "Iteration 1, loss = 0.53661934\n",
            "Iteration 2, loss = 0.50880439\n",
            "Iteration 3, loss = 0.50677136\n",
            "Iteration 4, loss = 0.50519386\n",
            "Iteration 5, loss = 0.50404682\n",
            "Iteration 6, loss = 0.50261238\n",
            "Iteration 7, loss = 0.50215629\n",
            "Iteration 8, loss = 0.50157639\n",
            "Iteration 9, loss = 0.50085181\n",
            "Iteration 10, loss = 0.50064274\n",
            "Iteration 11, loss = 0.50007629\n",
            "Iteration 12, loss = 0.49921559\n",
            "Iteration 13, loss = 0.49990823\n",
            "Iteration 14, loss = 0.49909299\n",
            "Iteration 15, loss = 0.49901090\n",
            "Iteration 16, loss = 0.49835738\n",
            "Iteration 17, loss = 0.49872049\n",
            "Iteration 18, loss = 0.49769641\n",
            "Iteration 19, loss = 0.49701437\n",
            "Iteration 20, loss = 0.49713370\n",
            "Iteration 21, loss = 0.49662840\n",
            "Iteration 22, loss = 0.49681507\n",
            "Iteration 23, loss = 0.49615344\n",
            "Iteration 24, loss = 0.49589615\n",
            "Iteration 25, loss = 0.49527371\n",
            "Iteration 26, loss = 0.49505590\n",
            "Iteration 27, loss = 0.49477615\n",
            "Iteration 28, loss = 0.49491187\n",
            "Iteration 29, loss = 0.49452759\n",
            "Iteration 30, loss = 0.49541903\n",
            "[CV 4/5] END activation=relu, alpha=0.01, hidden_layer_sizes=(64, 64), max_iter=30, random_state=42, solver=adam, verbose=True;, score=0.745 total time=  18.6s\n"
          ]
        },
        {
          "name": "stderr",
          "output_type": "stream",
          "text": [
            "/usr/local/lib/python3.10/dist-packages/sklearn/neural_network/_multilayer_perceptron.py:686: ConvergenceWarning: Stochastic Optimizer: Maximum iterations (30) reached and the optimization hasn't converged yet.\n",
            "  warnings.warn(\n"
          ]
        },
        {
          "name": "stdout",
          "output_type": "stream",
          "text": [
            "Iteration 1, loss = 0.53868622\n",
            "Iteration 2, loss = 0.51073999\n",
            "Iteration 3, loss = 0.50826786\n",
            "Iteration 4, loss = 0.50641797\n",
            "Iteration 5, loss = 0.50588494\n",
            "Iteration 6, loss = 0.50480679\n",
            "Iteration 7, loss = 0.50349136\n",
            "Iteration 8, loss = 0.50302309\n",
            "Iteration 9, loss = 0.50281077\n",
            "Iteration 10, loss = 0.50251552\n",
            "Iteration 11, loss = 0.50166985\n",
            "Iteration 12, loss = 0.50115337\n",
            "Iteration 13, loss = 0.50232682\n",
            "Iteration 14, loss = 0.50103009\n",
            "Iteration 15, loss = 0.50038548\n",
            "Iteration 16, loss = 0.50064671\n",
            "Iteration 17, loss = 0.50032180\n",
            "Iteration 18, loss = 0.49961422\n",
            "Iteration 19, loss = 0.49857854\n",
            "Iteration 20, loss = 0.49892097\n",
            "Iteration 21, loss = 0.49868482\n",
            "Iteration 22, loss = 0.49789833\n",
            "Iteration 23, loss = 0.49758494\n",
            "Iteration 24, loss = 0.49738227\n",
            "Iteration 25, loss = 0.49671136\n",
            "Iteration 26, loss = 0.49639094\n",
            "Iteration 27, loss = 0.49672016\n",
            "Iteration 28, loss = 0.49636077\n",
            "Iteration 29, loss = 0.49567357\n",
            "Iteration 30, loss = 0.49625098\n",
            "[CV 5/5] END activation=relu, alpha=0.01, hidden_layer_sizes=(64, 64), max_iter=30, random_state=42, solver=adam, verbose=True;, score=0.754 total time=  17.5s\n"
          ]
        },
        {
          "name": "stderr",
          "output_type": "stream",
          "text": [
            "/usr/local/lib/python3.10/dist-packages/sklearn/neural_network/_multilayer_perceptron.py:686: ConvergenceWarning: Stochastic Optimizer: Maximum iterations (30) reached and the optimization hasn't converged yet.\n",
            "  warnings.warn(\n"
          ]
        },
        {
          "name": "stdout",
          "output_type": "stream",
          "text": [
            "Iteration 1, loss = 0.55011772\n",
            "Iteration 2, loss = 0.51328183\n",
            "Iteration 3, loss = 0.50942990\n",
            "Iteration 4, loss = 0.50815943\n",
            "Iteration 5, loss = 0.50682039\n",
            "Iteration 6, loss = 0.50673908\n",
            "Iteration 7, loss = 0.50481451\n",
            "Iteration 8, loss = 0.50428933\n",
            "Iteration 9, loss = 0.50393537\n",
            "Iteration 10, loss = 0.50355007\n",
            "Iteration 11, loss = 0.50304638\n",
            "Iteration 12, loss = 0.50276901\n",
            "Iteration 13, loss = 0.50267340\n",
            "Iteration 14, loss = 0.50246286\n",
            "Iteration 15, loss = 0.50146969\n",
            "Iteration 16, loss = 0.50175400\n",
            "Iteration 17, loss = 0.50118766\n",
            "Iteration 18, loss = 0.50130142\n",
            "Iteration 19, loss = 0.50134494\n",
            "Iteration 20, loss = 0.50056163\n",
            "Iteration 21, loss = 0.50076890\n",
            "Iteration 22, loss = 0.50056967\n",
            "Iteration 23, loss = 0.50050927\n",
            "Iteration 24, loss = 0.49995488\n",
            "Iteration 25, loss = 0.50022494\n",
            "Iteration 26, loss = 0.49953037\n",
            "Iteration 27, loss = 0.49982195\n",
            "Iteration 28, loss = 0.49968892\n",
            "Iteration 29, loss = 0.49927005\n",
            "Iteration 30, loss = 0.49944396\n",
            "[CV 1/5] END activation=relu, alpha=0.01, hidden_layer_sizes=(32, 32), max_iter=30, random_state=42, solver=adam, verbose=True;, score=0.751 total time=   9.6s\n"
          ]
        },
        {
          "name": "stderr",
          "output_type": "stream",
          "text": [
            "/usr/local/lib/python3.10/dist-packages/sklearn/neural_network/_multilayer_perceptron.py:686: ConvergenceWarning: Stochastic Optimizer: Maximum iterations (30) reached and the optimization hasn't converged yet.\n",
            "  warnings.warn(\n"
          ]
        },
        {
          "name": "stdout",
          "output_type": "stream",
          "text": [
            "Iteration 1, loss = 0.55173254\n",
            "Iteration 2, loss = 0.51510147\n",
            "Iteration 3, loss = 0.51061668\n",
            "Iteration 4, loss = 0.50982135\n",
            "Iteration 5, loss = 0.50839563\n",
            "Iteration 6, loss = 0.50710688\n",
            "Iteration 7, loss = 0.50604365\n",
            "Iteration 8, loss = 0.50530244\n",
            "Iteration 9, loss = 0.50552564\n",
            "Iteration 10, loss = 0.50464066\n",
            "Iteration 11, loss = 0.50434201\n",
            "Iteration 12, loss = 0.50373559\n",
            "Iteration 13, loss = 0.50380242\n",
            "Iteration 14, loss = 0.50329504\n",
            "Iteration 15, loss = 0.50261892\n",
            "Iteration 16, loss = 0.50260562\n",
            "Iteration 17, loss = 0.50258651\n",
            "Iteration 18, loss = 0.50269341\n",
            "Iteration 19, loss = 0.50210250\n",
            "Iteration 20, loss = 0.50195613\n",
            "Iteration 21, loss = 0.50242251\n",
            "Iteration 22, loss = 0.50131588\n",
            "Iteration 23, loss = 0.50165357\n",
            "Iteration 24, loss = 0.50122165\n",
            "Iteration 25, loss = 0.50101726\n",
            "Iteration 26, loss = 0.50080024\n",
            "Iteration 27, loss = 0.50084901\n",
            "Iteration 28, loss = 0.50083892\n",
            "Iteration 29, loss = 0.50021815\n",
            "Iteration 30, loss = 0.50134188\n"
          ]
        },
        {
          "name": "stderr",
          "output_type": "stream",
          "text": [
            "/usr/local/lib/python3.10/dist-packages/sklearn/neural_network/_multilayer_perceptron.py:686: ConvergenceWarning: Stochastic Optimizer: Maximum iterations (30) reached and the optimization hasn't converged yet.\n",
            "  warnings.warn(\n"
          ]
        },
        {
          "name": "stdout",
          "output_type": "stream",
          "text": [
            "[CV 2/5] END activation=relu, alpha=0.01, hidden_layer_sizes=(32, 32), max_iter=30, random_state=42, solver=adam, verbose=True;, score=0.758 total time=   6.3s\n",
            "Iteration 1, loss = 0.55197515\n",
            "Iteration 2, loss = 0.51340260\n",
            "Iteration 3, loss = 0.50848210\n",
            "Iteration 4, loss = 0.50715036\n",
            "Iteration 5, loss = 0.50558089\n",
            "Iteration 6, loss = 0.50518209\n",
            "Iteration 7, loss = 0.50382717\n",
            "Iteration 8, loss = 0.50334677\n",
            "Iteration 9, loss = 0.50387003\n",
            "Iteration 10, loss = 0.50204040\n",
            "Iteration 11, loss = 0.50263671\n",
            "Iteration 12, loss = 0.50125837\n",
            "Iteration 13, loss = 0.50104023\n",
            "Iteration 14, loss = 0.50101777\n",
            "Iteration 15, loss = 0.50057387\n",
            "Iteration 16, loss = 0.50063180\n",
            "Iteration 17, loss = 0.50019214\n",
            "Iteration 18, loss = 0.50051797\n",
            "Iteration 19, loss = 0.49999972\n",
            "Iteration 20, loss = 0.49959164\n",
            "Iteration 21, loss = 0.49980418\n",
            "Iteration 22, loss = 0.49940195\n",
            "Iteration 23, loss = 0.49904001\n",
            "Iteration 24, loss = 0.49911343\n",
            "Iteration 25, loss = 0.49895574\n",
            "Iteration 26, loss = 0.49851329\n",
            "Iteration 27, loss = 0.49870917\n",
            "Iteration 28, loss = 0.49843079\n",
            "Iteration 29, loss = 0.49811622\n",
            "Iteration 30, loss = 0.49911476\n",
            "[CV 3/5] END activation=relu, alpha=0.01, hidden_layer_sizes=(32, 32), max_iter=30, random_state=42, solver=adam, verbose=True;, score=0.749 total time=   7.7s\n"
          ]
        },
        {
          "name": "stderr",
          "output_type": "stream",
          "text": [
            "/usr/local/lib/python3.10/dist-packages/sklearn/neural_network/_multilayer_perceptron.py:686: ConvergenceWarning: Stochastic Optimizer: Maximum iterations (30) reached and the optimization hasn't converged yet.\n",
            "  warnings.warn(\n"
          ]
        },
        {
          "name": "stdout",
          "output_type": "stream",
          "text": [
            "Iteration 1, loss = 0.55046463\n",
            "Iteration 2, loss = 0.51286632\n",
            "Iteration 3, loss = 0.50853825\n",
            "Iteration 4, loss = 0.50597994\n",
            "Iteration 5, loss = 0.50637076\n",
            "Iteration 6, loss = 0.50466631\n",
            "Iteration 7, loss = 0.50378740\n",
            "Iteration 8, loss = 0.50328996\n",
            "Iteration 9, loss = 0.50251549\n",
            "Iteration 10, loss = 0.50271680\n",
            "Iteration 11, loss = 0.50249032\n",
            "Iteration 12, loss = 0.50164287\n",
            "Iteration 13, loss = 0.50155933\n",
            "Iteration 14, loss = 0.50078631\n",
            "Iteration 15, loss = 0.50117699\n",
            "Iteration 16, loss = 0.50062752\n",
            "Iteration 17, loss = 0.50027514\n",
            "Iteration 18, loss = 0.50001836\n",
            "Iteration 19, loss = 0.49948794\n",
            "Iteration 20, loss = 0.49958419\n",
            "Iteration 21, loss = 0.49929212\n",
            "Iteration 22, loss = 0.49885879\n",
            "Iteration 23, loss = 0.49863062\n",
            "Iteration 24, loss = 0.49895462\n",
            "Iteration 25, loss = 0.49896619\n",
            "Iteration 26, loss = 0.49858796\n",
            "Iteration 27, loss = 0.49789203\n",
            "Iteration 28, loss = 0.49829049\n",
            "Iteration 29, loss = 0.49774467\n",
            "Iteration 30, loss = 0.49801756\n",
            "[CV 4/5] END activation=relu, alpha=0.01, hidden_layer_sizes=(32, 32), max_iter=30, random_state=42, solver=adam, verbose=True;, score=0.744 total time=   9.2s\n"
          ]
        },
        {
          "name": "stderr",
          "output_type": "stream",
          "text": [
            "/usr/local/lib/python3.10/dist-packages/sklearn/neural_network/_multilayer_perceptron.py:686: ConvergenceWarning: Stochastic Optimizer: Maximum iterations (30) reached and the optimization hasn't converged yet.\n",
            "  warnings.warn(\n"
          ]
        },
        {
          "name": "stdout",
          "output_type": "stream",
          "text": [
            "Iteration 1, loss = 0.55219369\n",
            "Iteration 2, loss = 0.51374031\n",
            "Iteration 3, loss = 0.50969718\n",
            "Iteration 4, loss = 0.50765259\n",
            "Iteration 5, loss = 0.50744379\n",
            "Iteration 6, loss = 0.50597024\n",
            "Iteration 7, loss = 0.50513094\n",
            "Iteration 8, loss = 0.50485984\n",
            "Iteration 9, loss = 0.50430636\n",
            "Iteration 10, loss = 0.50391592\n",
            "Iteration 11, loss = 0.50357620\n",
            "Iteration 12, loss = 0.50320907\n",
            "Iteration 13, loss = 0.50332485\n",
            "Iteration 14, loss = 0.50245672\n",
            "Iteration 15, loss = 0.50281293\n",
            "Iteration 16, loss = 0.50232011\n",
            "Iteration 17, loss = 0.50226966\n",
            "Iteration 18, loss = 0.50161253\n",
            "Iteration 19, loss = 0.50146079\n",
            "Iteration 20, loss = 0.50147770\n",
            "Iteration 21, loss = 0.50099767\n",
            "Iteration 22, loss = 0.50127402\n",
            "Iteration 23, loss = 0.50155310\n",
            "Iteration 24, loss = 0.50088929\n",
            "Iteration 25, loss = 0.50092411\n",
            "Iteration 26, loss = 0.50063374\n",
            "Iteration 27, loss = 0.50035815\n",
            "Iteration 28, loss = 0.50072127\n",
            "Iteration 29, loss = 0.50053600\n",
            "Iteration 30, loss = 0.50001332\n",
            "[CV 5/5] END activation=relu, alpha=0.01, hidden_layer_sizes=(32, 32), max_iter=30, random_state=42, solver=adam, verbose=True;, score=0.749 total time=   6.3s\n"
          ]
        },
        {
          "name": "stderr",
          "output_type": "stream",
          "text": [
            "/usr/local/lib/python3.10/dist-packages/sklearn/neural_network/_multilayer_perceptron.py:686: ConvergenceWarning: Stochastic Optimizer: Maximum iterations (30) reached and the optimization hasn't converged yet.\n",
            "  warnings.warn(\n"
          ]
        },
        {
          "name": "stdout",
          "output_type": "stream",
          "text": [
            "Iteration 1, loss = 0.53487885\n",
            "Iteration 2, loss = 0.50796891\n",
            "Iteration 3, loss = 0.50504502\n",
            "Iteration 4, loss = 0.50415447\n",
            "Iteration 5, loss = 0.50225688\n",
            "Iteration 6, loss = 0.50151110\n",
            "Iteration 7, loss = 0.50153129\n",
            "Iteration 8, loss = 0.50014861\n",
            "Iteration 9, loss = 0.49957783\n",
            "Iteration 10, loss = 0.49913339\n",
            "Iteration 11, loss = 0.49923491\n",
            "Iteration 12, loss = 0.49799988\n",
            "Iteration 13, loss = 0.49842489\n",
            "Iteration 14, loss = 0.49701515\n",
            "Iteration 15, loss = 0.49711675\n",
            "Iteration 16, loss = 0.49732393\n",
            "Iteration 17, loss = 0.49627695\n",
            "Iteration 18, loss = 0.49550680\n",
            "Iteration 19, loss = 0.49535497\n",
            "Iteration 20, loss = 0.49508503\n",
            "Iteration 21, loss = 0.49476141\n",
            "Iteration 22, loss = 0.49485980\n",
            "Iteration 23, loss = 0.49467761\n",
            "Iteration 24, loss = 0.49360398\n",
            "Iteration 25, loss = 0.49353615\n",
            "Iteration 26, loss = 0.49308251\n",
            "Iteration 27, loss = 0.49250269\n",
            "Iteration 28, loss = 0.49210299\n",
            "Iteration 29, loss = 0.49168310\n",
            "Iteration 30, loss = 0.49135834\n",
            "[CV 1/5] END activation=relu, alpha=0.001, hidden_layer_sizes=(64, 64), max_iter=30, random_state=42, solver=adam, verbose=True;, score=0.749 total time=  21.1s\n"
          ]
        },
        {
          "name": "stderr",
          "output_type": "stream",
          "text": [
            "/usr/local/lib/python3.10/dist-packages/sklearn/neural_network/_multilayer_perceptron.py:686: ConvergenceWarning: Stochastic Optimizer: Maximum iterations (30) reached and the optimization hasn't converged yet.\n",
            "  warnings.warn(\n"
          ]
        },
        {
          "name": "stdout",
          "output_type": "stream",
          "text": [
            "Iteration 1, loss = 0.53690860\n",
            "Iteration 2, loss = 0.50983330\n",
            "Iteration 3, loss = 0.50670594\n",
            "Iteration 4, loss = 0.50515928\n",
            "Iteration 5, loss = 0.50447482\n",
            "Iteration 6, loss = 0.50305118\n",
            "Iteration 7, loss = 0.50370584\n",
            "Iteration 8, loss = 0.50221542\n",
            "Iteration 9, loss = 0.50089788\n",
            "Iteration 10, loss = 0.50039100\n",
            "Iteration 11, loss = 0.50006565\n",
            "Iteration 12, loss = 0.49937692\n",
            "Iteration 13, loss = 0.49960250\n",
            "Iteration 14, loss = 0.49889796\n",
            "Iteration 15, loss = 0.49831309\n",
            "Iteration 16, loss = 0.49838649\n",
            "Iteration 17, loss = 0.49742139\n",
            "Iteration 18, loss = 0.49714468\n",
            "Iteration 19, loss = 0.49655450\n",
            "Iteration 20, loss = 0.49606915\n",
            "Iteration 21, loss = 0.49588325\n",
            "Iteration 22, loss = 0.49604463\n",
            "Iteration 23, loss = 0.49559374\n",
            "Iteration 24, loss = 0.49519248\n",
            "Iteration 25, loss = 0.49412368\n",
            "Iteration 26, loss = 0.49384952\n",
            "Iteration 27, loss = 0.49391211\n",
            "Iteration 28, loss = 0.49305417\n",
            "Iteration 29, loss = 0.49246695\n",
            "Iteration 30, loss = 0.49248615\n",
            "[CV 2/5] END activation=relu, alpha=0.001, hidden_layer_sizes=(64, 64), max_iter=30, random_state=42, solver=adam, verbose=True;, score=0.757 total time=  20.9s\n"
          ]
        },
        {
          "name": "stderr",
          "output_type": "stream",
          "text": [
            "/usr/local/lib/python3.10/dist-packages/sklearn/neural_network/_multilayer_perceptron.py:686: ConvergenceWarning: Stochastic Optimizer: Maximum iterations (30) reached and the optimization hasn't converged yet.\n",
            "  warnings.warn(\n"
          ]
        },
        {
          "name": "stdout",
          "output_type": "stream",
          "text": [
            "Iteration 1, loss = 0.53589344\n",
            "Iteration 2, loss = 0.50816939\n",
            "Iteration 3, loss = 0.50477846\n",
            "Iteration 4, loss = 0.50319731\n",
            "Iteration 5, loss = 0.50232457\n",
            "Iteration 6, loss = 0.50075518\n",
            "Iteration 7, loss = 0.50075280\n",
            "Iteration 8, loss = 0.49982309\n",
            "Iteration 9, loss = 0.49951649\n",
            "Iteration 10, loss = 0.49831321\n",
            "Iteration 11, loss = 0.49845708\n",
            "Iteration 12, loss = 0.49751626\n",
            "Iteration 13, loss = 0.49690102\n",
            "Iteration 14, loss = 0.49623482\n",
            "Iteration 15, loss = 0.49562352\n",
            "Iteration 16, loss = 0.49547560\n",
            "Iteration 17, loss = 0.49469374\n",
            "Iteration 18, loss = 0.49533121\n",
            "Iteration 19, loss = 0.49423224\n",
            "Iteration 20, loss = 0.49341115\n",
            "Iteration 21, loss = 0.49373706\n",
            "Iteration 22, loss = 0.49277339\n",
            "Iteration 23, loss = 0.49280730\n",
            "Iteration 24, loss = 0.49266685\n",
            "Iteration 25, loss = 0.49099260\n",
            "Iteration 26, loss = 0.49144064\n",
            "Iteration 27, loss = 0.49067296\n",
            "Iteration 28, loss = 0.49014208\n",
            "Iteration 29, loss = 0.48981848\n",
            "Iteration 30, loss = 0.48944357\n",
            "[CV 3/5] END activation=relu, alpha=0.001, hidden_layer_sizes=(64, 64), max_iter=30, random_state=42, solver=adam, verbose=True;, score=0.747 total time=  20.1s\n"
          ]
        },
        {
          "name": "stderr",
          "output_type": "stream",
          "text": [
            "/usr/local/lib/python3.10/dist-packages/sklearn/neural_network/_multilayer_perceptron.py:686: ConvergenceWarning: Stochastic Optimizer: Maximum iterations (30) reached and the optimization hasn't converged yet.\n",
            "  warnings.warn(\n"
          ]
        },
        {
          "name": "stdout",
          "output_type": "stream",
          "text": [
            "Iteration 1, loss = 0.53421111\n",
            "Iteration 2, loss = 0.50658680\n",
            "Iteration 3, loss = 0.50453089\n",
            "Iteration 4, loss = 0.50288356\n",
            "Iteration 5, loss = 0.50174131\n",
            "Iteration 6, loss = 0.50036656\n",
            "Iteration 7, loss = 0.49983057\n",
            "Iteration 8, loss = 0.49916472\n",
            "Iteration 9, loss = 0.49833257\n",
            "Iteration 10, loss = 0.49804198\n",
            "Iteration 11, loss = 0.49732118\n",
            "Iteration 12, loss = 0.49643504\n",
            "Iteration 13, loss = 0.49697143\n",
            "Iteration 14, loss = 0.49609140\n",
            "Iteration 15, loss = 0.49595988\n",
            "Iteration 16, loss = 0.49506401\n",
            "Iteration 17, loss = 0.49545756\n",
            "Iteration 18, loss = 0.49416976\n",
            "Iteration 19, loss = 0.49348136\n",
            "Iteration 20, loss = 0.49319465\n",
            "Iteration 21, loss = 0.49278264\n",
            "Iteration 22, loss = 0.49255417\n",
            "Iteration 23, loss = 0.49176369\n",
            "Iteration 24, loss = 0.49123920\n",
            "Iteration 25, loss = 0.49038849\n",
            "Iteration 26, loss = 0.48996000\n",
            "Iteration 27, loss = 0.48964956\n",
            "Iteration 28, loss = 0.48964455\n",
            "Iteration 29, loss = 0.48874982\n",
            "Iteration 30, loss = 0.48946927\n",
            "[CV 4/5] END activation=relu, alpha=0.001, hidden_layer_sizes=(64, 64), max_iter=30, random_state=42, solver=adam, verbose=True;, score=0.744 total time=  17.4s\n"
          ]
        },
        {
          "name": "stderr",
          "output_type": "stream",
          "text": [
            "/usr/local/lib/python3.10/dist-packages/sklearn/neural_network/_multilayer_perceptron.py:686: ConvergenceWarning: Stochastic Optimizer: Maximum iterations (30) reached and the optimization hasn't converged yet.\n",
            "  warnings.warn(\n"
          ]
        },
        {
          "name": "stdout",
          "output_type": "stream",
          "text": [
            "Iteration 1, loss = 0.53634597\n",
            "Iteration 2, loss = 0.50843882\n",
            "Iteration 3, loss = 0.50593175\n",
            "Iteration 4, loss = 0.50398869\n",
            "Iteration 5, loss = 0.50364457\n",
            "Iteration 6, loss = 0.50254273\n",
            "Iteration 7, loss = 0.50126464\n",
            "Iteration 8, loss = 0.50069479\n",
            "Iteration 9, loss = 0.50047248\n",
            "Iteration 10, loss = 0.50000720\n",
            "Iteration 11, loss = 0.49912792\n",
            "Iteration 12, loss = 0.49846385\n",
            "Iteration 13, loss = 0.49960602\n",
            "Iteration 14, loss = 0.49827647\n",
            "Iteration 15, loss = 0.49753831\n",
            "Iteration 16, loss = 0.49752426\n",
            "Iteration 17, loss = 0.49726967\n",
            "Iteration 18, loss = 0.49639939\n",
            "Iteration 19, loss = 0.49524775\n",
            "Iteration 20, loss = 0.49544055\n",
            "Iteration 21, loss = 0.49525223\n",
            "Iteration 22, loss = 0.49434096\n",
            "Iteration 23, loss = 0.49400335\n",
            "Iteration 24, loss = 0.49364349\n",
            "Iteration 25, loss = 0.49264798\n",
            "Iteration 26, loss = 0.49225379\n",
            "Iteration 27, loss = 0.49252540\n",
            "Iteration 28, loss = 0.49200112\n",
            "Iteration 29, loss = 0.49118292\n",
            "Iteration 30, loss = 0.49126915\n",
            "[CV 5/5] END activation=relu, alpha=0.001, hidden_layer_sizes=(64, 64), max_iter=30, random_state=42, solver=adam, verbose=True;, score=0.754 total time=  17.2s\n"
          ]
        },
        {
          "name": "stderr",
          "output_type": "stream",
          "text": [
            "/usr/local/lib/python3.10/dist-packages/sklearn/neural_network/_multilayer_perceptron.py:686: ConvergenceWarning: Stochastic Optimizer: Maximum iterations (30) reached and the optimization hasn't converged yet.\n",
            "  warnings.warn(\n"
          ]
        },
        {
          "name": "stdout",
          "output_type": "stream",
          "text": [
            "Iteration 1, loss = 0.54848381\n",
            "Iteration 2, loss = 0.51164759\n",
            "Iteration 3, loss = 0.50796366\n",
            "Iteration 4, loss = 0.50653551\n",
            "Iteration 5, loss = 0.50503280\n",
            "Iteration 6, loss = 0.50496523\n",
            "Iteration 7, loss = 0.50320207\n",
            "Iteration 8, loss = 0.50268599\n",
            "Iteration 9, loss = 0.50232724\n",
            "Iteration 10, loss = 0.50194973\n",
            "Iteration 11, loss = 0.50140206\n",
            "Iteration 12, loss = 0.50124434\n",
            "Iteration 13, loss = 0.50102267\n",
            "Iteration 14, loss = 0.50081940\n",
            "Iteration 15, loss = 0.49979613\n",
            "Iteration 16, loss = 0.50005853\n",
            "Iteration 17, loss = 0.49945010\n",
            "Iteration 18, loss = 0.49960321\n",
            "Iteration 19, loss = 0.49959312\n",
            "Iteration 20, loss = 0.49885807\n",
            "Iteration 21, loss = 0.49897972\n",
            "Iteration 22, loss = 0.49866555\n",
            "Iteration 23, loss = 0.49859208\n",
            "Iteration 24, loss = 0.49800526\n",
            "Iteration 25, loss = 0.49816893\n",
            "Iteration 26, loss = 0.49734917\n",
            "Iteration 27, loss = 0.49774968\n",
            "Iteration 28, loss = 0.49754061\n",
            "Iteration 29, loss = 0.49713606\n",
            "Iteration 30, loss = 0.49721340\n",
            "[CV 1/5] END activation=relu, alpha=0.001, hidden_layer_sizes=(32, 32), max_iter=30, random_state=42, solver=adam, verbose=True;, score=0.752 total time=   9.5s\n"
          ]
        },
        {
          "name": "stderr",
          "output_type": "stream",
          "text": [
            "/usr/local/lib/python3.10/dist-packages/sklearn/neural_network/_multilayer_perceptron.py:686: ConvergenceWarning: Stochastic Optimizer: Maximum iterations (30) reached and the optimization hasn't converged yet.\n",
            "  warnings.warn(\n"
          ]
        },
        {
          "name": "stdout",
          "output_type": "stream",
          "text": [
            "Iteration 1, loss = 0.55022222\n",
            "Iteration 2, loss = 0.51354110\n",
            "Iteration 3, loss = 0.50919428\n",
            "Iteration 4, loss = 0.50837567\n",
            "Iteration 5, loss = 0.50695570\n",
            "Iteration 6, loss = 0.50564357\n",
            "Iteration 7, loss = 0.50448770\n",
            "Iteration 8, loss = 0.50380275\n",
            "Iteration 9, loss = 0.50395376\n",
            "Iteration 10, loss = 0.50305520\n",
            "Iteration 11, loss = 0.50271825\n",
            "Iteration 12, loss = 0.50221378\n",
            "Iteration 13, loss = 0.50215582\n",
            "Iteration 14, loss = 0.50169813\n",
            "Iteration 15, loss = 0.50089675\n",
            "Iteration 16, loss = 0.50098202\n",
            "Iteration 17, loss = 0.50095159\n",
            "Iteration 18, loss = 0.50087245\n",
            "Iteration 19, loss = 0.50045856\n",
            "Iteration 20, loss = 0.50042626\n",
            "Iteration 21, loss = 0.50077569\n",
            "Iteration 22, loss = 0.49960261\n",
            "Iteration 23, loss = 0.50003346\n",
            "Iteration 24, loss = 0.49933511\n",
            "Iteration 25, loss = 0.49927279\n",
            "Iteration 26, loss = 0.49912176\n",
            "Iteration 27, loss = 0.49904802\n",
            "Iteration 28, loss = 0.49906853\n",
            "Iteration 29, loss = 0.49835276\n",
            "Iteration 30, loss = 0.49935852\n",
            "[CV 2/5] END activation=relu, alpha=0.001, hidden_layer_sizes=(32, 32), max_iter=30, random_state=42, solver=adam, verbose=True;, score=0.759 total time=   7.2s\n"
          ]
        },
        {
          "name": "stderr",
          "output_type": "stream",
          "text": [
            "/usr/local/lib/python3.10/dist-packages/sklearn/neural_network/_multilayer_perceptron.py:686: ConvergenceWarning: Stochastic Optimizer: Maximum iterations (30) reached and the optimization hasn't converged yet.\n",
            "  warnings.warn(\n"
          ]
        },
        {
          "name": "stdout",
          "output_type": "stream",
          "text": [
            "Iteration 1, loss = 0.55046687\n",
            "Iteration 2, loss = 0.51197635\n",
            "Iteration 3, loss = 0.50692143\n",
            "Iteration 4, loss = 0.50571226\n",
            "Iteration 5, loss = 0.50415898\n",
            "Iteration 6, loss = 0.50365462\n",
            "Iteration 7, loss = 0.50241092\n",
            "Iteration 8, loss = 0.50185343\n",
            "Iteration 9, loss = 0.50237699\n",
            "Iteration 10, loss = 0.50046644\n",
            "Iteration 11, loss = 0.50091767\n",
            "Iteration 12, loss = 0.49954828\n",
            "Iteration 13, loss = 0.49925791\n",
            "Iteration 14, loss = 0.49917746\n",
            "Iteration 15, loss = 0.49880097\n",
            "Iteration 16, loss = 0.49872833\n",
            "Iteration 17, loss = 0.49831624\n",
            "Iteration 18, loss = 0.49861293\n",
            "Iteration 19, loss = 0.49796448\n",
            "Iteration 20, loss = 0.49757785\n",
            "Iteration 21, loss = 0.49759819\n",
            "Iteration 22, loss = 0.49713434\n",
            "Iteration 23, loss = 0.49685087\n",
            "Iteration 24, loss = 0.49685079\n",
            "Iteration 25, loss = 0.49656322\n",
            "Iteration 26, loss = 0.49611583\n",
            "Iteration 27, loss = 0.49606909\n",
            "Iteration 28, loss = 0.49580867\n",
            "Iteration 29, loss = 0.49532115\n",
            "Iteration 30, loss = 0.49637467\n",
            "[CV 3/5] END activation=relu, alpha=0.001, hidden_layer_sizes=(32, 32), max_iter=30, random_state=42, solver=adam, verbose=True;, score=0.749 total time=   6.6s\n"
          ]
        },
        {
          "name": "stderr",
          "output_type": "stream",
          "text": [
            "/usr/local/lib/python3.10/dist-packages/sklearn/neural_network/_multilayer_perceptron.py:686: ConvergenceWarning: Stochastic Optimizer: Maximum iterations (30) reached and the optimization hasn't converged yet.\n",
            "  warnings.warn(\n"
          ]
        },
        {
          "name": "stdout",
          "output_type": "stream",
          "text": [
            "Iteration 1, loss = 0.54904099\n",
            "Iteration 2, loss = 0.51129237\n",
            "Iteration 3, loss = 0.50707802\n",
            "Iteration 4, loss = 0.50444782\n",
            "Iteration 5, loss = 0.50473266\n",
            "Iteration 6, loss = 0.50302660\n",
            "Iteration 7, loss = 0.50226192\n",
            "Iteration 8, loss = 0.50180902\n",
            "Iteration 9, loss = 0.50104611\n",
            "Iteration 10, loss = 0.50121176\n",
            "Iteration 11, loss = 0.50094394\n",
            "Iteration 12, loss = 0.50010177\n",
            "Iteration 13, loss = 0.50013310\n",
            "Iteration 14, loss = 0.49931011\n",
            "Iteration 15, loss = 0.49978018\n",
            "Iteration 16, loss = 0.49913298\n",
            "Iteration 17, loss = 0.49881053\n",
            "Iteration 18, loss = 0.49854512\n",
            "Iteration 19, loss = 0.49803940\n",
            "Iteration 20, loss = 0.49796614\n",
            "Iteration 21, loss = 0.49774320\n",
            "Iteration 22, loss = 0.49717026\n",
            "Iteration 23, loss = 0.49701670\n",
            "Iteration 24, loss = 0.49706543\n",
            "Iteration 25, loss = 0.49702679\n",
            "Iteration 26, loss = 0.49682619\n",
            "Iteration 27, loss = 0.49598039\n",
            "Iteration 28, loss = 0.49629772\n",
            "Iteration 29, loss = 0.49568448\n",
            "Iteration 30, loss = 0.49585021\n",
            "[CV 4/5] END activation=relu, alpha=0.001, hidden_layer_sizes=(32, 32), max_iter=30, random_state=42, solver=adam, verbose=True;, score=0.743 total time=   9.6s\n"
          ]
        },
        {
          "name": "stderr",
          "output_type": "stream",
          "text": [
            "/usr/local/lib/python3.10/dist-packages/sklearn/neural_network/_multilayer_perceptron.py:686: ConvergenceWarning: Stochastic Optimizer: Maximum iterations (30) reached and the optimization hasn't converged yet.\n",
            "  warnings.warn(\n"
          ]
        },
        {
          "name": "stdout",
          "output_type": "stream",
          "text": [
            "Iteration 1, loss = 0.55080034\n",
            "Iteration 2, loss = 0.51244523\n",
            "Iteration 3, loss = 0.50842002\n",
            "Iteration 4, loss = 0.50636796\n",
            "Iteration 5, loss = 0.50621817\n",
            "Iteration 6, loss = 0.50481349\n",
            "Iteration 7, loss = 0.50389474\n",
            "Iteration 8, loss = 0.50356031\n",
            "Iteration 9, loss = 0.50297024\n",
            "Iteration 10, loss = 0.50256274\n",
            "Iteration 11, loss = 0.50215110\n",
            "Iteration 12, loss = 0.50182818\n",
            "Iteration 13, loss = 0.50180608\n",
            "Iteration 14, loss = 0.50093310\n",
            "Iteration 15, loss = 0.50139428\n",
            "Iteration 16, loss = 0.50083411\n",
            "Iteration 17, loss = 0.50072710\n",
            "Iteration 18, loss = 0.50007385\n",
            "Iteration 19, loss = 0.49993700\n",
            "Iteration 20, loss = 0.49987093\n",
            "Iteration 21, loss = 0.49933429\n",
            "Iteration 22, loss = 0.49959536\n",
            "Iteration 23, loss = 0.49984023\n",
            "Iteration 24, loss = 0.49919937\n",
            "Iteration 25, loss = 0.49921151\n",
            "Iteration 26, loss = 0.49895246\n",
            "Iteration 27, loss = 0.49848777\n",
            "Iteration 28, loss = 0.49902803\n",
            "Iteration 29, loss = 0.49862522\n",
            "Iteration 30, loss = 0.49808299\n",
            "[CV 5/5] END activation=relu, alpha=0.001, hidden_layer_sizes=(32, 32), max_iter=30, random_state=42, solver=adam, verbose=True;, score=0.749 total time=   6.9s\n"
          ]
        },
        {
          "name": "stderr",
          "output_type": "stream",
          "text": [
            "/usr/local/lib/python3.10/dist-packages/sklearn/neural_network/_multilayer_perceptron.py:686: ConvergenceWarning: Stochastic Optimizer: Maximum iterations (30) reached and the optimization hasn't converged yet.\n",
            "  warnings.warn(\n"
          ]
        },
        {
          "name": "stdout",
          "output_type": "stream",
          "text": [
            "Iteration 1, loss = 0.53074297\n",
            "Iteration 2, loss = 0.51399419\n",
            "Iteration 3, loss = 0.51127225\n",
            "Iteration 4, loss = 0.51038881\n",
            "Iteration 5, loss = 0.50823940\n",
            "Iteration 6, loss = 0.50765060\n",
            "Iteration 7, loss = 0.50762010\n",
            "Iteration 8, loss = 0.50652890\n",
            "Iteration 9, loss = 0.50608310\n",
            "Iteration 10, loss = 0.50577592\n",
            "Iteration 11, loss = 0.50595961\n",
            "Iteration 12, loss = 0.50485807\n",
            "Iteration 13, loss = 0.50555042\n",
            "Iteration 14, loss = 0.50437789\n",
            "Iteration 15, loss = 0.50453636\n",
            "Iteration 16, loss = 0.50485865\n",
            "Iteration 17, loss = 0.50386508\n",
            "Iteration 18, loss = 0.50383203\n",
            "Iteration 19, loss = 0.50362297\n",
            "Iteration 20, loss = 0.50377162\n",
            "Iteration 21, loss = 0.50329754\n",
            "Iteration 22, loss = 0.50366898\n",
            "Iteration 23, loss = 0.50352631\n",
            "Iteration 24, loss = 0.50352499\n",
            "Iteration 25, loss = 0.50318182\n",
            "Iteration 26, loss = 0.50255322\n",
            "Iteration 27, loss = 0.50277404\n",
            "Iteration 28, loss = 0.50264537\n",
            "Iteration 29, loss = 0.50231815\n",
            "Iteration 30, loss = 0.50213260\n",
            "[CV 1/5] END activation=tanh, alpha=0.01, hidden_layer_sizes=(64, 64), max_iter=30, random_state=42, solver=adam, verbose=True;, score=0.753 total time=  34.3s\n"
          ]
        },
        {
          "name": "stderr",
          "output_type": "stream",
          "text": [
            "/usr/local/lib/python3.10/dist-packages/sklearn/neural_network/_multilayer_perceptron.py:686: ConvergenceWarning: Stochastic Optimizer: Maximum iterations (30) reached and the optimization hasn't converged yet.\n",
            "  warnings.warn(\n"
          ]
        },
        {
          "name": "stdout",
          "output_type": "stream",
          "text": [
            "Iteration 1, loss = 0.53206504\n",
            "Iteration 2, loss = 0.51511107\n",
            "Iteration 3, loss = 0.51234788\n",
            "Iteration 4, loss = 0.51114198\n",
            "Iteration 5, loss = 0.51019384\n",
            "Iteration 6, loss = 0.50915375\n",
            "Iteration 7, loss = 0.50940576\n",
            "Iteration 8, loss = 0.50834689\n",
            "Iteration 9, loss = 0.50708258\n",
            "Iteration 10, loss = 0.50680055\n",
            "Iteration 11, loss = 0.50654034\n",
            "Iteration 12, loss = 0.50597376\n",
            "Iteration 13, loss = 0.50622930\n",
            "Iteration 14, loss = 0.50583528\n",
            "Iteration 15, loss = 0.50558597\n",
            "Iteration 16, loss = 0.50590686\n",
            "Iteration 17, loss = 0.50512955\n",
            "Iteration 18, loss = 0.50511388\n",
            "Iteration 19, loss = 0.50478541\n",
            "Iteration 20, loss = 0.50434570\n",
            "Iteration 21, loss = 0.50440849\n",
            "Iteration 22, loss = 0.50500764\n",
            "Iteration 23, loss = 0.50454836\n",
            "Iteration 24, loss = 0.50474684\n",
            "Iteration 25, loss = 0.50375589\n",
            "Iteration 26, loss = 0.50359889\n",
            "Iteration 27, loss = 0.50381446\n",
            "Iteration 28, loss = 0.50373896\n",
            "Iteration 29, loss = 0.50300250\n",
            "Iteration 30, loss = 0.50351449\n",
            "[CV 2/5] END activation=tanh, alpha=0.01, hidden_layer_sizes=(64, 64), max_iter=30, random_state=42, solver=adam, verbose=True;, score=0.761 total time=  35.1s\n"
          ]
        },
        {
          "name": "stderr",
          "output_type": "stream",
          "text": [
            "/usr/local/lib/python3.10/dist-packages/sklearn/neural_network/_multilayer_perceptron.py:686: ConvergenceWarning: Stochastic Optimizer: Maximum iterations (30) reached and the optimization hasn't converged yet.\n",
            "  warnings.warn(\n"
          ]
        },
        {
          "name": "stdout",
          "output_type": "stream",
          "text": [
            "Iteration 1, loss = 0.53054045\n",
            "Iteration 2, loss = 0.51297425\n",
            "Iteration 3, loss = 0.51004170\n",
            "Iteration 4, loss = 0.50907285\n",
            "Iteration 5, loss = 0.50789361\n",
            "Iteration 6, loss = 0.50642089\n",
            "Iteration 7, loss = 0.50648640\n",
            "Iteration 8, loss = 0.50581771\n",
            "Iteration 9, loss = 0.50532501\n",
            "Iteration 10, loss = 0.50471723\n",
            "Iteration 11, loss = 0.50476364\n",
            "Iteration 12, loss = 0.50418408\n",
            "Iteration 13, loss = 0.50390420\n",
            "Iteration 14, loss = 0.50347023\n",
            "Iteration 15, loss = 0.50324631\n",
            "Iteration 16, loss = 0.50329161\n",
            "Iteration 17, loss = 0.50280121\n",
            "Iteration 18, loss = 0.50354578\n",
            "Iteration 19, loss = 0.50278406\n",
            "Iteration 20, loss = 0.50201872\n",
            "Iteration 21, loss = 0.50246766\n",
            "Iteration 22, loss = 0.50201966\n",
            "Iteration 23, loss = 0.50206512\n",
            "Iteration 24, loss = 0.50246552\n",
            "Iteration 25, loss = 0.50117611\n",
            "Iteration 26, loss = 0.50186115\n",
            "Iteration 27, loss = 0.50130013\n",
            "Iteration 28, loss = 0.50155159\n",
            "Iteration 29, loss = 0.50098367\n",
            "Iteration 30, loss = 0.50104932\n"
          ]
        },
        {
          "name": "stderr",
          "output_type": "stream",
          "text": [
            "/usr/local/lib/python3.10/dist-packages/sklearn/neural_network/_multilayer_perceptron.py:686: ConvergenceWarning: Stochastic Optimizer: Maximum iterations (30) reached and the optimization hasn't converged yet.\n",
            "  warnings.warn(\n"
          ]
        },
        {
          "name": "stdout",
          "output_type": "stream",
          "text": [
            "[CV 3/5] END activation=tanh, alpha=0.01, hidden_layer_sizes=(64, 64), max_iter=30, random_state=42, solver=adam, verbose=True;, score=0.751 total time=  34.1s\n",
            "Iteration 1, loss = 0.53060253\n",
            "Iteration 2, loss = 0.51181435\n",
            "Iteration 3, loss = 0.51059126\n",
            "Iteration 4, loss = 0.50916676\n",
            "Iteration 5, loss = 0.50785944\n",
            "Iteration 6, loss = 0.50676549\n",
            "Iteration 7, loss = 0.50638352\n",
            "Iteration 8, loss = 0.50589115\n",
            "Iteration 9, loss = 0.50506765\n",
            "Iteration 10, loss = 0.50483865\n",
            "Iteration 11, loss = 0.50451766\n",
            "Iteration 12, loss = 0.50378501\n",
            "Iteration 13, loss = 0.50440253\n",
            "Iteration 14, loss = 0.50363875\n",
            "Iteration 15, loss = 0.50353282\n",
            "Iteration 16, loss = 0.50315689\n",
            "Iteration 17, loss = 0.50372534\n",
            "Iteration 18, loss = 0.50267050\n",
            "Iteration 19, loss = 0.50242651\n",
            "Iteration 20, loss = 0.50240255\n",
            "Iteration 21, loss = 0.50203536\n",
            "Iteration 22, loss = 0.50217868\n",
            "Iteration 23, loss = 0.50206405\n",
            "Iteration 24, loss = 0.50174456\n",
            "Iteration 25, loss = 0.50120727\n",
            "Iteration 26, loss = 0.50103885\n",
            "Iteration 27, loss = 0.50067090\n",
            "Iteration 28, loss = 0.50109158\n",
            "Iteration 29, loss = 0.50082566\n",
            "Iteration 30, loss = 0.50148687\n",
            "[CV 4/5] END activation=tanh, alpha=0.01, hidden_layer_sizes=(64, 64), max_iter=30, random_state=42, solver=adam, verbose=True;, score=0.746 total time=  35.4s\n"
          ]
        },
        {
          "name": "stderr",
          "output_type": "stream",
          "text": [
            "/usr/local/lib/python3.10/dist-packages/sklearn/neural_network/_multilayer_perceptron.py:686: ConvergenceWarning: Stochastic Optimizer: Maximum iterations (30) reached and the optimization hasn't converged yet.\n",
            "  warnings.warn(\n"
          ]
        },
        {
          "name": "stdout",
          "output_type": "stream",
          "text": [
            "Iteration 1, loss = 0.53296867\n",
            "Iteration 2, loss = 0.51388471\n",
            "Iteration 3, loss = 0.51216369\n",
            "Iteration 4, loss = 0.51017480\n",
            "Iteration 5, loss = 0.50963865\n",
            "Iteration 6, loss = 0.50859604\n",
            "Iteration 7, loss = 0.50747001\n",
            "Iteration 8, loss = 0.50720578\n",
            "Iteration 9, loss = 0.50681708\n",
            "Iteration 10, loss = 0.50638218\n",
            "Iteration 11, loss = 0.50582739\n",
            "Iteration 12, loss = 0.50532561\n",
            "Iteration 13, loss = 0.50653396\n",
            "Iteration 14, loss = 0.50556185\n",
            "Iteration 15, loss = 0.50471814\n",
            "Iteration 16, loss = 0.50513335\n",
            "Iteration 17, loss = 0.50511488\n",
            "Iteration 18, loss = 0.50448001\n",
            "Iteration 19, loss = 0.50364511\n",
            "Iteration 20, loss = 0.50394610\n",
            "Iteration 21, loss = 0.50415812\n",
            "Iteration 22, loss = 0.50364932\n",
            "Iteration 23, loss = 0.50337835\n",
            "Iteration 24, loss = 0.50335346\n",
            "Iteration 25, loss = 0.50266752\n",
            "Iteration 26, loss = 0.50248619\n",
            "Iteration 27, loss = 0.50285804\n",
            "Iteration 28, loss = 0.50272043\n",
            "Iteration 29, loss = 0.50237948\n",
            "Iteration 30, loss = 0.50258779\n",
            "[CV 5/5] END activation=tanh, alpha=0.01, hidden_layer_sizes=(64, 64), max_iter=30, random_state=42, solver=adam, verbose=True;, score=0.754 total time=  34.5s\n"
          ]
        },
        {
          "name": "stderr",
          "output_type": "stream",
          "text": [
            "/usr/local/lib/python3.10/dist-packages/sklearn/neural_network/_multilayer_perceptron.py:686: ConvergenceWarning: Stochastic Optimizer: Maximum iterations (30) reached and the optimization hasn't converged yet.\n",
            "  warnings.warn(\n"
          ]
        },
        {
          "name": "stdout",
          "output_type": "stream",
          "text": [
            "Iteration 1, loss = 0.53814836\n",
            "Iteration 2, loss = 0.51326679\n",
            "Iteration 3, loss = 0.51061732\n",
            "Iteration 4, loss = 0.50952254\n",
            "Iteration 5, loss = 0.50856395\n",
            "Iteration 6, loss = 0.50845541\n",
            "Iteration 7, loss = 0.50700194\n",
            "Iteration 8, loss = 0.50637028\n",
            "Iteration 9, loss = 0.50621073\n",
            "Iteration 10, loss = 0.50588668\n",
            "Iteration 11, loss = 0.50538008\n",
            "Iteration 12, loss = 0.50524438\n",
            "Iteration 13, loss = 0.50493742\n",
            "Iteration 14, loss = 0.50482307\n",
            "Iteration 15, loss = 0.50397178\n",
            "Iteration 16, loss = 0.50419412\n",
            "Iteration 17, loss = 0.50374442\n",
            "Iteration 18, loss = 0.50383756\n",
            "Iteration 19, loss = 0.50379649\n",
            "Iteration 20, loss = 0.50336501\n",
            "Iteration 21, loss = 0.50331784\n",
            "Iteration 22, loss = 0.50318872\n",
            "Iteration 23, loss = 0.50299126\n",
            "Iteration 24, loss = 0.50253146\n",
            "Iteration 25, loss = 0.50273944\n",
            "Iteration 26, loss = 0.50209027\n",
            "Iteration 27, loss = 0.50250520\n",
            "Iteration 28, loss = 0.50222368\n",
            "Iteration 29, loss = 0.50217090\n",
            "Iteration 30, loss = 0.50215378\n",
            "[CV 1/5] END activation=tanh, alpha=0.01, hidden_layer_sizes=(32, 32), max_iter=30, random_state=42, solver=adam, verbose=True;, score=0.752 total time=  13.1s\n"
          ]
        },
        {
          "name": "stderr",
          "output_type": "stream",
          "text": [
            "/usr/local/lib/python3.10/dist-packages/sklearn/neural_network/_multilayer_perceptron.py:686: ConvergenceWarning: Stochastic Optimizer: Maximum iterations (30) reached and the optimization hasn't converged yet.\n",
            "  warnings.warn(\n"
          ]
        },
        {
          "name": "stdout",
          "output_type": "stream",
          "text": [
            "Iteration 1, loss = 0.53989281\n",
            "Iteration 2, loss = 0.51464717\n",
            "Iteration 3, loss = 0.51147102\n",
            "Iteration 4, loss = 0.51119818\n",
            "Iteration 5, loss = 0.51044528\n",
            "Iteration 6, loss = 0.50924751\n",
            "Iteration 7, loss = 0.50832645\n",
            "Iteration 8, loss = 0.50763935\n",
            "Iteration 9, loss = 0.50798642\n",
            "Iteration 10, loss = 0.50720150\n",
            "Iteration 11, loss = 0.50677882\n",
            "Iteration 12, loss = 0.50635317\n",
            "Iteration 13, loss = 0.50624983\n",
            "Iteration 14, loss = 0.50587370\n",
            "Iteration 15, loss = 0.50508772\n",
            "Iteration 16, loss = 0.50529475\n",
            "Iteration 17, loss = 0.50519444\n",
            "Iteration 18, loss = 0.50528792\n",
            "Iteration 19, loss = 0.50476830\n",
            "Iteration 20, loss = 0.50479657\n",
            "Iteration 21, loss = 0.50511771\n",
            "Iteration 22, loss = 0.50417876\n",
            "Iteration 23, loss = 0.50447273\n",
            "Iteration 24, loss = 0.50409488\n",
            "Iteration 25, loss = 0.50391988\n",
            "Iteration 26, loss = 0.50373987\n",
            "Iteration 27, loss = 0.50377967\n",
            "Iteration 28, loss = 0.50371681\n",
            "Iteration 29, loss = 0.50325477\n",
            "Iteration 30, loss = 0.50429514\n",
            "[CV 2/5] END activation=tanh, alpha=0.01, hidden_layer_sizes=(32, 32), max_iter=30, random_state=42, solver=adam, verbose=True;, score=0.757 total time=  13.7s\n"
          ]
        },
        {
          "name": "stderr",
          "output_type": "stream",
          "text": [
            "/usr/local/lib/python3.10/dist-packages/sklearn/neural_network/_multilayer_perceptron.py:686: ConvergenceWarning: Stochastic Optimizer: Maximum iterations (30) reached and the optimization hasn't converged yet.\n",
            "  warnings.warn(\n"
          ]
        },
        {
          "name": "stdout",
          "output_type": "stream",
          "text": [
            "Iteration 1, loss = 0.54047403\n",
            "Iteration 2, loss = 0.51359597\n",
            "Iteration 3, loss = 0.50983509\n",
            "Iteration 4, loss = 0.50937547\n",
            "Iteration 5, loss = 0.50797998\n",
            "Iteration 6, loss = 0.50751571\n",
            "Iteration 7, loss = 0.50630186\n",
            "Iteration 8, loss = 0.50578575\n",
            "Iteration 9, loss = 0.50633648\n",
            "Iteration 10, loss = 0.50480527\n",
            "Iteration 11, loss = 0.50503931\n",
            "Iteration 12, loss = 0.50389322\n",
            "Iteration 13, loss = 0.50368211\n",
            "Iteration 14, loss = 0.50351024\n",
            "Iteration 15, loss = 0.50320326\n",
            "Iteration 16, loss = 0.50326533\n",
            "Iteration 17, loss = 0.50274163\n",
            "Iteration 18, loss = 0.50304389\n",
            "Iteration 19, loss = 0.50268522\n",
            "Iteration 20, loss = 0.50241043\n",
            "Iteration 21, loss = 0.50230562\n",
            "Iteration 22, loss = 0.50201718\n",
            "Iteration 23, loss = 0.50171511\n",
            "Iteration 24, loss = 0.50180847\n",
            "Iteration 25, loss = 0.50169750\n",
            "Iteration 26, loss = 0.50137543\n",
            "Iteration 27, loss = 0.50133909\n",
            "Iteration 28, loss = 0.50144781\n",
            "Iteration 29, loss = 0.50097280\n",
            "Iteration 30, loss = 0.50176827\n",
            "[CV 3/5] END activation=tanh, alpha=0.01, hidden_layer_sizes=(32, 32), max_iter=30, random_state=42, solver=adam, verbose=True;, score=0.749 total time=  11.9s\n"
          ]
        },
        {
          "name": "stderr",
          "output_type": "stream",
          "text": [
            "/usr/local/lib/python3.10/dist-packages/sklearn/neural_network/_multilayer_perceptron.py:686: ConvergenceWarning: Stochastic Optimizer: Maximum iterations (30) reached and the optimization hasn't converged yet.\n",
            "  warnings.warn(\n"
          ]
        },
        {
          "name": "stdout",
          "output_type": "stream",
          "text": [
            "Iteration 1, loss = 0.53926641\n",
            "Iteration 2, loss = 0.51236555\n",
            "Iteration 3, loss = 0.50969883\n",
            "Iteration 4, loss = 0.50783158\n",
            "Iteration 5, loss = 0.50824922\n",
            "Iteration 6, loss = 0.50712069\n",
            "Iteration 7, loss = 0.50640421\n",
            "Iteration 8, loss = 0.50570979\n",
            "Iteration 9, loss = 0.50493165\n",
            "Iteration 10, loss = 0.50509250\n",
            "Iteration 11, loss = 0.50473523\n",
            "Iteration 12, loss = 0.50421035\n",
            "Iteration 13, loss = 0.50400434\n",
            "Iteration 14, loss = 0.50326620\n",
            "Iteration 15, loss = 0.50363098\n",
            "Iteration 16, loss = 0.50341856\n",
            "Iteration 17, loss = 0.50285043\n",
            "Iteration 18, loss = 0.50273601\n",
            "Iteration 19, loss = 0.50231886\n",
            "Iteration 20, loss = 0.50237978\n",
            "Iteration 21, loss = 0.50216841\n",
            "Iteration 22, loss = 0.50192338\n",
            "Iteration 23, loss = 0.50161918\n",
            "Iteration 24, loss = 0.50168608\n",
            "Iteration 25, loss = 0.50172994\n",
            "Iteration 26, loss = 0.50149442\n",
            "Iteration 27, loss = 0.50087105\n",
            "Iteration 28, loss = 0.50136459\n",
            "Iteration 29, loss = 0.50078135\n",
            "Iteration 30, loss = 0.50097406\n",
            "[CV 4/5] END activation=tanh, alpha=0.01, hidden_layer_sizes=(32, 32), max_iter=30, random_state=42, solver=adam, verbose=True;, score=0.747 total time=  14.1s\n"
          ]
        },
        {
          "name": "stderr",
          "output_type": "stream",
          "text": [
            "/usr/local/lib/python3.10/dist-packages/sklearn/neural_network/_multilayer_perceptron.py:686: ConvergenceWarning: Stochastic Optimizer: Maximum iterations (30) reached and the optimization hasn't converged yet.\n",
            "  warnings.warn(\n"
          ]
        },
        {
          "name": "stdout",
          "output_type": "stream",
          "text": [
            "Iteration 1, loss = 0.54038819\n",
            "Iteration 2, loss = 0.51410191\n",
            "Iteration 3, loss = 0.51129422\n",
            "Iteration 4, loss = 0.50979267\n",
            "Iteration 5, loss = 0.50964523\n",
            "Iteration 6, loss = 0.50859667\n",
            "Iteration 7, loss = 0.50792146\n",
            "Iteration 8, loss = 0.50749661\n",
            "Iteration 9, loss = 0.50705784\n",
            "Iteration 10, loss = 0.50673376\n",
            "Iteration 11, loss = 0.50635239\n",
            "Iteration 12, loss = 0.50616723\n",
            "Iteration 13, loss = 0.50599206\n",
            "Iteration 14, loss = 0.50521590\n",
            "Iteration 15, loss = 0.50538227\n",
            "Iteration 16, loss = 0.50514349\n",
            "Iteration 17, loss = 0.50495993\n",
            "Iteration 18, loss = 0.50437855\n",
            "Iteration 19, loss = 0.50416962\n",
            "Iteration 20, loss = 0.50409875\n",
            "Iteration 21, loss = 0.50379352\n",
            "Iteration 22, loss = 0.50392221\n",
            "Iteration 23, loss = 0.50415170\n",
            "Iteration 24, loss = 0.50354602\n",
            "Iteration 25, loss = 0.50340402\n",
            "Iteration 26, loss = 0.50346704\n",
            "Iteration 27, loss = 0.50304651\n",
            "Iteration 28, loss = 0.50363215\n",
            "Iteration 29, loss = 0.50302028\n",
            "Iteration 30, loss = 0.50271308\n",
            "[CV 5/5] END activation=tanh, alpha=0.01, hidden_layer_sizes=(32, 32), max_iter=30, random_state=42, solver=adam, verbose=True;, score=0.751 total time=  12.7s\n"
          ]
        },
        {
          "name": "stderr",
          "output_type": "stream",
          "text": [
            "/usr/local/lib/python3.10/dist-packages/sklearn/neural_network/_multilayer_perceptron.py:686: ConvergenceWarning: Stochastic Optimizer: Maximum iterations (30) reached and the optimization hasn't converged yet.\n",
            "  warnings.warn(\n"
          ]
        },
        {
          "name": "stdout",
          "output_type": "stream",
          "text": [
            "Iteration 1, loss = 0.52818811\n",
            "Iteration 2, loss = 0.51140939\n",
            "Iteration 3, loss = 0.50867820\n",
            "Iteration 4, loss = 0.50778799\n",
            "Iteration 5, loss = 0.50562875\n",
            "Iteration 6, loss = 0.50503180\n",
            "Iteration 7, loss = 0.50500242\n",
            "Iteration 8, loss = 0.50389376\n",
            "Iteration 9, loss = 0.50343391\n",
            "Iteration 10, loss = 0.50312012\n",
            "Iteration 11, loss = 0.50329674\n",
            "Iteration 12, loss = 0.50217161\n",
            "Iteration 13, loss = 0.50284711\n",
            "Iteration 14, loss = 0.50166491\n",
            "Iteration 15, loss = 0.50178170\n",
            "Iteration 16, loss = 0.50209890\n",
            "Iteration 17, loss = 0.50109348\n",
            "Iteration 18, loss = 0.50102405\n",
            "Iteration 19, loss = 0.50081527\n",
            "Iteration 20, loss = 0.50093115\n",
            "Iteration 21, loss = 0.50038262\n",
            "Iteration 22, loss = 0.50074925\n",
            "Iteration 23, loss = 0.50056510\n",
            "Iteration 24, loss = 0.50052715\n",
            "Iteration 25, loss = 0.50016062\n",
            "Iteration 26, loss = 0.49948850\n",
            "Iteration 27, loss = 0.49961033\n",
            "Iteration 28, loss = 0.49948615\n",
            "Iteration 29, loss = 0.49908625\n",
            "Iteration 30, loss = 0.49885068\n",
            "[CV 1/5] END activation=tanh, alpha=0.001, hidden_layer_sizes=(64, 64), max_iter=30, random_state=42, solver=adam, verbose=True;, score=0.753 total time=  35.8s\n"
          ]
        },
        {
          "name": "stderr",
          "output_type": "stream",
          "text": [
            "/usr/local/lib/python3.10/dist-packages/sklearn/neural_network/_multilayer_perceptron.py:686: ConvergenceWarning: Stochastic Optimizer: Maximum iterations (30) reached and the optimization hasn't converged yet.\n",
            "  warnings.warn(\n"
          ]
        },
        {
          "name": "stdout",
          "output_type": "stream",
          "text": [
            "Iteration 1, loss = 0.52951107\n",
            "Iteration 2, loss = 0.51253228\n",
            "Iteration 3, loss = 0.50975894\n",
            "Iteration 4, loss = 0.50854294\n",
            "Iteration 5, loss = 0.50758647\n",
            "Iteration 6, loss = 0.50652853\n",
            "Iteration 7, loss = 0.50677952\n",
            "Iteration 8, loss = 0.50569519\n",
            "Iteration 9, loss = 0.50441851\n",
            "Iteration 10, loss = 0.50412134\n",
            "Iteration 11, loss = 0.50384783\n",
            "Iteration 12, loss = 0.50325625\n",
            "Iteration 13, loss = 0.50349427\n",
            "Iteration 14, loss = 0.50307853\n",
            "Iteration 15, loss = 0.50280111\n",
            "Iteration 16, loss = 0.50311151\n",
            "Iteration 17, loss = 0.50229606\n",
            "Iteration 18, loss = 0.50223078\n",
            "Iteration 19, loss = 0.50189975\n",
            "Iteration 20, loss = 0.50142319\n",
            "Iteration 21, loss = 0.50143852\n",
            "Iteration 22, loss = 0.50208248\n",
            "Iteration 23, loss = 0.50152100\n",
            "Iteration 24, loss = 0.50170379\n",
            "Iteration 25, loss = 0.50066800\n",
            "Iteration 26, loss = 0.50050414\n",
            "Iteration 27, loss = 0.50063747\n",
            "Iteration 28, loss = 0.50054887\n",
            "Iteration 29, loss = 0.49975484\n",
            "Iteration 30, loss = 0.50023139\n",
            "[CV 2/5] END activation=tanh, alpha=0.001, hidden_layer_sizes=(64, 64), max_iter=30, random_state=42, solver=adam, verbose=True;, score=0.760 total time=  36.3s\n"
          ]
        },
        {
          "name": "stderr",
          "output_type": "stream",
          "text": [
            "/usr/local/lib/python3.10/dist-packages/sklearn/neural_network/_multilayer_perceptron.py:686: ConvergenceWarning: Stochastic Optimizer: Maximum iterations (30) reached and the optimization hasn't converged yet.\n",
            "  warnings.warn(\n"
          ]
        },
        {
          "name": "stdout",
          "output_type": "stream",
          "text": [
            "Iteration 1, loss = 0.52798351\n",
            "Iteration 2, loss = 0.51039431\n",
            "Iteration 3, loss = 0.50744338\n",
            "Iteration 4, loss = 0.50646807\n",
            "Iteration 5, loss = 0.50528041\n",
            "Iteration 6, loss = 0.50379182\n",
            "Iteration 7, loss = 0.50384392\n",
            "Iteration 8, loss = 0.50315824\n",
            "Iteration 9, loss = 0.50264929\n",
            "Iteration 10, loss = 0.50202504\n",
            "Iteration 11, loss = 0.50205189\n",
            "Iteration 12, loss = 0.50145600\n",
            "Iteration 13, loss = 0.50114748\n",
            "Iteration 14, loss = 0.50068008\n",
            "Iteration 15, loss = 0.50042738\n",
            "Iteration 16, loss = 0.50045034\n",
            "Iteration 17, loss = 0.49992063\n",
            "Iteration 18, loss = 0.50059596\n",
            "Iteration 19, loss = 0.49984617\n",
            "Iteration 20, loss = 0.49901745\n",
            "Iteration 21, loss = 0.49940855\n",
            "Iteration 22, loss = 0.49896695\n",
            "Iteration 23, loss = 0.49895330\n",
            "Iteration 24, loss = 0.49930363\n",
            "Iteration 25, loss = 0.49799843\n",
            "Iteration 26, loss = 0.49864345\n",
            "Iteration 27, loss = 0.49801367\n",
            "Iteration 28, loss = 0.49826807\n",
            "Iteration 29, loss = 0.49763098\n",
            "Iteration 30, loss = 0.49763153\n",
            "[CV 3/5] END activation=tanh, alpha=0.001, hidden_layer_sizes=(64, 64), max_iter=30, random_state=42, solver=adam, verbose=True;, score=0.751 total time=  34.3s\n"
          ]
        },
        {
          "name": "stderr",
          "output_type": "stream",
          "text": [
            "/usr/local/lib/python3.10/dist-packages/sklearn/neural_network/_multilayer_perceptron.py:686: ConvergenceWarning: Stochastic Optimizer: Maximum iterations (30) reached and the optimization hasn't converged yet.\n",
            "  warnings.warn(\n"
          ]
        },
        {
          "name": "stdout",
          "output_type": "stream",
          "text": [
            "Iteration 1, loss = 0.52805108\n",
            "Iteration 2, loss = 0.50923540\n",
            "Iteration 3, loss = 0.50799948\n",
            "Iteration 4, loss = 0.50655961\n",
            "Iteration 5, loss = 0.50524013\n",
            "Iteration 6, loss = 0.50412426\n",
            "Iteration 7, loss = 0.50372801\n",
            "Iteration 8, loss = 0.50321394\n",
            "Iteration 9, loss = 0.50237137\n",
            "Iteration 10, loss = 0.50212514\n",
            "Iteration 11, loss = 0.50178000\n",
            "Iteration 12, loss = 0.50102247\n",
            "Iteration 13, loss = 0.50160154\n",
            "Iteration 14, loss = 0.50081609\n",
            "Iteration 15, loss = 0.50068508\n",
            "Iteration 16, loss = 0.50027986\n",
            "Iteration 17, loss = 0.50082534\n",
            "Iteration 18, loss = 0.49972126\n",
            "Iteration 19, loss = 0.49943319\n",
            "Iteration 20, loss = 0.49940918\n",
            "Iteration 21, loss = 0.49897604\n",
            "Iteration 22, loss = 0.49905761\n",
            "Iteration 23, loss = 0.49893342\n",
            "Iteration 24, loss = 0.49858510\n",
            "Iteration 25, loss = 0.49797235\n",
            "Iteration 26, loss = 0.49776578\n",
            "Iteration 27, loss = 0.49737769\n",
            "Iteration 28, loss = 0.49768950\n",
            "Iteration 29, loss = 0.49738079\n",
            "Iteration 30, loss = 0.49796718\n",
            "[CV 4/5] END activation=tanh, alpha=0.001, hidden_layer_sizes=(64, 64), max_iter=30, random_state=42, solver=adam, verbose=True;, score=0.747 total time=  41.9s\n"
          ]
        },
        {
          "name": "stderr",
          "output_type": "stream",
          "text": [
            "/usr/local/lib/python3.10/dist-packages/sklearn/neural_network/_multilayer_perceptron.py:686: ConvergenceWarning: Stochastic Optimizer: Maximum iterations (30) reached and the optimization hasn't converged yet.\n",
            "  warnings.warn(\n"
          ]
        },
        {
          "name": "stdout",
          "output_type": "stream",
          "text": [
            "Iteration 1, loss = 0.53041473\n",
            "Iteration 2, loss = 0.51130236\n",
            "Iteration 3, loss = 0.50957583\n",
            "Iteration 4, loss = 0.50757333\n",
            "Iteration 5, loss = 0.50703184\n",
            "Iteration 6, loss = 0.50597956\n",
            "Iteration 7, loss = 0.50484048\n",
            "Iteration 8, loss = 0.50456227\n",
            "Iteration 9, loss = 0.50416316\n",
            "Iteration 10, loss = 0.50371896\n",
            "Iteration 11, loss = 0.50314863\n",
            "Iteration 12, loss = 0.50263271\n",
            "Iteration 13, loss = 0.50380855\n",
            "Iteration 14, loss = 0.50282920\n",
            "Iteration 15, loss = 0.50196869\n",
            "Iteration 16, loss = 0.50232166\n",
            "Iteration 17, loss = 0.50230243\n",
            "Iteration 18, loss = 0.50164565\n",
            "Iteration 19, loss = 0.50077422\n",
            "Iteration 20, loss = 0.50108734\n",
            "Iteration 21, loss = 0.50123627\n",
            "Iteration 22, loss = 0.50068205\n",
            "Iteration 23, loss = 0.50039766\n",
            "Iteration 24, loss = 0.50033650\n",
            "Iteration 25, loss = 0.49957503\n",
            "Iteration 26, loss = 0.49936064\n",
            "Iteration 27, loss = 0.49971343\n",
            "Iteration 28, loss = 0.49948943\n",
            "Iteration 29, loss = 0.49910864\n",
            "Iteration 30, loss = 0.49926188\n",
            "[CV 5/5] END activation=tanh, alpha=0.001, hidden_layer_sizes=(64, 64), max_iter=30, random_state=42, solver=adam, verbose=True;, score=0.755 total time=  30.9s\n"
          ]
        },
        {
          "name": "stderr",
          "output_type": "stream",
          "text": [
            "/usr/local/lib/python3.10/dist-packages/sklearn/neural_network/_multilayer_perceptron.py:686: ConvergenceWarning: Stochastic Optimizer: Maximum iterations (30) reached and the optimization hasn't converged yet.\n",
            "  warnings.warn(\n"
          ]
        },
        {
          "name": "stdout",
          "output_type": "stream",
          "text": [
            "Iteration 1, loss = 0.53656127\n",
            "Iteration 2, loss = 0.51164768\n",
            "Iteration 3, loss = 0.50899351\n",
            "Iteration 4, loss = 0.50789240\n",
            "Iteration 5, loss = 0.50692395\n",
            "Iteration 6, loss = 0.50680313\n",
            "Iteration 7, loss = 0.50533523\n",
            "Iteration 8, loss = 0.50468072\n",
            "Iteration 9, loss = 0.50450442\n",
            "Iteration 10, loss = 0.50416617\n",
            "Iteration 11, loss = 0.50363606\n",
            "Iteration 12, loss = 0.50348023\n",
            "Iteration 13, loss = 0.50314495\n",
            "Iteration 14, loss = 0.50300714\n",
            "Iteration 15, loss = 0.50212071\n",
            "Iteration 16, loss = 0.50230718\n",
            "Iteration 17, loss = 0.50184142\n",
            "Iteration 18, loss = 0.50190879\n",
            "Iteration 19, loss = 0.50183198\n",
            "Iteration 20, loss = 0.50139194\n",
            "Iteration 21, loss = 0.50130283\n",
            "Iteration 22, loss = 0.50115376\n",
            "Iteration 23, loss = 0.50092941\n",
            "Iteration 24, loss = 0.50043510\n",
            "Iteration 25, loss = 0.50061550\n",
            "Iteration 26, loss = 0.49993870\n",
            "Iteration 27, loss = 0.50033957\n",
            "Iteration 28, loss = 0.50002605\n",
            "Iteration 29, loss = 0.49996806\n",
            "Iteration 30, loss = 0.49990959\n",
            "[CV 1/5] END activation=tanh, alpha=0.001, hidden_layer_sizes=(32, 32), max_iter=30, random_state=42, solver=adam, verbose=True;, score=0.752 total time=  14.2s\n"
          ]
        },
        {
          "name": "stderr",
          "output_type": "stream",
          "text": [
            "/usr/local/lib/python3.10/dist-packages/sklearn/neural_network/_multilayer_perceptron.py:686: ConvergenceWarning: Stochastic Optimizer: Maximum iterations (30) reached and the optimization hasn't converged yet.\n",
            "  warnings.warn(\n"
          ]
        },
        {
          "name": "stdout",
          "output_type": "stream",
          "text": [
            "Iteration 1, loss = 0.53830679\n",
            "Iteration 2, loss = 0.51303230\n",
            "Iteration 3, loss = 0.50985135\n",
            "Iteration 4, loss = 0.50957388\n",
            "Iteration 5, loss = 0.50881734\n",
            "Iteration 6, loss = 0.50760503\n",
            "Iteration 7, loss = 0.50666984\n",
            "Iteration 8, loss = 0.50596640\n",
            "Iteration 9, loss = 0.50628840\n",
            "Iteration 10, loss = 0.50549440\n",
            "Iteration 11, loss = 0.50505193\n",
            "Iteration 12, loss = 0.50460761\n",
            "Iteration 13, loss = 0.50447947\n",
            "Iteration 14, loss = 0.50409974\n",
            "Iteration 15, loss = 0.50327939\n",
            "Iteration 16, loss = 0.50346916\n",
            "Iteration 17, loss = 0.50333704\n",
            "Iteration 18, loss = 0.50340909\n",
            "Iteration 19, loss = 0.50287888\n",
            "Iteration 20, loss = 0.50287919\n",
            "Iteration 21, loss = 0.50317533\n",
            "Iteration 22, loss = 0.50220838\n",
            "Iteration 23, loss = 0.50248939\n",
            "Iteration 24, loss = 0.50207405\n",
            "Iteration 25, loss = 0.50186684\n",
            "Iteration 26, loss = 0.50164522\n",
            "Iteration 27, loss = 0.50167824\n",
            "Iteration 28, loss = 0.50155001\n",
            "Iteration 29, loss = 0.50107781\n",
            "Iteration 30, loss = 0.50210026\n",
            "[CV 2/5] END activation=tanh, alpha=0.001, hidden_layer_sizes=(32, 32), max_iter=30, random_state=42, solver=adam, verbose=True;, score=0.757 total time=  12.4s\n"
          ]
        },
        {
          "name": "stderr",
          "output_type": "stream",
          "text": [
            "/usr/local/lib/python3.10/dist-packages/sklearn/neural_network/_multilayer_perceptron.py:686: ConvergenceWarning: Stochastic Optimizer: Maximum iterations (30) reached and the optimization hasn't converged yet.\n",
            "  warnings.warn(\n"
          ]
        },
        {
          "name": "stdout",
          "output_type": "stream",
          "text": [
            "Iteration 1, loss = 0.53889061\n",
            "Iteration 2, loss = 0.51198128\n",
            "Iteration 3, loss = 0.50821373\n",
            "Iteration 4, loss = 0.50774894\n",
            "Iteration 5, loss = 0.50634801\n",
            "Iteration 6, loss = 0.50586608\n",
            "Iteration 7, loss = 0.50463038\n",
            "Iteration 8, loss = 0.50410162\n",
            "Iteration 9, loss = 0.50462684\n",
            "Iteration 10, loss = 0.50308712\n",
            "Iteration 11, loss = 0.50329579\n",
            "Iteration 12, loss = 0.50212584\n",
            "Iteration 13, loss = 0.50189539\n",
            "Iteration 14, loss = 0.50169667\n",
            "Iteration 15, loss = 0.50136909\n",
            "Iteration 16, loss = 0.50140526\n",
            "Iteration 17, loss = 0.50083981\n",
            "Iteration 18, loss = 0.50112717\n",
            "Iteration 19, loss = 0.50074972\n",
            "Iteration 20, loss = 0.50044433\n",
            "Iteration 21, loss = 0.50029233\n",
            "Iteration 22, loss = 0.49999430\n",
            "Iteration 23, loss = 0.49965523\n",
            "Iteration 24, loss = 0.49972209\n",
            "Iteration 25, loss = 0.49957425\n",
            "Iteration 26, loss = 0.49921357\n",
            "Iteration 27, loss = 0.49916423\n",
            "Iteration 28, loss = 0.49921377\n",
            "Iteration 29, loss = 0.49872534\n",
            "Iteration 30, loss = 0.49948361\n",
            "[CV 3/5] END activation=tanh, alpha=0.001, hidden_layer_sizes=(32, 32), max_iter=30, random_state=42, solver=adam, verbose=True;, score=0.748 total time=  13.3s\n"
          ]
        },
        {
          "name": "stderr",
          "output_type": "stream",
          "text": [
            "/usr/local/lib/python3.10/dist-packages/sklearn/neural_network/_multilayer_perceptron.py:686: ConvergenceWarning: Stochastic Optimizer: Maximum iterations (30) reached and the optimization hasn't converged yet.\n",
            "  warnings.warn(\n"
          ]
        },
        {
          "name": "stdout",
          "output_type": "stream",
          "text": [
            "Iteration 1, loss = 0.53768281\n",
            "Iteration 2, loss = 0.51074960\n",
            "Iteration 3, loss = 0.50807536\n",
            "Iteration 4, loss = 0.50620200\n",
            "Iteration 5, loss = 0.50661144\n",
            "Iteration 6, loss = 0.50547515\n",
            "Iteration 7, loss = 0.50473971\n",
            "Iteration 8, loss = 0.50402893\n",
            "Iteration 9, loss = 0.50323016\n",
            "Iteration 10, loss = 0.50336802\n",
            "Iteration 11, loss = 0.50299219\n",
            "Iteration 12, loss = 0.50244454\n",
            "Iteration 13, loss = 0.50221522\n",
            "Iteration 14, loss = 0.50146056\n",
            "Iteration 15, loss = 0.50176891\n",
            "Iteration 16, loss = 0.50154999\n",
            "Iteration 17, loss = 0.50093140\n",
            "Iteration 18, loss = 0.50078497\n",
            "Iteration 19, loss = 0.50035478\n",
            "Iteration 20, loss = 0.50037855\n",
            "Iteration 21, loss = 0.50012980\n",
            "Iteration 22, loss = 0.49984823\n",
            "Iteration 23, loss = 0.49949359\n",
            "Iteration 24, loss = 0.49954587\n",
            "Iteration 25, loss = 0.49954989\n",
            "Iteration 26, loss = 0.49928768\n",
            "Iteration 27, loss = 0.49862671\n",
            "Iteration 28, loss = 0.49908875\n",
            "Iteration 29, loss = 0.49847171\n",
            "Iteration 30, loss = 0.49860239\n",
            "[CV 4/5] END activation=tanh, alpha=0.001, hidden_layer_sizes=(32, 32), max_iter=30, random_state=42, solver=adam, verbose=True;, score=0.747 total time=  13.5s\n"
          ]
        },
        {
          "name": "stderr",
          "output_type": "stream",
          "text": [
            "/usr/local/lib/python3.10/dist-packages/sklearn/neural_network/_multilayer_perceptron.py:686: ConvergenceWarning: Stochastic Optimizer: Maximum iterations (30) reached and the optimization hasn't converged yet.\n",
            "  warnings.warn(\n"
          ]
        },
        {
          "name": "stdout",
          "output_type": "stream",
          "text": [
            "Iteration 1, loss = 0.53880414\n",
            "Iteration 2, loss = 0.51248950\n",
            "Iteration 3, loss = 0.50967830\n",
            "Iteration 4, loss = 0.50817498\n",
            "Iteration 5, loss = 0.50802009\n",
            "Iteration 6, loss = 0.50696470\n",
            "Iteration 7, loss = 0.50627116\n",
            "Iteration 8, loss = 0.50583703\n",
            "Iteration 9, loss = 0.50537907\n",
            "Iteration 10, loss = 0.50503260\n",
            "Iteration 11, loss = 0.50463519\n",
            "Iteration 12, loss = 0.50443669\n",
            "Iteration 13, loss = 0.50423149\n",
            "Iteration 14, loss = 0.50344697\n",
            "Iteration 15, loss = 0.50357064\n",
            "Iteration 16, loss = 0.50332705\n",
            "Iteration 17, loss = 0.50311310\n",
            "Iteration 18, loss = 0.50250810\n",
            "Iteration 19, loss = 0.50228718\n",
            "Iteration 20, loss = 0.50219669\n",
            "Iteration 21, loss = 0.50187649\n",
            "Iteration 22, loss = 0.50195479\n",
            "Iteration 23, loss = 0.50217503\n",
            "Iteration 24, loss = 0.50153928\n",
            "Iteration 25, loss = 0.50137527\n",
            "Iteration 26, loss = 0.50142947\n",
            "Iteration 27, loss = 0.50096458\n",
            "Iteration 28, loss = 0.50153653\n",
            "Iteration 29, loss = 0.50087434\n",
            "Iteration 30, loss = 0.50052020\n",
            "[CV 5/5] END activation=tanh, alpha=0.001, hidden_layer_sizes=(32, 32), max_iter=30, random_state=42, solver=adam, verbose=True;, score=0.751 total time=  12.2s\n"
          ]
        },
        {
          "name": "stderr",
          "output_type": "stream",
          "text": [
            "/usr/local/lib/python3.10/dist-packages/sklearn/neural_network/_multilayer_perceptron.py:686: ConvergenceWarning: Stochastic Optimizer: Maximum iterations (30) reached and the optimization hasn't converged yet.\n",
            "  warnings.warn(\n"
          ]
        },
        {
          "name": "stdout",
          "output_type": "stream",
          "text": [
            "Iteration 1, loss = 0.52900524\n",
            "Iteration 2, loss = 0.51276830\n",
            "Iteration 3, loss = 0.51026062\n",
            "Iteration 4, loss = 0.50890515\n",
            "Iteration 5, loss = 0.50789563\n",
            "Iteration 6, loss = 0.50773033\n",
            "Iteration 7, loss = 0.50666715\n",
            "Iteration 8, loss = 0.50585023\n",
            "Iteration 9, loss = 0.50652858\n",
            "Iteration 10, loss = 0.50536643\n",
            "Iteration 11, loss = 0.50529797\n",
            "Iteration 12, loss = 0.50484627\n",
            "Iteration 13, loss = 0.50417156\n",
            "Iteration 14, loss = 0.50444159\n",
            "Iteration 15, loss = 0.50420878\n",
            "Iteration 16, loss = 0.50352852\n",
            "Iteration 17, loss = 0.50350372\n",
            "Iteration 18, loss = 0.50320902\n",
            "Iteration 19, loss = 0.50321546\n",
            "Iteration 20, loss = 0.50305321\n",
            "Iteration 21, loss = 0.50292497\n",
            "Iteration 22, loss = 0.50268385\n",
            "Iteration 23, loss = 0.50302049\n",
            "Iteration 24, loss = 0.50245658\n",
            "Iteration 25, loss = 0.50270674\n",
            "Iteration 26, loss = 0.50204829\n",
            "Iteration 27, loss = 0.50182244\n",
            "Iteration 28, loss = 0.50202919\n",
            "Iteration 29, loss = 0.50186557\n",
            "Iteration 30, loss = 0.50193447\n"
          ]
        },
        {
          "name": "stderr",
          "output_type": "stream",
          "text": [
            "/usr/local/lib/python3.10/dist-packages/sklearn/neural_network/_multilayer_perceptron.py:686: ConvergenceWarning: Stochastic Optimizer: Maximum iterations (30) reached and the optimization hasn't converged yet.\n",
            "  warnings.warn(\n"
          ]
        },
        {
          "data": {
            "text/html": [
              "<style>#sk-container-id-1 {color: black;background-color: white;}#sk-container-id-1 pre{padding: 0;}#sk-container-id-1 div.sk-toggleable {background-color: white;}#sk-container-id-1 label.sk-toggleable__label {cursor: pointer;display: block;width: 100%;margin-bottom: 0;padding: 0.3em;box-sizing: border-box;text-align: center;}#sk-container-id-1 label.sk-toggleable__label-arrow:before {content: \"▸\";float: left;margin-right: 0.25em;color: #696969;}#sk-container-id-1 label.sk-toggleable__label-arrow:hover:before {color: black;}#sk-container-id-1 div.sk-estimator:hover label.sk-toggleable__label-arrow:before {color: black;}#sk-container-id-1 div.sk-toggleable__content {max-height: 0;max-width: 0;overflow: hidden;text-align: left;background-color: #f0f8ff;}#sk-container-id-1 div.sk-toggleable__content pre {margin: 0.2em;color: black;border-radius: 0.25em;background-color: #f0f8ff;}#sk-container-id-1 input.sk-toggleable__control:checked~div.sk-toggleable__content {max-height: 200px;max-width: 100%;overflow: auto;}#sk-container-id-1 input.sk-toggleable__control:checked~label.sk-toggleable__label-arrow:before {content: \"▾\";}#sk-container-id-1 div.sk-estimator input.sk-toggleable__control:checked~label.sk-toggleable__label {background-color: #d4ebff;}#sk-container-id-1 div.sk-label input.sk-toggleable__control:checked~label.sk-toggleable__label {background-color: #d4ebff;}#sk-container-id-1 input.sk-hidden--visually {border: 0;clip: rect(1px 1px 1px 1px);clip: rect(1px, 1px, 1px, 1px);height: 1px;margin: -1px;overflow: hidden;padding: 0;position: absolute;width: 1px;}#sk-container-id-1 div.sk-estimator {font-family: monospace;background-color: #f0f8ff;border: 1px dotted black;border-radius: 0.25em;box-sizing: border-box;margin-bottom: 0.5em;}#sk-container-id-1 div.sk-estimator:hover {background-color: #d4ebff;}#sk-container-id-1 div.sk-parallel-item::after {content: \"\";width: 100%;border-bottom: 1px solid gray;flex-grow: 1;}#sk-container-id-1 div.sk-label:hover label.sk-toggleable__label {background-color: #d4ebff;}#sk-container-id-1 div.sk-serial::before {content: \"\";position: absolute;border-left: 1px solid gray;box-sizing: border-box;top: 0;bottom: 0;left: 50%;z-index: 0;}#sk-container-id-1 div.sk-serial {display: flex;flex-direction: column;align-items: center;background-color: white;padding-right: 0.2em;padding-left: 0.2em;position: relative;}#sk-container-id-1 div.sk-item {position: relative;z-index: 1;}#sk-container-id-1 div.sk-parallel {display: flex;align-items: stretch;justify-content: center;background-color: white;position: relative;}#sk-container-id-1 div.sk-item::before, #sk-container-id-1 div.sk-parallel-item::before {content: \"\";position: absolute;border-left: 1px solid gray;box-sizing: border-box;top: 0;bottom: 0;left: 50%;z-index: -1;}#sk-container-id-1 div.sk-parallel-item {display: flex;flex-direction: column;z-index: 1;position: relative;background-color: white;}#sk-container-id-1 div.sk-parallel-item:first-child::after {align-self: flex-end;width: 50%;}#sk-container-id-1 div.sk-parallel-item:last-child::after {align-self: flex-start;width: 50%;}#sk-container-id-1 div.sk-parallel-item:only-child::after {width: 0;}#sk-container-id-1 div.sk-dashed-wrapped {border: 1px dashed gray;margin: 0 0.4em 0.5em 0.4em;box-sizing: border-box;padding-bottom: 0.4em;background-color: white;}#sk-container-id-1 div.sk-label label {font-family: monospace;font-weight: bold;display: inline-block;line-height: 1.2em;}#sk-container-id-1 div.sk-label-container {text-align: center;}#sk-container-id-1 div.sk-container {/* jupyter's `normalize.less` sets `[hidden] { display: none; }` but bootstrap.min.css set `[hidden] { display: none !important; }` so we also need the `!important` here to be able to override the default hidden behavior on the sphinx rendered scikit-learn.org. See: https://github.com/scikit-learn/scikit-learn/issues/21755 */display: inline-block !important;position: relative;}#sk-container-id-1 div.sk-text-repr-fallback {display: none;}</style><div id=\"sk-container-id-1\" class=\"sk-top-container\"><div class=\"sk-text-repr-fallback\"><pre>GridSearchCV(cv=5, estimator=MLPClassifier(),\n",
              "             param_grid={&#x27;activation&#x27;: [&#x27;relu&#x27;, &#x27;tanh&#x27;], &#x27;alpha&#x27;: [0.01, 0.001],\n",
              "                         &#x27;hidden_layer_sizes&#x27;: [(64, 64), (32, 32)],\n",
              "                         &#x27;max_iter&#x27;: [30], &#x27;random_state&#x27;: [42],\n",
              "                         &#x27;solver&#x27;: [&#x27;adam&#x27;], &#x27;verbose&#x27;: [True]},\n",
              "             scoring=&#x27;f1_weighted&#x27;, verbose=3)</pre><b>In a Jupyter environment, please rerun this cell to show the HTML representation or trust the notebook. <br />On GitHub, the HTML representation is unable to render, please try loading this page with nbviewer.org.</b></div><div class=\"sk-container\" hidden><div class=\"sk-item sk-dashed-wrapped\"><div class=\"sk-label-container\"><div class=\"sk-label sk-toggleable\"><input class=\"sk-toggleable__control sk-hidden--visually\" id=\"sk-estimator-id-1\" type=\"checkbox\" ><label for=\"sk-estimator-id-1\" class=\"sk-toggleable__label sk-toggleable__label-arrow\">GridSearchCV</label><div class=\"sk-toggleable__content\"><pre>GridSearchCV(cv=5, estimator=MLPClassifier(),\n",
              "             param_grid={&#x27;activation&#x27;: [&#x27;relu&#x27;, &#x27;tanh&#x27;], &#x27;alpha&#x27;: [0.01, 0.001],\n",
              "                         &#x27;hidden_layer_sizes&#x27;: [(64, 64), (32, 32)],\n",
              "                         &#x27;max_iter&#x27;: [30], &#x27;random_state&#x27;: [42],\n",
              "                         &#x27;solver&#x27;: [&#x27;adam&#x27;], &#x27;verbose&#x27;: [True]},\n",
              "             scoring=&#x27;f1_weighted&#x27;, verbose=3)</pre></div></div></div><div class=\"sk-parallel\"><div class=\"sk-parallel-item\"><div class=\"sk-item\"><div class=\"sk-label-container\"><div class=\"sk-label sk-toggleable\"><input class=\"sk-toggleable__control sk-hidden--visually\" id=\"sk-estimator-id-2\" type=\"checkbox\" ><label for=\"sk-estimator-id-2\" class=\"sk-toggleable__label sk-toggleable__label-arrow\">estimator: MLPClassifier</label><div class=\"sk-toggleable__content\"><pre>MLPClassifier()</pre></div></div></div><div class=\"sk-serial\"><div class=\"sk-item\"><div class=\"sk-estimator sk-toggleable\"><input class=\"sk-toggleable__control sk-hidden--visually\" id=\"sk-estimator-id-3\" type=\"checkbox\" ><label for=\"sk-estimator-id-3\" class=\"sk-toggleable__label sk-toggleable__label-arrow\">MLPClassifier</label><div class=\"sk-toggleable__content\"><pre>MLPClassifier()</pre></div></div></div></div></div></div></div></div></div></div>"
            ],
            "text/plain": [
              "GridSearchCV(cv=5, estimator=MLPClassifier(),\n",
              "             param_grid={'activation': ['relu', 'tanh'], 'alpha': [0.01, 0.001],\n",
              "                         'hidden_layer_sizes': [(64, 64), (32, 32)],\n",
              "                         'max_iter': [30], 'random_state': [42],\n",
              "                         'solver': ['adam'], 'verbose': [True]},\n",
              "             scoring='f1_weighted', verbose=3)"
            ]
          },
          "execution_count": 8,
          "metadata": {},
          "output_type": "execute_result"
        }
      ],
      "source": [
        "mlp_grid_search_clf = GridSearchCV(estimator=mlp_classifer, param_grid=mlp_param_grid, scoring='f1_weighted', cv=5, verbose=3)\n",
        "mlp_grid_search_clf.fit(X_train, y_train)"
      ]
    },
    {
      "cell_type": "code",
      "execution_count": null,
      "metadata": {
        "colab": {
          "base_uri": "https://localhost:8080/"
        },
        "id": "4r608uy8Egs7",
        "outputId": "6e129136-3a27-43bc-def6-6cefd1640c2f"
      },
      "outputs": [
        {
          "name": "stdout",
          "output_type": "stream",
          "text": [
            "{'activation': 'tanh', 'alpha': 0.01, 'hidden_layer_sizes': (64, 64), 'max_iter': 30, 'random_state': 42, 'solver': 'adam', 'verbose': True}\n"
          ]
        }
      ],
      "source": [
        "print(mlp_grid_search_clf.best_params_)"
      ]
    },
    {
      "cell_type": "code",
      "execution_count": null,
      "metadata": {
        "colab": {
          "base_uri": "https://localhost:8080/",
          "height": 668
        },
        "id": "S9Vxz57SV9qf",
        "outputId": "9168209a-cccf-41db-c5f6-ac1666103ba0"
      },
      "outputs": [
        {
          "name": "stdout",
          "output_type": "stream",
          "text": [
            "Iteration 1, loss = 0.52900524\n",
            "Iteration 2, loss = 0.51276830\n",
            "Iteration 3, loss = 0.51026062\n",
            "Iteration 4, loss = 0.50890515\n",
            "Iteration 5, loss = 0.50789563\n",
            "Iteration 6, loss = 0.50773033\n",
            "Iteration 7, loss = 0.50666715\n",
            "Iteration 8, loss = 0.50585023\n",
            "Iteration 9, loss = 0.50652858\n",
            "Iteration 10, loss = 0.50536643\n",
            "Iteration 11, loss = 0.50529797\n",
            "Iteration 12, loss = 0.50484627\n",
            "Iteration 13, loss = 0.50417156\n",
            "Iteration 14, loss = 0.50444159\n",
            "Iteration 15, loss = 0.50420878\n",
            "Iteration 16, loss = 0.50352852\n",
            "Iteration 17, loss = 0.50350372\n",
            "Iteration 18, loss = 0.50320902\n",
            "Iteration 19, loss = 0.50321546\n",
            "Iteration 20, loss = 0.50305321\n",
            "Iteration 21, loss = 0.50292497\n",
            "Iteration 22, loss = 0.50268385\n",
            "Iteration 23, loss = 0.50302049\n",
            "Iteration 24, loss = 0.50245658\n",
            "Iteration 25, loss = 0.50270674\n",
            "Iteration 26, loss = 0.50204829\n",
            "Iteration 27, loss = 0.50182244\n",
            "Iteration 28, loss = 0.50202919\n",
            "Iteration 29, loss = 0.50186557\n",
            "Iteration 30, loss = 0.50193447\n"
          ]
        },
        {
          "name": "stderr",
          "output_type": "stream",
          "text": [
            "/usr/local/lib/python3.10/dist-packages/sklearn/neural_network/_multilayer_perceptron.py:686: ConvergenceWarning: Stochastic Optimizer: Maximum iterations (30) reached and the optimization hasn't converged yet.\n",
            "  warnings.warn(\n"
          ]
        },
        {
          "data": {
            "text/html": [
              "<style>#sk-container-id-2 {color: black;background-color: white;}#sk-container-id-2 pre{padding: 0;}#sk-container-id-2 div.sk-toggleable {background-color: white;}#sk-container-id-2 label.sk-toggleable__label {cursor: pointer;display: block;width: 100%;margin-bottom: 0;padding: 0.3em;box-sizing: border-box;text-align: center;}#sk-container-id-2 label.sk-toggleable__label-arrow:before {content: \"▸\";float: left;margin-right: 0.25em;color: #696969;}#sk-container-id-2 label.sk-toggleable__label-arrow:hover:before {color: black;}#sk-container-id-2 div.sk-estimator:hover label.sk-toggleable__label-arrow:before {color: black;}#sk-container-id-2 div.sk-toggleable__content {max-height: 0;max-width: 0;overflow: hidden;text-align: left;background-color: #f0f8ff;}#sk-container-id-2 div.sk-toggleable__content pre {margin: 0.2em;color: black;border-radius: 0.25em;background-color: #f0f8ff;}#sk-container-id-2 input.sk-toggleable__control:checked~div.sk-toggleable__content {max-height: 200px;max-width: 100%;overflow: auto;}#sk-container-id-2 input.sk-toggleable__control:checked~label.sk-toggleable__label-arrow:before {content: \"▾\";}#sk-container-id-2 div.sk-estimator input.sk-toggleable__control:checked~label.sk-toggleable__label {background-color: #d4ebff;}#sk-container-id-2 div.sk-label input.sk-toggleable__control:checked~label.sk-toggleable__label {background-color: #d4ebff;}#sk-container-id-2 input.sk-hidden--visually {border: 0;clip: rect(1px 1px 1px 1px);clip: rect(1px, 1px, 1px, 1px);height: 1px;margin: -1px;overflow: hidden;padding: 0;position: absolute;width: 1px;}#sk-container-id-2 div.sk-estimator {font-family: monospace;background-color: #f0f8ff;border: 1px dotted black;border-radius: 0.25em;box-sizing: border-box;margin-bottom: 0.5em;}#sk-container-id-2 div.sk-estimator:hover {background-color: #d4ebff;}#sk-container-id-2 div.sk-parallel-item::after {content: \"\";width: 100%;border-bottom: 1px solid gray;flex-grow: 1;}#sk-container-id-2 div.sk-label:hover label.sk-toggleable__label {background-color: #d4ebff;}#sk-container-id-2 div.sk-serial::before {content: \"\";position: absolute;border-left: 1px solid gray;box-sizing: border-box;top: 0;bottom: 0;left: 50%;z-index: 0;}#sk-container-id-2 div.sk-serial {display: flex;flex-direction: column;align-items: center;background-color: white;padding-right: 0.2em;padding-left: 0.2em;position: relative;}#sk-container-id-2 div.sk-item {position: relative;z-index: 1;}#sk-container-id-2 div.sk-parallel {display: flex;align-items: stretch;justify-content: center;background-color: white;position: relative;}#sk-container-id-2 div.sk-item::before, #sk-container-id-2 div.sk-parallel-item::before {content: \"\";position: absolute;border-left: 1px solid gray;box-sizing: border-box;top: 0;bottom: 0;left: 50%;z-index: -1;}#sk-container-id-2 div.sk-parallel-item {display: flex;flex-direction: column;z-index: 1;position: relative;background-color: white;}#sk-container-id-2 div.sk-parallel-item:first-child::after {align-self: flex-end;width: 50%;}#sk-container-id-2 div.sk-parallel-item:last-child::after {align-self: flex-start;width: 50%;}#sk-container-id-2 div.sk-parallel-item:only-child::after {width: 0;}#sk-container-id-2 div.sk-dashed-wrapped {border: 1px dashed gray;margin: 0 0.4em 0.5em 0.4em;box-sizing: border-box;padding-bottom: 0.4em;background-color: white;}#sk-container-id-2 div.sk-label label {font-family: monospace;font-weight: bold;display: inline-block;line-height: 1.2em;}#sk-container-id-2 div.sk-label-container {text-align: center;}#sk-container-id-2 div.sk-container {/* jupyter's `normalize.less` sets `[hidden] { display: none; }` but bootstrap.min.css set `[hidden] { display: none !important; }` so we also need the `!important` here to be able to override the default hidden behavior on the sphinx rendered scikit-learn.org. See: https://github.com/scikit-learn/scikit-learn/issues/21755 */display: inline-block !important;position: relative;}#sk-container-id-2 div.sk-text-repr-fallback {display: none;}</style><div id=\"sk-container-id-2\" class=\"sk-top-container\"><div class=\"sk-text-repr-fallback\"><pre>MLPClassifier(activation=&#x27;tanh&#x27;, alpha=0.01, hidden_layer_sizes=(64, 64),\n",
              "              max_iter=30, random_state=42, verbose=True)</pre><b>In a Jupyter environment, please rerun this cell to show the HTML representation or trust the notebook. <br />On GitHub, the HTML representation is unable to render, please try loading this page with nbviewer.org.</b></div><div class=\"sk-container\" hidden><div class=\"sk-item\"><div class=\"sk-estimator sk-toggleable\"><input class=\"sk-toggleable__control sk-hidden--visually\" id=\"sk-estimator-id-4\" type=\"checkbox\" checked><label for=\"sk-estimator-id-4\" class=\"sk-toggleable__label sk-toggleable__label-arrow\">MLPClassifier</label><div class=\"sk-toggleable__content\"><pre>MLPClassifier(activation=&#x27;tanh&#x27;, alpha=0.01, hidden_layer_sizes=(64, 64),\n",
              "              max_iter=30, random_state=42, verbose=True)</pre></div></div></div></div></div>"
            ],
            "text/plain": [
              "MLPClassifier(activation='tanh', alpha=0.01, hidden_layer_sizes=(64, 64),\n",
              "              max_iter=30, random_state=42, verbose=True)"
            ]
          },
          "execution_count": 10,
          "metadata": {},
          "output_type": "execute_result"
        }
      ],
      "source": [
        "mlp_classifer_binary_split = MLPClassifier()\n",
        "mlp_classifer_binary_split.set_params(**mlp_grid_search_clf.best_params_)\n",
        "mlp_classifer_binary_split.fit(X_train, y_train)"
      ]
    },
    {
      "cell_type": "code",
      "execution_count": 24,
      "metadata": {
        "id": "7Ne3W_CeEgs7"
      },
      "outputs": [],
      "source": [
        "mlp_pickle_file_binary_split = '/content/drive/MyDrive/AML_Final_Project/mlp_classifer_binary_split.pkl'\n",
        "# with open(mlp_pickle_file_binary_split, 'wb') as file:\n",
        "#     pickle.dump(mlp_classifer_binary_split, file)"
      ]
    },
    {
      "cell_type": "code",
      "execution_count": 25,
      "metadata": {
        "id": "veqFW_DQEgs7"
      },
      "outputs": [],
      "source": [
        "with open(mlp_pickle_file_binary_split, 'rb') as file:\n",
        "    mlp_classifer_binary_split = pickle.load(file)"
      ]
    },
    {
      "cell_type": "code",
      "execution_count": 26,
      "metadata": {
        "colab": {
          "base_uri": "https://localhost:8080/"
        },
        "id": "YqT8S12REgs7",
        "outputId": "7187aba8-72e6-4d37-b4e2-40a2faf9e0c9"
      },
      "outputs": [
        {
          "name": "stdout",
          "output_type": "stream",
          "text": [
            "              precision    recall  f1-score   support\n",
            "\n",
            "         0.0       0.65      0.81      0.72      5651\n",
            "         1.0       0.85      0.71      0.77      8488\n",
            "\n",
            "    accuracy                           0.75     14139\n",
            "   macro avg       0.75      0.76      0.75     14139\n",
            "weighted avg       0.77      0.75      0.75     14139\n",
            "\n",
            "[[4597 1054]\n",
            " [2473 6015]]\n"
          ]
        }
      ],
      "source": [
        "y_pred = mlp_classifer_binary_split.predict(X_test)\n",
        "print(classification_report(y_pred, y_test))\n",
        "print(confusion_matrix(y_pred, y_test))"
      ]
    },
    {
      "cell_type": "markdown",
      "metadata": {
        "id": "hOPv0-chOLqA"
      },
      "source": [
        "### Training the MLP classifier using the best parameters obtained after grid search and cross validation using the PCA on training data to get the cumulative variance explained by different no. of components"
      ]
    },
    {
      "cell_type": "code",
      "execution_count": 27,
      "metadata": {
        "colab": {
          "base_uri": "https://localhost:8080/"
        },
        "id": "mVQZMbpIONG_",
        "outputId": "5edd1f2a-9182-433f-f36b-e4edc7f20b36"
      },
      "outputs": [
        {
          "name": "stdout",
          "output_type": "stream",
          "text": [
            "Cumulative variance explained by 3 components is 0.43404642271751837\n"
          ]
        },
        {
          "name": "stderr",
          "output_type": "stream",
          "text": [
            "/usr/local/lib/python3.10/dist-packages/sklearn/neural_network/_multilayer_perceptron.py:686: ConvergenceWarning: Stochastic Optimizer: Maximum iterations (30) reached and the optimization hasn't converged yet.\n",
            "  warnings.warn(\n"
          ]
        },
        {
          "name": "stdout",
          "output_type": "stream",
          "text": [
            "Classification Report for total components: 3\n",
            "              precision    recall  f1-score   support\n",
            "\n",
            "         0.0       0.71      0.73      0.72      6899\n",
            "         1.0       0.73      0.71      0.72      7240\n",
            "\n",
            "    accuracy                           0.72     14139\n",
            "   macro avg       0.72      0.72      0.72     14139\n",
            "weighted avg       0.72      0.72      0.72     14139\n",
            "\n",
            "\n",
            "Cumulative variance explained by 5 components is 0.6065148562363322\n"
          ]
        },
        {
          "name": "stderr",
          "output_type": "stream",
          "text": [
            "/usr/local/lib/python3.10/dist-packages/sklearn/neural_network/_multilayer_perceptron.py:686: ConvergenceWarning: Stochastic Optimizer: Maximum iterations (30) reached and the optimization hasn't converged yet.\n",
            "  warnings.warn(\n"
          ]
        },
        {
          "name": "stdout",
          "output_type": "stream",
          "text": [
            "Classification Report for total components: 5\n",
            "              precision    recall  f1-score   support\n",
            "\n",
            "         0.0       0.71      0.73      0.72      6841\n",
            "         1.0       0.74      0.72      0.73      7298\n",
            "\n",
            "    accuracy                           0.72     14139\n",
            "   macro avg       0.72      0.72      0.72     14139\n",
            "weighted avg       0.72      0.72      0.72     14139\n",
            "\n",
            "\n",
            "Cumulative variance explained by 10 components is 0.8612429795606062\n"
          ]
        },
        {
          "name": "stderr",
          "output_type": "stream",
          "text": [
            "/usr/local/lib/python3.10/dist-packages/sklearn/neural_network/_multilayer_perceptron.py:686: ConvergenceWarning: Stochastic Optimizer: Maximum iterations (30) reached and the optimization hasn't converged yet.\n",
            "  warnings.warn(\n"
          ]
        },
        {
          "name": "stdout",
          "output_type": "stream",
          "text": [
            "Classification Report for total components: 10\n",
            "              precision    recall  f1-score   support\n",
            "\n",
            "         0.0       0.73      0.74      0.74      6954\n",
            "         1.0       0.75      0.74      0.74      7185\n",
            "\n",
            "    accuracy                           0.74     14139\n",
            "   macro avg       0.74      0.74      0.74     14139\n",
            "weighted avg       0.74      0.74      0.74     14139\n",
            "\n",
            "\n",
            "Cumulative variance explained by 15 components is 0.9517394483608925\n"
          ]
        },
        {
          "name": "stderr",
          "output_type": "stream",
          "text": [
            "/usr/local/lib/python3.10/dist-packages/sklearn/neural_network/_multilayer_perceptron.py:686: ConvergenceWarning: Stochastic Optimizer: Maximum iterations (30) reached and the optimization hasn't converged yet.\n",
            "  warnings.warn(\n"
          ]
        },
        {
          "name": "stdout",
          "output_type": "stream",
          "text": [
            "Classification Report for total components: 15\n",
            "              precision    recall  f1-score   support\n",
            "\n",
            "         0.0       0.70      0.78      0.73      6357\n",
            "         1.0       0.80      0.72      0.76      7782\n",
            "\n",
            "    accuracy                           0.75     14139\n",
            "   macro avg       0.75      0.75      0.75     14139\n",
            "weighted avg       0.75      0.75      0.75     14139\n",
            "\n",
            "\n",
            "Cumulative variance explained by 20 components is 0.994974739824596\n"
          ]
        },
        {
          "name": "stderr",
          "output_type": "stream",
          "text": [
            "/usr/local/lib/python3.10/dist-packages/sklearn/neural_network/_multilayer_perceptron.py:686: ConvergenceWarning: Stochastic Optimizer: Maximum iterations (30) reached and the optimization hasn't converged yet.\n",
            "  warnings.warn(\n"
          ]
        },
        {
          "name": "stdout",
          "output_type": "stream",
          "text": [
            "Classification Report for total components: 20\n",
            "              precision    recall  f1-score   support\n",
            "\n",
            "         0.0       0.73      0.76      0.75      6836\n",
            "         1.0       0.77      0.74      0.75      7303\n",
            "\n",
            "    accuracy                           0.75     14139\n",
            "   macro avg       0.75      0.75      0.75     14139\n",
            "weighted avg       0.75      0.75      0.75     14139\n",
            "\n",
            "\n",
            "Cumulative variance explained by 25 components is 0.9999999999999996\n"
          ]
        },
        {
          "name": "stderr",
          "output_type": "stream",
          "text": [
            "/usr/local/lib/python3.10/dist-packages/sklearn/neural_network/_multilayer_perceptron.py:686: ConvergenceWarning: Stochastic Optimizer: Maximum iterations (30) reached and the optimization hasn't converged yet.\n",
            "  warnings.warn(\n"
          ]
        },
        {
          "name": "stdout",
          "output_type": "stream",
          "text": [
            "Classification Report for total components: 25\n",
            "              precision    recall  f1-score   support\n",
            "\n",
            "         0.0       0.70      0.78      0.74      6324\n",
            "         1.0       0.80      0.73      0.76      7815\n",
            "\n",
            "    accuracy                           0.75     14139\n",
            "   macro avg       0.75      0.75      0.75     14139\n",
            "weighted avg       0.76      0.75      0.75     14139\n",
            "\n",
            "\n"
          ]
        }
      ],
      "source": [
        "num_components = [3, 5, 10, 15, 20, 25]\n",
        "variance = []\n",
        "\n",
        "for num in num_components:\n",
        "  # Initializing the PCA with defitive components\n",
        "  pca = PCA(n_components=num)\n",
        "\n",
        "  # Fit the PCA on the training data\n",
        "  pca.fit(X_train)\n",
        "\n",
        "  # Transform the train and test data as per the components of the PCA\n",
        "  X_train_pca = pca.transform(X_train)\n",
        "  X_test_pca = pca.transform(X_test)\n",
        "\n",
        "  # Recording the explained variance for each number of components\n",
        "  variance.append(np.sum(pca.explained_variance_ratio_))\n",
        "\n",
        "  print(\"Cumulative variance explained by {} components is {}\".format(num,variance[-1]))\n",
        "\n",
        "  mlp_classifer = MLPClassifier(activation = 'tanh', alpha=0.01, hidden_layer_sizes=(64, 64), max_iter = 30, solver='adam', random_state= 42)\n",
        "  mlp_classifer.fit(X_train_pca, y_train)\n",
        "  y_pred = mlp_classifer.predict(X_test_pca)\n",
        "  print(f\"Classification Report for total components: {num}\")\n",
        "  print(classification_report(y_pred, y_test))\n",
        "  print()"
      ]
    },
    {
      "cell_type": "code",
      "execution_count": 28,
      "metadata": {
        "colab": {
          "base_uri": "https://localhost:8080/",
          "height": 487
        },
        "id": "wqHMwhSXONEw",
        "outputId": "67b4fc57-d3d9-4304-9d2b-89bb23c6b91f"
      },
      "outputs": [
        {
          "data": {
            "image/png": "[encoded data removed]",
            "text/plain": [
              "<Figure size 1200x500 with 1 Axes>"
            ]
          },
          "metadata": {},
          "output_type": "display_data"
        }
      ],
      "source": [
        "### START CODE ###\n",
        "plt.figure(figsize=(12,5))\n",
        "plt.plot(num_components, variance)\n",
        "plt.title(\"PCA Explained Variance for Binary Balanced Split\")\n",
        "plt.xlabel('Number of Components')\n",
        "plt.ylabel('Cumulative Explained Variance')\n",
        "plt.grid(True)\n",
        "### END CODE ###\n",
        "\n",
        "plt.show()"
      ]
    },
    {
      "cell_type": "markdown",
      "metadata": {
        "id": "CWogWNZPEgs7"
      },
      "source": [
        "# Training the model for 2-Class Imbalanced Split Diabetes Data"
      ]
    },
    {
      "cell_type": "code",
      "execution_count": 3,
      "metadata": {
        "id": "55Z6XhSBEgs7"
      },
      "outputs": [],
      "source": [
        "train_data = pd.read_csv('/content/drive/MyDrive/AML_Final_Project/Dataset/train_binary_imbalanced_split.csv')\n",
        "test_data = pd.read_csv('/content/drive/MyDrive/AML_Final_Project/Dataset/test_binary_imbalanced_split.csv')"
      ]
    },
    {
      "cell_type": "code",
      "execution_count": 4,
      "metadata": {
        "colab": {
          "base_uri": "https://localhost:8080/",
          "height": 256
        },
        "id": "cZXPL2-kEgs7",
        "outputId": "31b8dfbe-8a7c-4e67-c3fa-65d09e11dd0f"
      },
      "outputs": [
        {
          "data": {
            "text/html": [
              "\n",
              "  <div id=\"df-263a30ac-ce33-4167-8aba-0129385d4bea\" class=\"colab-df-container\">\n",
              "    <div>\n",
              "<style scoped>\n",
              "    .dataframe tbody tr th:only-of-type {\n",
              "        vertical-align: middle;\n",
              "    }\n",
              "\n",
              "    .dataframe tbody tr th {\n",
              "        vertical-align: top;\n",
              "    }\n",
              "\n",
              "    .dataframe thead th {\n",
              "        text-align: right;\n",
              "    }\n",
              "</style>\n",
              "<table border=\"1\" class=\"dataframe\">\n",
              "  <thead>\n",
              "    <tr style=\"text-align: right;\">\n",
              "      <th></th>\n",
              "      <th>BMI</th>\n",
              "      <th>GenHlth</th>\n",
              "      <th>MentHlth</th>\n",
              "      <th>PhysHlth</th>\n",
              "      <th>DiffWalk</th>\n",
              "      <th>Age</th>\n",
              "      <th>Education</th>\n",
              "      <th>Income</th>\n",
              "      <th>HighBP_0</th>\n",
              "      <th>HighBP_1</th>\n",
              "      <th>...</th>\n",
              "      <th>Veggies_1</th>\n",
              "      <th>HvyAlcoholConsump_0</th>\n",
              "      <th>HvyAlcoholConsump_1</th>\n",
              "      <th>AnyHealthcare_0</th>\n",
              "      <th>AnyHealthcare_1</th>\n",
              "      <th>NoDocbcCost_0</th>\n",
              "      <th>NoDocbcCost_1</th>\n",
              "      <th>Sex_0</th>\n",
              "      <th>Sex_1</th>\n",
              "      <th>Diabetes_binary</th>\n",
              "    </tr>\n",
              "  </thead>\n",
              "  <tbody>\n",
              "    <tr>\n",
              "      <th>0</th>\n",
              "      <td>-0.057282</td>\n",
              "      <td>0.25</td>\n",
              "      <td>0.0</td>\n",
              "      <td>0.0</td>\n",
              "      <td>0.0</td>\n",
              "      <td>0.083333</td>\n",
              "      <td>0.6</td>\n",
              "      <td>0.571429</td>\n",
              "      <td>1.0</td>\n",
              "      <td>0.0</td>\n",
              "      <td>...</td>\n",
              "      <td>1.0</td>\n",
              "      <td>1.0</td>\n",
              "      <td>0.0</td>\n",
              "      <td>0.0</td>\n",
              "      <td>1.0</td>\n",
              "      <td>1.0</td>\n",
              "      <td>0.0</td>\n",
              "      <td>0.0</td>\n",
              "      <td>1.0</td>\n",
              "      <td>0.0</td>\n",
              "    </tr>\n",
              "    <tr>\n",
              "      <th>1</th>\n",
              "      <td>-0.815055</td>\n",
              "      <td>0.25</td>\n",
              "      <td>0.0</td>\n",
              "      <td>0.0</td>\n",
              "      <td>0.0</td>\n",
              "      <td>1.000000</td>\n",
              "      <td>0.6</td>\n",
              "      <td>0.857143</td>\n",
              "      <td>0.0</td>\n",
              "      <td>1.0</td>\n",
              "      <td>...</td>\n",
              "      <td>1.0</td>\n",
              "      <td>1.0</td>\n",
              "      <td>0.0</td>\n",
              "      <td>0.0</td>\n",
              "      <td>1.0</td>\n",
              "      <td>1.0</td>\n",
              "      <td>0.0</td>\n",
              "      <td>0.0</td>\n",
              "      <td>1.0</td>\n",
              "      <td>0.0</td>\n",
              "    </tr>\n",
              "    <tr>\n",
              "      <th>2</th>\n",
              "      <td>0.094273</td>\n",
              "      <td>0.00</td>\n",
              "      <td>0.0</td>\n",
              "      <td>0.0</td>\n",
              "      <td>0.0</td>\n",
              "      <td>0.666667</td>\n",
              "      <td>1.0</td>\n",
              "      <td>1.000000</td>\n",
              "      <td>0.0</td>\n",
              "      <td>1.0</td>\n",
              "      <td>...</td>\n",
              "      <td>1.0</td>\n",
              "      <td>1.0</td>\n",
              "      <td>0.0</td>\n",
              "      <td>0.0</td>\n",
              "      <td>1.0</td>\n",
              "      <td>1.0</td>\n",
              "      <td>0.0</td>\n",
              "      <td>0.0</td>\n",
              "      <td>1.0</td>\n",
              "      <td>0.0</td>\n",
              "    </tr>\n",
              "    <tr>\n",
              "      <th>3</th>\n",
              "      <td>1.609820</td>\n",
              "      <td>0.75</td>\n",
              "      <td>0.0</td>\n",
              "      <td>0.0</td>\n",
              "      <td>0.0</td>\n",
              "      <td>0.500000</td>\n",
              "      <td>0.6</td>\n",
              "      <td>0.857143</td>\n",
              "      <td>0.0</td>\n",
              "      <td>1.0</td>\n",
              "      <td>...</td>\n",
              "      <td>0.0</td>\n",
              "      <td>1.0</td>\n",
              "      <td>0.0</td>\n",
              "      <td>0.0</td>\n",
              "      <td>1.0</td>\n",
              "      <td>1.0</td>\n",
              "      <td>0.0</td>\n",
              "      <td>0.0</td>\n",
              "      <td>1.0</td>\n",
              "      <td>0.0</td>\n",
              "    </tr>\n",
              "    <tr>\n",
              "      <th>4</th>\n",
              "      <td>-1.875938</td>\n",
              "      <td>1.00</td>\n",
              "      <td>1.0</td>\n",
              "      <td>1.0</td>\n",
              "      <td>1.0</td>\n",
              "      <td>0.500000</td>\n",
              "      <td>0.8</td>\n",
              "      <td>0.000000</td>\n",
              "      <td>1.0</td>\n",
              "      <td>0.0</td>\n",
              "      <td>...</td>\n",
              "      <td>1.0</td>\n",
              "      <td>1.0</td>\n",
              "      <td>0.0</td>\n",
              "      <td>0.0</td>\n",
              "      <td>1.0</td>\n",
              "      <td>0.0</td>\n",
              "      <td>1.0</td>\n",
              "      <td>1.0</td>\n",
              "      <td>0.0</td>\n",
              "      <td>0.0</td>\n",
              "    </tr>\n",
              "  </tbody>\n",
              "</table>\n",
              "<p>5 rows × 35 columns</p>\n",
              "</div>\n",
              "    <div class=\"colab-df-buttons\">\n",
              "\n",
              "  <div class=\"colab-df-container\">\n",
              "    <button class=\"colab-df-convert\" onclick=\"convertToInteractive('df-263a30ac-ce33-4167-8aba-0129385d4bea')\"\n",
              "            title=\"Convert this dataframe to an interactive table.\"\n",
              "            style=\"display:none;\">\n",
              "\n",
              "  <svg xmlns=\"http://www.w3.org/2000/svg\" height=\"24px\" viewBox=\"0 -960 960 960\">\n",
              "    <path d=\"M120-120v-720h720v720H120Zm60-500h600v-160H180v160Zm220 220h160v-160H400v160Zm0 220h160v-160H400v160ZM180-400h160v-160H180v160Zm440 0h160v-160H620v160ZM180-180h160v-160H180v160Zm440 0h160v-160H620v160Z\"/>\n",
              "  </svg>\n",
              "    </button>\n",
              "\n",
              "  <style>\n",
              "    .colab-df-container {\n",
              "      display:flex;\n",
              "      gap: 12px;\n",
              "    }\n",
              "\n",
              "    .colab-df-convert {\n",
              "      background-color: #E8F0FE;\n",
              "      border: none;\n",
              "      border-radius: 50%;\n",
              "      cursor: pointer;\n",
              "      display: none;\n",
              "      fill: #1967D2;\n",
              "      height: 32px;\n",
              "      padding: 0 0 0 0;\n",
              "      width: 32px;\n",
              "    }\n",
              "\n",
              "    .colab-df-convert:hover {\n",
              "      background-color: #E2EBFA;\n",
              "      box-shadow: 0px 1px 2px rgba(60, 64, 67, 0.3), 0px 1px 3px 1px rgba(60, 64, 67, 0.15);\n",
              "      fill: #174EA6;\n",
              "    }\n",
              "\n",
              "    .colab-df-buttons div {\n",
              "      margin-bottom: 4px;\n",
              "    }\n",
              "\n",
              "    [theme=dark] .colab-df-convert {\n",
              "      background-color: #3B4455;\n",
              "      fill: #D2E3FC;\n",
              "    }\n",
              "\n",
              "    [theme=dark] .colab-df-convert:hover {\n",
              "      background-color: #434B5C;\n",
              "      box-shadow: 0px 1px 3px 1px rgba(0, 0, 0, 0.15);\n",
              "      filter: drop-shadow(0px 1px 2px rgba(0, 0, 0, 0.3));\n",
              "      fill: #FFFFFF;\n",
              "    }\n",
              "  </style>\n",
              "\n",
              "    <script>\n",
              "      const buttonEl =\n",
              "        document.querySelector('#df-263a30ac-ce33-4167-8aba-0129385d4bea button.colab-df-convert');\n",
              "      buttonEl.style.display =\n",
              "        google.colab.kernel.accessAllowed ? 'block' : 'none';\n",
              "\n",
              "      async function convertToInteractive(key) {\n",
              "        const element = document.querySelector('#df-263a30ac-ce33-4167-8aba-0129385d4bea');\n",
              "        const dataTable =\n",
              "          await google.colab.kernel.invokeFunction('convertToInteractive',\n",
              "                                                    [key], {});\n",
              "        if (!dataTable) return;\n",
              "\n",
              "        const docLinkHtml = 'Like what you see? Visit the ' +\n",
              "          '<a target=\"_blank\" href=https://colab.research.google.com/notebooks/data_table.ipynb>data table notebook</a>'\n",
              "          + ' to learn more about interactive tables.';\n",
              "        element.innerHTML = '';\n",
              "        dataTable['output_type'] = 'display_data';\n",
              "        await google.colab.output.renderOutput(dataTable, element);\n",
              "        const docLink = document.createElement('div');\n",
              "        docLink.innerHTML = docLinkHtml;\n",
              "        element.appendChild(docLink);\n",
              "      }\n",
              "    </script>\n",
              "  </div>\n",
              "\n",
              "\n",
              "<div id=\"df-fadfdbf2-1fc2-47b8-a17b-0ae99f34a1fc\">\n",
              "  <button class=\"colab-df-quickchart\" onclick=\"quickchart('df-fadfdbf2-1fc2-47b8-a17b-0ae99f34a1fc')\"\n",
              "            title=\"Suggest charts\"\n",
              "            style=\"display:none;\">\n",
              "\n",
              "<svg xmlns=\"http://www.w3.org/2000/svg\" height=\"24px\"viewBox=\"0 0 24 24\"\n",
              "     width=\"24px\">\n",
              "    <g>\n",
              "        <path d=\"M19 3H5c-1.1 0-2 .9-2 2v14c0 1.1.9 2 2 2h14c1.1 0 2-.9 2-2V5c0-1.1-.9-2-2-2zM9 17H7v-7h2v7zm4 0h-2V7h2v10zm4 0h-2v-4h2v4z\"/>\n",
              "    </g>\n",
              "</svg>\n",
              "  </button>\n",
              "\n",
              "<style>\n",
              "  .colab-df-quickchart {\n",
              "      --bg-color: #E8F0FE;\n",
              "      --fill-color: #1967D2;\n",
              "      --hover-bg-color: #E2EBFA;\n",
              "      --hover-fill-color: #174EA6;\n",
              "      --disabled-fill-color: #AAA;\n",
              "      --disabled-bg-color: #DDD;\n",
              "  }\n",
              "\n",
              "  [theme=dark] .colab-df-quickchart {\n",
              "      --bg-color: #3B4455;\n",
              "      --fill-color: #D2E3FC;\n",
              "      --hover-bg-color: #434B5C;\n",
              "      --hover-fill-color: #FFFFFF;\n",
              "      --disabled-bg-color: #3B4455;\n",
              "      --disabled-fill-color: #666;\n",
              "  }\n",
              "\n",
              "  .colab-df-quickchart {\n",
              "    background-color: var(--bg-color);\n",
              "    border: none;\n",
              "    border-radius: 50%;\n",
              "    cursor: pointer;\n",
              "    display: none;\n",
              "    fill: var(--fill-color);\n",
              "    height: 32px;\n",
              "    padding: 0;\n",
              "    width: 32px;\n",
              "  }\n",
              "\n",
              "  .colab-df-quickchart:hover {\n",
              "    background-color: var(--hover-bg-color);\n",
              "    box-shadow: 0 1px 2px rgba(60, 64, 67, 0.3), 0 1px 3px 1px rgba(60, 64, 67, 0.15);\n",
              "    fill: var(--button-hover-fill-color);\n",
              "  }\n",
              "\n",
              "  .colab-df-quickchart-complete:disabled,\n",
              "  .colab-df-quickchart-complete:disabled:hover {\n",
              "    background-color: var(--disabled-bg-color);\n",
              "    fill: var(--disabled-fill-color);\n",
              "    box-shadow: none;\n",
              "  }\n",
              "\n",
              "  .colab-df-spinner {\n",
              "    border: 2px solid var(--fill-color);\n",
              "    border-color: transparent;\n",
              "    border-bottom-color: var(--fill-color);\n",
              "    animation:\n",
              "      spin 1s steps(1) infinite;\n",
              "  }\n",
              "\n",
              "  @keyframes spin {\n",
              "    0% {\n",
              "      border-color: transparent;\n",
              "      border-bottom-color: var(--fill-color);\n",
              "      border-left-color: var(--fill-color);\n",
              "    }\n",
              "    20% {\n",
              "      border-color: transparent;\n",
              "      border-left-color: var(--fill-color);\n",
              "      border-top-color: var(--fill-color);\n",
              "    }\n",
              "    30% {\n",
              "      border-color: transparent;\n",
              "      border-left-color: var(--fill-color);\n",
              "      border-top-color: var(--fill-color);\n",
              "      border-right-color: var(--fill-color);\n",
              "    }\n",
              "    40% {\n",
              "      border-color: transparent;\n",
              "      border-right-color: var(--fill-color);\n",
              "      border-top-color: var(--fill-color);\n",
              "    }\n",
              "    60% {\n",
              "      border-color: transparent;\n",
              "      border-right-color: var(--fill-color);\n",
              "    }\n",
              "    80% {\n",
              "      border-color: transparent;\n",
              "      border-right-color: var(--fill-color);\n",
              "      border-bottom-color: var(--fill-color);\n",
              "    }\n",
              "    90% {\n",
              "      border-color: transparent;\n",
              "      border-bottom-color: var(--fill-color);\n",
              "    }\n",
              "  }\n",
              "</style>\n",
              "\n",
              "  <script>\n",
              "    async function quickchart(key) {\n",
              "      const quickchartButtonEl =\n",
              "        document.querySelector('#' + key + ' button');\n",
              "      quickchartButtonEl.disabled = true;  // To prevent multiple clicks.\n",
              "      quickchartButtonEl.classList.add('colab-df-spinner');\n",
              "      try {\n",
              "        const charts = await google.colab.kernel.invokeFunction(\n",
              "            'suggestCharts', [key], {});\n",
              "      } catch (error) {\n",
              "        console.error('Error during call to suggestCharts:', error);\n",
              "      }\n",
              "      quickchartButtonEl.classList.remove('colab-df-spinner');\n",
              "      quickchartButtonEl.classList.add('colab-df-quickchart-complete');\n",
              "    }\n",
              "    (() => {\n",
              "      let quickchartButtonEl =\n",
              "        document.querySelector('#df-fadfdbf2-1fc2-47b8-a17b-0ae99f34a1fc button');\n",
              "      quickchartButtonEl.style.display =\n",
              "        google.colab.kernel.accessAllowed ? 'block' : 'none';\n",
              "    })();\n",
              "  </script>\n",
              "</div>\n",
              "    </div>\n",
              "  </div>\n"
            ],
            "text/plain": [
              "        BMI  GenHlth  MentHlth  PhysHlth  DiffWalk       Age  Education  \\\n",
              "0 -0.057282     0.25       0.0       0.0       0.0  0.083333        0.6   \n",
              "1 -0.815055     0.25       0.0       0.0       0.0  1.000000        0.6   \n",
              "2  0.094273     0.00       0.0       0.0       0.0  0.666667        1.0   \n",
              "3  1.609820     0.75       0.0       0.0       0.0  0.500000        0.6   \n",
              "4 -1.875938     1.00       1.0       1.0       1.0  0.500000        0.8   \n",
              "\n",
              "     Income  HighBP_0  HighBP_1  ...  Veggies_1  HvyAlcoholConsump_0  \\\n",
              "0  0.571429       1.0       0.0  ...        1.0                  1.0   \n",
              "1  0.857143       0.0       1.0  ...        1.0                  1.0   \n",
              "2  1.000000       0.0       1.0  ...        1.0                  1.0   \n",
              "3  0.857143       0.0       1.0  ...        0.0                  1.0   \n",
              "4  0.000000       1.0       0.0  ...        1.0                  1.0   \n",
              "\n",
              "   HvyAlcoholConsump_1  AnyHealthcare_0  AnyHealthcare_1  NoDocbcCost_0  \\\n",
              "0                  0.0              0.0              1.0            1.0   \n",
              "1                  0.0              0.0              1.0            1.0   \n",
              "2                  0.0              0.0              1.0            1.0   \n",
              "3                  0.0              0.0              1.0            1.0   \n",
              "4                  0.0              0.0              1.0            0.0   \n",
              "\n",
              "   NoDocbcCost_1  Sex_0  Sex_1  Diabetes_binary  \n",
              "0            0.0    0.0    1.0              0.0  \n",
              "1            0.0    0.0    1.0              0.0  \n",
              "2            0.0    0.0    1.0              0.0  \n",
              "3            0.0    0.0    1.0              0.0  \n",
              "4            1.0    1.0    0.0              0.0  \n",
              "\n",
              "[5 rows x 35 columns]"
            ]
          },
          "execution_count": 4,
          "metadata": {},
          "output_type": "execute_result"
        }
      ],
      "source": [
        "train_data.head()"
      ]
    },
    {
      "cell_type": "code",
      "execution_count": 5,
      "metadata": {
        "id": "zX_ekgwsEgs7"
      },
      "outputs": [],
      "source": [
        "X_train = train_data.drop(['Diabetes_binary'], axis=1)\n",
        "y_train = train_data['Diabetes_binary']"
      ]
    },
    {
      "cell_type": "code",
      "execution_count": 6,
      "metadata": {
        "id": "epNHSyuDEgs8"
      },
      "outputs": [],
      "source": [
        "X_test = test_data.drop(['Diabetes_binary'], axis=1)\n",
        "y_test = test_data['Diabetes_binary']"
      ]
    },
    {
      "cell_type": "code",
      "execution_count": null,
      "metadata": {
        "id": "nR5S5apfEgs8"
      },
      "outputs": [],
      "source": [
        "mlp_classifer = MLPClassifier()\n",
        "mlp_param_grid ={\"hidden_layer_sizes\": [(64, 64), (32, 32)],\n",
        "                \"activation\": ['relu', 'tanh'],\n",
        "                \"alpha\" : [0.01, 0.001],\n",
        "                 \"solver\": ['adam'],\n",
        "                \"random_state\": [42],\n",
        "                \"verbose\" : [True],\n",
        "                 \"max_iter\" : [30]}"
      ]
    },
    {
      "cell_type": "code",
      "execution_count": null,
      "metadata": {
        "colab": {
          "base_uri": "https://localhost:8080/",
          "height": 1000
        },
        "id": "w8lKKKvlEgs8",
        "outputId": "aa949a1d-f034-456b-d095-c5ec2d9a65d8"
      },
      "outputs": [
        {
          "name": "stdout",
          "output_type": "stream",
          "text": [
            "Fitting 5 folds for each of 8 candidates, totalling 40 fits\n",
            "Iteration 1, loss = 0.32689652\n",
            "Iteration 2, loss = 0.31662935\n",
            "Iteration 3, loss = 0.31579485\n",
            "Iteration 4, loss = 0.31490482\n",
            "Iteration 5, loss = 0.31439419\n",
            "Iteration 6, loss = 0.31412306\n",
            "Iteration 7, loss = 0.31375098\n",
            "Iteration 8, loss = 0.31366607\n",
            "Iteration 9, loss = 0.31336558\n",
            "Iteration 10, loss = 0.31318310\n",
            "Iteration 11, loss = 0.31305788\n",
            "Iteration 12, loss = 0.31280667\n",
            "Iteration 13, loss = 0.31276024\n",
            "Iteration 14, loss = 0.31261268\n",
            "Iteration 15, loss = 0.31245980\n",
            "Iteration 16, loss = 0.31266852\n",
            "Iteration 17, loss = 0.31237476\n",
            "Iteration 18, loss = 0.31233744\n",
            "Iteration 19, loss = 0.31209887\n",
            "Iteration 20, loss = 0.31218185\n",
            "Iteration 21, loss = 0.31184974\n",
            "Iteration 22, loss = 0.31196552\n",
            "Iteration 23, loss = 0.31175673\n",
            "Iteration 24, loss = 0.31167261\n",
            "Iteration 25, loss = 0.31161650\n",
            "Iteration 26, loss = 0.31155927\n",
            "Iteration 27, loss = 0.31172254\n",
            "Iteration 28, loss = 0.31135251\n",
            "Iteration 29, loss = 0.31133899\n",
            "Iteration 30, loss = 0.31121498\n"
          ]
        },
        {
          "name": "stderr",
          "output_type": "stream",
          "text": [
            "/usr/local/lib/python3.10/dist-packages/sklearn/neural_network/_multilayer_perceptron.py:686: ConvergenceWarning: Stochastic Optimizer: Maximum iterations (30) reached and the optimization hasn't converged yet.\n",
            "  warnings.warn(\n"
          ]
        },
        {
          "name": "stdout",
          "output_type": "stream",
          "text": [
            "[CV 1/5] END activation=relu, alpha=0.01, hidden_layer_sizes=(64, 64), max_iter=30, random_state=42, solver=adam, verbose=True;, score=0.830 total time= 1.6min\n",
            "Iteration 1, loss = 0.32646122\n",
            "Iteration 2, loss = 0.31654074\n",
            "Iteration 3, loss = 0.31520063\n",
            "Iteration 4, loss = 0.31477557\n",
            "Iteration 5, loss = 0.31401788\n",
            "Iteration 6, loss = 0.31362236\n",
            "Iteration 7, loss = 0.31327822\n",
            "Iteration 8, loss = 0.31308721\n",
            "Iteration 9, loss = 0.31272204\n",
            "Iteration 10, loss = 0.31267696\n",
            "Iteration 11, loss = 0.31242096\n",
            "Iteration 12, loss = 0.31228919\n",
            "Iteration 13, loss = 0.31213619\n",
            "Iteration 14, loss = 0.31202748\n",
            "Iteration 15, loss = 0.31208082\n",
            "Iteration 16, loss = 0.31185649\n",
            "Iteration 17, loss = 0.31177997\n",
            "Iteration 18, loss = 0.31171815\n",
            "Iteration 19, loss = 0.31150151\n",
            "Iteration 20, loss = 0.31157540\n",
            "Iteration 21, loss = 0.31132092\n",
            "Iteration 22, loss = 0.31137964\n",
            "Iteration 23, loss = 0.31119451\n",
            "Iteration 24, loss = 0.31104441\n",
            "Iteration 25, loss = 0.31111278\n",
            "Iteration 26, loss = 0.31116292\n",
            "Iteration 27, loss = 0.31082845\n",
            "Iteration 28, loss = 0.31081298\n",
            "Iteration 29, loss = 0.31062075\n",
            "Iteration 30, loss = 0.31078830\n"
          ]
        },
        {
          "name": "stderr",
          "output_type": "stream",
          "text": [
            "/usr/local/lib/python3.10/dist-packages/sklearn/neural_network/_multilayer_perceptron.py:686: ConvergenceWarning: Stochastic Optimizer: Maximum iterations (30) reached and the optimization hasn't converged yet.\n",
            "  warnings.warn(\n"
          ]
        },
        {
          "name": "stdout",
          "output_type": "stream",
          "text": [
            "[CV 2/5] END activation=relu, alpha=0.01, hidden_layer_sizes=(64, 64), max_iter=30, random_state=42, solver=adam, verbose=True;, score=0.832 total time= 1.6min\n",
            "Iteration 1, loss = 0.32615399\n",
            "Iteration 2, loss = 0.31577449\n",
            "Iteration 3, loss = 0.31484663\n",
            "Iteration 4, loss = 0.31430022\n",
            "Iteration 5, loss = 0.31380902\n",
            "Iteration 6, loss = 0.31333202\n",
            "Iteration 7, loss = 0.31329590\n",
            "Iteration 8, loss = 0.31292543\n",
            "Iteration 9, loss = 0.31257510\n",
            "Iteration 10, loss = 0.31241081\n",
            "Iteration 11, loss = 0.31245953\n",
            "Iteration 12, loss = 0.31213384\n",
            "Iteration 13, loss = 0.31208789\n",
            "Iteration 14, loss = 0.31201762\n",
            "Iteration 15, loss = 0.31193906\n",
            "Iteration 16, loss = 0.31168456\n",
            "Iteration 17, loss = 0.31168746\n",
            "Iteration 18, loss = 0.31150716\n",
            "Iteration 19, loss = 0.31152674\n",
            "Iteration 20, loss = 0.31160234\n",
            "Iteration 21, loss = 0.31118446\n",
            "Iteration 22, loss = 0.31151121\n",
            "Iteration 23, loss = 0.31135951\n",
            "Iteration 24, loss = 0.31111664\n",
            "Iteration 25, loss = 0.31118760\n",
            "Iteration 26, loss = 0.31111860\n",
            "Iteration 27, loss = 0.31093539\n",
            "Iteration 28, loss = 0.31089170\n",
            "Iteration 29, loss = 0.31087627\n",
            "Iteration 30, loss = 0.31094811\n"
          ]
        },
        {
          "name": "stderr",
          "output_type": "stream",
          "text": [
            "/usr/local/lib/python3.10/dist-packages/sklearn/neural_network/_multilayer_perceptron.py:686: ConvergenceWarning: Stochastic Optimizer: Maximum iterations (30) reached and the optimization hasn't converged yet.\n",
            "  warnings.warn(\n"
          ]
        },
        {
          "name": "stdout",
          "output_type": "stream",
          "text": [
            "[CV 3/5] END activation=relu, alpha=0.01, hidden_layer_sizes=(64, 64), max_iter=30, random_state=42, solver=adam, verbose=True;, score=0.833 total time= 1.5min\n",
            "Iteration 1, loss = 0.32673477\n",
            "Iteration 2, loss = 0.31637380\n",
            "Iteration 3, loss = 0.31541673\n",
            "Iteration 4, loss = 0.31477424\n",
            "Iteration 5, loss = 0.31448198\n",
            "Iteration 6, loss = 0.31395087\n",
            "Iteration 7, loss = 0.31393987\n",
            "Iteration 8, loss = 0.31344893\n",
            "Iteration 9, loss = 0.31301503\n",
            "Iteration 10, loss = 0.31288308\n",
            "Iteration 11, loss = 0.31289738\n",
            "Iteration 12, loss = 0.31271282\n",
            "Iteration 13, loss = 0.31255821\n",
            "Iteration 14, loss = 0.31238608\n",
            "Iteration 15, loss = 0.31222919\n",
            "Iteration 16, loss = 0.31214892\n",
            "Iteration 17, loss = 0.31214370\n",
            "Iteration 18, loss = 0.31188827\n",
            "Iteration 19, loss = 0.31206477\n",
            "Iteration 20, loss = 0.31183358\n",
            "Iteration 21, loss = 0.31161988\n",
            "Iteration 22, loss = 0.31185792\n",
            "Iteration 23, loss = 0.31160998\n",
            "Iteration 24, loss = 0.31152947\n",
            "Iteration 25, loss = 0.31161872\n",
            "Iteration 26, loss = 0.31128238\n",
            "Iteration 27, loss = 0.31128990\n",
            "Iteration 28, loss = 0.31128368\n",
            "Iteration 29, loss = 0.31123971\n",
            "Iteration 30, loss = 0.31135884\n"
          ]
        },
        {
          "name": "stderr",
          "output_type": "stream",
          "text": [
            "/usr/local/lib/python3.10/dist-packages/sklearn/neural_network/_multilayer_perceptron.py:686: ConvergenceWarning: Stochastic Optimizer: Maximum iterations (30) reached and the optimization hasn't converged yet.\n",
            "  warnings.warn(\n"
          ]
        },
        {
          "name": "stdout",
          "output_type": "stream",
          "text": [
            "[CV 4/5] END activation=relu, alpha=0.01, hidden_layer_sizes=(64, 64), max_iter=30, random_state=42, solver=adam, verbose=True;, score=0.837 total time= 1.5min\n",
            "Iteration 1, loss = 0.32798183\n",
            "Iteration 2, loss = 0.31678677\n",
            "Iteration 3, loss = 0.31562970\n",
            "Iteration 4, loss = 0.31502791\n",
            "Iteration 5, loss = 0.31443939\n",
            "Iteration 6, loss = 0.31407720\n",
            "Iteration 7, loss = 0.31389794\n",
            "Iteration 8, loss = 0.31356617\n",
            "Iteration 9, loss = 0.31343755\n",
            "Iteration 10, loss = 0.31335855\n",
            "Iteration 11, loss = 0.31322417\n",
            "Iteration 12, loss = 0.31296343\n",
            "Iteration 13, loss = 0.31290682\n",
            "Iteration 14, loss = 0.31270867\n",
            "Iteration 15, loss = 0.31272348\n",
            "Iteration 16, loss = 0.31263040\n",
            "Iteration 17, loss = 0.31241870\n",
            "Iteration 18, loss = 0.31254470\n",
            "Iteration 19, loss = 0.31223948\n",
            "Iteration 20, loss = 0.31222194\n",
            "Iteration 21, loss = 0.31209110\n",
            "Iteration 22, loss = 0.31198601\n",
            "Iteration 23, loss = 0.31201145\n",
            "Iteration 24, loss = 0.31189007\n",
            "Iteration 25, loss = 0.31162335\n",
            "Iteration 26, loss = 0.31180779\n",
            "Iteration 27, loss = 0.31181426\n",
            "Iteration 28, loss = 0.31167214\n",
            "Iteration 29, loss = 0.31165514\n",
            "Iteration 30, loss = 0.31141455\n"
          ]
        },
        {
          "name": "stderr",
          "output_type": "stream",
          "text": [
            "/usr/local/lib/python3.10/dist-packages/sklearn/neural_network/_multilayer_perceptron.py:686: ConvergenceWarning: Stochastic Optimizer: Maximum iterations (30) reached and the optimization hasn't converged yet.\n",
            "  warnings.warn(\n"
          ]
        },
        {
          "name": "stdout",
          "output_type": "stream",
          "text": [
            "[CV 5/5] END activation=relu, alpha=0.01, hidden_layer_sizes=(64, 64), max_iter=30, random_state=42, solver=adam, verbose=True;, score=0.834 total time= 1.5min\n",
            "Iteration 1, loss = 0.33210227\n",
            "Iteration 2, loss = 0.31668962\n",
            "Iteration 3, loss = 0.31547848\n",
            "Iteration 4, loss = 0.31472076\n",
            "Iteration 5, loss = 0.31460916\n",
            "Iteration 6, loss = 0.31417697\n",
            "Iteration 7, loss = 0.31391150\n",
            "Iteration 8, loss = 0.31356820\n",
            "Iteration 9, loss = 0.31357476\n",
            "Iteration 10, loss = 0.31336259\n",
            "Iteration 11, loss = 0.31309024\n",
            "Iteration 12, loss = 0.31308946\n",
            "Iteration 13, loss = 0.31308153\n",
            "Iteration 14, loss = 0.31279798\n",
            "Iteration 15, loss = 0.31278523\n",
            "Iteration 16, loss = 0.31276150\n",
            "Iteration 17, loss = 0.31256714\n",
            "Iteration 18, loss = 0.31240939\n",
            "Iteration 19, loss = 0.31247560\n",
            "Iteration 20, loss = 0.31226055\n",
            "Iteration 21, loss = 0.31215862\n",
            "Iteration 22, loss = 0.31226737\n",
            "Iteration 23, loss = 0.31204424\n",
            "Iteration 24, loss = 0.31205833\n",
            "Iteration 25, loss = 0.31191359\n",
            "Iteration 26, loss = 0.31194138\n",
            "Iteration 27, loss = 0.31170739\n",
            "Iteration 28, loss = 0.31182891\n",
            "Iteration 29, loss = 0.31172300\n",
            "Iteration 30, loss = 0.31180790\n",
            "[CV 1/5] END activation=relu, alpha=0.01, hidden_layer_sizes=(32, 32), max_iter=30, random_state=42, solver=adam, verbose=True;, score=0.834 total time=  31.3s\n"
          ]
        },
        {
          "name": "stderr",
          "output_type": "stream",
          "text": [
            "/usr/local/lib/python3.10/dist-packages/sklearn/neural_network/_multilayer_perceptron.py:686: ConvergenceWarning: Stochastic Optimizer: Maximum iterations (30) reached and the optimization hasn't converged yet.\n",
            "  warnings.warn(\n"
          ]
        },
        {
          "name": "stdout",
          "output_type": "stream",
          "text": [
            "Iteration 1, loss = 0.33097532\n",
            "Iteration 2, loss = 0.31618853\n",
            "Iteration 3, loss = 0.31482008\n",
            "Iteration 4, loss = 0.31433996\n",
            "Iteration 5, loss = 0.31405929\n",
            "Iteration 6, loss = 0.31363830\n",
            "Iteration 7, loss = 0.31335888\n",
            "Iteration 8, loss = 0.31312641\n",
            "Iteration 9, loss = 0.31305161\n",
            "Iteration 10, loss = 0.31299853\n",
            "Iteration 11, loss = 0.31261335\n",
            "Iteration 12, loss = 0.31251110\n",
            "Iteration 13, loss = 0.31251371\n",
            "Iteration 14, loss = 0.31226851\n",
            "Iteration 15, loss = 0.31216820\n",
            "Iteration 16, loss = 0.31222300\n",
            "Iteration 17, loss = 0.31192010\n",
            "Iteration 18, loss = 0.31187556\n",
            "Iteration 19, loss = 0.31191270\n",
            "Iteration 20, loss = 0.31178797\n",
            "Iteration 21, loss = 0.31161848\n",
            "Iteration 22, loss = 0.31167564\n",
            "Iteration 23, loss = 0.31160720\n",
            "Iteration 24, loss = 0.31148271\n",
            "Iteration 25, loss = 0.31135606\n",
            "Iteration 26, loss = 0.31132517\n",
            "Iteration 27, loss = 0.31137040\n",
            "Iteration 28, loss = 0.31130890\n",
            "Iteration 29, loss = 0.31133666\n",
            "Iteration 30, loss = 0.31125994\n",
            "[CV 2/5] END activation=relu, alpha=0.01, hidden_layer_sizes=(32, 32), max_iter=30, random_state=42, solver=adam, verbose=True;, score=0.831 total time=  32.5s\n"
          ]
        },
        {
          "name": "stderr",
          "output_type": "stream",
          "text": [
            "/usr/local/lib/python3.10/dist-packages/sklearn/neural_network/_multilayer_perceptron.py:686: ConvergenceWarning: Stochastic Optimizer: Maximum iterations (30) reached and the optimization hasn't converged yet.\n",
            "  warnings.warn(\n"
          ]
        },
        {
          "name": "stdout",
          "output_type": "stream",
          "text": [
            "Iteration 1, loss = 0.33080342\n",
            "Iteration 2, loss = 0.31596242\n",
            "Iteration 3, loss = 0.31459344\n",
            "Iteration 4, loss = 0.31391547\n",
            "Iteration 5, loss = 0.31363260\n",
            "Iteration 6, loss = 0.31326043\n",
            "Iteration 7, loss = 0.31295478\n",
            "Iteration 8, loss = 0.31271479\n",
            "Iteration 9, loss = 0.31266492\n",
            "Iteration 10, loss = 0.31236700\n",
            "Iteration 11, loss = 0.31231746\n",
            "Iteration 12, loss = 0.31225360\n",
            "Iteration 13, loss = 0.31219042\n",
            "Iteration 14, loss = 0.31208996\n",
            "Iteration 15, loss = 0.31194974\n",
            "Iteration 16, loss = 0.31205864\n",
            "Iteration 17, loss = 0.31164866\n",
            "Iteration 18, loss = 0.31180542\n",
            "Iteration 19, loss = 0.31162986\n",
            "Iteration 20, loss = 0.31156380\n",
            "Iteration 21, loss = 0.31141710\n",
            "Iteration 22, loss = 0.31152797\n",
            "Iteration 23, loss = 0.31152333\n",
            "Iteration 24, loss = 0.31131271\n",
            "Iteration 25, loss = 0.31129789\n",
            "Iteration 26, loss = 0.31126771\n",
            "Iteration 27, loss = 0.31130371\n",
            "Iteration 28, loss = 0.31118623\n",
            "Iteration 29, loss = 0.31136670\n",
            "Iteration 30, loss = 0.31105014\n",
            "[CV 3/5] END activation=relu, alpha=0.01, hidden_layer_sizes=(32, 32), max_iter=30, random_state=42, solver=adam, verbose=True;, score=0.827 total time=  31.5s\n"
          ]
        },
        {
          "name": "stderr",
          "output_type": "stream",
          "text": [
            "/usr/local/lib/python3.10/dist-packages/sklearn/neural_network/_multilayer_perceptron.py:686: ConvergenceWarning: Stochastic Optimizer: Maximum iterations (30) reached and the optimization hasn't converged yet.\n",
            "  warnings.warn(\n"
          ]
        },
        {
          "name": "stdout",
          "output_type": "stream",
          "text": [
            "Iteration 1, loss = 0.33193373\n",
            "Iteration 2, loss = 0.31647073\n",
            "Iteration 3, loss = 0.31506346\n",
            "Iteration 4, loss = 0.31471564\n",
            "Iteration 5, loss = 0.31425722\n",
            "Iteration 6, loss = 0.31403015\n",
            "Iteration 7, loss = 0.31354452\n",
            "Iteration 8, loss = 0.31346998\n",
            "Iteration 9, loss = 0.31313315\n",
            "Iteration 10, loss = 0.31299958\n",
            "Iteration 11, loss = 0.31289099\n",
            "Iteration 12, loss = 0.31295396\n",
            "Iteration 13, loss = 0.31268823\n",
            "Iteration 14, loss = 0.31262222\n",
            "Iteration 15, loss = 0.31256348\n",
            "Iteration 16, loss = 0.31240477\n",
            "Iteration 17, loss = 0.31218939\n",
            "Iteration 18, loss = 0.31229835\n",
            "Iteration 19, loss = 0.31212012\n",
            "Iteration 20, loss = 0.31204707\n",
            "Iteration 21, loss = 0.31188987\n",
            "Iteration 22, loss = 0.31187397\n",
            "Iteration 23, loss = 0.31192905\n",
            "Iteration 24, loss = 0.31164608\n",
            "Iteration 25, loss = 0.31171574\n",
            "Iteration 26, loss = 0.31176022\n",
            "Iteration 27, loss = 0.31171220\n",
            "Iteration 28, loss = 0.31147922\n",
            "Iteration 29, loss = 0.31155720\n",
            "Iteration 30, loss = 0.31132404\n",
            "[CV 4/5] END activation=relu, alpha=0.01, hidden_layer_sizes=(32, 32), max_iter=30, random_state=42, solver=adam, verbose=True;, score=0.832 total time=  32.1s\n"
          ]
        },
        {
          "name": "stderr",
          "output_type": "stream",
          "text": [
            "/usr/local/lib/python3.10/dist-packages/sklearn/neural_network/_multilayer_perceptron.py:686: ConvergenceWarning: Stochastic Optimizer: Maximum iterations (30) reached and the optimization hasn't converged yet.\n",
            "  warnings.warn(\n"
          ]
        },
        {
          "name": "stdout",
          "output_type": "stream",
          "text": [
            "Iteration 1, loss = 0.33210872\n",
            "Iteration 2, loss = 0.31668750\n",
            "Iteration 3, loss = 0.31554338\n",
            "Iteration 4, loss = 0.31503108\n",
            "Iteration 5, loss = 0.31445261\n",
            "Iteration 6, loss = 0.31422657\n",
            "Iteration 7, loss = 0.31387342\n",
            "Iteration 8, loss = 0.31360911\n",
            "Iteration 9, loss = 0.31358547\n",
            "Iteration 10, loss = 0.31330161\n",
            "Iteration 11, loss = 0.31346711\n",
            "Iteration 12, loss = 0.31317469\n",
            "Iteration 13, loss = 0.31301344\n",
            "Iteration 14, loss = 0.31303696\n",
            "Iteration 15, loss = 0.31287115\n",
            "Iteration 16, loss = 0.31282960\n",
            "Iteration 17, loss = 0.31263009\n",
            "Iteration 18, loss = 0.31253624\n",
            "Iteration 19, loss = 0.31254968\n",
            "Iteration 20, loss = 0.31244197\n",
            "Iteration 21, loss = 0.31219292\n",
            "Iteration 22, loss = 0.31238295\n",
            "Iteration 23, loss = 0.31242066\n",
            "Iteration 24, loss = 0.31214033\n",
            "Iteration 25, loss = 0.31212233\n",
            "Iteration 26, loss = 0.31218485\n",
            "Iteration 27, loss = 0.31191172\n",
            "Iteration 28, loss = 0.31193419\n",
            "Iteration 29, loss = 0.31183221\n",
            "Iteration 30, loss = 0.31187182\n",
            "[CV 5/5] END activation=relu, alpha=0.01, hidden_layer_sizes=(32, 32), max_iter=30, random_state=42, solver=adam, verbose=True;, score=0.840 total time=  29.6s\n"
          ]
        },
        {
          "name": "stderr",
          "output_type": "stream",
          "text": [
            "/usr/local/lib/python3.10/dist-packages/sklearn/neural_network/_multilayer_perceptron.py:686: ConvergenceWarning: Stochastic Optimizer: Maximum iterations (30) reached and the optimization hasn't converged yet.\n",
            "  warnings.warn(\n"
          ]
        },
        {
          "name": "stdout",
          "output_type": "stream",
          "text": [
            "Iteration 1, loss = 0.32468312\n",
            "Iteration 2, loss = 0.31474529\n",
            "Iteration 3, loss = 0.31396591\n",
            "Iteration 4, loss = 0.31320810\n",
            "Iteration 5, loss = 0.31267368\n",
            "Iteration 6, loss = 0.31241003\n",
            "Iteration 7, loss = 0.31201693\n",
            "Iteration 8, loss = 0.31192038\n",
            "Iteration 9, loss = 0.31156974\n",
            "Iteration 10, loss = 0.31132449\n",
            "Iteration 11, loss = 0.31113948\n",
            "Iteration 12, loss = 0.31087554\n",
            "Iteration 13, loss = 0.31069985\n",
            "Iteration 14, loss = 0.31047395\n",
            "Iteration 15, loss = 0.31018263\n",
            "Iteration 16, loss = 0.31038724\n",
            "Iteration 17, loss = 0.30994946\n",
            "Iteration 18, loss = 0.30988406\n",
            "Iteration 19, loss = 0.30955312\n",
            "Iteration 20, loss = 0.30946055\n",
            "Iteration 21, loss = 0.30898497\n",
            "Iteration 22, loss = 0.30900389\n",
            "Iteration 23, loss = 0.30862718\n",
            "Iteration 24, loss = 0.30847725\n",
            "Iteration 25, loss = 0.30825226\n",
            "Iteration 26, loss = 0.30808062\n",
            "Iteration 27, loss = 0.30816245\n",
            "Iteration 28, loss = 0.30777298\n",
            "Iteration 29, loss = 0.30747802\n",
            "Iteration 30, loss = 0.30722148\n",
            "[CV 1/5] END activation=relu, alpha=0.001, hidden_layer_sizes=(64, 64), max_iter=30, random_state=42, solver=adam, verbose=True;, score=0.831 total time= 1.5min\n"
          ]
        },
        {
          "name": "stderr",
          "output_type": "stream",
          "text": [
            "/usr/local/lib/python3.10/dist-packages/sklearn/neural_network/_multilayer_perceptron.py:686: ConvergenceWarning: Stochastic Optimizer: Maximum iterations (30) reached and the optimization hasn't converged yet.\n",
            "  warnings.warn(\n"
          ]
        },
        {
          "name": "stdout",
          "output_type": "stream",
          "text": [
            "Iteration 1, loss = 0.32419328\n",
            "Iteration 2, loss = 0.31449637\n",
            "Iteration 3, loss = 0.31330632\n",
            "Iteration 4, loss = 0.31294295\n",
            "Iteration 5, loss = 0.31222912\n",
            "Iteration 6, loss = 0.31181007\n",
            "Iteration 7, loss = 0.31146090\n",
            "Iteration 8, loss = 0.31129700\n",
            "Iteration 9, loss = 0.31094584\n",
            "Iteration 10, loss = 0.31068515\n",
            "Iteration 11, loss = 0.31038831\n",
            "Iteration 12, loss = 0.31013965\n",
            "Iteration 13, loss = 0.30987392\n",
            "Iteration 14, loss = 0.30965522\n",
            "Iteration 15, loss = 0.30969811\n",
            "Iteration 16, loss = 0.30931100\n",
            "Iteration 17, loss = 0.30912480\n",
            "Iteration 18, loss = 0.30896925\n",
            "Iteration 19, loss = 0.30868255\n",
            "Iteration 20, loss = 0.30852263\n",
            "Iteration 21, loss = 0.30826954\n",
            "Iteration 22, loss = 0.30815403\n",
            "Iteration 23, loss = 0.30795712\n",
            "Iteration 24, loss = 0.30762692\n",
            "Iteration 25, loss = 0.30763404\n",
            "Iteration 26, loss = 0.30752823\n",
            "Iteration 27, loss = 0.30709694\n",
            "Iteration 28, loss = 0.30689751\n",
            "Iteration 29, loss = 0.30673291\n",
            "Iteration 30, loss = 0.30654573\n"
          ]
        },
        {
          "name": "stderr",
          "output_type": "stream",
          "text": [
            "/usr/local/lib/python3.10/dist-packages/sklearn/neural_network/_multilayer_perceptron.py:686: ConvergenceWarning: Stochastic Optimizer: Maximum iterations (30) reached and the optimization hasn't converged yet.\n",
            "  warnings.warn(\n"
          ]
        },
        {
          "name": "stdout",
          "output_type": "stream",
          "text": [
            "[CV 2/5] END activation=relu, alpha=0.001, hidden_layer_sizes=(64, 64), max_iter=30, random_state=42, solver=adam, verbose=True;, score=0.833 total time= 1.3min\n",
            "Iteration 1, loss = 0.32390593\n",
            "Iteration 2, loss = 0.31372172\n",
            "Iteration 3, loss = 0.31287169\n",
            "Iteration 4, loss = 0.31251843\n",
            "Iteration 5, loss = 0.31207169\n",
            "Iteration 6, loss = 0.31167963\n",
            "Iteration 7, loss = 0.31158912\n",
            "Iteration 8, loss = 0.31117458\n",
            "Iteration 9, loss = 0.31082788\n",
            "Iteration 10, loss = 0.31062216\n",
            "Iteration 11, loss = 0.31061194\n",
            "Iteration 12, loss = 0.31022115\n",
            "Iteration 13, loss = 0.31005433\n",
            "Iteration 14, loss = 0.30990635\n",
            "Iteration 15, loss = 0.30979433\n",
            "Iteration 16, loss = 0.30938969\n",
            "Iteration 17, loss = 0.30928735\n",
            "Iteration 18, loss = 0.30902814\n",
            "Iteration 19, loss = 0.30897433\n",
            "Iteration 20, loss = 0.30885675\n",
            "Iteration 21, loss = 0.30835044\n",
            "Iteration 22, loss = 0.30852030\n",
            "Iteration 23, loss = 0.30828988\n",
            "Iteration 24, loss = 0.30786842\n",
            "Iteration 25, loss = 0.30777156\n",
            "Iteration 26, loss = 0.30750701\n",
            "Iteration 27, loss = 0.30710302\n",
            "Iteration 28, loss = 0.30697121\n",
            "Iteration 29, loss = 0.30678560\n",
            "Iteration 30, loss = 0.30676086\n"
          ]
        },
        {
          "name": "stderr",
          "output_type": "stream",
          "text": [
            "/usr/local/lib/python3.10/dist-packages/sklearn/neural_network/_multilayer_perceptron.py:686: ConvergenceWarning: Stochastic Optimizer: Maximum iterations (30) reached and the optimization hasn't converged yet.\n",
            "  warnings.warn(\n"
          ]
        },
        {
          "name": "stdout",
          "output_type": "stream",
          "text": [
            "[CV 3/5] END activation=relu, alpha=0.001, hidden_layer_sizes=(64, 64), max_iter=30, random_state=42, solver=adam, verbose=True;, score=0.832 total time= 1.4min\n",
            "Iteration 1, loss = 0.32447081\n",
            "Iteration 2, loss = 0.31442008\n",
            "Iteration 3, loss = 0.31357599\n",
            "Iteration 4, loss = 0.31302358\n",
            "Iteration 5, loss = 0.31274987\n",
            "Iteration 6, loss = 0.31224773\n",
            "Iteration 7, loss = 0.31229639\n",
            "Iteration 8, loss = 0.31179240\n",
            "Iteration 9, loss = 0.31130426\n",
            "Iteration 10, loss = 0.31116762\n",
            "Iteration 11, loss = 0.31116225\n",
            "Iteration 12, loss = 0.31090174\n",
            "Iteration 13, loss = 0.31070378\n",
            "Iteration 14, loss = 0.31039513\n",
            "Iteration 15, loss = 0.31006337\n",
            "Iteration 16, loss = 0.31000466\n",
            "Iteration 17, loss = 0.30989943\n",
            "Iteration 18, loss = 0.30952531\n",
            "Iteration 19, loss = 0.30947678\n",
            "Iteration 20, loss = 0.30916148\n",
            "Iteration 21, loss = 0.30886531\n",
            "Iteration 22, loss = 0.30889853\n",
            "Iteration 23, loss = 0.30862963\n",
            "Iteration 24, loss = 0.30836906\n",
            "Iteration 25, loss = 0.30838470\n",
            "Iteration 26, loss = 0.30790629\n",
            "Iteration 27, loss = 0.30768267\n",
            "Iteration 28, loss = 0.30754793\n",
            "Iteration 29, loss = 0.30746425\n",
            "Iteration 30, loss = 0.30740160\n"
          ]
        },
        {
          "name": "stderr",
          "output_type": "stream",
          "text": [
            "/usr/local/lib/python3.10/dist-packages/sklearn/neural_network/_multilayer_perceptron.py:686: ConvergenceWarning: Stochastic Optimizer: Maximum iterations (30) reached and the optimization hasn't converged yet.\n",
            "  warnings.warn(\n"
          ]
        },
        {
          "name": "stdout",
          "output_type": "stream",
          "text": [
            "[CV 4/5] END activation=relu, alpha=0.001, hidden_layer_sizes=(64, 64), max_iter=30, random_state=42, solver=adam, verbose=True;, score=0.834 total time= 1.3min\n",
            "Iteration 1, loss = 0.32579291\n",
            "Iteration 2, loss = 0.31481863\n",
            "Iteration 3, loss = 0.31381036\n",
            "Iteration 4, loss = 0.31328290\n",
            "Iteration 5, loss = 0.31279211\n",
            "Iteration 6, loss = 0.31240089\n",
            "Iteration 7, loss = 0.31221943\n",
            "Iteration 8, loss = 0.31177685\n",
            "Iteration 9, loss = 0.31160420\n",
            "Iteration 10, loss = 0.31141659\n",
            "Iteration 11, loss = 0.31132264\n",
            "Iteration 12, loss = 0.31091090\n",
            "Iteration 13, loss = 0.31076716\n",
            "Iteration 14, loss = 0.31049598\n",
            "Iteration 15, loss = 0.31045529\n",
            "Iteration 16, loss = 0.31017747\n",
            "Iteration 17, loss = 0.30986638\n",
            "Iteration 18, loss = 0.30983406\n",
            "Iteration 19, loss = 0.30951307\n",
            "Iteration 20, loss = 0.30944145\n",
            "Iteration 21, loss = 0.30914198\n",
            "Iteration 22, loss = 0.30891303\n",
            "Iteration 23, loss = 0.30889397\n",
            "Iteration 24, loss = 0.30863976\n",
            "Iteration 25, loss = 0.30838805\n",
            "Iteration 26, loss = 0.30839525\n",
            "Iteration 27, loss = 0.30827460\n",
            "Iteration 28, loss = 0.30800039\n",
            "Iteration 29, loss = 0.30785365\n",
            "Iteration 30, loss = 0.30752595\n"
          ]
        },
        {
          "name": "stderr",
          "output_type": "stream",
          "text": [
            "/usr/local/lib/python3.10/dist-packages/sklearn/neural_network/_multilayer_perceptron.py:686: ConvergenceWarning: Stochastic Optimizer: Maximum iterations (30) reached and the optimization hasn't converged yet.\n",
            "  warnings.warn(\n"
          ]
        },
        {
          "name": "stdout",
          "output_type": "stream",
          "text": [
            "[CV 5/5] END activation=relu, alpha=0.001, hidden_layer_sizes=(64, 64), max_iter=30, random_state=42, solver=adam, verbose=True;, score=0.837 total time= 1.2min\n",
            "Iteration 1, loss = 0.33076632\n",
            "Iteration 2, loss = 0.31536328\n",
            "Iteration 3, loss = 0.31416670\n",
            "Iteration 4, loss = 0.31340444\n",
            "Iteration 5, loss = 0.31327833\n",
            "Iteration 6, loss = 0.31292094\n",
            "Iteration 7, loss = 0.31265325\n",
            "Iteration 8, loss = 0.31231588\n",
            "Iteration 9, loss = 0.31223358\n",
            "Iteration 10, loss = 0.31209174\n",
            "Iteration 11, loss = 0.31175821\n",
            "Iteration 12, loss = 0.31170313\n",
            "Iteration 13, loss = 0.31172889\n",
            "Iteration 14, loss = 0.31143942\n",
            "Iteration 15, loss = 0.31132699\n",
            "Iteration 16, loss = 0.31130869\n",
            "Iteration 17, loss = 0.31104027\n",
            "Iteration 18, loss = 0.31091464\n",
            "Iteration 19, loss = 0.31101159\n",
            "Iteration 20, loss = 0.31077715\n",
            "Iteration 21, loss = 0.31064202\n",
            "Iteration 22, loss = 0.31067840\n",
            "Iteration 23, loss = 0.31048534\n",
            "Iteration 24, loss = 0.31044576\n",
            "Iteration 25, loss = 0.31015465\n",
            "Iteration 26, loss = 0.31028313\n",
            "Iteration 27, loss = 0.30991238\n",
            "Iteration 28, loss = 0.31007730\n",
            "Iteration 29, loss = 0.30990521\n",
            "Iteration 30, loss = 0.30991698\n",
            "[CV 1/5] END activation=relu, alpha=0.001, hidden_layer_sizes=(32, 32), max_iter=30, random_state=42, solver=adam, verbose=True;, score=0.834 total time=  31.7s\n"
          ]
        },
        {
          "name": "stderr",
          "output_type": "stream",
          "text": [
            "/usr/local/lib/python3.10/dist-packages/sklearn/neural_network/_multilayer_perceptron.py:686: ConvergenceWarning: Stochastic Optimizer: Maximum iterations (30) reached and the optimization hasn't converged yet.\n",
            "  warnings.warn(\n"
          ]
        },
        {
          "name": "stdout",
          "output_type": "stream",
          "text": [
            "Iteration 1, loss = 0.32960817\n",
            "Iteration 2, loss = 0.31485647\n",
            "Iteration 3, loss = 0.31348535\n",
            "Iteration 4, loss = 0.31303948\n",
            "Iteration 5, loss = 0.31270691\n",
            "Iteration 6, loss = 0.31235062\n",
            "Iteration 7, loss = 0.31211483\n",
            "Iteration 8, loss = 0.31187910\n",
            "Iteration 9, loss = 0.31179770\n",
            "Iteration 10, loss = 0.31169348\n",
            "Iteration 11, loss = 0.31134192\n",
            "Iteration 12, loss = 0.31114228\n",
            "Iteration 13, loss = 0.31112109\n",
            "Iteration 14, loss = 0.31087703\n",
            "Iteration 15, loss = 0.31073515\n",
            "Iteration 16, loss = 0.31075892\n",
            "Iteration 17, loss = 0.31037228\n",
            "Iteration 18, loss = 0.31035048\n",
            "Iteration 19, loss = 0.31037343\n",
            "Iteration 20, loss = 0.31018839\n",
            "Iteration 21, loss = 0.30985912\n",
            "Iteration 22, loss = 0.30988551\n",
            "Iteration 23, loss = 0.30980909\n",
            "Iteration 24, loss = 0.30963739\n",
            "Iteration 25, loss = 0.30943886\n",
            "Iteration 26, loss = 0.30937953\n",
            "Iteration 27, loss = 0.30940998\n",
            "Iteration 28, loss = 0.30934528\n",
            "Iteration 29, loss = 0.30921229\n",
            "Iteration 30, loss = 0.30918599\n",
            "[CV 2/5] END activation=relu, alpha=0.001, hidden_layer_sizes=(32, 32), max_iter=30, random_state=42, solver=adam, verbose=True;, score=0.831 total time=  30.0s\n"
          ]
        },
        {
          "name": "stderr",
          "output_type": "stream",
          "text": [
            "/usr/local/lib/python3.10/dist-packages/sklearn/neural_network/_multilayer_perceptron.py:686: ConvergenceWarning: Stochastic Optimizer: Maximum iterations (30) reached and the optimization hasn't converged yet.\n",
            "  warnings.warn(\n"
          ]
        },
        {
          "name": "stdout",
          "output_type": "stream",
          "text": [
            "Iteration 1, loss = 0.32960582\n",
            "Iteration 2, loss = 0.31473310\n",
            "Iteration 3, loss = 0.31338583\n",
            "Iteration 4, loss = 0.31266879\n",
            "Iteration 5, loss = 0.31246582\n",
            "Iteration 6, loss = 0.31208905\n",
            "Iteration 7, loss = 0.31176658\n",
            "Iteration 8, loss = 0.31156459\n",
            "Iteration 9, loss = 0.31148276\n",
            "Iteration 10, loss = 0.31118552\n",
            "Iteration 11, loss = 0.31107160\n",
            "Iteration 12, loss = 0.31098210\n",
            "Iteration 13, loss = 0.31093110\n",
            "Iteration 14, loss = 0.31079223\n",
            "Iteration 15, loss = 0.31056022\n",
            "Iteration 16, loss = 0.31068179\n",
            "Iteration 17, loss = 0.31022530\n",
            "Iteration 18, loss = 0.31033379\n",
            "Iteration 19, loss = 0.31016051\n",
            "Iteration 20, loss = 0.31011723\n",
            "Iteration 21, loss = 0.30995887\n",
            "Iteration 22, loss = 0.30991840\n",
            "Iteration 23, loss = 0.30993624\n",
            "Iteration 24, loss = 0.30969560\n",
            "Iteration 25, loss = 0.30962150\n",
            "Iteration 26, loss = 0.30965079\n",
            "Iteration 27, loss = 0.30951692\n",
            "Iteration 28, loss = 0.30939819\n",
            "Iteration 29, loss = 0.30951557\n",
            "Iteration 30, loss = 0.30919421\n",
            "[CV 3/5] END activation=relu, alpha=0.001, hidden_layer_sizes=(32, 32), max_iter=30, random_state=42, solver=adam, verbose=True;, score=0.829 total time=  30.1s\n"
          ]
        },
        {
          "name": "stderr",
          "output_type": "stream",
          "text": [
            "/usr/local/lib/python3.10/dist-packages/sklearn/neural_network/_multilayer_perceptron.py:686: ConvergenceWarning: Stochastic Optimizer: Maximum iterations (30) reached and the optimization hasn't converged yet.\n",
            "  warnings.warn(\n"
          ]
        },
        {
          "name": "stdout",
          "output_type": "stream",
          "text": [
            "Iteration 1, loss = 0.33063722\n",
            "Iteration 2, loss = 0.31502121\n",
            "Iteration 3, loss = 0.31373571\n",
            "Iteration 4, loss = 0.31335762\n",
            "Iteration 5, loss = 0.31297162\n",
            "Iteration 6, loss = 0.31275836\n",
            "Iteration 7, loss = 0.31231260\n",
            "Iteration 8, loss = 0.31222123\n",
            "Iteration 9, loss = 0.31192867\n",
            "Iteration 10, loss = 0.31178204\n",
            "Iteration 11, loss = 0.31165449\n",
            "Iteration 12, loss = 0.31168406\n",
            "Iteration 13, loss = 0.31146680\n",
            "Iteration 14, loss = 0.31132748\n",
            "Iteration 15, loss = 0.31123251\n",
            "Iteration 16, loss = 0.31111362\n",
            "Iteration 17, loss = 0.31083615\n",
            "Iteration 18, loss = 0.31090807\n",
            "Iteration 19, loss = 0.31075469\n",
            "Iteration 20, loss = 0.31063623\n",
            "Iteration 21, loss = 0.31050865\n",
            "Iteration 22, loss = 0.31045903\n",
            "Iteration 23, loss = 0.31044754\n",
            "Iteration 24, loss = 0.31017745\n",
            "Iteration 25, loss = 0.31016190\n",
            "Iteration 26, loss = 0.31022952\n",
            "Iteration 27, loss = 0.31005101\n",
            "Iteration 28, loss = 0.30985014\n",
            "Iteration 29, loss = 0.30993234\n",
            "Iteration 30, loss = 0.30956991\n",
            "[CV 4/5] END activation=relu, alpha=0.001, hidden_layer_sizes=(32, 32), max_iter=30, random_state=42, solver=adam, verbose=True;, score=0.831 total time=  31.5s\n"
          ]
        },
        {
          "name": "stderr",
          "output_type": "stream",
          "text": [
            "/usr/local/lib/python3.10/dist-packages/sklearn/neural_network/_multilayer_perceptron.py:686: ConvergenceWarning: Stochastic Optimizer: Maximum iterations (30) reached and the optimization hasn't converged yet.\n",
            "  warnings.warn(\n"
          ]
        },
        {
          "name": "stdout",
          "output_type": "stream",
          "text": [
            "Iteration 1, loss = 0.33057514\n",
            "Iteration 2, loss = 0.31530283\n",
            "Iteration 3, loss = 0.31418417\n",
            "Iteration 4, loss = 0.31370794\n",
            "Iteration 5, loss = 0.31312188\n",
            "Iteration 6, loss = 0.31287294\n",
            "Iteration 7, loss = 0.31247010\n",
            "Iteration 8, loss = 0.31228691\n",
            "Iteration 9, loss = 0.31218514\n",
            "Iteration 10, loss = 0.31193523\n",
            "Iteration 11, loss = 0.31208357\n",
            "Iteration 12, loss = 0.31178198\n",
            "Iteration 13, loss = 0.31163993\n",
            "Iteration 14, loss = 0.31164774\n",
            "Iteration 15, loss = 0.31141744\n",
            "Iteration 16, loss = 0.31137301\n",
            "Iteration 17, loss = 0.31117463\n",
            "Iteration 18, loss = 0.31110900\n",
            "Iteration 19, loss = 0.31103679\n",
            "Iteration 20, loss = 0.31102579\n",
            "Iteration 21, loss = 0.31071626\n",
            "Iteration 22, loss = 0.31084655\n",
            "Iteration 23, loss = 0.31086691\n",
            "Iteration 24, loss = 0.31052302\n",
            "Iteration 25, loss = 0.31048608\n",
            "Iteration 26, loss = 0.31053617\n",
            "Iteration 27, loss = 0.31022488\n",
            "Iteration 28, loss = 0.31022199\n",
            "Iteration 29, loss = 0.31014176\n",
            "Iteration 30, loss = 0.30998549\n",
            "[CV 5/5] END activation=relu, alpha=0.001, hidden_layer_sizes=(32, 32), max_iter=30, random_state=42, solver=adam, verbose=True;, score=0.837 total time=  28.5s\n"
          ]
        },
        {
          "name": "stderr",
          "output_type": "stream",
          "text": [
            "/usr/local/lib/python3.10/dist-packages/sklearn/neural_network/_multilayer_perceptron.py:686: ConvergenceWarning: Stochastic Optimizer: Maximum iterations (30) reached and the optimization hasn't converged yet.\n",
            "  warnings.warn(\n"
          ]
        },
        {
          "name": "stdout",
          "output_type": "stream",
          "text": [
            "Iteration 1, loss = 0.32697092\n",
            "Iteration 2, loss = 0.31867415\n",
            "Iteration 3, loss = 0.31765238\n",
            "Iteration 4, loss = 0.31672777\n",
            "Iteration 5, loss = 0.31601616\n",
            "Iteration 6, loss = 0.31571740\n",
            "Iteration 7, loss = 0.31537233\n",
            "Iteration 8, loss = 0.31532670\n",
            "Iteration 9, loss = 0.31489249\n",
            "Iteration 10, loss = 0.31479445\n",
            "Iteration 11, loss = 0.31465926\n",
            "Iteration 12, loss = 0.31445386\n",
            "Iteration 13, loss = 0.31427951\n",
            "Iteration 14, loss = 0.31424833\n",
            "Iteration 15, loss = 0.31408712\n",
            "Iteration 16, loss = 0.31428313\n",
            "Iteration 17, loss = 0.31400375\n",
            "Iteration 18, loss = 0.31402303\n",
            "Iteration 19, loss = 0.31375510\n",
            "Iteration 20, loss = 0.31399254\n",
            "Iteration 21, loss = 0.31351729\n",
            "Iteration 22, loss = 0.31365978\n",
            "Iteration 23, loss = 0.31348167\n",
            "Iteration 24, loss = 0.31349637\n",
            "Iteration 25, loss = 0.31340323\n",
            "Iteration 26, loss = 0.31336679\n",
            "Iteration 27, loss = 0.31352153\n",
            "Iteration 28, loss = 0.31331948\n",
            "Iteration 29, loss = 0.31326630\n",
            "Iteration 30, loss = 0.31311361\n"
          ]
        },
        {
          "name": "stderr",
          "output_type": "stream",
          "text": [
            "/usr/local/lib/python3.10/dist-packages/sklearn/neural_network/_multilayer_perceptron.py:686: ConvergenceWarning: Stochastic Optimizer: Maximum iterations (30) reached and the optimization hasn't converged yet.\n",
            "  warnings.warn(\n"
          ]
        },
        {
          "name": "stdout",
          "output_type": "stream",
          "text": [
            "[CV 1/5] END activation=tanh, alpha=0.01, hidden_layer_sizes=(64, 64), max_iter=30, random_state=42, solver=adam, verbose=True;, score=0.830 total time= 2.2min\n",
            "Iteration 1, loss = 0.32631894\n",
            "Iteration 2, loss = 0.31843235\n",
            "Iteration 3, loss = 0.31698223\n",
            "Iteration 4, loss = 0.31651724\n",
            "Iteration 5, loss = 0.31563430\n",
            "Iteration 6, loss = 0.31533209\n",
            "Iteration 7, loss = 0.31497097\n",
            "Iteration 8, loss = 0.31482604\n",
            "Iteration 9, loss = 0.31445327\n",
            "Iteration 10, loss = 0.31441315\n",
            "Iteration 11, loss = 0.31413759\n",
            "Iteration 12, loss = 0.31399892\n",
            "Iteration 13, loss = 0.31383232\n",
            "Iteration 14, loss = 0.31363436\n",
            "Iteration 15, loss = 0.31388675\n",
            "Iteration 16, loss = 0.31352716\n",
            "Iteration 17, loss = 0.31351801\n",
            "Iteration 18, loss = 0.31351702\n",
            "Iteration 19, loss = 0.31322169\n",
            "Iteration 20, loss = 0.31341882\n",
            "Iteration 21, loss = 0.31308501\n",
            "Iteration 22, loss = 0.31322057\n",
            "Iteration 23, loss = 0.31316455\n",
            "Iteration 24, loss = 0.31304326\n",
            "Iteration 25, loss = 0.31308604\n",
            "Iteration 26, loss = 0.31309272\n",
            "Iteration 27, loss = 0.31283763\n",
            "Iteration 28, loss = 0.31284156\n",
            "Iteration 29, loss = 0.31274580\n",
            "Iteration 30, loss = 0.31279087\n"
          ]
        },
        {
          "name": "stderr",
          "output_type": "stream",
          "text": [
            "/usr/local/lib/python3.10/dist-packages/sklearn/neural_network/_multilayer_perceptron.py:686: ConvergenceWarning: Stochastic Optimizer: Maximum iterations (30) reached and the optimization hasn't converged yet.\n",
            "  warnings.warn(\n"
          ]
        },
        {
          "name": "stdout",
          "output_type": "stream",
          "text": [
            "[CV 2/5] END activation=tanh, alpha=0.01, hidden_layer_sizes=(64, 64), max_iter=30, random_state=42, solver=adam, verbose=True;, score=0.832 total time= 2.2min\n",
            "Iteration 1, loss = 0.32613086\n",
            "Iteration 2, loss = 0.31796219\n",
            "Iteration 3, loss = 0.31653109\n",
            "Iteration 4, loss = 0.31603607\n",
            "Iteration 5, loss = 0.31551488\n",
            "Iteration 6, loss = 0.31479727\n",
            "Iteration 7, loss = 0.31485651\n",
            "Iteration 8, loss = 0.31457460\n",
            "Iteration 9, loss = 0.31408682\n",
            "Iteration 10, loss = 0.31397232\n",
            "Iteration 11, loss = 0.31400913\n",
            "Iteration 12, loss = 0.31367757\n",
            "Iteration 13, loss = 0.31363502\n",
            "Iteration 14, loss = 0.31357709\n",
            "Iteration 15, loss = 0.31346225\n",
            "Iteration 16, loss = 0.31310923\n",
            "Iteration 17, loss = 0.31311496\n",
            "Iteration 18, loss = 0.31310577\n",
            "Iteration 19, loss = 0.31305254\n",
            "Iteration 20, loss = 0.31315261\n",
            "Iteration 21, loss = 0.31276538\n",
            "Iteration 22, loss = 0.31311627\n",
            "Iteration 23, loss = 0.31308295\n",
            "Iteration 24, loss = 0.31280085\n",
            "Iteration 25, loss = 0.31280517\n",
            "Iteration 26, loss = 0.31269985\n",
            "Iteration 27, loss = 0.31257014\n",
            "Iteration 28, loss = 0.31256350\n",
            "Iteration 29, loss = 0.31262304\n",
            "Iteration 30, loss = 0.31278896\n"
          ]
        },
        {
          "name": "stderr",
          "output_type": "stream",
          "text": [
            "/usr/local/lib/python3.10/dist-packages/sklearn/neural_network/_multilayer_perceptron.py:686: ConvergenceWarning: Stochastic Optimizer: Maximum iterations (30) reached and the optimization hasn't converged yet.\n",
            "  warnings.warn(\n"
          ]
        },
        {
          "name": "stdout",
          "output_type": "stream",
          "text": [
            "[CV 3/5] END activation=tanh, alpha=0.01, hidden_layer_sizes=(64, 64), max_iter=30, random_state=42, solver=adam, verbose=True;, score=0.827 total time= 2.2min\n",
            "Iteration 1, loss = 0.32674358\n",
            "Iteration 2, loss = 0.31858971\n",
            "Iteration 3, loss = 0.31724529\n",
            "Iteration 4, loss = 0.31635296\n",
            "Iteration 5, loss = 0.31605475\n",
            "Iteration 6, loss = 0.31551852\n",
            "Iteration 7, loss = 0.31555659\n",
            "Iteration 8, loss = 0.31512878\n",
            "Iteration 9, loss = 0.31458250\n",
            "Iteration 10, loss = 0.31437566\n",
            "Iteration 11, loss = 0.31451213\n",
            "Iteration 12, loss = 0.31426131\n",
            "Iteration 13, loss = 0.31419211\n",
            "Iteration 14, loss = 0.31392860\n",
            "Iteration 15, loss = 0.31379791\n",
            "Iteration 16, loss = 0.31368648\n",
            "Iteration 17, loss = 0.31368162\n",
            "Iteration 18, loss = 0.31343072\n",
            "Iteration 19, loss = 0.31369632\n",
            "Iteration 20, loss = 0.31350787\n",
            "Iteration 21, loss = 0.31321674\n",
            "Iteration 22, loss = 0.31344577\n",
            "Iteration 23, loss = 0.31337301\n",
            "Iteration 24, loss = 0.31313453\n",
            "Iteration 25, loss = 0.31329239\n",
            "Iteration 26, loss = 0.31302779\n",
            "Iteration 27, loss = 0.31299865\n",
            "Iteration 28, loss = 0.31289503\n",
            "Iteration 29, loss = 0.31305324\n",
            "Iteration 30, loss = 0.31318729\n"
          ]
        },
        {
          "name": "stderr",
          "output_type": "stream",
          "text": [
            "/usr/local/lib/python3.10/dist-packages/sklearn/neural_network/_multilayer_perceptron.py:686: ConvergenceWarning: Stochastic Optimizer: Maximum iterations (30) reached and the optimization hasn't converged yet.\n",
            "  warnings.warn(\n"
          ]
        },
        {
          "name": "stdout",
          "output_type": "stream",
          "text": [
            "[CV 4/5] END activation=tanh, alpha=0.01, hidden_layer_sizes=(64, 64), max_iter=30, random_state=42, solver=adam, verbose=True;, score=0.830 total time= 2.1min\n",
            "Iteration 1, loss = 0.32767086\n",
            "Iteration 2, loss = 0.31914096\n",
            "Iteration 3, loss = 0.31742553\n",
            "Iteration 4, loss = 0.31669321\n",
            "Iteration 5, loss = 0.31608088\n",
            "Iteration 6, loss = 0.31571887\n",
            "Iteration 7, loss = 0.31543823\n",
            "Iteration 8, loss = 0.31510046\n",
            "Iteration 9, loss = 0.31513527\n",
            "Iteration 10, loss = 0.31497305\n",
            "Iteration 11, loss = 0.31477104\n",
            "Iteration 12, loss = 0.31450975\n",
            "Iteration 13, loss = 0.31442705\n",
            "Iteration 14, loss = 0.31427933\n",
            "Iteration 15, loss = 0.31432745\n",
            "Iteration 16, loss = 0.31413880\n",
            "Iteration 17, loss = 0.31399153\n",
            "Iteration 18, loss = 0.31411406\n",
            "Iteration 19, loss = 0.31381474\n",
            "Iteration 20, loss = 0.31384598\n",
            "Iteration 21, loss = 0.31385880\n",
            "Iteration 22, loss = 0.31366634\n",
            "Iteration 23, loss = 0.31374795\n",
            "Iteration 24, loss = 0.31360099\n",
            "Iteration 25, loss = 0.31334309\n",
            "Iteration 26, loss = 0.31362858\n",
            "Iteration 27, loss = 0.31361749\n",
            "Iteration 28, loss = 0.31341108\n",
            "Iteration 29, loss = 0.31340117\n",
            "Iteration 30, loss = 0.31327524\n"
          ]
        },
        {
          "name": "stderr",
          "output_type": "stream",
          "text": [
            "/usr/local/lib/python3.10/dist-packages/sklearn/neural_network/_multilayer_perceptron.py:686: ConvergenceWarning: Stochastic Optimizer: Maximum iterations (30) reached and the optimization hasn't converged yet.\n",
            "  warnings.warn(\n"
          ]
        },
        {
          "name": "stdout",
          "output_type": "stream",
          "text": [
            "[CV 5/5] END activation=tanh, alpha=0.01, hidden_layer_sizes=(64, 64), max_iter=30, random_state=42, solver=adam, verbose=True;, score=0.838 total time= 2.1min\n",
            "Iteration 1, loss = 0.33015896\n",
            "Iteration 2, loss = 0.31761710\n",
            "Iteration 3, loss = 0.31642520\n",
            "Iteration 4, loss = 0.31574259\n",
            "Iteration 5, loss = 0.31567986\n",
            "Iteration 6, loss = 0.31521517\n",
            "Iteration 7, loss = 0.31489024\n",
            "Iteration 8, loss = 0.31465535\n",
            "Iteration 9, loss = 0.31468644\n",
            "Iteration 10, loss = 0.31447936\n",
            "Iteration 11, loss = 0.31411933\n",
            "Iteration 12, loss = 0.31417762\n",
            "Iteration 13, loss = 0.31409334\n",
            "Iteration 14, loss = 0.31375161\n",
            "Iteration 15, loss = 0.31380610\n",
            "Iteration 16, loss = 0.31378127\n",
            "Iteration 17, loss = 0.31362753\n",
            "Iteration 18, loss = 0.31346758\n",
            "Iteration 19, loss = 0.31360355\n",
            "Iteration 20, loss = 0.31337507\n",
            "Iteration 21, loss = 0.31327785\n",
            "Iteration 22, loss = 0.31342886\n",
            "Iteration 23, loss = 0.31320788\n",
            "Iteration 24, loss = 0.31322864\n",
            "Iteration 25, loss = 0.31305343\n",
            "Iteration 26, loss = 0.31309221\n",
            "Iteration 27, loss = 0.31294546\n",
            "Iteration 28, loss = 0.31300633\n",
            "Iteration 29, loss = 0.31293430\n",
            "Iteration 30, loss = 0.31302954\n"
          ]
        },
        {
          "name": "stderr",
          "output_type": "stream",
          "text": [
            "/usr/local/lib/python3.10/dist-packages/sklearn/neural_network/_multilayer_perceptron.py:686: ConvergenceWarning: Stochastic Optimizer: Maximum iterations (30) reached and the optimization hasn't converged yet.\n",
            "  warnings.warn(\n"
          ]
        },
        {
          "name": "stdout",
          "output_type": "stream",
          "text": [
            "[CV 1/5] END activation=tanh, alpha=0.01, hidden_layer_sizes=(32, 32), max_iter=30, random_state=42, solver=adam, verbose=True;, score=0.832 total time=  47.1s\n",
            "Iteration 1, loss = 0.32964453\n",
            "Iteration 2, loss = 0.31720867\n",
            "Iteration 3, loss = 0.31574510\n",
            "Iteration 4, loss = 0.31541741\n",
            "Iteration 5, loss = 0.31509249\n",
            "Iteration 6, loss = 0.31472131\n",
            "Iteration 7, loss = 0.31438619\n",
            "Iteration 8, loss = 0.31415945\n",
            "Iteration 9, loss = 0.31418215\n",
            "Iteration 10, loss = 0.31406095\n",
            "Iteration 11, loss = 0.31361340\n",
            "Iteration 12, loss = 0.31355809\n",
            "Iteration 13, loss = 0.31354232\n",
            "Iteration 14, loss = 0.31325271\n",
            "Iteration 15, loss = 0.31326997\n",
            "Iteration 16, loss = 0.31330359\n",
            "Iteration 17, loss = 0.31298984\n",
            "Iteration 18, loss = 0.31299556\n",
            "Iteration 19, loss = 0.31297194\n",
            "Iteration 20, loss = 0.31297894\n",
            "Iteration 21, loss = 0.31271833\n",
            "Iteration 22, loss = 0.31274243\n",
            "Iteration 23, loss = 0.31267820\n",
            "Iteration 24, loss = 0.31256450\n",
            "Iteration 25, loss = 0.31249442\n",
            "Iteration 26, loss = 0.31241002\n",
            "Iteration 27, loss = 0.31246968\n",
            "Iteration 28, loss = 0.31240026\n",
            "Iteration 29, loss = 0.31245718\n",
            "Iteration 30, loss = 0.31242195\n"
          ]
        },
        {
          "name": "stderr",
          "output_type": "stream",
          "text": [
            "/usr/local/lib/python3.10/dist-packages/sklearn/neural_network/_multilayer_perceptron.py:686: ConvergenceWarning: Stochastic Optimizer: Maximum iterations (30) reached and the optimization hasn't converged yet.\n",
            "  warnings.warn(\n"
          ]
        },
        {
          "name": "stdout",
          "output_type": "stream",
          "text": [
            "[CV 2/5] END activation=tanh, alpha=0.01, hidden_layer_sizes=(32, 32), max_iter=30, random_state=42, solver=adam, verbose=True;, score=0.826 total time=  47.4s\n",
            "Iteration 1, loss = 0.32935194\n",
            "Iteration 2, loss = 0.31685954\n",
            "Iteration 3, loss = 0.31550931\n",
            "Iteration 4, loss = 0.31498341\n",
            "Iteration 5, loss = 0.31475988\n",
            "Iteration 6, loss = 0.31444252\n",
            "Iteration 7, loss = 0.31414301\n",
            "Iteration 8, loss = 0.31385703\n",
            "Iteration 9, loss = 0.31379133\n",
            "Iteration 10, loss = 0.31356296\n",
            "Iteration 11, loss = 0.31335486\n",
            "Iteration 12, loss = 0.31337963\n",
            "Iteration 13, loss = 0.31322554\n",
            "Iteration 14, loss = 0.31318993\n",
            "Iteration 15, loss = 0.31296703\n",
            "Iteration 16, loss = 0.31315571\n",
            "Iteration 17, loss = 0.31273234\n",
            "Iteration 18, loss = 0.31291283\n",
            "Iteration 19, loss = 0.31272727\n",
            "Iteration 20, loss = 0.31267133\n",
            "Iteration 21, loss = 0.31252813\n",
            "Iteration 22, loss = 0.31250711\n",
            "Iteration 23, loss = 0.31260642\n",
            "Iteration 24, loss = 0.31243522\n",
            "Iteration 25, loss = 0.31234024\n",
            "Iteration 26, loss = 0.31236511\n",
            "Iteration 27, loss = 0.31235106\n",
            "Iteration 28, loss = 0.31232014\n",
            "Iteration 29, loss = 0.31242032\n",
            "Iteration 30, loss = 0.31223871\n"
          ]
        },
        {
          "name": "stderr",
          "output_type": "stream",
          "text": [
            "/usr/local/lib/python3.10/dist-packages/sklearn/neural_network/_multilayer_perceptron.py:686: ConvergenceWarning: Stochastic Optimizer: Maximum iterations (30) reached and the optimization hasn't converged yet.\n",
            "  warnings.warn(\n"
          ]
        },
        {
          "name": "stdout",
          "output_type": "stream",
          "text": [
            "[CV 3/5] END activation=tanh, alpha=0.01, hidden_layer_sizes=(32, 32), max_iter=30, random_state=42, solver=adam, verbose=True;, score=0.824 total time=  48.0s\n",
            "Iteration 1, loss = 0.33004604\n",
            "Iteration 2, loss = 0.31730563\n",
            "Iteration 3, loss = 0.31600449\n",
            "Iteration 4, loss = 0.31566527\n",
            "Iteration 5, loss = 0.31522077\n",
            "Iteration 6, loss = 0.31511524\n",
            "Iteration 7, loss = 0.31459728\n",
            "Iteration 8, loss = 0.31448405\n",
            "Iteration 9, loss = 0.31419189\n",
            "Iteration 10, loss = 0.31412642\n",
            "Iteration 11, loss = 0.31401776\n",
            "Iteration 12, loss = 0.31403969\n",
            "Iteration 13, loss = 0.31373724\n",
            "Iteration 14, loss = 0.31368703\n",
            "Iteration 15, loss = 0.31365270\n",
            "Iteration 16, loss = 0.31350185\n",
            "Iteration 17, loss = 0.31327723\n",
            "Iteration 18, loss = 0.31334812\n",
            "Iteration 19, loss = 0.31317476\n",
            "Iteration 20, loss = 0.31320034\n",
            "Iteration 21, loss = 0.31299134\n",
            "Iteration 22, loss = 0.31305530\n",
            "Iteration 23, loss = 0.31314672\n",
            "Iteration 24, loss = 0.31290446\n",
            "Iteration 25, loss = 0.31294468\n",
            "Iteration 26, loss = 0.31304082\n",
            "Iteration 27, loss = 0.31288564\n",
            "Iteration 28, loss = 0.31270689\n",
            "Iteration 29, loss = 0.31277564\n",
            "Iteration 30, loss = 0.31261647\n"
          ]
        },
        {
          "name": "stderr",
          "output_type": "stream",
          "text": [
            "/usr/local/lib/python3.10/dist-packages/sklearn/neural_network/_multilayer_perceptron.py:686: ConvergenceWarning: Stochastic Optimizer: Maximum iterations (30) reached and the optimization hasn't converged yet.\n",
            "  warnings.warn(\n"
          ]
        },
        {
          "name": "stdout",
          "output_type": "stream",
          "text": [
            "[CV 4/5] END activation=tanh, alpha=0.01, hidden_layer_sizes=(32, 32), max_iter=30, random_state=42, solver=adam, verbose=True;, score=0.829 total time=  48.3s\n",
            "Iteration 1, loss = 0.33036233\n",
            "Iteration 2, loss = 0.31764507\n",
            "Iteration 3, loss = 0.31650887\n",
            "Iteration 4, loss = 0.31607263\n",
            "Iteration 5, loss = 0.31543932\n",
            "Iteration 6, loss = 0.31522696\n",
            "Iteration 7, loss = 0.31484108\n",
            "Iteration 8, loss = 0.31459901\n",
            "Iteration 9, loss = 0.31458781\n",
            "Iteration 10, loss = 0.31423871\n",
            "Iteration 11, loss = 0.31438303\n",
            "Iteration 12, loss = 0.31407979\n",
            "Iteration 13, loss = 0.31391823\n",
            "Iteration 14, loss = 0.31390886\n",
            "Iteration 15, loss = 0.31378004\n",
            "Iteration 16, loss = 0.31373658\n",
            "Iteration 17, loss = 0.31354890\n",
            "Iteration 18, loss = 0.31351031\n",
            "Iteration 19, loss = 0.31343292\n",
            "Iteration 20, loss = 0.31342365\n",
            "Iteration 21, loss = 0.31324918\n",
            "Iteration 22, loss = 0.31337493\n",
            "Iteration 23, loss = 0.31346497\n",
            "Iteration 24, loss = 0.31312167\n",
            "Iteration 25, loss = 0.31318175\n",
            "Iteration 26, loss = 0.31315384\n",
            "Iteration 27, loss = 0.31294776\n",
            "Iteration 28, loss = 0.31300564\n",
            "Iteration 29, loss = 0.31297225\n",
            "Iteration 30, loss = 0.31290046\n"
          ]
        },
        {
          "name": "stderr",
          "output_type": "stream",
          "text": [
            "/usr/local/lib/python3.10/dist-packages/sklearn/neural_network/_multilayer_perceptron.py:686: ConvergenceWarning: Stochastic Optimizer: Maximum iterations (30) reached and the optimization hasn't converged yet.\n",
            "  warnings.warn(\n"
          ]
        },
        {
          "name": "stdout",
          "output_type": "stream",
          "text": [
            "[CV 5/5] END activation=tanh, alpha=0.01, hidden_layer_sizes=(32, 32), max_iter=30, random_state=42, solver=adam, verbose=True;, score=0.838 total time=  47.2s\n",
            "Iteration 1, loss = 0.32441017\n",
            "Iteration 2, loss = 0.31614651\n",
            "Iteration 3, loss = 0.31517321\n",
            "Iteration 4, loss = 0.31428349\n",
            "Iteration 5, loss = 0.31364032\n",
            "Iteration 6, loss = 0.31340877\n",
            "Iteration 7, loss = 0.31308248\n",
            "Iteration 8, loss = 0.31307155\n",
            "Iteration 9, loss = 0.31263797\n",
            "Iteration 10, loss = 0.31252811\n",
            "Iteration 11, loss = 0.31239545\n",
            "Iteration 12, loss = 0.31220603\n",
            "Iteration 13, loss = 0.31200995\n",
            "Iteration 14, loss = 0.31193997\n",
            "Iteration 15, loss = 0.31176248\n",
            "Iteration 16, loss = 0.31193090\n",
            "Iteration 17, loss = 0.31163703\n",
            "Iteration 18, loss = 0.31158430\n",
            "Iteration 19, loss = 0.31134104\n",
            "Iteration 20, loss = 0.31145162\n",
            "Iteration 21, loss = 0.31095263\n",
            "Iteration 22, loss = 0.31103770\n",
            "Iteration 23, loss = 0.31082514\n",
            "Iteration 24, loss = 0.31074703\n",
            "Iteration 25, loss = 0.31063243\n",
            "Iteration 26, loss = 0.31055551\n",
            "Iteration 27, loss = 0.31069527\n",
            "Iteration 28, loss = 0.31040568\n",
            "Iteration 29, loss = 0.31028206\n",
            "Iteration 30, loss = 0.31009592\n"
          ]
        },
        {
          "name": "stderr",
          "output_type": "stream",
          "text": [
            "/usr/local/lib/python3.10/dist-packages/sklearn/neural_network/_multilayer_perceptron.py:686: ConvergenceWarning: Stochastic Optimizer: Maximum iterations (30) reached and the optimization hasn't converged yet.\n",
            "  warnings.warn(\n"
          ]
        },
        {
          "name": "stdout",
          "output_type": "stream",
          "text": [
            "[CV 1/5] END activation=tanh, alpha=0.001, hidden_layer_sizes=(64, 64), max_iter=30, random_state=42, solver=adam, verbose=True;, score=0.830 total time= 2.1min\n",
            "Iteration 1, loss = 0.32376358\n",
            "Iteration 2, loss = 0.31591961\n",
            "Iteration 3, loss = 0.31452201\n",
            "Iteration 4, loss = 0.31411405\n",
            "Iteration 5, loss = 0.31329660\n",
            "Iteration 6, loss = 0.31303370\n",
            "Iteration 7, loss = 0.31272027\n",
            "Iteration 8, loss = 0.31258840\n",
            "Iteration 9, loss = 0.31223069\n",
            "Iteration 10, loss = 0.31216963\n",
            "Iteration 11, loss = 0.31190326\n",
            "Iteration 12, loss = 0.31176128\n",
            "Iteration 13, loss = 0.31157037\n",
            "Iteration 14, loss = 0.31137635\n",
            "Iteration 15, loss = 0.31157724\n",
            "Iteration 16, loss = 0.31121235\n",
            "Iteration 17, loss = 0.31117683\n",
            "Iteration 18, loss = 0.31110787\n",
            "Iteration 19, loss = 0.31081755\n",
            "Iteration 20, loss = 0.31094425\n",
            "Iteration 21, loss = 0.31058491\n",
            "Iteration 22, loss = 0.31064140\n",
            "Iteration 23, loss = 0.31048946\n",
            "Iteration 24, loss = 0.31034250\n",
            "Iteration 25, loss = 0.31032431\n",
            "Iteration 26, loss = 0.31033091\n",
            "Iteration 27, loss = 0.31004734\n",
            "Iteration 28, loss = 0.30993757\n",
            "Iteration 29, loss = 0.30977166\n",
            "Iteration 30, loss = 0.30982094\n"
          ]
        },
        {
          "name": "stderr",
          "output_type": "stream",
          "text": [
            "/usr/local/lib/python3.10/dist-packages/sklearn/neural_network/_multilayer_perceptron.py:686: ConvergenceWarning: Stochastic Optimizer: Maximum iterations (30) reached and the optimization hasn't converged yet.\n",
            "  warnings.warn(\n"
          ]
        },
        {
          "name": "stdout",
          "output_type": "stream",
          "text": [
            "[CV 2/5] END activation=tanh, alpha=0.001, hidden_layer_sizes=(64, 64), max_iter=30, random_state=42, solver=adam, verbose=True;, score=0.833 total time= 2.2min\n",
            "Iteration 1, loss = 0.32357085\n",
            "Iteration 2, loss = 0.31542821\n",
            "Iteration 3, loss = 0.31405191\n",
            "Iteration 4, loss = 0.31362004\n",
            "Iteration 5, loss = 0.31314567\n",
            "Iteration 6, loss = 0.31250652\n",
            "Iteration 7, loss = 0.31259068\n",
            "Iteration 8, loss = 0.31234984\n",
            "Iteration 9, loss = 0.31189169\n",
            "Iteration 10, loss = 0.31180351\n",
            "Iteration 11, loss = 0.31185910\n",
            "Iteration 12, loss = 0.31153596\n",
            "Iteration 13, loss = 0.31148590\n",
            "Iteration 14, loss = 0.31141102\n",
            "Iteration 15, loss = 0.31125245\n",
            "Iteration 16, loss = 0.31091276\n",
            "Iteration 17, loss = 0.31091084\n",
            "Iteration 18, loss = 0.31084325\n",
            "Iteration 19, loss = 0.31076876\n",
            "Iteration 20, loss = 0.31077669\n",
            "Iteration 21, loss = 0.31034307\n",
            "Iteration 22, loss = 0.31063815\n",
            "Iteration 23, loss = 0.31051510\n",
            "Iteration 24, loss = 0.31023503\n",
            "Iteration 25, loss = 0.31017850\n",
            "Iteration 26, loss = 0.31005112\n",
            "Iteration 27, loss = 0.30989619\n",
            "Iteration 28, loss = 0.30981571\n",
            "Iteration 29, loss = 0.30977394\n",
            "Iteration 30, loss = 0.30985403\n"
          ]
        },
        {
          "name": "stderr",
          "output_type": "stream",
          "text": [
            "/usr/local/lib/python3.10/dist-packages/sklearn/neural_network/_multilayer_perceptron.py:686: ConvergenceWarning: Stochastic Optimizer: Maximum iterations (30) reached and the optimization hasn't converged yet.\n",
            "  warnings.warn(\n"
          ]
        },
        {
          "name": "stdout",
          "output_type": "stream",
          "text": [
            "[CV 3/5] END activation=tanh, alpha=0.001, hidden_layer_sizes=(64, 64), max_iter=30, random_state=42, solver=adam, verbose=True;, score=0.830 total time= 2.1min\n",
            "Iteration 1, loss = 0.32418465\n",
            "Iteration 2, loss = 0.31605600\n",
            "Iteration 3, loss = 0.31476836\n",
            "Iteration 4, loss = 0.31394660\n",
            "Iteration 5, loss = 0.31369605\n",
            "Iteration 6, loss = 0.31320863\n",
            "Iteration 7, loss = 0.31328405\n",
            "Iteration 8, loss = 0.31286378\n",
            "Iteration 9, loss = 0.31232966\n",
            "Iteration 10, loss = 0.31216436\n",
            "Iteration 11, loss = 0.31230003\n",
            "Iteration 12, loss = 0.31205610\n",
            "Iteration 13, loss = 0.31198717\n",
            "Iteration 14, loss = 0.31165645\n",
            "Iteration 15, loss = 0.31151789\n",
            "Iteration 16, loss = 0.31139051\n",
            "Iteration 17, loss = 0.31138886\n",
            "Iteration 18, loss = 0.31109765\n",
            "Iteration 19, loss = 0.31130049\n",
            "Iteration 20, loss = 0.31101651\n",
            "Iteration 21, loss = 0.31075209\n",
            "Iteration 22, loss = 0.31086817\n",
            "Iteration 23, loss = 0.31075598\n",
            "Iteration 24, loss = 0.31053156\n",
            "Iteration 25, loss = 0.31062367\n",
            "Iteration 26, loss = 0.31025074\n",
            "Iteration 27, loss = 0.31016260\n",
            "Iteration 28, loss = 0.31006254\n",
            "Iteration 29, loss = 0.31010546\n",
            "Iteration 30, loss = 0.31012553\n"
          ]
        },
        {
          "name": "stderr",
          "output_type": "stream",
          "text": [
            "/usr/local/lib/python3.10/dist-packages/sklearn/neural_network/_multilayer_perceptron.py:686: ConvergenceWarning: Stochastic Optimizer: Maximum iterations (30) reached and the optimization hasn't converged yet.\n",
            "  warnings.warn(\n"
          ]
        },
        {
          "name": "stdout",
          "output_type": "stream",
          "text": [
            "[CV 4/5] END activation=tanh, alpha=0.001, hidden_layer_sizes=(64, 64), max_iter=30, random_state=42, solver=adam, verbose=True;, score=0.833 total time= 2.1min\n",
            "Iteration 1, loss = 0.32511366\n",
            "Iteration 2, loss = 0.31661006\n",
            "Iteration 3, loss = 0.31496021\n",
            "Iteration 4, loss = 0.31429116\n",
            "Iteration 5, loss = 0.31372937\n",
            "Iteration 6, loss = 0.31341587\n",
            "Iteration 7, loss = 0.31317124\n",
            "Iteration 8, loss = 0.31284402\n",
            "Iteration 9, loss = 0.31288603\n",
            "Iteration 10, loss = 0.31272862\n",
            "Iteration 11, loss = 0.31257186\n",
            "Iteration 12, loss = 0.31226015\n",
            "Iteration 13, loss = 0.31218506\n",
            "Iteration 14, loss = 0.31201687\n",
            "Iteration 15, loss = 0.31202845\n",
            "Iteration 16, loss = 0.31181619\n",
            "Iteration 17, loss = 0.31162736\n",
            "Iteration 18, loss = 0.31169539\n",
            "Iteration 19, loss = 0.31136543\n",
            "Iteration 20, loss = 0.31131055\n",
            "Iteration 21, loss = 0.31130976\n",
            "Iteration 22, loss = 0.31107317\n",
            "Iteration 23, loss = 0.31105554\n",
            "Iteration 24, loss = 0.31089608\n",
            "Iteration 25, loss = 0.31059257\n",
            "Iteration 26, loss = 0.31077746\n",
            "Iteration 27, loss = 0.31076453\n",
            "Iteration 28, loss = 0.31046941\n",
            "Iteration 29, loss = 0.31039550\n",
            "Iteration 30, loss = 0.31019646\n"
          ]
        },
        {
          "name": "stderr",
          "output_type": "stream",
          "text": [
            "/usr/local/lib/python3.10/dist-packages/sklearn/neural_network/_multilayer_perceptron.py:686: ConvergenceWarning: Stochastic Optimizer: Maximum iterations (30) reached and the optimization hasn't converged yet.\n",
            "  warnings.warn(\n"
          ]
        },
        {
          "name": "stdout",
          "output_type": "stream",
          "text": [
            "[CV 5/5] END activation=tanh, alpha=0.001, hidden_layer_sizes=(64, 64), max_iter=30, random_state=42, solver=adam, verbose=True;, score=0.838 total time= 2.2min\n",
            "Iteration 1, loss = 0.32854969\n",
            "Iteration 2, loss = 0.31597579\n",
            "Iteration 3, loss = 0.31479158\n",
            "Iteration 4, loss = 0.31411389\n",
            "Iteration 5, loss = 0.31405318\n",
            "Iteration 6, loss = 0.31361216\n",
            "Iteration 7, loss = 0.31328865\n",
            "Iteration 8, loss = 0.31303239\n",
            "Iteration 9, loss = 0.31305584\n",
            "Iteration 10, loss = 0.31284584\n",
            "Iteration 11, loss = 0.31249426\n",
            "Iteration 12, loss = 0.31248773\n",
            "Iteration 13, loss = 0.31240082\n",
            "Iteration 14, loss = 0.31204388\n",
            "Iteration 15, loss = 0.31206499\n",
            "Iteration 16, loss = 0.31201548\n",
            "Iteration 17, loss = 0.31183524\n",
            "Iteration 18, loss = 0.31167224\n",
            "Iteration 19, loss = 0.31177343\n",
            "Iteration 20, loss = 0.31153338\n",
            "Iteration 21, loss = 0.31138962\n",
            "Iteration 22, loss = 0.31152370\n",
            "Iteration 23, loss = 0.31129775\n",
            "Iteration 24, loss = 0.31128328\n",
            "Iteration 25, loss = 0.31107094\n",
            "Iteration 26, loss = 0.31112353\n",
            "Iteration 27, loss = 0.31090160\n",
            "Iteration 28, loss = 0.31095820\n",
            "Iteration 29, loss = 0.31085769\n",
            "Iteration 30, loss = 0.31093133\n"
          ]
        },
        {
          "name": "stderr",
          "output_type": "stream",
          "text": [
            "/usr/local/lib/python3.10/dist-packages/sklearn/neural_network/_multilayer_perceptron.py:686: ConvergenceWarning: Stochastic Optimizer: Maximum iterations (30) reached and the optimization hasn't converged yet.\n",
            "  warnings.warn(\n"
          ]
        },
        {
          "name": "stdout",
          "output_type": "stream",
          "text": [
            "[CV 1/5] END activation=tanh, alpha=0.001, hidden_layer_sizes=(32, 32), max_iter=30, random_state=42, solver=adam, verbose=True;, score=0.833 total time=  48.1s\n",
            "Iteration 1, loss = 0.32803511\n",
            "Iteration 2, loss = 0.31556760\n",
            "Iteration 3, loss = 0.31410957\n",
            "Iteration 4, loss = 0.31377816\n",
            "Iteration 5, loss = 0.31345153\n",
            "Iteration 6, loss = 0.31309616\n",
            "Iteration 7, loss = 0.31276735\n",
            "Iteration 8, loss = 0.31253139\n",
            "Iteration 9, loss = 0.31253083\n",
            "Iteration 10, loss = 0.31242551\n",
            "Iteration 11, loss = 0.31197249\n",
            "Iteration 12, loss = 0.31185579\n",
            "Iteration 13, loss = 0.31183646\n",
            "Iteration 14, loss = 0.31152678\n",
            "Iteration 15, loss = 0.31151832\n",
            "Iteration 16, loss = 0.31152159\n",
            "Iteration 17, loss = 0.31119172\n",
            "Iteration 18, loss = 0.31116025\n",
            "Iteration 19, loss = 0.31110903\n",
            "Iteration 20, loss = 0.31107638\n",
            "Iteration 21, loss = 0.31077040\n",
            "Iteration 22, loss = 0.31079824\n",
            "Iteration 23, loss = 0.31070215\n",
            "Iteration 24, loss = 0.31057446\n",
            "Iteration 25, loss = 0.31044748\n",
            "Iteration 26, loss = 0.31039802\n",
            "Iteration 27, loss = 0.31037172\n",
            "Iteration 28, loss = 0.31029116\n",
            "Iteration 29, loss = 0.31032815\n",
            "Iteration 30, loss = 0.31028619\n"
          ]
        },
        {
          "name": "stderr",
          "output_type": "stream",
          "text": [
            "/usr/local/lib/python3.10/dist-packages/sklearn/neural_network/_multilayer_perceptron.py:686: ConvergenceWarning: Stochastic Optimizer: Maximum iterations (30) reached and the optimization hasn't converged yet.\n",
            "  warnings.warn(\n"
          ]
        },
        {
          "name": "stdout",
          "output_type": "stream",
          "text": [
            "[CV 2/5] END activation=tanh, alpha=0.001, hidden_layer_sizes=(32, 32), max_iter=30, random_state=42, solver=adam, verbose=True;, score=0.826 total time=  47.2s\n",
            "Iteration 1, loss = 0.32774328\n",
            "Iteration 2, loss = 0.31522823\n",
            "Iteration 3, loss = 0.31388740\n",
            "Iteration 4, loss = 0.31336729\n",
            "Iteration 5, loss = 0.31314554\n",
            "Iteration 6, loss = 0.31284071\n",
            "Iteration 7, loss = 0.31255181\n",
            "Iteration 8, loss = 0.31226173\n",
            "Iteration 9, loss = 0.31220305\n",
            "Iteration 10, loss = 0.31197787\n",
            "Iteration 11, loss = 0.31176918\n",
            "Iteration 12, loss = 0.31175406\n",
            "Iteration 13, loss = 0.31160748\n",
            "Iteration 14, loss = 0.31153437\n",
            "Iteration 15, loss = 0.31131448\n",
            "Iteration 16, loss = 0.31146790\n",
            "Iteration 17, loss = 0.31103376\n",
            "Iteration 18, loss = 0.31116085\n",
            "Iteration 19, loss = 0.31096751\n",
            "Iteration 20, loss = 0.31088657\n",
            "Iteration 21, loss = 0.31072199\n",
            "Iteration 22, loss = 0.31069592\n",
            "Iteration 23, loss = 0.31074484\n",
            "Iteration 24, loss = 0.31056957\n",
            "Iteration 25, loss = 0.31043567\n",
            "Iteration 26, loss = 0.31046447\n",
            "Iteration 27, loss = 0.31042443\n",
            "Iteration 28, loss = 0.31035206\n",
            "Iteration 29, loss = 0.31040021\n",
            "Iteration 30, loss = 0.31020829\n"
          ]
        },
        {
          "name": "stderr",
          "output_type": "stream",
          "text": [
            "/usr/local/lib/python3.10/dist-packages/sklearn/neural_network/_multilayer_perceptron.py:686: ConvergenceWarning: Stochastic Optimizer: Maximum iterations (30) reached and the optimization hasn't converged yet.\n",
            "  warnings.warn(\n"
          ]
        },
        {
          "name": "stdout",
          "output_type": "stream",
          "text": [
            "[CV 3/5] END activation=tanh, alpha=0.001, hidden_layer_sizes=(32, 32), max_iter=30, random_state=42, solver=adam, verbose=True;, score=0.826 total time=  47.5s\n",
            "Iteration 1, loss = 0.32843729\n",
            "Iteration 2, loss = 0.31566838\n",
            "Iteration 3, loss = 0.31437247\n",
            "Iteration 4, loss = 0.31403910\n",
            "Iteration 5, loss = 0.31359182\n",
            "Iteration 6, loss = 0.31349055\n",
            "Iteration 7, loss = 0.31297905\n",
            "Iteration 8, loss = 0.31286271\n",
            "Iteration 9, loss = 0.31258452\n",
            "Iteration 10, loss = 0.31251114\n",
            "Iteration 11, loss = 0.31240214\n",
            "Iteration 12, loss = 0.31239686\n",
            "Iteration 13, loss = 0.31210169\n",
            "Iteration 14, loss = 0.31202881\n",
            "Iteration 15, loss = 0.31197936\n",
            "Iteration 16, loss = 0.31181555\n",
            "Iteration 17, loss = 0.31158163\n",
            "Iteration 18, loss = 0.31158643\n",
            "Iteration 19, loss = 0.31143107\n",
            "Iteration 20, loss = 0.31140431\n",
            "Iteration 21, loss = 0.31120692\n",
            "Iteration 22, loss = 0.31122907\n",
            "Iteration 23, loss = 0.31128358\n",
            "Iteration 24, loss = 0.31107692\n",
            "Iteration 25, loss = 0.31101265\n",
            "Iteration 26, loss = 0.31114776\n",
            "Iteration 27, loss = 0.31100229\n",
            "Iteration 28, loss = 0.31080404\n",
            "Iteration 29, loss = 0.31086190\n",
            "Iteration 30, loss = 0.31064637\n"
          ]
        },
        {
          "name": "stderr",
          "output_type": "stream",
          "text": [
            "/usr/local/lib/python3.10/dist-packages/sklearn/neural_network/_multilayer_perceptron.py:686: ConvergenceWarning: Stochastic Optimizer: Maximum iterations (30) reached and the optimization hasn't converged yet.\n",
            "  warnings.warn(\n"
          ]
        },
        {
          "name": "stdout",
          "output_type": "stream",
          "text": [
            "[CV 4/5] END activation=tanh, alpha=0.001, hidden_layer_sizes=(32, 32), max_iter=30, random_state=42, solver=adam, verbose=True;, score=0.829 total time=  47.8s\n",
            "Iteration 1, loss = 0.32875443\n",
            "Iteration 2, loss = 0.31600880\n",
            "Iteration 3, loss = 0.31487274\n",
            "Iteration 4, loss = 0.31443616\n",
            "Iteration 5, loss = 0.31380228\n",
            "Iteration 6, loss = 0.31358582\n",
            "Iteration 7, loss = 0.31321686\n",
            "Iteration 8, loss = 0.31297043\n",
            "Iteration 9, loss = 0.31294687\n",
            "Iteration 10, loss = 0.31259892\n",
            "Iteration 11, loss = 0.31272486\n",
            "Iteration 12, loss = 0.31241779\n",
            "Iteration 13, loss = 0.31225520\n",
            "Iteration 14, loss = 0.31222419\n",
            "Iteration 15, loss = 0.31206560\n",
            "Iteration 16, loss = 0.31199515\n",
            "Iteration 17, loss = 0.31176759\n",
            "Iteration 18, loss = 0.31169529\n",
            "Iteration 19, loss = 0.31162537\n",
            "Iteration 20, loss = 0.31159154\n",
            "Iteration 21, loss = 0.31136759\n",
            "Iteration 22, loss = 0.31145805\n",
            "Iteration 23, loss = 0.31152476\n",
            "Iteration 24, loss = 0.31118741\n",
            "Iteration 25, loss = 0.31121164\n",
            "Iteration 26, loss = 0.31116261\n",
            "Iteration 27, loss = 0.31091837\n",
            "Iteration 28, loss = 0.31094318\n",
            "Iteration 29, loss = 0.31089576\n",
            "Iteration 30, loss = 0.31080807\n"
          ]
        },
        {
          "name": "stderr",
          "output_type": "stream",
          "text": [
            "/usr/local/lib/python3.10/dist-packages/sklearn/neural_network/_multilayer_perceptron.py:686: ConvergenceWarning: Stochastic Optimizer: Maximum iterations (30) reached and the optimization hasn't converged yet.\n",
            "  warnings.warn(\n"
          ]
        },
        {
          "name": "stdout",
          "output_type": "stream",
          "text": [
            "[CV 5/5] END activation=tanh, alpha=0.001, hidden_layer_sizes=(32, 32), max_iter=30, random_state=42, solver=adam, verbose=True;, score=0.838 total time=  48.4s\n",
            "Iteration 1, loss = 0.32243545\n",
            "Iteration 2, loss = 0.31401857\n",
            "Iteration 3, loss = 0.31342956\n",
            "Iteration 4, loss = 0.31292801\n",
            "Iteration 5, loss = 0.31263717\n",
            "Iteration 6, loss = 0.31204934\n",
            "Iteration 7, loss = 0.31190843\n",
            "Iteration 8, loss = 0.31158385\n",
            "Iteration 9, loss = 0.31153677\n",
            "Iteration 10, loss = 0.31121097\n",
            "Iteration 11, loss = 0.31115420\n",
            "Iteration 12, loss = 0.31091826\n",
            "Iteration 13, loss = 0.31073057\n",
            "Iteration 14, loss = 0.31030715\n",
            "Iteration 15, loss = 0.31020129\n",
            "Iteration 16, loss = 0.31026134\n",
            "Iteration 17, loss = 0.30990042\n",
            "Iteration 18, loss = 0.30977066\n",
            "Iteration 19, loss = 0.30955742\n",
            "Iteration 20, loss = 0.30931004\n",
            "Iteration 21, loss = 0.30912879\n",
            "Iteration 22, loss = 0.30897950\n",
            "Iteration 23, loss = 0.30876590\n",
            "Iteration 24, loss = 0.30848927\n",
            "Iteration 25, loss = 0.30869754\n",
            "Iteration 26, loss = 0.30823685\n",
            "Iteration 27, loss = 0.30806291\n",
            "Iteration 28, loss = 0.30788930\n",
            "Iteration 29, loss = 0.30776255\n",
            "Iteration 30, loss = 0.30760079\n"
          ]
        },
        {
          "name": "stderr",
          "output_type": "stream",
          "text": [
            "/usr/local/lib/python3.10/dist-packages/sklearn/neural_network/_multilayer_perceptron.py:686: ConvergenceWarning: Stochastic Optimizer: Maximum iterations (30) reached and the optimization hasn't converged yet.\n",
            "  warnings.warn(\n"
          ]
        },
        {
          "data": {
            "text/html": [
              "<style>#sk-container-id-1 {color: black;background-color: white;}#sk-container-id-1 pre{padding: 0;}#sk-container-id-1 div.sk-toggleable {background-color: white;}#sk-container-id-1 label.sk-toggleable__label {cursor: pointer;display: block;width: 100%;margin-bottom: 0;padding: 0.3em;box-sizing: border-box;text-align: center;}#sk-container-id-1 label.sk-toggleable__label-arrow:before {content: \"▸\";float: left;margin-right: 0.25em;color: #696969;}#sk-container-id-1 label.sk-toggleable__label-arrow:hover:before {color: black;}#sk-container-id-1 div.sk-estimator:hover label.sk-toggleable__label-arrow:before {color: black;}#sk-container-id-1 div.sk-toggleable__content {max-height: 0;max-width: 0;overflow: hidden;text-align: left;background-color: #f0f8ff;}#sk-container-id-1 div.sk-toggleable__content pre {margin: 0.2em;color: black;border-radius: 0.25em;background-color: #f0f8ff;}#sk-container-id-1 input.sk-toggleable__control:checked~div.sk-toggleable__content {max-height: 200px;max-width: 100%;overflow: auto;}#sk-container-id-1 input.sk-toggleable__control:checked~label.sk-toggleable__label-arrow:before {content: \"▾\";}#sk-container-id-1 div.sk-estimator input.sk-toggleable__control:checked~label.sk-toggleable__label {background-color: #d4ebff;}#sk-container-id-1 div.sk-label input.sk-toggleable__control:checked~label.sk-toggleable__label {background-color: #d4ebff;}#sk-container-id-1 input.sk-hidden--visually {border: 0;clip: rect(1px 1px 1px 1px);clip: rect(1px, 1px, 1px, 1px);height: 1px;margin: -1px;overflow: hidden;padding: 0;position: absolute;width: 1px;}#sk-container-id-1 div.sk-estimator {font-family: monospace;background-color: #f0f8ff;border: 1px dotted black;border-radius: 0.25em;box-sizing: border-box;margin-bottom: 0.5em;}#sk-container-id-1 div.sk-estimator:hover {background-color: #d4ebff;}#sk-container-id-1 div.sk-parallel-item::after {content: \"\";width: 100%;border-bottom: 1px solid gray;flex-grow: 1;}#sk-container-id-1 div.sk-label:hover label.sk-toggleable__label {background-color: #d4ebff;}#sk-container-id-1 div.sk-serial::before {content: \"\";position: absolute;border-left: 1px solid gray;box-sizing: border-box;top: 0;bottom: 0;left: 50%;z-index: 0;}#sk-container-id-1 div.sk-serial {display: flex;flex-direction: column;align-items: center;background-color: white;padding-right: 0.2em;padding-left: 0.2em;position: relative;}#sk-container-id-1 div.sk-item {position: relative;z-index: 1;}#sk-container-id-1 div.sk-parallel {display: flex;align-items: stretch;justify-content: center;background-color: white;position: relative;}#sk-container-id-1 div.sk-item::before, #sk-container-id-1 div.sk-parallel-item::before {content: \"\";position: absolute;border-left: 1px solid gray;box-sizing: border-box;top: 0;bottom: 0;left: 50%;z-index: -1;}#sk-container-id-1 div.sk-parallel-item {display: flex;flex-direction: column;z-index: 1;position: relative;background-color: white;}#sk-container-id-1 div.sk-parallel-item:first-child::after {align-self: flex-end;width: 50%;}#sk-container-id-1 div.sk-parallel-item:last-child::after {align-self: flex-start;width: 50%;}#sk-container-id-1 div.sk-parallel-item:only-child::after {width: 0;}#sk-container-id-1 div.sk-dashed-wrapped {border: 1px dashed gray;margin: 0 0.4em 0.5em 0.4em;box-sizing: border-box;padding-bottom: 0.4em;background-color: white;}#sk-container-id-1 div.sk-label label {font-family: monospace;font-weight: bold;display: inline-block;line-height: 1.2em;}#sk-container-id-1 div.sk-label-container {text-align: center;}#sk-container-id-1 div.sk-container {/* jupyter's `normalize.less` sets `[hidden] { display: none; }` but bootstrap.min.css set `[hidden] { display: none !important; }` so we also need the `!important` here to be able to override the default hidden behavior on the sphinx rendered scikit-learn.org. See: https://github.com/scikit-learn/scikit-learn/issues/21755 */display: inline-block !important;position: relative;}#sk-container-id-1 div.sk-text-repr-fallback {display: none;}</style><div id=\"sk-container-id-1\" class=\"sk-top-container\"><div class=\"sk-text-repr-fallback\"><pre>GridSearchCV(cv=5, estimator=MLPClassifier(),\n",
              "             param_grid={&#x27;activation&#x27;: [&#x27;relu&#x27;, &#x27;tanh&#x27;], &#x27;alpha&#x27;: [0.01, 0.001],\n",
              "                         &#x27;hidden_layer_sizes&#x27;: [(64, 64), (32, 32)],\n",
              "                         &#x27;max_iter&#x27;: [30], &#x27;random_state&#x27;: [42],\n",
              "                         &#x27;solver&#x27;: [&#x27;adam&#x27;], &#x27;verbose&#x27;: [True]},\n",
              "             scoring=&#x27;f1_weighted&#x27;, verbose=3)</pre><b>In a Jupyter environment, please rerun this cell to show the HTML representation or trust the notebook. <br />On GitHub, the HTML representation is unable to render, please try loading this page with nbviewer.org.</b></div><div class=\"sk-container\" hidden><div class=\"sk-item sk-dashed-wrapped\"><div class=\"sk-label-container\"><div class=\"sk-label sk-toggleable\"><input class=\"sk-toggleable__control sk-hidden--visually\" id=\"sk-estimator-id-1\" type=\"checkbox\" ><label for=\"sk-estimator-id-1\" class=\"sk-toggleable__label sk-toggleable__label-arrow\">GridSearchCV</label><div class=\"sk-toggleable__content\"><pre>GridSearchCV(cv=5, estimator=MLPClassifier(),\n",
              "             param_grid={&#x27;activation&#x27;: [&#x27;relu&#x27;, &#x27;tanh&#x27;], &#x27;alpha&#x27;: [0.01, 0.001],\n",
              "                         &#x27;hidden_layer_sizes&#x27;: [(64, 64), (32, 32)],\n",
              "                         &#x27;max_iter&#x27;: [30], &#x27;random_state&#x27;: [42],\n",
              "                         &#x27;solver&#x27;: [&#x27;adam&#x27;], &#x27;verbose&#x27;: [True]},\n",
              "             scoring=&#x27;f1_weighted&#x27;, verbose=3)</pre></div></div></div><div class=\"sk-parallel\"><div class=\"sk-parallel-item\"><div class=\"sk-item\"><div class=\"sk-label-container\"><div class=\"sk-label sk-toggleable\"><input class=\"sk-toggleable__control sk-hidden--visually\" id=\"sk-estimator-id-2\" type=\"checkbox\" ><label for=\"sk-estimator-id-2\" class=\"sk-toggleable__label sk-toggleable__label-arrow\">estimator: MLPClassifier</label><div class=\"sk-toggleable__content\"><pre>MLPClassifier()</pre></div></div></div><div class=\"sk-serial\"><div class=\"sk-item\"><div class=\"sk-estimator sk-toggleable\"><input class=\"sk-toggleable__control sk-hidden--visually\" id=\"sk-estimator-id-3\" type=\"checkbox\" ><label for=\"sk-estimator-id-3\" class=\"sk-toggleable__label sk-toggleable__label-arrow\">MLPClassifier</label><div class=\"sk-toggleable__content\"><pre>MLPClassifier()</pre></div></div></div></div></div></div></div></div></div></div>"
            ],
            "text/plain": [
              "GridSearchCV(cv=5, estimator=MLPClassifier(),\n",
              "             param_grid={'activation': ['relu', 'tanh'], 'alpha': [0.01, 0.001],\n",
              "                         'hidden_layer_sizes': [(64, 64), (32, 32)],\n",
              "                         'max_iter': [30], 'random_state': [42],\n",
              "                         'solver': ['adam'], 'verbose': [True]},\n",
              "             scoring='f1_weighted', verbose=3)"
            ]
          },
          "execution_count": 13,
          "metadata": {},
          "output_type": "execute_result"
        }
      ],
      "source": [
        "mlp_grid_search_clf = GridSearchCV(estimator=mlp_classifer, param_grid=mlp_param_grid, scoring='f1_weighted', cv=5, verbose=3)\n",
        "mlp_grid_search_clf.fit(X_train, y_train)"
      ]
    },
    {
      "cell_type": "code",
      "execution_count": null,
      "metadata": {
        "colab": {
          "base_uri": "https://localhost:8080/"
        },
        "id": "elF1CrueEgs8",
        "outputId": "59f3fcb8-f34d-4cd3-ab74-e2e84c84ca79"
      },
      "outputs": [
        {
          "name": "stdout",
          "output_type": "stream",
          "text": [
            "{'activation': 'relu', 'alpha': 0.001, 'hidden_layer_sizes': (64, 64), 'max_iter': 30, 'random_state': 42, 'solver': 'adam', 'verbose': True}\n"
          ]
        }
      ],
      "source": [
        "print(mlp_grid_search_clf.best_params_)"
      ]
    },
    {
      "cell_type": "code",
      "execution_count": null,
      "metadata": {
        "colab": {
          "base_uri": "https://localhost:8080/",
          "height": 648
        },
        "id": "ntLehcv-XIh3",
        "outputId": "8ac34ae9-77e7-4ab8-dd58-72df4bae48fe"
      },
      "outputs": [
        {
          "name": "stdout",
          "output_type": "stream",
          "text": [
            "Iteration 1, loss = 0.32243545\n",
            "Iteration 2, loss = 0.31401857\n",
            "Iteration 3, loss = 0.31342956\n",
            "Iteration 4, loss = 0.31292801\n",
            "Iteration 5, loss = 0.31263717\n",
            "Iteration 6, loss = 0.31204934\n",
            "Iteration 7, loss = 0.31190843\n",
            "Iteration 8, loss = 0.31158385\n",
            "Iteration 9, loss = 0.31153677\n",
            "Iteration 10, loss = 0.31121097\n",
            "Iteration 11, loss = 0.31115420\n",
            "Iteration 12, loss = 0.31091826\n",
            "Iteration 13, loss = 0.31073057\n",
            "Iteration 14, loss = 0.31030715\n",
            "Iteration 15, loss = 0.31020129\n",
            "Iteration 16, loss = 0.31026134\n",
            "Iteration 17, loss = 0.30990042\n",
            "Iteration 18, loss = 0.30977066\n",
            "Iteration 19, loss = 0.30955742\n",
            "Iteration 20, loss = 0.30931004\n",
            "Iteration 21, loss = 0.30912879\n",
            "Iteration 22, loss = 0.30897950\n",
            "Iteration 23, loss = 0.30876590\n",
            "Iteration 24, loss = 0.30848927\n",
            "Iteration 25, loss = 0.30869754\n",
            "Iteration 26, loss = 0.30823685\n",
            "Iteration 27, loss = 0.30806291\n",
            "Iteration 28, loss = 0.30788930\n",
            "Iteration 29, loss = 0.30776255\n",
            "Iteration 30, loss = 0.30760079\n"
          ]
        },
        {
          "name": "stderr",
          "output_type": "stream",
          "text": [
            "/usr/local/lib/python3.10/dist-packages/sklearn/neural_network/_multilayer_perceptron.py:686: ConvergenceWarning: Stochastic Optimizer: Maximum iterations (30) reached and the optimization hasn't converged yet.\n",
            "  warnings.warn(\n"
          ]
        },
        {
          "data": {
            "text/html": [
              "<style>#sk-container-id-2 {color: black;background-color: white;}#sk-container-id-2 pre{padding: 0;}#sk-container-id-2 div.sk-toggleable {background-color: white;}#sk-container-id-2 label.sk-toggleable__label {cursor: pointer;display: block;width: 100%;margin-bottom: 0;padding: 0.3em;box-sizing: border-box;text-align: center;}#sk-container-id-2 label.sk-toggleable__label-arrow:before {content: \"▸\";float: left;margin-right: 0.25em;color: #696969;}#sk-container-id-2 label.sk-toggleable__label-arrow:hover:before {color: black;}#sk-container-id-2 div.sk-estimator:hover label.sk-toggleable__label-arrow:before {color: black;}#sk-container-id-2 div.sk-toggleable__content {max-height: 0;max-width: 0;overflow: hidden;text-align: left;background-color: #f0f8ff;}#sk-container-id-2 div.sk-toggleable__content pre {margin: 0.2em;color: black;border-radius: 0.25em;background-color: #f0f8ff;}#sk-container-id-2 input.sk-toggleable__control:checked~div.sk-toggleable__content {max-height: 200px;max-width: 100%;overflow: auto;}#sk-container-id-2 input.sk-toggleable__control:checked~label.sk-toggleable__label-arrow:before {content: \"▾\";}#sk-container-id-2 div.sk-estimator input.sk-toggleable__control:checked~label.sk-toggleable__label {background-color: #d4ebff;}#sk-container-id-2 div.sk-label input.sk-toggleable__control:checked~label.sk-toggleable__label {background-color: #d4ebff;}#sk-container-id-2 input.sk-hidden--visually {border: 0;clip: rect(1px 1px 1px 1px);clip: rect(1px, 1px, 1px, 1px);height: 1px;margin: -1px;overflow: hidden;padding: 0;position: absolute;width: 1px;}#sk-container-id-2 div.sk-estimator {font-family: monospace;background-color: #f0f8ff;border: 1px dotted black;border-radius: 0.25em;box-sizing: border-box;margin-bottom: 0.5em;}#sk-container-id-2 div.sk-estimator:hover {background-color: #d4ebff;}#sk-container-id-2 div.sk-parallel-item::after {content: \"\";width: 100%;border-bottom: 1px solid gray;flex-grow: 1;}#sk-container-id-2 div.sk-label:hover label.sk-toggleable__label {background-color: #d4ebff;}#sk-container-id-2 div.sk-serial::before {content: \"\";position: absolute;border-left: 1px solid gray;box-sizing: border-box;top: 0;bottom: 0;left: 50%;z-index: 0;}#sk-container-id-2 div.sk-serial {display: flex;flex-direction: column;align-items: center;background-color: white;padding-right: 0.2em;padding-left: 0.2em;position: relative;}#sk-container-id-2 div.sk-item {position: relative;z-index: 1;}#sk-container-id-2 div.sk-parallel {display: flex;align-items: stretch;justify-content: center;background-color: white;position: relative;}#sk-container-id-2 div.sk-item::before, #sk-container-id-2 div.sk-parallel-item::before {content: \"\";position: absolute;border-left: 1px solid gray;box-sizing: border-box;top: 0;bottom: 0;left: 50%;z-index: -1;}#sk-container-id-2 div.sk-parallel-item {display: flex;flex-direction: column;z-index: 1;position: relative;background-color: white;}#sk-container-id-2 div.sk-parallel-item:first-child::after {align-self: flex-end;width: 50%;}#sk-container-id-2 div.sk-parallel-item:last-child::after {align-self: flex-start;width: 50%;}#sk-container-id-2 div.sk-parallel-item:only-child::after {width: 0;}#sk-container-id-2 div.sk-dashed-wrapped {border: 1px dashed gray;margin: 0 0.4em 0.5em 0.4em;box-sizing: border-box;padding-bottom: 0.4em;background-color: white;}#sk-container-id-2 div.sk-label label {font-family: monospace;font-weight: bold;display: inline-block;line-height: 1.2em;}#sk-container-id-2 div.sk-label-container {text-align: center;}#sk-container-id-2 div.sk-container {/* jupyter's `normalize.less` sets `[hidden] { display: none; }` but bootstrap.min.css set `[hidden] { display: none !important; }` so we also need the `!important` here to be able to override the default hidden behavior on the sphinx rendered scikit-learn.org. See: https://github.com/scikit-learn/scikit-learn/issues/21755 */display: inline-block !important;position: relative;}#sk-container-id-2 div.sk-text-repr-fallback {display: none;}</style><div id=\"sk-container-id-2\" class=\"sk-top-container\"><div class=\"sk-text-repr-fallback\"><pre>MLPClassifier(alpha=0.001, hidden_layer_sizes=(64, 64), max_iter=30,\n",
              "              random_state=42, verbose=True)</pre><b>In a Jupyter environment, please rerun this cell to show the HTML representation or trust the notebook. <br />On GitHub, the HTML representation is unable to render, please try loading this page with nbviewer.org.</b></div><div class=\"sk-container\" hidden><div class=\"sk-item\"><div class=\"sk-estimator sk-toggleable\"><input class=\"sk-toggleable__control sk-hidden--visually\" id=\"sk-estimator-id-4\" type=\"checkbox\" checked><label for=\"sk-estimator-id-4\" class=\"sk-toggleable__label sk-toggleable__label-arrow\">MLPClassifier</label><div class=\"sk-toggleable__content\"><pre>MLPClassifier(alpha=0.001, hidden_layer_sizes=(64, 64), max_iter=30,\n",
              "              random_state=42, verbose=True)</pre></div></div></div></div></div>"
            ],
            "text/plain": [
              "MLPClassifier(alpha=0.001, hidden_layer_sizes=(64, 64), max_iter=30,\n",
              "              random_state=42, verbose=True)"
            ]
          },
          "execution_count": 15,
          "metadata": {},
          "output_type": "execute_result"
        }
      ],
      "source": [
        "mlp_classifer_binary_imbalanced_split = MLPClassifier()\n",
        "mlp_classifer_binary_imbalanced_split.set_params(**mlp_grid_search_clf.best_params_)\n",
        "mlp_classifer_binary_imbalanced_split.fit(X_train, y_train)"
      ]
    },
    {
      "cell_type": "code",
      "execution_count": null,
      "metadata": {
        "id": "Biw6WkLbEgs8"
      },
      "outputs": [],
      "source": [
        "mlp_pickle_file_binary_imbalanced_split = '/content/drive/MyDrive/AML_Final_Project/mlp_classifer_binary_imbalanced_split.pkl'\n",
        "# with open(mlp_pickle_file_binary_imbalanced_split, 'wb') as file:\n",
        "#     pickle.dump(mlp_classifer_binary_imbalanced_split, file)"
      ]
    },
    {
      "cell_type": "code",
      "execution_count": null,
      "metadata": {
        "id": "up2AFp8zEgs8"
      },
      "outputs": [],
      "source": [
        "with open(mlp_pickle_file_binary_imbalanced_split, 'rb') as file:\n",
        "    mlp_classifer_binary_imbalanced_split = pickle.load(file)"
      ]
    },
    {
      "cell_type": "code",
      "execution_count": null,
      "metadata": {
        "colab": {
          "base_uri": "https://localhost:8080/"
        },
        "id": "dHHIPJ0aEgs8",
        "outputId": "7296f96c-fa42-4fae-ddd4-2b6fb6f7502a"
      },
      "outputs": [
        {
          "name": "stdout",
          "output_type": "stream",
          "text": [
            "              precision    recall  f1-score   support\n",
            "\n",
            "         0.0       0.98      0.88      0.92     48512\n",
            "         1.0       0.16      0.52      0.25      2224\n",
            "\n",
            "    accuracy                           0.86     50736\n",
            "   macro avg       0.57      0.70      0.59     50736\n",
            "weighted avg       0.94      0.86      0.89     50736\n",
            "\n",
            "[[42607  5905]\n",
            " [ 1060  1164]]\n"
          ]
        }
      ],
      "source": [
        "y_pred = mlp_classifer_binary_imbalanced_split.predict(X_test)\n",
        "print(classification_report(y_pred, y_test))\n",
        "print(confusion_matrix(y_pred, y_test))"
      ]
    },
    {
      "cell_type": "markdown",
      "metadata": {
        "id": "dlbtHkcSOor4"
      },
      "source": [
        "### Training the MLP classifier using the best parameters obtained after grid search and cross validation using the PCA on training data to get the cumulative variance explained by different no. of components"
      ]
    },
    {
      "cell_type": "code",
      "execution_count": 7,
      "metadata": {
        "colab": {
          "base_uri": "https://localhost:8080/"
        },
        "id": "K9HPGbMPF2TO",
        "outputId": "c311e534-30ca-47a4-f1c5-848967c5453f"
      },
      "outputs": [
        {
          "name": "stdout",
          "output_type": "stream",
          "text": [
            "Cumulative variance explained by 3 components is 0.4425854030123507\n"
          ]
        },
        {
          "name": "stderr",
          "output_type": "stream",
          "text": [
            "/usr/local/lib/python3.10/dist-packages/sklearn/neural_network/_multilayer_perceptron.py:686: ConvergenceWarning: Stochastic Optimizer: Maximum iterations (30) reached and the optimization hasn't converged yet.\n",
            "  warnings.warn(\n"
          ]
        },
        {
          "name": "stdout",
          "output_type": "stream",
          "text": [
            "Classification Report for total components: 3\n",
            "              precision    recall  f1-score   support\n",
            "\n",
            "         0.0       0.99      0.87      0.93     49633\n",
            "         1.0       0.09      0.56      0.15      1103\n",
            "\n",
            "    accuracy                           0.86     50736\n",
            "   macro avg       0.54      0.71      0.54     50736\n",
            "weighted avg       0.97      0.86      0.91     50736\n",
            "\n",
            "\n",
            "Cumulative variance explained by 5 components is 0.6190931265213593\n"
          ]
        },
        {
          "name": "stderr",
          "output_type": "stream",
          "text": [
            "/usr/local/lib/python3.10/dist-packages/sklearn/neural_network/_multilayer_perceptron.py:686: ConvergenceWarning: Stochastic Optimizer: Maximum iterations (30) reached and the optimization hasn't converged yet.\n",
            "  warnings.warn(\n"
          ]
        },
        {
          "name": "stdout",
          "output_type": "stream",
          "text": [
            "Classification Report for total components: 5\n",
            "              precision    recall  f1-score   support\n",
            "\n",
            "         0.0       0.98      0.88      0.92     48685\n",
            "         1.0       0.15      0.53      0.24      2051\n",
            "\n",
            "    accuracy                           0.86     50736\n",
            "   macro avg       0.57      0.70      0.58     50736\n",
            "weighted avg       0.94      0.86      0.90     50736\n",
            "\n",
            "\n",
            "Cumulative variance explained by 10 components is 0.8618993073380475\n"
          ]
        },
        {
          "name": "stderr",
          "output_type": "stream",
          "text": [
            "/usr/local/lib/python3.10/dist-packages/sklearn/neural_network/_multilayer_perceptron.py:686: ConvergenceWarning: Stochastic Optimizer: Maximum iterations (30) reached and the optimization hasn't converged yet.\n",
            "  warnings.warn(\n"
          ]
        },
        {
          "name": "stdout",
          "output_type": "stream",
          "text": [
            "Classification Report for total components: 10\n",
            "              precision    recall  f1-score   support\n",
            "\n",
            "         0.0       0.98      0.88      0.93     48793\n",
            "         1.0       0.15      0.54      0.23      1943\n",
            "\n",
            "    accuracy                           0.86     50736\n",
            "   macro avg       0.56      0.71      0.58     50736\n",
            "weighted avg       0.95      0.86      0.90     50736\n",
            "\n",
            "\n",
            "Cumulative variance explained by 15 components is 0.9475321175921767\n"
          ]
        },
        {
          "name": "stderr",
          "output_type": "stream",
          "text": [
            "/usr/local/lib/python3.10/dist-packages/sklearn/neural_network/_multilayer_perceptron.py:686: ConvergenceWarning: Stochastic Optimizer: Maximum iterations (30) reached and the optimization hasn't converged yet.\n",
            "  warnings.warn(\n"
          ]
        },
        {
          "name": "stdout",
          "output_type": "stream",
          "text": [
            "Classification Report for total components: 15\n",
            "              precision    recall  f1-score   support\n",
            "\n",
            "         0.0       0.98      0.88      0.93     48664\n",
            "         1.0       0.16      0.54      0.25      2072\n",
            "\n",
            "    accuracy                           0.86     50736\n",
            "   macro avg       0.57      0.71      0.59     50736\n",
            "weighted avg       0.94      0.86      0.90     50736\n",
            "\n",
            "\n",
            "Cumulative variance explained by 20 components is 0.9950711117337883\n"
          ]
        },
        {
          "name": "stderr",
          "output_type": "stream",
          "text": [
            "/usr/local/lib/python3.10/dist-packages/sklearn/neural_network/_multilayer_perceptron.py:686: ConvergenceWarning: Stochastic Optimizer: Maximum iterations (30) reached and the optimization hasn't converged yet.\n",
            "  warnings.warn(\n"
          ]
        },
        {
          "name": "stdout",
          "output_type": "stream",
          "text": [
            "Classification Report for total components: 20\n",
            "              precision    recall  f1-score   support\n",
            "\n",
            "         0.0       0.97      0.88      0.92     48203\n",
            "         1.0       0.19      0.52      0.28      2533\n",
            "\n",
            "    accuracy                           0.86     50736\n",
            "   macro avg       0.58      0.70      0.60     50736\n",
            "weighted avg       0.93      0.86      0.89     50736\n",
            "\n",
            "\n",
            "Cumulative variance explained by 25 components is 0.9999999999999996\n"
          ]
        },
        {
          "name": "stderr",
          "output_type": "stream",
          "text": [
            "/usr/local/lib/python3.10/dist-packages/sklearn/neural_network/_multilayer_perceptron.py:686: ConvergenceWarning: Stochastic Optimizer: Maximum iterations (30) reached and the optimization hasn't converged yet.\n",
            "  warnings.warn(\n"
          ]
        },
        {
          "name": "stdout",
          "output_type": "stream",
          "text": [
            "Classification Report for total components: 25\n",
            "              precision    recall  f1-score   support\n",
            "\n",
            "         0.0       0.98      0.88      0.93     48924\n",
            "         1.0       0.14      0.56      0.23      1812\n",
            "\n",
            "    accuracy                           0.87     50736\n",
            "   macro avg       0.56      0.72      0.58     50736\n",
            "weighted avg       0.95      0.87      0.90     50736\n",
            "\n",
            "\n"
          ]
        }
      ],
      "source": [
        "num_components = [3, 5, 10, 15, 20, 25]\n",
        "variance = []\n",
        "\n",
        "for num in num_components:\n",
        "  # Initializing the PCA with defitive components\n",
        "  pca = PCA(n_components=num)\n",
        "\n",
        "  # Fit the PCA on the training data\n",
        "  pca.fit(X_train)\n",
        "\n",
        "  # Transform the train and test data as per the components of the PCA\n",
        "  X_train_pca = pca.transform(X_train)\n",
        "  X_test_pca = pca.transform(X_test)\n",
        "\n",
        "  # Recording the explained variance for each number of components\n",
        "  variance.append(np.sum(pca.explained_variance_ratio_))\n",
        "\n",
        "  print(\"Cumulative variance explained by {} components is {}\".format(num,variance[-1]))\n",
        "\n",
        "  mlp_classifer = MLPClassifier(activation = 'relu', alpha=0.001, hidden_layer_sizes=(64, 64), max_iter = 30, solver='adam', random_state= 42)\n",
        "  mlp_classifer.fit(X_train_pca, y_train)\n",
        "  y_pred = mlp_classifer.predict(X_test_pca)\n",
        "  print(f\"Classification Report for total components: {num}\")\n",
        "  print(classification_report(y_pred, y_test))\n",
        "  print()"
      ]
    },
    {
      "cell_type": "code",
      "execution_count": 8,
      "metadata": {
        "colab": {
          "base_uri": "https://localhost:8080/",
          "height": 487
        },
        "id": "yUujHdydOsdO",
        "outputId": "2b41e540-a008-492a-97b1-e331845421a3"
      },
      "outputs": [
        {
          "data": {
            "image/png": "[encoded data removed]",
            "text/plain": [
              "<Figure size 1200x500 with 1 Axes>"
            ]
          },
          "metadata": {},
          "output_type": "display_data"
        }
      ],
      "source": [
        "### START CODE ###\n",
        "plt.figure(figsize=(12,5))\n",
        "plt.plot(num_components, variance)\n",
        "plt.title(\"PCA Explained Variance for Binary Imbalanced Split\")\n",
        "plt.xlabel('Number of Components')\n",
        "plt.ylabel('Cumulative Explained Variance')\n",
        "plt.grid(True)\n",
        "### END CODE ###\n",
        "\n",
        "plt.show()"
      ]
    },
    {
      "cell_type": "code",
      "execution_count": null,
      "metadata": {
        "id": "EwMsguHLQV5g"
      },
      "outputs": [],
      "source": []
    }
  ],
  "metadata": {
    "accelerator": "TPU",
    "colab": {
      "provenance": []
    },
    "kernelspec": {
      "display_name": "Python 3",
      "name": "python3"
    },
    "language_info": {
      "codemirror_mode": {
        "name": "ipython",
        "version": 3
      },
      "file_extension": ".py",
      "mimetype": "text/x-python",
      "name": "python",
      "nbconvert_exporter": "python",
      "pygments_lexer": "ipython3",
      "version": "3.11.5"
    }
  },
  "nbformat": 4,
  "nbformat_minor": 0
}
